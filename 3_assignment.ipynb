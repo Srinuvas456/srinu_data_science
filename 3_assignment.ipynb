{
 "cells": [
  {
   "cell_type": "markdown",
   "id": "a7088f9a-6c2a-409b-b38d-3e135c91800a",
   "metadata": {},
   "source": [
    "1) Create a python program to sort the given list of tuples based on integer value using a\n",
    "lambda function. \n",
    "\n",
    "\n",
    "[('Sachin Tendulkar', 34357), ('Ricky Ponting', 27483), ('Jack Kallis', 25534), ('Virat Kohli', 24936)]"
   ]
  },
  {
   "cell_type": "code",
   "execution_count": 4,
   "id": "6f311c01-aaf8-4004-8ac3-2338573478ec",
   "metadata": {},
   "outputs": [
    {
     "name": "stdout",
     "output_type": "stream",
     "text": [
      "[('Virat Kohli', 24936), ('Jack Kallis', 25534), ('Ricky Pointing', 27483), ('Sachin Tendulkar', 34357)]\n"
     ]
    }
   ],
   "source": [
    "p = [(\"Sachin Tendulkar\", 34357),(\"Ricky Pointing\", 27483),(\"Jack Kallis\", 25534),(\"Virat Kohli\", 24936)]\n",
    "s = sorted(p, key = lambda x: x[1])\n",
    "print(s)"
   ]
  },
  {
   "cell_type": "markdown",
   "id": "fc1ad201-f33b-4001-aad1-abc273c88557",
   "metadata": {},
   "source": [
    "2)Write a Python Program to find the squares of all the numbers in the given list of integers using\n",
    "lambda and map functions.\n",
    "\n",
    "\n",
    "[1, 2, 3, 4, 5, 6, 7, 8, 9, 10]\n"
   ]
  },
  {
   "cell_type": "code",
   "execution_count": 9,
   "id": "2034294a-1cd3-480e-b660-7071dfb2fe36",
   "metadata": {},
   "outputs": [
    {
     "data": {
      "text/plain": [
       "[1, 4, 9, 16, 25, 36, 49, 64, 81, 100]"
      ]
     },
     "execution_count": 9,
     "metadata": {},
     "output_type": "execute_result"
    }
   ],
   "source": [
    "l = [1,2,3,4,5,6,7,8,9,10] \n",
    "list(map(lambda x: x**2,l))\n"
   ]
  },
  {
   "cell_type": "markdown",
   "id": "98c43daf-31df-42fe-a5bf-bb9681d11d1f",
   "metadata": {},
   "source": [
    "3) Write a python program to convert the given list of integers into a tuple of strings. Use map and\n",
    "lambda functions\n",
    "\n",
    "\n",
    "Given String: [1, 2, 3, 4, 5, 6, 7, 8, 9, 10]\n",
    "\n",
    "Expected output: ('1', '2', '3', '4', '5', '6', '7', '8', '9', '10')"
   ]
  },
  {
   "cell_type": "code",
   "execution_count": 15,
   "id": "3577088d-e704-4660-98dd-5ed06e6ca480",
   "metadata": {},
   "outputs": [
    {
     "data": {
      "text/plain": [
       "('1', '2', '3', '4', '5', '6', '7', '8', '9', '10')"
      ]
     },
     "execution_count": 15,
     "metadata": {},
     "output_type": "execute_result"
    }
   ],
   "source": [
    "l = [1,2,3,4,5,6,7,8,9,10]\n",
    "tuple(map(lambda x: str(x),l))"
   ]
  },
  {
   "cell_type": "markdown",
   "id": "047e9bb2-1e06-4f59-8dc9-ed9567455f44",
   "metadata": {},
   "source": [
    "4)Write a python program using reduce function to compute the product of a list containing numbers\n",
    "from 1 to 25"
   ]
  },
  {
   "cell_type": "code",
   "execution_count": 19,
   "id": "34dfad9d-5fe7-47e9-b775-f6e1a72277be",
   "metadata": {},
   "outputs": [
    {
     "data": {
      "text/plain": [
       "15511210043330985984000000"
      ]
     },
     "execution_count": 19,
     "metadata": {},
     "output_type": "execute_result"
    }
   ],
   "source": [
    "from functools import reduce\n",
    "n = range(1,26)\n",
    "p = reduce(lambda x,y: x*y,n)\n",
    "p"
   ]
  },
  {
   "cell_type": "markdown",
   "id": "100f40eb-5063-42fe-a73e-64af0ba3643d",
   "metadata": {},
   "source": [
    "5)Write a python program to filter the numbers in a given list that are divisible by 2 and 3 using the\n",
    "filter function.\n",
    "\n",
    "\n",
    "[2, 3, 6, 9, 27, 60, 90, 120, 55, 46]"
   ]
  },
  {
   "cell_type": "code",
   "execution_count": 20,
   "id": "96561daa-65c3-4319-aa87-3fd1a2ef3a31",
   "metadata": {},
   "outputs": [
    {
     "data": {
      "text/plain": [
       "[6, 60, 90, 120]"
      ]
     },
     "execution_count": 20,
     "metadata": {},
     "output_type": "execute_result"
    }
   ],
   "source": [
    "l = [2,3,6,9,27,60,90,120,55,46]\n",
    "list(filter(lambda x : x%2 ==0 and x%3 ==0 , l)) "
   ]
  },
  {
   "cell_type": "markdown",
   "id": "c9cbb71d-b8b8-4b32-b898-27b87ee375db",
   "metadata": {},
   "source": [
    "6)Write a python program to find palindromes in the given list of strings using lambda and filter\n",
    "function.\n",
    "\n",
    "\n",
    "['python', 'php', 'aba', 'radar', 'level']"
   ]
  },
  {
   "cell_type": "code",
   "execution_count": 21,
   "id": "b0472f9e-8e24-401d-a875-00450ef057ba",
   "metadata": {},
   "outputs": [
    {
     "data": {
      "text/plain": [
       "['php', 'aba', 'radar', 'level']"
      ]
     },
     "execution_count": 21,
     "metadata": {},
     "output_type": "execute_result"
    }
   ],
   "source": [
    "l = [\"python\", \"php\",\"aba\",\"radar\",\"level\"]\n",
    "list(filter(lambda x: x==x[::-1],l))"
   ]
  },
  {
   "cell_type": "code",
   "execution_count": null,
   "id": "10098a5f-ba55-4abb-8210-2c7fed8fdb6c",
   "metadata": {},
   "outputs": [],
   "source": []
  }
 ],
 "metadata": {
  "kernelspec": {
   "display_name": "Python 3 (ipykernel)",
   "language": "python",
   "name": "python3"
  },
  "language_info": {
   "codemirror_mode": {
    "name": "ipython",
    "version": 3
   },
   "file_extension": ".py",
   "mimetype": "text/x-python",
   "name": "python",
   "nbconvert_exporter": "python",
   "pygments_lexer": "ipython3",
   "version": "3.10.8"
  }
 },
 "nbformat": 4,
 "nbformat_minor": 5
}
