{
 "cells": [
  {
   "cell_type": "markdown",
   "id": "f34f1116-5e42-4b37-b149-2d935d97faf0",
   "metadata": {},
   "source": [
    "1) What is an API? Give an example, where an API is used in real life."
   ]
  },
  {
   "cell_type": "markdown",
   "id": "04a4e067-0559-42e6-83c1-9e200979ae16",
   "metadata": {},
   "source": [
    "API stands for Application Programming Interface. It is a set of protocols and tools that are used to build software applications. \n",
    "An API defines how different software components should interact with each other\n",
    "ex: API being used in real life is the Google Maps API. This API allows developers to integrate Google Maps into their own applications, \n",
    "such as websites or mobile apps. Developers can use the Google Maps API to add map functionality to their applications, \n",
    "such as displaying maps, geocoding addresses, or calculating driving directions"
   ]
  },
  {
   "cell_type": "markdown",
   "id": "8d97d6f9-dafd-46c2-b289-3de66fb66479",
   "metadata": {},
   "source": [
    "2) Give advantages and disadvantages of using API."
   ]
  },
  {
   "cell_type": "markdown",
   "id": "b4e1b9e9-5414-4242-9a07-10b30ba7c268",
   "metadata": {},
   "source": [
    "Advantages:\n",
    "1) Efficiency : It is  enable developers to reuse existing code, which can help to save time and reduce development costs. This can be especially useful for large-scale projects where building everything from scratch would be time-consuming and expensive\n",
    "2) Scalability : this can be designed to handle a large volume of requests, making them highly scalable. This means that as your application grows and the number of users increases, your API can continue to handle the traffic without slowing down\n",
    "3) Integration : It is enable different software applications to work together seamlessly. This can be especially useful for businesses that use multiple software applications, as APIs allow them to share data and functionality between different systems\n",
    " Disadvantages:\n",
    "1) Security : This can pose a security risk if they are not properly secured. Developers need to take precautions to prevent unauthorized access to their APIs and protect user data\n",
    "2) Complexity : This can be complex and difficult to implement. They require specialized knowledge and expertise, which can be a challenge for developers who are not familiar with API design and implementation\n",
    "3) Dependence : This can create a dependence on external systems. If an API is not available or goes offline, it can affect the functionality of the applications that rely on it"
   ]
  },
  {
   "cell_type": "markdown",
   "id": "29d13ecd-7159-473c-b83d-51f24e12e43a",
   "metadata": {},
   "source": [
    "3) What is a Web API? Differentiate between API and Web API."
   ]
  },
  {
   "cell_type": "markdown",
   "id": "f734a3e1-8124-4595-b3d4-aef9f95594d7",
   "metadata": {},
   "source": [
    "The main difference between an API and a Web API is the medium used for communication. An API can be accessed through different protocols such as RPC, \n",
    "SOAP, or REST, whereas a Web API is specifically accessed using the HTTP protocol.\n",
    "Another difference is that a Web API is typically designed to be used over the internet, which means that it needs to be accessible to a wide range \n",
    "of clients and needs to be able to handle a large volume of requests. This requires a focus on security, scalability, and performance, which \n",
    "may not be as important for APIs that are used within a closed system or for a specific purpose\n",
    "\n"
   ]
  },
  {
   "cell_type": "markdown",
   "id": "e4cb643a-6154-48a8-ba75-8a75b0d71d65",
   "metadata": {},
   "source": [
    "4) Explain REST and SOAP Architecture. Mention shortcomings of SOAP."
   ]
  },
  {
   "cell_type": "markdown",
   "id": "89daded3-6eec-411b-8fd4-2bc738e8afb5",
   "metadata": {},
   "source": [
    "REST : It is an architectural style that is based on the principles of the web. RESTful web services use HTTP methods like GET, \n",
    "POST, PUT, and DELETE to interact with resources. RESTful services use URLs to identify resources and return data in JSON or XML format. \n",
    "RESTful web services are known for their simplicity, scalability, and performance\n",
    "SOAP : It is an XML-based protocol that is used for exchanging structured information between web services. SOAP messages are sent \n",
    "over HTTP, SMTP or other transport protocols, and are composed of XML data. SOAP is a more complex and rigid architecture than REST, \n",
    "as it requires the use of XML schemas, WSDL (Web Services Description Language), and other specifications. SOAP provides a lot of features \n",
    "like security, transaction management, and reliability\n",
    "Shortcomings of SOAP :\n",
    "1) Complexity : The SOAP architecture is more complex than REST, as it requires the use of a lot of specifications and standards, \n",
    "which makes it harder to implement and maintain\n",
    "2) Overhead : This messages are composed of XML data, which makes them larger than REST messages. This can increase network \n",
    "traffic and slow down performance, especially for large-scale applications"
   ]
  },
  {
   "cell_type": "markdown",
   "id": "e356c8f5-bf68-46c0-a9f2-45c0fd9388f5",
   "metadata": {},
   "source": [
    "5) Differentiate between REST and SOAP."
   ]
  },
  {
   "cell_type": "code",
   "execution_count": null,
   "id": "713596d6-ff7d-4e22-988c-0b803af355cd",
   "metadata": {},
   "outputs": [],
   "source": [
    "1) Protocol : REST uses HTTP while SOAP can use various protocols including HTTP, SMTP, and TCP\n",
    "2) Messaging format :  REST uses lightweight formats like JSON and XML for message exchange, while SOAP uses XML\n",
    "3) Resource Identification : REST identifies resources using URLs, while SOAP uses a service interface description language\n",
    "4) Data Transfer : REST transfers data using HTTP verbs such as GET, POST, PUT, and DELETE, while SOAP transfers data using a \n",
    "standardized XML messaging format\n",
    "5) caching : REST allows caching of responses to improve performance, while SOAP does not have built-in caching mechanisms"
   ]
  }
 ],
 "metadata": {
  "kernelspec": {
   "display_name": "Python 3 (ipykernel)",
   "language": "python",
   "name": "python3"
  },
  "language_info": {
   "codemirror_mode": {
    "name": "ipython",
    "version": 3
   },
   "file_extension": ".py",
   "mimetype": "text/x-python",
   "name": "python",
   "nbconvert_exporter": "python",
   "pygments_lexer": "ipython3",
   "version": "3.10.8"
  }
 },
 "nbformat": 4,
 "nbformat_minor": 5
}
