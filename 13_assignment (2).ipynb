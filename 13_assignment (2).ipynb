{
 "cells": [
  {
   "cell_type": "markdown",
   "id": "4d9639df-219a-4524-b28e-22a5a4ccd4f1",
   "metadata": {},
   "source": [
    "1)  what is multithreading in python? why is it used? Name the module used to handle threads in python"
   ]
  },
  {
   "cell_type": "markdown",
   "id": "98b1d64e-3dfc-4927-ae21-c5593f5a3f48",
   "metadata": {},
   "source": [
    "A) multithreading in python refers to the ability of a program to perform multiple tasks simultaneously, it is a programming concept\n",
    "where a single perform can have multiple execuation threads running concurrently within it. in python, multithreading can be achieved using the \n",
    "threading module\n",
    "multithreading is often to improve the performance of a program by allowing it to execute multiple tasks simultaneously ex: if a program needs \n",
    "to perform several I/O operations such as reading from a file or making HTTP requests, it can create a separate thread to handle each operation\n",
    "and also multithreading can be particularly useful for applications that involve heavy input or output operations or tasks that can easily parallelized its worth noting that multithreading can also introduce new complexities and also you can also built-in thrading module this module \n",
    "provides a thread class that can be used to create new threads as well as several other such as locks , seamophore , "
   ]
  },
  {
   "cell_type": "markdown",
   "id": "976ccfa8-5ed5-47a0-938b-c220ce54e579",
   "metadata": {},
   "source": [
    "2)why threading module used? write the use of the following functions\n",
    "1)activeCount()\n",
    "2)currentThread()\n",
    "3)enumerate()"
   ]
  },
  {
   "cell_type": "markdown",
   "id": "5b16b34f-fe41-44a7-a630-a5c29ff49353",
   "metadata": {},
   "source": [
    "the threading module is used in python to provide a way to create manage and synchronize threads.  \n",
    "1)activeCount(): returns the number of active threads in current threads . an active thread is a thread that has been started and has not been terminated or exited\n",
    "2)currentThread(): returns a reference to the current thread object. this can be useful for identifying the currents thread\n",
    "3)enumerate(): returns a list of all active thread objects in the current threads thread group . this can be useful for monitoring and managing thread"
   ]
  },
  {
   "cell_type": "markdown",
   "id": "9d9c2ab5-3d37-4182-9f97-45b67d005902",
   "metadata": {},
   "source": [
    "3)Explain the following functions\n",
    "1) run()\n",
    "2)start()\n",
    "3)join()\n",
    "4)isAlive()"
   ]
  },
  {
   "cell_type": "markdown",
   "id": "31d0a2df-c024-435b-b4c5-7accbc464063",
   "metadata": {},
   "source": [
    "1) run() : is a method that represents the code to be executed in a thread . this method is overridden by the user to define\n",
    "the functionality of the thread\n",
    "2) start() : is a method that starts the execution of a thread. when the start() method is called it calls the run() method internally\n",
    "to execute the code in a seperate thread\n",
    "3) join() : is a method that waits for the completion of a thread when the join() method is  called on a thread the calling thread will wait\n",
    "until the specified thread terminates.\n",
    "4)isAlive() : is a method that returns a boolean value indicating whether a thread is currently executing or not If the thread has been started and has not yet completed its execution the method returns True otherwise it returns False"
   ]
  },
  {
   "cell_type": "markdown",
   "id": "7af9d926-eaa7-4c3c-8f7e-78341b612a0b",
   "metadata": {},
   "source": [
    "4) write a python program to create two threads. Thread one must print the list of squares and thread\n",
    "two must print the list of cubes"
   ]
  },
  {
   "cell_type": "code",
   "execution_count": 3,
   "id": "2b2fc369-c2aa-4eb6-9a38-bb3c004a0e7b",
   "metadata": {},
   "outputs": [
    {
     "name": "stdout",
     "output_type": "stream",
     "text": [
      "square of 1 is 1\n",
      "square of 2 is 4\n",
      "square of 3 is 9\n",
      "square of 4 is 16\n",
      "square of 5 is 25\n",
      "square of 6 is 36\n",
      "square of 7 is 49\n",
      "square of 8 is 64\n",
      "square of 9 is 81\n",
      "square of 10 is 100\n",
      "cube of 1 is 1\n",
      "cube of 2 is 8\n",
      "cube of 3 is 27\n",
      "cube of 4 is 64\n",
      "cube of 5 is 125\n",
      "cube of 6 is 216\n",
      "cube of 7 is 343\n",
      "cube of 8 is 512\n",
      "cube of 9 is 729\n",
      "cube of 10 is 1000\n",
      "Done.\n"
     ]
    }
   ],
   "source": [
    "import threading\n",
    "def print_squares():\n",
    "    for i in range(1,11):\n",
    "        print(f\"square of {i} is {i**2}\")\n",
    "def print_cubes():\n",
    "    for i in range(1,11):\n",
    "        print(f\"cube of {i} is {i**3}\")\n",
    "        \n",
    "t1 = threading.Thread(target = print_squares)\n",
    "t2 = threading.Thread(target = print_cubes)\n",
    "t1.start()\n",
    "t2.start()\n",
    "t1.join()\n",
    "t2.join()\n",
    "print(\"Done.\")"
   ]
  },
  {
   "cell_type": "markdown",
   "id": "a3a23f81-ce12-4620-8ef0-17d4c480b931",
   "metadata": {},
   "source": [
    "5) State advantages and disadvantages of multithreading"
   ]
  },
  {
   "cell_type": "markdown",
   "id": "7b4ac8c5-4fb1-42d1-ba85-e8ecb1009efb",
   "metadata": {},
   "source": [
    "Advantages: \n",
    "1)increased performance : by allowing multiple threads to run simultaneously, multithreading can improve the overall performance \n",
    "of an application \n",
    "2)better resource utilization : multithreading can also help to better utilize system resource such as cpu memory and input or output devices \n",
    "3)improved responsiveness : Multithreading can help to improve the responsiveness of an application by allowing it to perform background tasks without blocking the user interface\n",
    "disadvantages :\n",
    "1)increased complexity : Multithreading can make a program more complex and harder to debug\n",
    "2)increased resource consumption : Multithreading can also consume more resources than a single-threaded program particularly if the threads are not designed to be efficient or if there are too many threads running simultaneously\n",
    "3)synchronization overhead : Multithreading requires synchronization mechanisms to ensure that multiple threads can access shared resources safely"
   ]
  },
  {
   "cell_type": "markdown",
   "id": "5d9f08ff-8573-44af-936c-63041090fc5d",
   "metadata": {},
   "source": [
    "6) Explain deadlocks and race conditions."
   ]
  },
  {
   "attachments": {},
   "cell_type": "markdown",
   "id": "d9022edd-f583-4d44-9357-fea2897ea6bd",
   "metadata": {},
   "source": [
    "deadlocks : a deadlock occurs when two or more threads are waiting for each other to release resource such as lock and none of them can proceed This results in a situation where all the threads are blocked and unable to make progress, causing the program to hang or become unresponsive. Deadlocks typically occur when there is a circular dependency between threads and resources, where each thread is waiting for a resource that is being held by another thread \n",
    "race condition : A race condition occurs when two or more threads access a shared resource simultaneously, and the final outcome depends on the order in which the threads execute. This can lead to unpredictable and inconsistent behavior, as the result can vary depending on the timing of the thread execution"
   ]
  }
 ],
 "metadata": {
  "kernelspec": {
   "display_name": "Python 3 (ipykernel)",
   "language": "python",
   "name": "python3"
  },
  "language_info": {
   "codemirror_mode": {
    "name": "ipython",
    "version": 3
   },
   "file_extension": ".py",
   "mimetype": "text/x-python",
   "name": "python",
   "nbconvert_exporter": "python",
   "pygments_lexer": "ipython3",
   "version": "3.10.8"
  }
 },
 "nbformat": 4,
 "nbformat_minor": 5
}
