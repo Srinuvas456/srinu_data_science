{
 "cells": [
  {
   "cell_type": "markdown",
   "id": "15b5b4ba-8298-41e7-9660-26f81b760cfa",
   "metadata": {},
   "source": [
    "1) What is the Probability density function?"
   ]
  },
  {
   "cell_type": "markdown",
   "id": "141aa6df-b2e0-48e9-8ac8-ed7963f07de4",
   "metadata": {},
   "source": [
    "A Probability density function (PDF) is a mathematical function that describes the relative likelihood or probability of a random variable taking on a particular value or range of values. In other words, it represents the distribution of probabilities for a continuous random variable"
   ]
  },
  {
   "cell_type": "markdown",
   "id": "e2a17926-0e9d-4040-ad6a-61538d32f8b3",
   "metadata": {},
   "source": [
    "The PDF is used in probability theory and statistics to analyze and model the behavior of random variables. It is defined as the derivative of the cumulative distribution function (CDF), which describes the probability that a random variable takes on a value less than or equal to a given value"
   ]
  },
  {
   "cell_type": "markdown",
   "id": "0e4a0757-6979-4ce1-a6dd-3ff541f365c3",
   "metadata": {},
   "source": [
    "The PDF is a non-negative function that integrates to 1 over its entire domain, representing the total probability space of the random variable. It is commonly represented graphically as a curve, where the area under the curve between two points represents the probability of the random variable taking on a value in that range"
   ]
  },
  {
   "cell_type": "markdown",
   "id": "e2a9f25f-345a-4be9-bdff-9374f5a19e22",
   "metadata": {},
   "source": [
    "2) What are the types of Probability distribution?"
   ]
  },
  {
   "cell_type": "markdown",
   "id": "5cb55380-f481-4aa5-887e-4f539e61ca8c",
   "metadata": {},
   "source": [
    "1) Normal Distribution : This is also known as the Gaussian distribution or bell curve. It is a continuous probability distribution that is symmetrical around the mean, with the majority of the values clustered around the mean\n",
    "2) Binominal Distribution : This is a discrete probability distribution that describes the probability of a certain number of successes in a fixed number of independent trials\n",
    "3) Poisson Distribution : This is a discrete probability distribution that is used to describe the number of occurrences of an event in a fixed interval of time or space\n",
    "4) Uniform Distribution : This is a continuous probability distribution where each possible value within the interval is equally likely to occur\n",
    "5) Exponential Distribution : This is a continuous probability distribution that is commonly used to describe the time between events in a Poisson process"
   ]
  },
  {
   "cell_type": "markdown",
   "id": "16c98826-2961-4ec4-8a23-fe0c96acf497",
   "metadata": {},
   "source": [
    "3) Write a Python function to calculate the probability density function of a normal distribution with\n",
    "given mean and standard deviation at a given point."
   ]
  },
  {
   "cell_type": "code",
   "execution_count": 1,
   "id": "47c404ee-8a02-4bd1-a65c-e43bd4754263",
   "metadata": {},
   "outputs": [],
   "source": [
    "from scipy.stats import norm\n",
    "\n",
    "def normal_pdf(mean, std_dev, x):\n",
    "    return norm.pdf(x, loc=mean, scale=std_dev)"
   ]
  },
  {
   "cell_type": "code",
   "execution_count": 2,
   "id": "2212d1b1-e0ce-46c9-823b-174bcf1f2db1",
   "metadata": {},
   "outputs": [
    {
     "data": {
      "text/plain": [
       "0.24197072451914337"
      ]
     },
     "execution_count": 2,
     "metadata": {},
     "output_type": "execute_result"
    }
   ],
   "source": [
    "normal_pdf(0, 1, 1)"
   ]
  },
  {
   "cell_type": "markdown",
   "id": "062b9226-001d-4e26-a779-b159fe7ff5cc",
   "metadata": {},
   "source": [
    "4) What are the properties of Binomial distribution? Give two examples of events where binomial\n",
    "distribution can be applied."
   ]
  },
  {
   "cell_type": "markdown",
   "id": "985e247a-4b58-4f92-9611-7d28ff5b1c80",
   "metadata": {},
   "source": [
    "1) The binomial distribution is a discrete probability distribution that is used to model the number of successes in a fixed number of independent trials\n",
    "2) The distribution is characterized by two parameters: the number of trials (n) and the probability of success in each trial (p)\n",
    "3) The probability of k successes in n trials is given by the binomial probability formula: P(k) = (n choose k) * p^k * (1-p)^(n-k), where (n choose k) is the binomial coefficient\n",
    "4) The mean of the binomial distribution is given by mu = n * p, and the standard deviation is given by sigma = sqrt(n * p * (1-p))\n",
    "5) The binomial distribution approaches a normal distribution as n increases and p approaches 0.5"
   ]
  },
  {
   "cell_type": "markdown",
   "id": "844971e4-935e-48bb-8b03-43b9187e48b3",
   "metadata": {},
   "source": [
    "1) Coin Tossing : Suppose you toss a coin 10 times and want to know the probability of getting exactly 5 heads. This is a classic example of a binomial distribution, where the number of trials is n=10 and the probability of success (getting a head) is p=0.5\n",
    "2) Quality Control :  A company produces light bulbs, and the probability of a bulb being defective is p=0.01. If the company randomly selects 100 bulbs for testing, what is the probability that at most 2 bulbs are defective? This is another example of a binomial distribution, where the number of trials is n=100 and the probability of success (a bulb being defective) is p=0.01"
   ]
  },
  {
   "cell_type": "markdown",
   "id": "799b590b-ec27-4b24-8391-9a192cc069ef",
   "metadata": {},
   "source": [
    "5) Generate a random sample of size 1000 from a binomial distribution with probability of success 0.4\n",
    "and plot a histogram of the results using matplotlib."
   ]
  },
  {
   "cell_type": "code",
   "execution_count": 3,
   "id": "7bcb5432-9c11-4eae-9050-a6aa5b6cf2cd",
   "metadata": {},
   "outputs": [
    {
     "data": {
      "image/png": "[encoded data removed]",
      "text/plain": [
       "<Figure size 640x480 with 1 Axes>"
      ]
     },
     "metadata": {},
     "output_type": "display_data"
    }
   ],
   "source": [
    "import numpy as np\n",
    "import matplotlib.pyplot as plt\n",
    "n = 1000\n",
    "p = 0.4\n",
    "sample = np.random.binomial(n, p, size=1000)\n",
    "plt.hist(sample, bins=20, density=True, alpha=0.5, color='b')\n",
    "plt.xlabel('Number of Successes')\n",
    "plt.ylabel('Probability Density')\n",
    "plt.title('Histogram of Binomial Distribution (n=1000, p=0.4)')\n",
    "plt.show()"
   ]
  },
  {
   "cell_type": "markdown",
   "id": "ddf694d7-de0b-4100-99e7-d809ab90007e",
   "metadata": {},
   "source": [
    "6) Write a Python function to calculate the cumulative distribution function of a Poisson distribution\n",
    "with given mean at a given point."
   ]
  },
  {
   "cell_type": "code",
   "execution_count": 4,
   "id": "fa810a46-62f1-45c7-9a2a-040d0b67c65c",
   "metadata": {},
   "outputs": [],
   "source": [
    "from scipy.stats import poisson\n",
    "def poisson_cdf(mean , x):\n",
    "    return poisson.cdf(x, mu=mean)"
   ]
  },
  {
   "cell_type": "code",
   "execution_count": 5,
   "id": "8aa1e0a1-a25f-436e-88c4-5ba338d802a4",
   "metadata": {},
   "outputs": [
    {
     "data": {
      "text/plain": [
       "0.857123460498547"
      ]
     },
     "execution_count": 5,
     "metadata": {},
     "output_type": "execute_result"
    }
   ],
   "source": [
    "poisson_cdf(2,3)"
   ]
  },
  {
   "cell_type": "markdown",
   "id": "ae894e54-34ee-4793-8215-bd7014258d8d",
   "metadata": {},
   "source": [
    "7) How Binomial distribution different from Poisson distribution?"
   ]
  },
  {
   "cell_type": "markdown",
   "id": "147c2c9d-7ca4-4320-86b2-5d3bafb1d49a",
   "metadata": {},
   "source": [
    "1) Number of Trails : The binomial distribution is used to model the number of successes in a fixed number of independent trials, while the Poisson distribution is used to model the number of events that occur in a fixed interval of time\n",
    "2) Independence : The binomial distribution assumes that each trial is independent of the others, while the Poisson distribution assumes that the events occur randomly and independently of each other\n",
    "3) Probability of Success : The binomial distribution requires a fixed probability of success for each trial, while the Poisson distribution does not require a fixed probability of occurrence\n",
    "4) Number of Outcomes : The binomial distribution is a discrete distribution with a fixed number of possible outcomes, while the Poisson distribution is a continuous distribution with an infinite number of possible outcomes"
   ]
  },
  {
   "cell_type": "markdown",
   "id": "474fcf74-8caa-45ce-8a40-59559105955a",
   "metadata": {},
   "source": [
    "1)The binomial distribution can be used to model the number of heads in 10 coin tosses with a probability of success of 0.5 for each trial.\n",
    "\n",
    "2)The Poisson distribution can be used to model the number of customers arriving at a store in an hour, where the rate of arrival is 5 customers per hour"
   ]
  },
  {
   "cell_type": "markdown",
   "id": "ee20aef4-b9db-4cef-810b-198c3d72b0c2",
   "metadata": {},
   "source": [
    "8) Generate a random sample of size 1000 from a Poisson distribution with mean 5 and calculate the\n",
    "sample mean and variance."
   ]
  },
  {
   "cell_type": "code",
   "execution_count": 6,
   "id": "57303ac6-0e7c-47c0-b031-2ef3be672d1d",
   "metadata": {},
   "outputs": [
    {
     "name": "stdout",
     "output_type": "stream",
     "text": [
      "5.011\n",
      "4.6448789999999995\n"
     ]
    }
   ],
   "source": [
    "import numpy as np\n",
    "n = 1000\n",
    "mean = 5\n",
    "sample = np.random.poisson(mean, size=n)\n",
    "sample_mean = np.mean(sample)\n",
    "sample_var = np.var(sample)\n",
    "print(sample_mean)\n",
    "print(sample_var)"
   ]
  },
  {
   "cell_type": "markdown",
   "id": "1d9e3a26-d7d3-4ff0-8bd3-c7b4a99a8606",
   "metadata": {},
   "source": [
    "9) How mean and variance are related in Binomial distribution and Poisson distribution?"
   ]
  },
  {
   "cell_type": "markdown",
   "id": "e6f0de3f-9e63-4e0e-97ac-b7921824b600",
   "metadata": {},
   "source": [
    "In Binominal Distribution :\n",
    "1) Mean : The mean of a binomial distribution is equal to n * p, where n is the number of trials and p is the probability of success in each trial\n",
    "2) Variance : The variance of a binomial distribution is equal to n * p * (1 - p)"
   ]
  },
  {
   "cell_type": "markdown",
   "id": "cfc7220c-232c-4794-912d-f76f60da9af8",
   "metadata": {},
   "source": [
    "In Poisson Distribution : \n",
    "1) Mean : The mean of a Poisson distribution is equal to the parameter lambda, which represents the rate of occurrence of the event in a fixed interval of time or space\n",
    "2) Variance : The variance of a Poisson distribution is also equal to lambda\n",
    "    "
   ]
  },
  {
   "cell_type": "markdown",
   "id": "1a562fde-0db6-49e5-b241-c5da35b87063",
   "metadata": {},
   "source": [
    "10) In normal distribution with respect to mean position, where does the least frequent data appear?"
   ]
  },
  {
   "cell_type": "markdown",
   "id": "fdb55811-413f-4610-8086-bda6bfa14585",
   "metadata": {},
   "source": [
    "In a normal distribution, the least frequent data appears in the tails, specifically in the tails that are farthest away from the mean. This is because the normal distribution is a symmetric bell-shaped curve, with the highest frequency of data occurring around the mean"
   ]
  },
  {
   "cell_type": "markdown",
   "id": "de2d28b8-4756-4365-a2f2-9ba129d67969",
   "metadata": {},
   "source": [
    "As we move away from the mean in either direction, the probability density of the data decreases rapidly, with very few data points appearing in the tails. The inflection points of the normal distribution, which mark the points of maximum curvature and transition from concave to convex or vice versa, occur at a distance of one standard deviation away from the mean on either side of the curve. Beyond these points, the curvature of the distribution decreases rapidly, and the tails become increasingly sparse"
   ]
  },
  {
   "cell_type": "code",
   "execution_count": null,
   "id": "13ad7503-5bd4-4bed-ba8c-019a20e861fc",
   "metadata": {},
   "outputs": [],
   "source": []
  }
 ],
 "metadata": {
  "kernelspec": {
   "display_name": "Python 3 (ipykernel)",
   "language": "python",
   "name": "python3"
  },
  "language_info": {
   "codemirror_mode": {
    "name": "ipython",
    "version": 3
   },
   "file_extension": ".py",
   "mimetype": "text/x-python",
   "name": "python",
   "nbconvert_exporter": "python",
   "pygments_lexer": "ipython3",
   "version": "3.10.8"
  }
 },
 "nbformat": 4,
 "nbformat_minor": 5
}
