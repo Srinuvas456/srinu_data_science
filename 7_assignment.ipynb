{
 "cells": [
  {
   "cell_type": "markdown",
   "id": "3f0012be-f736-42b6-9dc6-e88e66fb8294",
   "metadata": {},
   "source": [
    "1)Create a function which will take a list as an argument and return the product of all the numbers\n",
    "after creating a flat list.\n",
    "Use the below-given list as an argument for your function.\n",
    "list1 = [1,2,3,4, [44,55,66, True], False, (34,56,78,89,34), {1,2,3,3,2,1}, {1:34, \"key2\": [55, 67, 78, 89], 4: (45,\n",
    "22, 61, 34)}, [56, 'data science'], 'Machine Learning']"
   ]
  },
  {
   "cell_type": "code",
   "execution_count": 7,
   "id": "27bdf78a-aed1-41b0-b983-5aaac5c1e53f",
   "metadata": {},
   "outputs": [
    {
     "name": "stdout",
     "output_type": "stream",
     "text": [
      "8800996958208\n"
     ]
    }
   ],
   "source": [
    "def p(list1):\n",
    "    flat =[]\n",
    "    for item in list1:\n",
    "        if type(item) == list1:\n",
    "            flat.extend(item)\n",
    "        elif type(item) == tuple or type(item) == set:\n",
    "            flat.extend(list(item))\n",
    "        elif type(item) == dict:\n",
    "            for key, val in item.items():\n",
    "                if type(key) == int or type(key) == float:\n",
    "                    flat.append(key)\n",
    "                if type(val) == int or type(val) == float:\n",
    "                    flat.append(val)\n",
    "        elif type(item) == int or type(item) == float:\n",
    "            flat.append(item)\n",
    "    product = 1\n",
    "    for num in flat:\n",
    "        product *= num\n",
    "    return product \n",
    "list1 = [1,2,3,4, [44,55,66, True], False, (34,56,78,89,34), {1,2,3,3,2,1}, {1:34, \"key2\": [55, 67, 78, 89], 4: (45, 22, 61, 34)}, [56, 'data science'], 'Machine Learning']\n",
    "print(p(list1))\n",
    "    "
   ]
  },
  {
   "cell_type": "markdown",
   "id": "15fd185b-32f2-49f6-8061-f52aca6c81c1",
   "metadata": {},
   "source": [
    "2) Write a python program for encrypting a message sent to you by your friend. The logic of encryption\n",
    "should be such that, for a the output should be z. For b, the output should be y. For c, the output should\n",
    "be x respectively. Also, the whitespace should be replaced with a dollar sign. Keep the punctuation\n",
    "marks unchanged.\n",
    "Input Sentence: I want to become a Data Scientist.\n"
   ]
  },
  {
   "cell_type": "code",
   "execution_count": 5,
   "id": "8898f49f-0064-40ef-8a6a-202ac144103e",
   "metadata": {},
   "outputs": [
    {
     "name": "stdout",
     "output_type": "stream",
     "text": [
      " r dzmg gl yvxlnv z wzgz hxrvmgrhg\n"
     ]
    }
   ],
   "source": [
    "def encrypt_message(message):\n",
    "    mapping = {\n",
    "        \"a\":\"z\",\n",
    "        \"b\":\"y\",\n",
    "        \"c\":\"x\",\n",
    "        \"d\":\"w\",\n",
    "        \"e\":\"v\",\n",
    "        \"f\":\"u\",\n",
    "        \"g\":\"t\",\n",
    "        \"h\":\"s\",\n",
    "        \"i\":\"r\",\n",
    "        \"j\":\"q\",\n",
    "        \"k\":\"p\",\n",
    "        \"l\":\"o\",\n",
    "        \"m\":\"n\",\n",
    "        \"n\":\"m\",\n",
    "        \"o\":\"l\",\n",
    "        \"p\":\"k\",\n",
    "        \"q\":\"j\",\n",
    "        \"r\":\"i\",\n",
    "        \"s\":\"h\",\n",
    "        \"t\":\"g\",\n",
    "        \"u\":\"f\",\n",
    "        \"v\":\"e\",\n",
    "        \"w\":\"d\",\n",
    "        \"x\":\"c\",\n",
    "        \"y\":\"b\",\n",
    "        \"z\":\"a\"\n",
    "    }\n",
    "    message = message.lower()\n",
    "    encrypted_message = \" \"\n",
    "    for letter in message:\n",
    "        if letter.isalpha():\n",
    "            encrypted_message += mapping[letter]\n",
    "        elif letter.isspace():\n",
    "            encrypted_message += \" \"\n",
    "        else:\n",
    "            encrypted_message += message\n",
    "    return encrypted_message\n",
    "input_sentence = \"I want to become a Data Scientist\"\n",
    "encrypted_message = encrypt_message(input_sentence)\n",
    "print(encrypted_message)"
   ]
  },
  {
   "cell_type": "code",
   "execution_count": null,
   "id": "23bf4526-ddee-4dcb-9b9d-bc23f25babdc",
   "metadata": {},
   "outputs": [],
   "source": []
  }
 ],
 "metadata": {
  "kernelspec": {
   "display_name": "Python 3 (ipykernel)",
   "language": "python",
   "name": "python3"
  },
  "language_info": {
   "codemirror_mode": {
    "name": "ipython",
    "version": 3
   },
   "file_extension": ".py",
   "mimetype": "text/x-python",
   "name": "python",
   "nbconvert_exporter": "python",
   "pygments_lexer": "ipython3",
   "version": "3.10.8"
  }
 },
 "nbformat": 4,
 "nbformat_minor": 5
}
