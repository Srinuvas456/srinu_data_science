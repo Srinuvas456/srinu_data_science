{
 "cells": [
  {
   "cell_type": "markdown",
   "id": "d4fc953e-46f2-4328-bfdc-eb03a9ee2fb5",
   "metadata": {},
   "source": [
    "1) Which keyword is used to create a function? Create a function to return a list of odd numbers in the\n",
    "range of 1 to 25\n"
   ]
  },
  {
   "cell_type": "code",
   "execution_count": 8,
   "id": "7ec1b42e-7fd0-4b0e-be3d-90b4cb280d73",
   "metadata": {},
   "outputs": [],
   "source": [
    "\n",
    "def odd1():\n",
    "    odd = []\n",
    "    for i in range(1,26):\n",
    "        if i % 2 !=0:\n",
    "            odd.append(i)\n",
    "    return odd\n",
    "        \n",
    "    "
   ]
  },
  {
   "cell_type": "code",
   "execution_count": 9,
   "id": "b66b0a7b-cdfc-42fb-afa3-4c27db6fe29a",
   "metadata": {},
   "outputs": [
    {
     "data": {
      "text/plain": [
       "[1, 3, 5, 7, 9, 11, 13, 15, 17, 19, 21, 23, 25]"
      ]
     },
     "execution_count": 9,
     "metadata": {},
     "output_type": "execute_result"
    }
   ],
   "source": [
    "odd1()\n"
   ]
  },
  {
   "cell_type": "markdown",
   "id": "924e6532-ff48-4f3e-a06f-3221ab018f46",
   "metadata": {},
   "source": [
    "2) Why *args and **kwargs is used in some functions? Create a function each for *args and **kwargs to\n",
    "demonstrate their use"
   ]
  },
  {
   "cell_type": "markdown",
   "id": "f64317c5-5efd-402e-b76a-cee4f4e751e1",
   "metadata": {},
   "source": [
    "1) * args : it is used to pass a variable for non keyword arguments to a function and also it is used to represent by an asterisk followed by the name.\n",
    "2) **kwargs : it is used to pass a variable number of keyword arguments to a function and also it is used to be represent by two asterisk followed by the variable name."
   ]
  },
  {
   "cell_type": "code",
   "execution_count": 11,
   "id": "c4e0d451-6588-45b8-a1f4-6e3b265e9d58",
   "metadata": {},
   "outputs": [
    {
     "name": "stdout",
     "output_type": "stream",
     "text": [
      "1\n",
      "2\n",
      "3\n",
      "four\n",
      "five\n"
     ]
    }
   ],
   "source": [
    "def args(*args):\n",
    "    for arg in args:\n",
    "        print(arg)\n",
    "args(1, 2, 3, 'four', 'five')        "
   ]
  },
  {
   "cell_type": "code",
   "execution_count": 20,
   "id": "126659b9-f6ad-4b3d-aac2-f8af5fc70920",
   "metadata": {},
   "outputs": [
    {
     "name": "stdout",
     "output_type": "stream",
     "text": [
      "name: Srinu\n",
      "age: 22\n"
     ]
    }
   ],
   "source": [
    "def kwargs(**kwargs):\n",
    "    for key, value in kwargs.items():\n",
    "        print(f\"{key}: {value}\")\n",
    "\n",
    "kwargs(name='Srinu', age=22)"
   ]
  },
  {
   "cell_type": "markdown",
   "id": "03f2b90a-6355-42b1-95c5-a4f4ccd20935",
   "metadata": {},
   "source": [
    "3)What is an iterator in python? Name the method used to initialise the iterator object and the method\n",
    "used for iteration. Use these methods to print the first five elements of the given list [2, 4, 6, 8, 10, 12, 14, 16,\n",
    "18, 20]"
   ]
  },
  {
   "cell_type": "markdown",
   "id": "4b625424-7499-4462-8dd7-2ea58c75c55b",
   "metadata": {},
   "source": [
    "A) an iterator is an object that implements the iterator protocol. it consists two methods. \n",
    "1)_iter_() : it is a method to return the iterator itself and also it will returns an iterator object\n",
    "2) _next_(): it is function takes an iterator object as an argument and returns the next value from the iterator."
   ]
  },
  {
   "cell_type": "code",
   "execution_count": 23,
   "id": "3bc96125-ae5f-4c56-b228-41cdd88e65fc",
   "metadata": {},
   "outputs": [
    {
     "name": "stdout",
     "output_type": "stream",
     "text": [
      "2\n",
      "4\n",
      "6\n",
      "8\n",
      "10\n",
      "12\n"
     ]
    }
   ],
   "source": [
    "list = [2,4,6,8,10,12,14,16,18,20]\n",
    "my_iter = iter(list)\n",
    "for i in range(6):\n",
    "    print(next(my_iter))"
   ]
  },
  {
   "cell_type": "markdown",
   "id": "028ad07c-5960-4ac0-8638-2a3ca1056578",
   "metadata": {},
   "source": [
    "4) What is a generator function in python? Why yield keyword is used? Give an example of a generator\n",
    "function"
   ]
  },
  {
   "cell_type": "markdown",
   "id": "57dab480-e90d-4db5-a73f-8de6fce997c9",
   "metadata": {},
   "source": [
    "A) a generator function is a special type of function that can be used to create an iterator\n",
    "Unlike regular functions that return a single value and then terminate generator functions use the yield keyword to return a sequence of values. it is keyword is encountered the functions current state is saved and the value of the expression following the yield keyword is returned"
   ]
  },
  {
   "cell_type": "code",
   "execution_count": 27,
   "id": "e03eeb5b-a1ef-4ad6-8559-3786b7b02ae1",
   "metadata": {},
   "outputs": [
    {
     "name": "stdout",
     "output_type": "stream",
     "text": [
      "0\n",
      "1\n",
      "1\n",
      "2\n",
      "3\n",
      "5\n",
      "8\n"
     ]
    }
   ],
   "source": [
    "def fibonacci(limit):\n",
    "    a, b = 0, 1\n",
    "    while a < limit:\n",
    "        yield a\n",
    "        a, b = b, a + b\n",
    "for num in fibonacci(10):\n",
    "    print(num)"
   ]
  },
  {
   "cell_type": "markdown",
   "id": "84b90c7b-1ee3-46c5-89ed-fdae4fa9e6c0",
   "metadata": {},
   "source": [
    "5)Create a generator function for prime numbers less than 1000. Use the next() method to print the\n",
    "first 20 prime numbers"
   ]
  },
  {
   "cell_type": "code",
   "execution_count": 29,
   "id": "fdded3eb-5fbe-43cd-9002-712b4f04026b",
   "metadata": {},
   "outputs": [
    {
     "name": "stdout",
     "output_type": "stream",
     "text": [
      "2\n",
      "3\n",
      "5\n",
      "7\n",
      "11\n",
      "13\n",
      "17\n",
      "19\n",
      "23\n",
      "29\n",
      "31\n",
      "37\n",
      "41\n",
      "43\n",
      "47\n",
      "53\n",
      "59\n",
      "61\n",
      "67\n",
      "71\n"
     ]
    }
   ],
   "source": [
    "def prime1():\n",
    "    primes = []\n",
    "    for num in range(2,1000):\n",
    "        is_prime = True\n",
    "        for prime in primes:\n",
    "            if num % prime == 0:\n",
    "                is_prime = False\n",
    "                break\n",
    "        if is_prime:\n",
    "            primes.append(num)\n",
    "            yield num\n",
    "primes = prime1()\n",
    "\n",
    "for i in range(20):\n",
    "    print(next(primes))            \n",
    "                "
   ]
  },
  {
   "cell_type": "code",
   "execution_count": null,
   "id": "1048667f-8fa0-4878-9d71-f049654320f2",
   "metadata": {},
   "outputs": [],
   "source": []
  }
 ],
 "metadata": {
  "kernelspec": {
   "display_name": "Python 3 (ipykernel)",
   "language": "python",
   "name": "python3"
  },
  "language_info": {
   "codemirror_mode": {
    "name": "ipython",
    "version": 3
   },
   "file_extension": ".py",
   "mimetype": "text/x-python",
   "name": "python",
   "nbconvert_exporter": "python",
   "pygments_lexer": "ipython3",
   "version": "3.10.8"
  }
 },
 "nbformat": 4,
 "nbformat_minor": 5
}
