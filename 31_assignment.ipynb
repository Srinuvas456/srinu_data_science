{
 "cells": [
  {
   "cell_type": "markdown",
   "id": "10b12369-4e18-4486-aa60-37dfdc5c570b",
   "metadata": {},
   "source": [
    "1) What are the three measures of central tendency?"
   ]
  },
  {
   "cell_type": "markdown",
   "id": "191e08d5-9b62-45a6-b0df-4fde72c6bbc5",
   "metadata": {},
   "source": [
    "1) Mean : The mean is the arithmetic average of a set of data\n",
    "2) Median : The median is the middle value in a set of data when the values are arranged in order\n",
    "3) Mode : The mode is the value that appears most frequently in a set of data"
   ]
  },
  {
   "cell_type": "markdown",
   "id": "ebad7986-adbf-4208-978f-d1c9bbb56207",
   "metadata": {},
   "source": [
    "2) What is the difference between the mean, median, and mode? How are they used to measure the\n",
    "central tendency of a dataset?"
   ]
  },
  {
   "cell_type": "markdown",
   "id": "4743bb67-96b8-4fc0-9cce-668fbb7295e2",
   "metadata": {},
   "source": [
    "1) Mean : It is the arithmetic average of a set of data, calculated by adding all the values in the dataset and dividing by the number of values. It is a useful measure when the data is normally distributed and not skewed. The mean is sensitive to outliers, which can have a significant impact on its value\n",
    "2) Median : It is the middle value in a set of data when the values are arranged in order. It is a useful measure when the data is skewed, or when there are outliers present. The median is not affected by extreme values because it is based solely on the order of the data\n",
    "3) Mode : It is the value that appears most frequently in a set of data. It is a useful measure for datasets with categorical or discrete data, such as colors or types of animals. The mode is not always unique, and a dataset can have multiple modes\n"
   ]
  },
  {
   "cell_type": "markdown",
   "id": "e49c13ac-de1d-4e2f-a300-93c367644eb4",
   "metadata": {},
   "source": [
    "3) Measure the three measures of central tendency for the given height data:\n",
    "[178,177,176,177,178.2,178,175,179,180,175,178.9,176.2,177,172.5,178,176.5]"
   ]
  },
  {
   "cell_type": "code",
   "execution_count": 6,
   "id": "cba3c21f-1e3d-41b4-9d12-74daf93a28e0",
   "metadata": {},
   "outputs": [],
   "source": [
    "height = [178,177,176,177,178.2,178,175,179,180,175,178.9,176.2,177,172.5,178,176.5]\n",
    "import numpy as np\n",
    "from scipy import stats"
   ]
  },
  {
   "cell_type": "code",
   "execution_count": 7,
   "id": "3ca23c8f-82f4-4417-b9a5-59389a5ddfc6",
   "metadata": {},
   "outputs": [
    {
     "data": {
      "text/plain": [
       "177.01875"
      ]
     },
     "execution_count": 7,
     "metadata": {},
     "output_type": "execute_result"
    }
   ],
   "source": [
    "np.mean(height)"
   ]
  },
  {
   "cell_type": "code",
   "execution_count": 8,
   "id": "177a6903-c0c0-4b90-8bd1-c4467da2fbfc",
   "metadata": {},
   "outputs": [
    {
     "data": {
      "text/plain": [
       "177.0"
      ]
     },
     "execution_count": 8,
     "metadata": {},
     "output_type": "execute_result"
    }
   ],
   "source": [
    "np.median(height)"
   ]
  },
  {
   "cell_type": "code",
   "execution_count": 9,
   "id": "ac9d7e33-0a45-4347-8762-a7652094450d",
   "metadata": {},
   "outputs": [
    {
     "name": "stderr",
     "output_type": "stream",
     "text": [
      "/tmp/ipykernel_1342/1690947930.py:1: FutureWarning: Unlike other reduction functions (e.g. `skew`, `kurtosis`), the default behavior of `mode` typically preserves the axis it acts along. In SciPy 1.11.0, this behavior will change: the default value of `keepdims` will become False, the `axis` over which the statistic is taken will be eliminated, and the value None will no longer be accepted. Set `keepdims` to True or False to avoid this warning.\n",
      "  stats.mode(height)\n"
     ]
    },
    {
     "data": {
      "text/plain": [
       "ModeResult(mode=array([177.]), count=array([3]))"
      ]
     },
     "execution_count": 9,
     "metadata": {},
     "output_type": "execute_result"
    }
   ],
   "source": [
    "stats.mode(height)"
   ]
  },
  {
   "cell_type": "markdown",
   "id": "11f16208-a1a5-4666-bdf4-986f44cedf91",
   "metadata": {},
   "source": [
    "4) Find the standard deviation for the given data:\n",
    "[178,177,176,177,178.2,178,175,179,180,175,178.9,176.2,177,172.5,178,176.5]"
   ]
  },
  {
   "cell_type": "code",
   "execution_count": 10,
   "id": "ac7c9676-4e9b-4dda-aabf-5683852e6da5",
   "metadata": {},
   "outputs": [
    {
     "data": {
      "text/plain": [
       "1.7885814036548633"
      ]
     },
     "execution_count": 10,
     "metadata": {},
     "output_type": "execute_result"
    }
   ],
   "source": [
    "data = [178,177,176,177,178.2,178,175,179,180,175,178.9,176.2,177,172.5,178,176.5]\n",
    "import numpy as np\n",
    "np.std(data)"
   ]
  },
  {
   "cell_type": "markdown",
   "id": "81ac548e-e63e-4722-a345-cdd1953e7ea1",
   "metadata": {},
   "source": [
    "5) How are measures of dispersion such as range, variance, and standard deviation used to describe\n",
    "the spread of a dataset? Provide an example."
   ]
  },
  {
   "cell_type": "markdown",
   "id": "084f1863-2b3b-489e-b248-65b3f4f01664",
   "metadata": {},
   "source": [
    "1) Range : The range is the difference between the largest and smallest values in a dataset. It provides a quick and easy way to get a sense of the spread of the data, but is sensitive to outliers. For example, if we have a dataset of test scores ranging from 50 to 100, the range would be 50\n",
    "2) Variance : The variance is the average of the squared differences from the mean. It gives an idea of how much the data is spread out from the mean. A high variance indicates that the data is spread out widely, while a low variance indicates that the data is clustered around the mean. For example, if we have a dataset of ages of students in a class, the variance would tell us how much the ages deviate from the average age of the class\n",
    "3) Standard deviation : The standard deviation is the square root of the variance. It is a commonly used measure of dispersion that gives an idea of how much the data values deviate from the mean. A high standard deviation indicates that the data is widely spread out, while a low standard deviation indicates that the data is clustered around the mean. For example, if we have a dataset of heights of students in a class, the standard deviation would tell us how much the heights deviate from the average height of the class\n"
   ]
  },
  {
   "cell_type": "markdown",
   "id": "6d862f86-297b-455e-bca5-99b54bc895c7",
   "metadata": {},
   "source": [
    "Variance = [(85-85.67)^2 + (92-85.67)^2 + (78-85.67)^2 + (90-85.67)^2 + (87-85.67)^2 + (82-85.67)^2] /5"
   ]
  },
  {
   "cell_type": "markdown",
   "id": "7632b488-b264-4d7e-aa0e-671cb9af8132",
   "metadata": {},
   "source": [
    "6) What is a Venn diagram?"
   ]
  },
  {
   "cell_type": "markdown",
   "id": "c8ab5d6b-bf57-4e48-b9b7-569941125e3d",
   "metadata": {},
   "source": [
    "A Venn diagram is a graphical representation of the relationships between different sets or groups. It consists of overlapping circles or other shapes that are used to show the commonalities and differences between the sets. Each set is typically represented by a circle or other shape, and the overlapping regions represent the intersection of the sets. Venn diagrams are commonly used in mathematics, logic, statistics, and other fields to illustrate complex relationships between different sets of data"
   ]
  },
  {
   "cell_type": "markdown",
   "id": "aa02fb49-b687-43be-b3d8-c2f52a27003e",
   "metadata": {},
   "source": [
    "7) For the two given sets A = (2,3,4,5,6,7) & B = (0,2,6,8,10). Find:\n",
    "(i) A B\n",
    "(ii) A ⋃ B"
   ]
  },
  {
   "cell_type": "code",
   "execution_count": 17,
   "id": "2d601af1-5148-4de9-b673-478a025a4248",
   "metadata": {},
   "outputs": [],
   "source": [
    "A = {2, 3, 4, 5, 6, 7}\n",
    "B = {0, 2, 6, 8, 10}\n",
    "A_intersction_B = A.intersection(B)\n",
    "A_union_B = A.union(B)"
   ]
  },
  {
   "cell_type": "code",
   "execution_count": 18,
   "id": "fe9fbd5e-3df0-4b2b-b6e5-e27adcb48858",
   "metadata": {},
   "outputs": [
    {
     "name": "stdout",
     "output_type": "stream",
     "text": [
      "{2, 6}\n",
      "{0, 2, 3, 4, 5, 6, 7, 8, 10}\n"
     ]
    }
   ],
   "source": [
    "print(A_intersction_B)\n",
    "print(A_union_B) "
   ]
  },
  {
   "cell_type": "markdown",
   "id": "37de7fcf-a813-4b70-a2a3-e048d640a6a7",
   "metadata": {},
   "source": [
    "8) What do you understand about skewness in data?"
   ]
  },
  {
   "cell_type": "markdown",
   "id": "9fa2d123-e884-4e6c-8f18-60c3e0d8b26b",
   "metadata": {},
   "source": [
    "Skewness is a measure of the asymmetry of a probability distribution. In other words, it is a measure of how lopsided a distribution is. If a distribution is perfectly symmetrical, its skewness is zero. If the tail of a distribution extends to the right, we say that the distribution is positively skewed, and if the tail extends to the left, we say that the distribution is negatively skewed"
   ]
  },
  {
   "cell_type": "markdown",
   "id": "354bd59a-c376-4e75-aaed-8c5cd3e49ccb",
   "metadata": {},
   "source": [
    "Skewness is important to consider when analyzing data because it can affect the interpretation of summary statistics such as the mean and standard deviation. In a positively skewed distribution, the mean is typically larger than the median, while in a negatively skewed distribution, the mean is typically smaller than the median. This is because the mean is more affected by extreme values in the tail of the distribution, while the median is not"
   ]
  },
  {
   "cell_type": "markdown",
   "id": "f142ce59-39cb-4be5-862a-a5a34eb1724b",
   "metadata": {},
   "source": [
    "9) If a data is right skewed then what will be the position of median with respect to mean?"
   ]
  },
  {
   "cell_type": "markdown",
   "id": "9194a0ba-60ee-42ee-bb71-ccab73aa3d98",
   "metadata": {},
   "source": [
    "In a right-skewed distribution, the tail of the distribution extends to the right, and the mean is typically greater than the median. This is because the mean is sensitive to outliers or extreme values in the tail, while the median is not"
   ]
  },
  {
   "cell_type": "code",
   "execution_count": 3,
   "id": "16d16985-1f92-47ce-8604-44a170baa2d4",
   "metadata": {},
   "outputs": [],
   "source": [
    "import numpy as np\n",
    "data = np.array([1, 2, 3, 4, 5, 6, 7, 8, 9, 10, 20, 30, 40, 50])\n",
    "\n",
    "\n",
    "\n"
   ]
  },
  {
   "cell_type": "code",
   "execution_count": 6,
   "id": "13b06487-510b-4ee0-981b-780854a69a55",
   "metadata": {},
   "outputs": [
    {
     "data": {
      "text/plain": [
       "7.5"
      ]
     },
     "execution_count": 6,
     "metadata": {},
     "output_type": "execute_result"
    }
   ],
   "source": [
    "np.median(data)"
   ]
  },
  {
   "cell_type": "code",
   "execution_count": 7,
   "id": "1fd26460-c19d-4377-b789-27587a2fcee5",
   "metadata": {},
   "outputs": [
    {
     "data": {
      "text/plain": [
       "13.928571428571429"
      ]
     },
     "execution_count": 7,
     "metadata": {},
     "output_type": "execute_result"
    }
   ],
   "source": [
    "np.mean(data)"
   ]
  },
  {
   "cell_type": "markdown",
   "id": "baaf5a2d-63dd-40dc-bf0c-dbb0aa5798ec",
   "metadata": {},
   "source": [
    "10) Explain the difference between covariance and correlation. How are these measures used in\n",
    "statistical analysis?\n"
   ]
  },
  {
   "cell_type": "markdown",
   "id": "8777b232-ea4d-4172-81cf-9029b536d806",
   "metadata": {},
   "source": [
    "Covariance : it measures the degree to which two variables vary together. It is a measure of the linear association between two variables, and it is calculated by taking the average of the product of the deviations of the two variables from their respective means. Covariance can take on any value, with positive values indicating a positive relationship, negative values indicating a negative relationship, and zero indicating no relationship"
   ]
  },
  {
   "cell_type": "markdown",
   "id": "3435df7b-a0df-430d-b149-0607cf5a79d3",
   "metadata": {},
   "source": [
    "Correlation : on the other hand, measures the strength and direction of the linear relationship between two variables. It is a standardized measure of covariance, and it is calculated by dividing the covariance by the product of the standard deviations of the two variables. Correlation coefficients range from -1 to 1, with values of -1 indicating a perfect negative relationship, values of 1 indicating a perfect positive relationship, and values of 0 indicating no relationship"
   ]
  },
  {
   "cell_type": "markdown",
   "id": "d8c95cea-bb17-4387-907e-94e330ed761f",
   "metadata": {},
   "source": [
    "Both covariance and correlation are used in statistical analysis to describe the relationship between two variables. Covariance is useful in describing the direction of the relationship between two variables, but it is not a standardized measure, which means that it is difficult to compare the strength of relationships between different pairs of variables. Correlation, on the other hand, is a standardized measure, which makes it easier to compare the strength of relationships between different pairs of variables. Correlation is also useful in regression analysis, where it is used to determine the relationship between a dependent variable and one or more independent variables"
   ]
  },
  {
   "cell_type": "markdown",
   "id": "c08f3907-e8c4-4e4a-9232-81152024077c",
   "metadata": {},
   "source": [
    "11) What is the formula for calculating the sample mean? Provide an example calculation for a\n",
    "dataset."
   ]
  },
  {
   "cell_type": "markdown",
   "id": "2938a618-203b-4ec5-970d-9424ddf37e74",
   "metadata": {},
   "source": [
    "The formula for calculating the sample mean is:\n",
    "\n",
    "Sample Mean = (sum of all values in the sample) / (number of values in the sample)"
   ]
  },
  {
   "cell_type": "code",
   "execution_count": 8,
   "id": "6ebeacbf-0e5d-49f3-97db-bc1f8d950b37",
   "metadata": {},
   "outputs": [
    {
     "data": {
      "text/plain": [
       "10.6"
      ]
     },
     "execution_count": 8,
     "metadata": {},
     "output_type": "execute_result"
    }
   ],
   "source": [
    "data = [5, 7, 11, 13, 17]\n",
    "import numpy as np\n",
    "np.mean(data)"
   ]
  },
  {
   "cell_type": "markdown",
   "id": "f314e34a-0e15-4836-a4d2-5b57740c6773",
   "metadata": {},
   "source": [
    "12) For a normal distribution data what is the relationship between its measure of central tendency?"
   ]
  },
  {
   "cell_type": "markdown",
   "id": "992bb66f-f28d-41af-94f9-028203007662",
   "metadata": {},
   "source": [
    "This means that the peak of the normal distribution occurs at the mean value, and the median is also at the same point. Additionally, since the normal distribution is symmetric around the mean, the mode is also equal to the mean and median"
   ]
  },
  {
   "cell_type": "markdown",
   "id": "0836fc25-3c7a-45ff-8a68-932e0437a43c",
   "metadata": {},
   "source": [
    "This relationship between the measures of central tendency can be demonstrated using a simple example. Let's say we have a normal distribution with a mean of 10 and a standard deviation of 2"
   ]
  },
  {
   "cell_type": "markdown",
   "id": "ecc244cb-b8dd-427b-8f2e-8a8eef9bc4cb",
   "metadata": {},
   "source": [
    "If we plot the distribution and calculate the mean, median, and mode, we would find that they are all equal to 10. This is because the normal distribution is symmetric around the mean, with the highest frequency of values occurring at the mean"
   ]
  },
  {
   "cell_type": "markdown",
   "id": "57b389f2-8d2d-4d82-a1f5-c5b5c252df8a",
   "metadata": {},
   "source": [
    "13) How is covariance different from correlation?"
   ]
  },
  {
   "cell_type": "markdown",
   "id": "2db3ae55-4afa-41bb-a25e-e1300d3fab5f",
   "metadata": {},
   "source": [
    "1) Scale : The covariance measures the degree to which two variables vary together, but it is affected by the scale of the variables. Correlation, on the other hand, measures the strength of the linear relationship between two variables, and it is independent of the scale of the variables\n",
    "2) Range : The covariance can take on any value, positive or negative, depending on the direction of the relationship. Correlation, on the other hand, always ranges between -1 and +1, where -1 indicates a perfect negative linear relationship, +1 indicates a perfect positive linear relationship, and 0 indicates no linear relationship\n",
    "3) Interpretation : Covariance does not have a standardized interpretation. Positive values indicate a positive relationship, while negative values indicate a negative relationship, but the magnitude of the value is not easily interpretable. Correlation, on the other hand, is standardized, and values can be interpreted as indicating the strength and direction of the linear relationship between two variables\n",
    "4) Calculation : Covariance is calculated as the average of the products of the deviations of each value from its mean. Correlation is calculated by dividing the covariance by the product of the standard deviations of the two variables"
   ]
  },
  {
   "cell_type": "markdown",
   "id": "b99fb21d-2bb0-44df-a624-07b3895bef93",
   "metadata": {},
   "source": [
    "14)  How do outliers affect measures of central tendency and dispersion? Provide an example."
   ]
  },
  {
   "cell_type": "markdown",
   "id": "abf0f312-355d-41cb-b44c-b350d972f3be",
   "metadata": {},
   "source": [
    "Outliers can have a significant impact on measures of central tendency and dispersion, particularly on the mean and standard deviation"
   ]
  },
  {
   "cell_type": "markdown",
   "id": "78b13b64-5845-439d-9c2a-6e7f8482f1b5",
   "metadata": {},
   "source": [
    "When calculating the mean, outliers can greatly affect its value because it is sensitive to extreme values. The presence of one or more outliers can pull the mean in their direction, resulting in a skewed distribution that does not represent the majority of the data. The median, on the other hand, is less affected by outliers since it is the middle value in a sorted list of data"
   ]
  },
  {
   "cell_type": "markdown",
   "id": "b349c4f2-4598-4f4e-a8dc-278db8d0239b",
   "metadata": {},
   "source": [
    "Similarly, outliers can affect the standard deviation because it is based on the deviation of each data point from the mean. If an outlier has a large distance from the mean, it can increase the standard deviation, which can lead to a distorted view of the variability of the data. Other measures of dispersion, such as the interquartile range, are less affected by outliers since they are based on percentiles of the data rather than on the distance from the mean"
   ]
  },
  {
   "cell_type": "code",
   "execution_count": 9,
   "id": "3459484c-b4b2-4369-8944-dc655557f74c",
   "metadata": {},
   "outputs": [],
   "source": [
    "data = [10, 12, 14, 16, 18, 20, 22, 24, 26, 28, 30, 32, 34, 36, 38, 100]"
   ]
  },
  {
   "cell_type": "code",
   "execution_count": 11,
   "id": "c68a8754-0e97-438d-aded-91cca3f7fd51",
   "metadata": {},
   "outputs": [
    {
     "data": {
      "text/plain": [
       "28.75"
      ]
     },
     "execution_count": 11,
     "metadata": {},
     "output_type": "execute_result"
    }
   ],
   "source": [
    "import numpy as np\n",
    "np.mean(data)"
   ]
  },
  {
   "cell_type": "code",
   "execution_count": 12,
   "id": "7bdc8ba1-94a1-4c3c-8637-cbc5fca70e4d",
   "metadata": {},
   "outputs": [
    {
     "data": {
      "text/plain": [
       "20.20983671383814"
      ]
     },
     "execution_count": 12,
     "metadata": {},
     "output_type": "execute_result"
    }
   ],
   "source": [
    "np.std(data)"
   ]
  },
  {
   "cell_type": "code",
   "execution_count": 13,
   "id": "c79df875-4354-4bb7-ac51-9802e73e0804",
   "metadata": {},
   "outputs": [
    {
     "data": {
      "text/plain": [
       "25.0"
      ]
     },
     "execution_count": 13,
     "metadata": {},
     "output_type": "execute_result"
    }
   ],
   "source": [
    "np.median(data)"
   ]
  },
  {
   "cell_type": "code",
   "execution_count": null,
   "id": "90e9d1f6-79d4-41aa-9b5d-03703e848b7c",
   "metadata": {},
   "outputs": [],
   "source": []
  }
 ],
 "metadata": {
  "kernelspec": {
   "display_name": "Python 3 (ipykernel)",
   "language": "python",
   "name": "python3"
  },
  "language_info": {
   "codemirror_mode": {
    "name": "ipython",
    "version": 3
   },
   "file_extension": ".py",
   "mimetype": "text/x-python",
   "name": "python",
   "nbconvert_exporter": "python",
   "pygments_lexer": "ipython3",
   "version": "3.10.8"
  }
 },
 "nbformat": 4,
 "nbformat_minor": 5
}
