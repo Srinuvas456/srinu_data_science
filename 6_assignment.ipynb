{
 "cells": [
  {
   "cell_type": "markdown",
   "id": "147630c0-abaf-47b1-8670-02487a74fdc2",
   "metadata": {},
   "source": [
    "1) write a program to accept percentage from the user and display the grades according to the following criteria"
   ]
  },
  {
   "cell_type": "code",
   "execution_count": null,
   "id": "880affe7-2078-4b6a-958b-4f80ea905865",
   "metadata": {},
   "outputs": [],
   "source": [
    "p = float(input(\"please enter a percentage\"))\n",
    "if p > 90:\n",
    "    print(\"A\")\n",
    "elif p > 80 and p <=90:\n",
    "    print(\"B\")\n",
    "elif p >= 60 and p <=80:\n",
    "    print(\"C\")\n",
    "else:\n",
    "    print(\"D\")"
   ]
  },
  {
   "cell_type": "markdown",
   "id": "84a2d98e-4e3e-46b8-b528-798d2739f3c9",
   "metadata": {},
   "source": [
    "2) write a program to accept the cost price of a bike and display the road tax to be paid according to the following criteria?"
   ]
  },
  {
   "cell_type": "code",
   "execution_count": 10,
   "id": "914bad89-5503-4f83-9344-b209751136a2",
   "metadata": {},
   "outputs": [
    {
     "name": "stdin",
     "output_type": "stream",
     "text": [
      "please enter a bike price 100000\n"
     ]
    },
    {
     "name": "stdout",
     "output_type": "stream",
     "text": [
      "10000.0\n"
     ]
    }
   ],
   "source": [
    "price = int(input(\"please enter a bike price\"))\n",
    "if price > 100000:\n",
    "    tax = 0.15 * price\n",
    "    print(tax)\n",
    "elif price > 50000 and price <=100000:\n",
    "    tax = 0.1 * price\n",
    "    print(tax)\n",
    "else:\n",
    "    tax = 0.05 * price\n",
    "    print(tax)\n",
    "    "
   ]
  },
  {
   "cell_type": "markdown",
   "id": "8f56b88f-aace-4a63-821f-1fcfa69d258b",
   "metadata": {},
   "source": [
    "3) Accept any city from the user and display monuments of that city?"
   ]
  },
  {
   "cell_type": "code",
   "execution_count": 12,
   "id": "a2e70a73-3c05-4d97-b99f-c20010727775",
   "metadata": {},
   "outputs": [
    {
     "name": "stdin",
     "output_type": "stream",
     "text": [
      "Enter the name of a city to see its monuments:  Delhi\n"
     ]
    },
    {
     "name": "stdout",
     "output_type": "stream",
     "text": [
      "The monuments in Delhi are:\n",
      "- Red Fort\n"
     ]
    }
   ],
   "source": [
    "monuments = {\n",
    "    \"Delhi\": [\"Red Fort\"],\n",
    "    \"Agra\": [\"Taj Mahal\"],\n",
    "    \"Jaipur\": [\"Jai Mahal\"]\n",
    "}\n",
    "city = input(\"Enter the name of a city to see its monuments: \")\n",
    "\n",
    "# Check if the city exists in our list\n",
    "if city in monuments:\n",
    "    print(\"The monuments in\", city, \"are:\")\n",
    "    for monument in monuments[city]:\n",
    "        print(\"- \" + monument)\n",
    "else:\n",
    "    print(\"Sorry, we don't have information about the monuments in\", city)"
   ]
  },
  {
   "cell_type": "markdown",
   "id": "3563fa8d-c449-413d-9d84-8a11a7269aa1",
   "metadata": {},
   "source": [
    "4) check how many times a given number can be divided by 3 before it is less than or equal to 10"
   ]
  },
  {
   "cell_type": "code",
   "execution_count": 15,
   "id": "f9099b70-9858-4c42-89b4-41cf96af243b",
   "metadata": {},
   "outputs": [
    {
     "name": "stdin",
     "output_type": "stream",
     "text": [
      "please enter number 25\n"
     ]
    },
    {
     "name": "stdout",
     "output_type": "stream",
     "text": [
      "display the number of counts  1\n"
     ]
    }
   ],
   "source": [
    "n = int(input(\"please enter number\"))\n",
    "count = 0\n",
    "while n >10:\n",
    "    n /= 3\n",
    "    count +=1\n",
    "print(\"display the number of counts \", count)    \n",
    "    "
   ]
  },
  {
   "cell_type": "markdown",
   "id": "fa00084d-90cf-4058-b351-15c1d9afd336",
   "metadata": {},
   "source": [
    "5) why and when to use while loop in python give a detailed description with example "
   ]
  },
  {
   "cell_type": "markdown",
   "id": "f848d0b3-ee5e-43e5-b2ee-110182970573",
   "metadata": {},
   "source": [
    " A) A while loop is used to execute a block of code repeatedly as long as a certain condition is true and also a common use case for a while loop is to repeatedly execute a block of code until a certain condition"
   ]
  },
  {
   "cell_type": "code",
   "execution_count": null,
   "id": "c27b7eb0-2eee-41fe-8e3a-5ee4bec5af64",
   "metadata": {},
   "outputs": [],
   "source": [
    "while True:\n",
    "    a = input(\"enter a number: \")\n",
    "    if a.isdigit():\n",
    "        break\n",
    "    else:\n",
    "        print(\"invalid input\")\n",
    "        \n",
    "    "
   ]
  },
  {
   "cell_type": "code",
   "execution_count": null,
   "id": "83beb420-9fe9-4fbf-b3e8-15d4c44a888d",
   "metadata": {},
   "outputs": [],
   "source": [
    "6) use nested while loops to print 3 different patteren"
   ]
  },
  {
   "cell_type": "code",
   "execution_count": null,
   "id": "23e6f369-aa46-43c4-9d2f-5128b27e5db0",
   "metadata": {},
   "outputs": [],
   "source": [
    "i = 1\n",
    "while i <=5:\n",
    "    j =1\n",
    "    while j <= i:\n",
    "        print(\"*\", end = \"\")\n",
    "        j += 1\n",
    "    print()\n",
    "    i +=1"
   ]
  },
  {
   "cell_type": "code",
   "execution_count": null,
   "id": "fb8dc518-159c-4de7-a793-a48ea9f92342",
   "metadata": {},
   "outputs": [],
   "source": [
    "i = 5\n",
    "while i >=1:\n",
    "    j =1\n",
    "    while j <=i:\n",
    "        print(\"*\",end =\"\")\n",
    "        j +=1\n",
    "    print()\n",
    "    i -=1"
   ]
  },
  {
   "cell_type": "code",
   "execution_count": null,
   "id": "4449320c-d1a7-4ce4-9099-91c956ca4073",
   "metadata": {},
   "outputs": [],
   "source": [
    "i = 1\n",
    "while i <= 5:\n",
    "    j =1\n",
    "    while j <= 5-i:\n",
    "        print(\" \", end =\"\")\n",
    "        j +=1\n",
    "    k =1\n",
    "    while k <=i:\n",
    "        print(\"*\",end =\"\")\n",
    "        k +=1\n",
    "    print() \n",
    "    i +=1\n",
    "    "
   ]
  },
  {
   "cell_type": "markdown",
   "id": "f425db81-33a7-467f-a309-08a3f6902730",
   "metadata": {},
   "source": [
    "7) Reverse a while loop to display numbers from 10 to 1"
   ]
  },
  {
   "cell_type": "code",
   "execution_count": null,
   "id": "82c50a00-92e9-42f8-b746-03438ceff311",
   "metadata": {},
   "outputs": [],
   "source": [
    "count = 10\n",
    "while count>=1:\n",
    "    print(count)\n",
    "    count -=1\n",
    "    "
   ]
  },
  {
   "cell_type": "code",
   "execution_count": null,
   "id": "0212b326-ee5d-4045-bc2b-eda3c352f9cb",
   "metadata": {},
   "outputs": [],
   "source": []
  }
 ],
 "metadata": {
  "kernelspec": {
   "display_name": "Python 3 (ipykernel)",
   "language": "python",
   "name": "python3"
  },
  "language_info": {
   "codemirror_mode": {
    "name": "ipython",
    "version": 3
   },
   "file_extension": ".py",
   "mimetype": "text/x-python",
   "name": "python",
   "nbconvert_exporter": "python",
   "pygments_lexer": "ipython3",
   "version": "3.10.8"
  }
 },
 "nbformat": 4,
 "nbformat_minor": 5
}
