{
 "cells": [
  {
   "cell_type": "markdown",
   "id": "f943fe85-cc6a-458e-9414-31fa9dfc8a8d",
   "metadata": {},
   "source": [
    "1) Go to this given URL and solve the following questions\n",
    "URL: https://www.youtube.com/@PW-Foundation/videos\n",
    "Q1. Write a python program to extract the video URL of the first five videos."
   ]
  },
  {
   "cell_type": "code",
   "execution_count": 36,
   "id": "5f35a07b-67b1-4301-a654-b8f3fcfe0a5e",
   "metadata": {},
   "outputs": [],
   "source": [
    "import requests\n",
    "from bs4 import BeautifulSoup\n",
    "from urllib.request import urlopen\n",
    "import logging\n",
    "import os\n",
    "from pandas import DataFrame\n",
    "import json\n",
    "from json import loads"
   ]
  },
  {
   "cell_type": "code",
   "execution_count": null,
   "id": "a13dcc2f-909b-46d4-823d-bec54ec4e3bb",
   "metadata": {},
   "outputs": [],
   "source": []
  },
  {
   "cell_type": "code",
   "execution_count": 37,
   "id": "9ba5593d-6d7f-4762-9ac4-120a845bd975",
   "metadata": {},
   "outputs": [],
   "source": [
    "url = \"https://www.youtube.com/@PW-Foundation/videos\""
   ]
  },
  {
   "cell_type": "code",
   "execution_count": 38,
   "id": "af8e7191-d76f-46a4-aee4-d39b80f15860",
   "metadata": {},
   "outputs": [],
   "source": [
    "response = requests.get(url)"
   ]
  },
  {
   "cell_type": "code",
   "execution_count": 39,
   "id": "2abc820f-bb24-407c-b88c-454f0c12ff1c",
   "metadata": {},
   "outputs": [
    {
     "data": {
      "text/plain": [
       "<Response [200]>"
      ]
     },
     "execution_count": 39,
     "metadata": {},
     "output_type": "execute_result"
    }
   ],
   "source": [
    "response"
   ]
  },
  {
   "cell_type": "code",
   "execution_count": 40,
   "id": "5af39cc0-c92d-4900-872b-2c209c096ed6",
   "metadata": {},
   "outputs": [],
   "source": [
    "soup = BeautifulSoup(response.text, \"html.parser\")"
   ]
  },
  {
   "cell_type": "code",
   "execution_count": 41,
   "id": "4337d3cf-8663-48c3-8a9e-0405b943d4f3",
   "metadata": {},
   "outputs": [],
   "source": [
    "all_script_tags = soup.findAll(\"script\")"
   ]
  },
  {
   "cell_type": "code",
   "execution_count": 42,
   "id": "daa78f05-7a0e-47d8-bdb1-91d967a6b000",
   "metadata": {},
   "outputs": [],
   "source": [
    "def script_tag_to_json(tags: list) -> dict:\n",
    "    for tag in reversed(tags):\n",
    "        text: str = tag.text\n",
    "        if 'ytInitialData = {\"responseContext\"' in text:\n",
    "            return json.loads(text[20:-1])\n",
    "    \n",
    "    raise ValueError(\"Required script tag not found in the given tags.\")"
   ]
  },
  {
   "cell_type": "code",
   "execution_count": 43,
   "id": "e1ba34ea-43cd-4dc3-ba7b-7d74cc3b4e66",
   "metadata": {},
   "outputs": [],
   "source": [
    "data = script_tag_to_json(all_script_tags)"
   ]
  },
  {
   "cell_type": "code",
   "execution_count": 44,
   "id": "e698edd3-e6e3-438e-8b7e-2d4e99b9d5a0",
   "metadata": {},
   "outputs": [],
   "source": [
    "def get_contents_dict(data):\n",
    "    return data['contents']['twoColumnBrowseResultsRenderer']['tabs'][1]['tabRenderer']['content']['richGridRenderer']['contents']"
   ]
  },
  {
   "cell_type": "markdown",
   "id": "1640516a-c7c0-4dc3-9194-74509863343c",
   "metadata": {},
   "source": [
    "1) Write a python program to extract the video URL of the first five videos"
   ]
  },
  {
   "cell_type": "code",
   "execution_count": 45,
   "id": "d1de75cf-4bfd-42c7-8a02-38e93cb63772",
   "metadata": {},
   "outputs": [],
   "source": [
    " def get_videoUrl(data: dict, n: int = 5):\n",
    "    contents = get_contents_dict(data)\n",
    "    \n",
    "    if n > 30:\n",
    "        raise ValueError(\"Max limit is 30.\")\n",
    "        \n",
    "    result = []\n",
    "    for i in range(n):\n",
    "        video_id = contents[i]['richItemRenderer']['content']['videoRenderer']['videoId']\n",
    "        result.append(\"https://www.youtube.com/watch?v=\" + video_id)\n",
    "        \n",
    "    return result\n",
    "\n"
   ]
  },
  {
   "cell_type": "code",
   "execution_count": 46,
   "id": "e571ae63-71b5-48dd-b2f5-16a3e723248d",
   "metadata": {},
   "outputs": [
    {
     "data": {
      "text/plain": [
       "['https://www.youtube.com/watch?v=PI1obes98Zc',\n",
       " 'https://www.youtube.com/watch?v=16fUsD0M1-I',\n",
       " 'https://www.youtube.com/watch?v=S0RySN5arvk',\n",
       " 'https://www.youtube.com/watch?v=HzBhwxMrt8A',\n",
       " 'https://www.youtube.com/watch?v=60_B3haKADw']"
      ]
     },
     "execution_count": 46,
     "metadata": {},
     "output_type": "execute_result"
    }
   ],
   "source": [
    "get_videoUrl(data)"
   ]
  },
  {
   "cell_type": "markdown",
   "id": "31da371d-a8e0-4c53-b070-e720bdea8503",
   "metadata": {},
   "source": [
    "2) Write a python program to extract the URL of the video thumbnails of the first five videos."
   ]
  },
  {
   "cell_type": "code",
   "execution_count": 47,
   "id": "511bdf61-49e6-4d7e-a2bc-37dce65e8a3e",
   "metadata": {},
   "outputs": [],
   "source": [
    "def get_thumbnails(data: dict, n: int = 5):\n",
    "    contents = get_contents_dict(data)\n",
    "    \n",
    "    if n > 30:\n",
    "        raise ValueError(\"Max limit is 30.\")\n",
    "    \n",
    "    result = []\n",
    "    for i in range(n):\n",
    "        thumbnail_url = contents[i]['richItemRenderer']['content']['videoRenderer']['thumbnail']['thumbnails'][-1]['url']\n",
    "        result.append(thumbnail_url)\n",
    "        \n",
    "    return result\n"
   ]
  },
  {
   "cell_type": "code",
   "execution_count": 48,
   "id": "6b48f09a-da1b-492d-914f-a2fbc62fc30c",
   "metadata": {},
   "outputs": [
    {
     "data": {
      "text/plain": [
       "['https://i.ytimg.com/vi/PI1obes98Zc/hqdefault.jpg?sqp=-oaymwEjCNACELwBSFryq4qpAxUIARUAAAAAGAElAADIQj0AgKJDeAE=&rs=AOn4CLCmDshrYrFfclOymZmlDi79xYzKMA',\n",
       " 'https://i.ytimg.com/vi/16fUsD0M1-I/hqdefault.jpg?sqp=-oaymwEjCNACELwBSFryq4qpAxUIARUAAAAAGAElAADIQj0AgKJDeAE=&rs=AOn4CLDSdB3RrY_91M4wFdU8WorfjHTrGA',\n",
       " 'https://i.ytimg.com/vi/S0RySN5arvk/hqdefault.jpg?sqp=-oaymwEjCNACELwBSFryq4qpAxUIARUAAAAAGAElAADIQj0AgKJDeAE=&rs=AOn4CLAMklN-udq5wIHmAyDjx4yd4HxvGg',\n",
       " 'https://i.ytimg.com/vi/HzBhwxMrt8A/hqdefault.jpg?sqp=-oaymwEjCNACELwBSFryq4qpAxUIARUAAAAAGAElAADIQj0AgKJDeAE=&rs=AOn4CLDhGQyUAc5A_0sapaGDI_uDE_GNrg',\n",
       " 'https://i.ytimg.com/vi/60_B3haKADw/hqdefault.jpg?sqp=-oaymwEjCNACELwBSFryq4qpAxUIARUAAAAAGAElAADIQj0AgKJDeAE=&rs=AOn4CLCz1LFTtDzJooWDMArb4Qfh74PC_w']"
      ]
     },
     "execution_count": 48,
     "metadata": {},
     "output_type": "execute_result"
    }
   ],
   "source": [
    "get_thumbnails(data)"
   ]
  },
  {
   "cell_type": "markdown",
   "id": "d9eb7fdc-f4e2-4a95-8405-df87c913a698",
   "metadata": {},
   "source": [
    "3) Write a python program to extract the title of the first five videos."
   ]
  },
  {
   "cell_type": "code",
   "execution_count": 49,
   "id": "902fc94d-39ca-472d-99ef-d0fc66b335d5",
   "metadata": {},
   "outputs": [],
   "source": [
    "def get_title(data : dict, n : int = 5):\n",
    "    contents = get_contents_dict(data)\n",
    "    if n >30:\n",
    "        raise ValueError(\"Max limit is 30.\")\n",
    "    result = []\n",
    "    for i in range(5):\n",
    "        video_title = contents[i]['richItemRenderer']['content']['videoRenderer']['title']['runs'][-1]['text']\n",
    "        result.append(video_title)\n",
    "    return result          "
   ]
  },
  {
   "cell_type": "code",
   "execution_count": 50,
   "id": "3a02fe27-8edd-4e1b-80ca-ce51cc4f63ac",
   "metadata": {},
   "outputs": [
    {
     "data": {
      "text/plain": [
       "['How to score 95%+ in class 10th? Complete year Powerful Strategy!!',\n",
       " 'Last 4 Days Left For SST Exam || How To Manage to Score 80/80 in Boards || Class-10th',\n",
       " 'Benefits of Choosing Commerce After 10th | Commerce क्यों लेना चाहिए? | CBSE | ICSE | State Boards',\n",
       " 'Complete 𝗖𝗔𝗥𝗕𝗢𝗡 𝗔𝗡𝗗 𝗜𝗧𝗦 𝗖𝗢𝗠𝗣𝗢𝗨𝗡𝗗𝗦 in 90 Minutes | Class 10th Board Exam',\n",
       " 'Complete 𝗠𝗘𝗧𝗔𝗟𝗦 & 𝗡𝗢𝗡 𝗠𝗘𝗧𝗔𝗟𝗦  in 120 Minutes | Class 10th Board Exam']"
      ]
     },
     "execution_count": 50,
     "metadata": {},
     "output_type": "execute_result"
    }
   ],
   "source": [
    "get_title(data)"
   ]
  },
  {
   "cell_type": "markdown",
   "id": "8a912236-94b1-47c2-9039-32d24abf406f",
   "metadata": {},
   "source": [
    "4) Write a python program to extract the number of views of the first five videos."
   ]
  },
  {
   "cell_type": "code",
   "execution_count": 51,
   "id": "8f29332f-dddc-42b6-8b85-abe837fc1bda",
   "metadata": {},
   "outputs": [],
   "source": [
    "def get_views(data:dict,n:int = 5):\n",
    "    contents = get_contents_dict(data)\n",
    "    if n > 30:\n",
    "        raise ValueError(\"Max limit is 30.\")\n",
    "    result = []\n",
    "    for i in range(n):\n",
    "        video_views = contents[i]['richItemRenderer']['content']['videoRenderer']['viewCountText']['simpleText'][:-6].replace(\",\",\"\")\n",
    "        result.append(video_views)\n",
    "    return result    \n",
    "        "
   ]
  },
  {
   "cell_type": "code",
   "execution_count": 52,
   "id": "a3d927d4-045f-4244-8293-afbe86c4452f",
   "metadata": {},
   "outputs": [
    {
     "data": {
      "text/plain": [
       "['174210', '68246', '28078', '42207', '23084']"
      ]
     },
     "execution_count": 52,
     "metadata": {},
     "output_type": "execute_result"
    }
   ],
   "source": [
    "get_views(data)"
   ]
  },
  {
   "cell_type": "markdown",
   "id": "dc6e6828-93a0-4d59-9be8-859229062895",
   "metadata": {},
   "source": [
    "5) Write a python program to extract the time of posting of video for the first five videos."
   ]
  },
  {
   "cell_type": "code",
   "execution_count": 53,
   "id": "a19a1b86-f0e9-4582-942c-c3ba3dcd7f44",
   "metadata": {},
   "outputs": [],
   "source": [
    "def get_time_of_posting(data:dict,n:int = 5):\n",
    "    contents = get_contents_dict(data)\n",
    "    if n > 30:\n",
    "        raise ValueError(\"Max limit is 30.\")\n",
    "    result = []\n",
    "    for i in range(n):\n",
    "        video_time_of_posting = contents[i]['richItemRenderer']['content']['videoRenderer']['publishedTimeText']['simpleText']\n",
    "        result.append(video_time_of_posting)\n",
    "    return result   "
   ]
  },
  {
   "cell_type": "code",
   "execution_count": 54,
   "id": "3c4bd33e-c26f-4af0-87a1-d6f79c87219d",
   "metadata": {},
   "outputs": [
    {
     "data": {
      "text/plain": [
       "['9 days ago', '9 days ago', '13 days ago', '2 weeks ago', '2 weeks ago']"
      ]
     },
     "execution_count": 54,
     "metadata": {},
     "output_type": "execute_result"
    }
   ],
   "source": [
    "get_time_of_posting(data)"
   ]
  },
  {
   "cell_type": "markdown",
   "id": "b18a2bf1-8eac-4d9b-9d6b-190063d31728",
   "metadata": {},
   "source": [
    "Note: Save all the data scraped in the above questions in a CSV file."
   ]
  },
  {
   "cell_type": "code",
   "execution_count": 55,
   "id": "91734f08-2854-487e-83a0-459f06384a72",
   "metadata": {},
   "outputs": [],
   "source": [
    "def get_channel_video_details(data: dict, n: int):\n",
    "    \n",
    "    titles = get_title(data, n)\n",
    "    time_of_posting = get_time_of_posting(data, n)\n",
    "    views = get_views(data, n)\n",
    "    video_urls = get_videoUrl(data, n)\n",
    "    thumbnails = get_thumbnails(data, n)\n",
    "    \n",
    "    main_data = list(zip(titles, time_of_posting, views, video_urls, thumbnails))\n",
    "    \n",
    "    df = DataFrame.from_dict(main_data)\n",
    "    df.rename(\n",
    "        columns={\n",
    "            0: 'title',\n",
    "            1: 'time_of_posting',\n",
    "            2: 'views',\n",
    "            3: 'video_urls',\n",
    "            4: 'thumbnail_url'\n",
    "        }, inplace=True)\n",
    "\n",
    "    return df"
   ]
  },
  {
   "cell_type": "code",
   "execution_count": 56,
   "id": "1868f296-f7a6-4f89-a591-cb9a9dc3623d",
   "metadata": {},
   "outputs": [],
   "source": [
    "channel_data = get_channel_video_details(data, 10)"
   ]
  },
  {
   "cell_type": "code",
   "execution_count": 57,
   "id": "a22e8782-ea87-4834-93f0-0149f6c70f25",
   "metadata": {},
   "outputs": [],
   "source": [
    "channel_data.to_csv('PW-Foundation-Video-Details.csv', index=False)"
   ]
  },
  {
   "cell_type": "code",
   "execution_count": null,
   "id": "04b622f2-1e43-4e3b-a32f-964d93ec40bc",
   "metadata": {},
   "outputs": [],
   "source": []
  }
 ],
 "metadata": {
  "kernelspec": {
   "display_name": "Python 3 (ipykernel)",
   "language": "python",
   "name": "python3"
  },
  "language_info": {
   "codemirror_mode": {
    "name": "ipython",
    "version": 3
   },
   "file_extension": ".py",
   "mimetype": "text/x-python",
   "name": "python",
   "nbconvert_exporter": "python",
   "pygments_lexer": "ipython3",
   "version": "3.10.8"
  }
 },
 "nbformat": 4,
 "nbformat_minor": 5
}
