{
 "cells": [
  {
   "cell_type": "markdown",
   "id": "7a6243dc-fea7-4e2f-8692-ee6791bce6ee",
   "metadata": {},
   "source": [
    "1) What is Bayes' theorem?"
   ]
  },
  {
   "cell_type": "markdown",
   "id": "a54fe1de-d318-4e57-a0e4-5cf55d084f03",
   "metadata": {},
   "source": [
    "Bayes' theorem is a fundamental concept in probability theory that describes the probability of an event, based on prior knowledge of conditions that might be related to the event. It is named after the Reverend Thomas Bayes, an 18th-century British statistician and theologian.\n",
    "\n",
    "In mathematical terms, Bayes' theorem states that the probability of an event A occurring, given that event B has occurred, is equal to the probability of event B occurring, given that event A has occurred, multiplied by the prior probability of event A occurring, divided by the prior probability of event B occurring:\n",
    "\n",
    "P(A | B) = P(B | A) * P(A) / P(B)\n",
    "\n",
    "where P(A | B) is the conditional probability of event A given event B, P(B | A) is the conditional probability of event B given event A, P(A) is the prior probability of event A, and P(B) is the prior probability of event B.\n",
    "\n",
    "Bayes' theorem is widely used in statistics, machine learning, and other fields to make predictions and update beliefs based on new evidence"
   ]
  },
  {
   "cell_type": "markdown",
   "id": "54cd6031-2a97-48e4-bfd6-71b6cff2ebb7",
   "metadata": {},
   "source": [
    "2) What is the formula for Bayes' theorem?"
   ]
  },
  {
   "cell_type": "markdown",
   "id": "36c1d019-664d-4f8d-9763-5338506490f4",
   "metadata": {},
   "source": [
    "The formula for Bayes' theorem is:\n",
    "\n",
    "P(A|B) = P(B|A) * P(A) / P(B)\n",
    "\n",
    "where:\n",
    "\n",
    "P(A|B) is the probability of event A occurring given that event B has occurred (the posterior probability).\n",
    "P(B|A) is the probability of event B occurring given that event A has occurred (the likelihood).\n",
    "P(A) is the prior probability of event A occurring.\n",
    "P(B) is the prior probability of event B occurring.\n",
    "Bayes' theorem allows us to update our prior beliefs about the probability of an event occurring based on new evidence. The posterior probability P(A|B) is a revised estimate of the probability of A occurring, taking into account the observed evidence B"
   ]
  },
  {
   "cell_type": "markdown",
   "id": "4118d108-bab9-4242-ac1b-8f2ad5fabbdd",
   "metadata": {},
   "source": [
    "3) How is Bayes' theorem used in practice?"
   ]
  },
  {
   "cell_type": "markdown",
   "id": "94ee1fb7-85ea-4093-9ee1-8299fd5c03d6",
   "metadata": {},
   "source": [
    "Bayes' theorem has numerous practical applications in various fields such as statistics, machine learning, economics, and medical diagnosis, among others. Here are a few examples of how Bayes' theorem is used in practice:\n",
    "\n",
    "1) Medical diagnosis: Bayes' theorem is used in medical diagnosis to calculate the probability of a patient having a disease given a positive test result. For example, if a patient tests positive for a disease, the physician can use Bayes' theorem to calculate the probability of the patient actually having the disease based on the prevalence of the disease in the population, the sensitivity and specificity of the test, and other relevant factors.\n",
    "\n",
    "2) Spam filtering: Bayes' theorem is used in spam filtering to classify emails as spam or not spam. The algorithm uses Bayesian statistics to calculate the probability of an email being spam or not spam based on various features such as the presence of certain keywords or the sender's email address.\n",
    "\n",
    "3) Stock market prediction: Bayes' theorem can be used to predict stock prices based on past data and market trends. By incorporating new data and updating the prior probabilities, Bayes' theorem can provide more accurate predictions than traditional statistical models.\n",
    "\n",
    "4) Risk assessment: Bayes' theorem is used in risk assessment to estimate the probability of an adverse event occurring, given certain conditions or factors. For example, in insurance underwriting, Bayes' theorem can be used to calculate the probability of a policyholder filing a claim based on their age, occupation, health status, and other relevant factors.\n",
    "\n",
    "These are just a few examples of how Bayes' theorem is used in practice. Its applications are numerous and diverse, making it an essential tool for making predictions and updating beliefs based on new evidence"
   ]
  },
  {
   "cell_type": "markdown",
   "id": "1c852cd2-1434-4236-9387-54d2bd7143a4",
   "metadata": {},
   "source": [
    "4) What is the relationship between Bayes' theorem and conditional probability?"
   ]
  },
  {
   "cell_type": "markdown",
   "id": "423ee689-036d-4d40-9bd5-c51165ce95eb",
   "metadata": {},
   "source": [
    "Bayes' theorem and conditional probability are closely related concepts in probability theory. In fact, Bayes' theorem is a way to calculate conditional probabilities.\n",
    "\n",
    "Conditional probability is the probability of an event A occurring given that event B has occurred. It is denoted as P(A|B) and is calculated as:\n",
    "\n",
    "P(A|B) = P(A and B) / P(B)\n",
    "\n",
    "where P(A and B) is the probability of both events A and B occurring, and P(B) is the probability of event B occurring.\n",
    "\n",
    "Bayes' theorem, on the other hand, allows us to calculate the probability of an event A occurring given that event B has occurred, based on prior probabilities and the likelihood of observing event B given event A. It is expressed as:\n",
    "\n",
    "P(A|B) = P(B|A) * P(A) / P(B)\n",
    "\n",
    "where P(A|B) is the conditional probability of event A given event B, P(B|A) is the conditional probability of event B given event A, P(A) is the prior probability of event A, and P(B) is the prior probability of event B.\n",
    "\n",
    "Therefore, Bayes' theorem and conditional probability are related in that Bayes' theorem provides a way to calculate the conditional probability of an event A given event B, based on prior probabilities and the likelihood of observing event B given event A"
   ]
  },
  {
   "cell_type": "markdown",
   "id": "f25c11fd-bb48-4acc-b1fb-8599e10270f7",
   "metadata": {},
   "source": [
    "5) How do you choose which type of Naive Bayes classifier to use for any given problem?"
   ]
  },
  {
   "cell_type": "markdown",
   "id": "80dd893f-2e88-4eaf-acf3-c414d575fc7d",
   "metadata": {},
   "source": [
    "Choosing the right type of Naive Bayes classifier depends on several factors such as the nature of the data, the number of features, and the size of the dataset. Here are some guidelines to help you choose the appropriate type of Naive Bayes classifier for your problem:\n",
    "\n",
    "1) Gaussian Naive Bayes: This classifier is suitable for continuous data that follow a normal distribution. If the features in your dataset are continuous variables, Gaussian Naive Bayes may be a good choice.\n",
    "\n",
    "2) Multinomial Naive Bayes: This classifier is suitable for discrete data such as text data or word counts. If your dataset consists of text data or word counts, Multinomial Naive Bayes may be a good choice.\n",
    "\n",
    "3) Bernoulli Naive Bayes: This classifier is similar to Multinomial Naive Bayes but is suitable for binary or boolean features. If your dataset consists of binary or boolean features, Bernoulli Naive Bayes may be a good choice.\n",
    "\n",
    "In addition to the above guidelines, it's also important to consider the size of the dataset and the number of features. If the dataset is small, the use of a complex model such as Gaussian Naive Bayes may lead to overfitting. In such cases, simpler models like Bernoulli or Multinomial Naive Bayes may be more appropriate.\n",
    "\n",
    "Ultimately, the choice of Naive Bayes classifier depends on the specific characteristics of your data and the problem you are trying to solve. It's a good idea to experiment with different classifiers and evaluate their performance using appropriate metrics to determine which one works best for your problem"
   ]
  },
  {
   "cell_type": "markdown",
   "id": "00acba4e-7f52-4aff-ad08-a58583107420",
   "metadata": {},
   "source": [
    "6) You have a dataset with two features, X1 and X2, and two possible classes, A and B. You want to use Naive\n",
    "Bayes to classify a new instance with features X1 = 3 and X2 = 4. The following table shows the frequency of\n",
    "each feature value for each class:\n",
    "Class X1=1 X1=2 X1=3 X2=1 X2=2 X2=3 X2=4\n",
    "A 3 3 4 4 3 3 3\n",
    "B 2 2 1 2 2 2 3\n",
    "Assuming equal prior probabilities for each class, which class would Naive Bayes predict the new instance\n",
    "to belong to?"
   ]
  },
  {
   "cell_type": "code",
   "execution_count": 10,
   "id": "7bb5d8bf-ab17-4bc2-8776-b29bd3388b1d",
   "metadata": {},
   "outputs": [
    {
     "data": {
      "text/html": [
       "<div>\n",
       "<style scoped>\n",
       "    .dataframe tbody tr th:only-of-type {\n",
       "        vertical-align: middle;\n",
       "    }\n",
       "\n",
       "    .dataframe tbody tr th {\n",
       "        vertical-align: top;\n",
       "    }\n",
       "\n",
       "    .dataframe thead th {\n",
       "        text-align: right;\n",
       "    }\n",
       "</style>\n",
       "<table border=\"1\" class=\"dataframe\">\n",
       "  <thead>\n",
       "    <tr style=\"text-align: right;\">\n",
       "      <th></th>\n",
       "      <th>X1=1</th>\n",
       "      <th>X1=2</th>\n",
       "      <th>X1=3</th>\n",
       "      <th>X2=1</th>\n",
       "      <th>X2=2</th>\n",
       "      <th>X2=3</th>\n",
       "      <th>X2=4</th>\n",
       "    </tr>\n",
       "  </thead>\n",
       "  <tbody>\n",
       "    <tr>\n",
       "      <th>A</th>\n",
       "      <td>3</td>\n",
       "      <td>3</td>\n",
       "      <td>4</td>\n",
       "      <td>4</td>\n",
       "      <td>3</td>\n",
       "      <td>3</td>\n",
       "      <td>3</td>\n",
       "    </tr>\n",
       "    <tr>\n",
       "      <th>B</th>\n",
       "      <td>2</td>\n",
       "      <td>2</td>\n",
       "      <td>1</td>\n",
       "      <td>2</td>\n",
       "      <td>2</td>\n",
       "      <td>2</td>\n",
       "      <td>3</td>\n",
       "    </tr>\n",
       "  </tbody>\n",
       "</table>\n",
       "</div>"
      ],
      "text/plain": [
       "   X1=1  X1=2  X1=3  X2=1  X2=2  X2=3  X2=4\n",
       "A     3     3     4     4     3     3     3\n",
       "B     2     2     1     2     2     2     3"
      ]
     },
     "execution_count": 10,
     "metadata": {},
     "output_type": "execute_result"
    }
   ],
   "source": [
    "import pandas as pd\n",
    "data={'X1=1': [3, 2], 'X1=2': [3, 2], 'X1=3': [4, 1], \n",
    "        'X2=1': [4, 2], 'X2=2': [3, 2], 'X2=3': [3, 2], 'X2=4': [3, 3]}\n",
    "df=pd.DataFrame(data,index=['A','B'])\n",
    "\n",
    "df"
   ]
  },
  {
   "cell_type": "code",
   "execution_count": 11,
   "id": "33a8ee9c-3a4d-4425-b59b-a06c6bf0cee1",
   "metadata": {},
   "outputs": [],
   "source": [
    "X1_new = 3\n",
    "X2_new = 4"
   ]
  },
  {
   "cell_type": "code",
   "execution_count": 12,
   "id": "11855e8c-8bf1-4599-a823-30e366529819",
   "metadata": {},
   "outputs": [],
   "source": [
    "P_X1_3_A = df.loc['A', 'X1=3'] / df.loc['A'].sum()\n",
    "P_X1_3_B = df.loc['B', 'X1=3'] / df.loc['B'].sum()\n",
    "P_X2_4_A = df.loc['A', 'X2=4'] / df.loc['A'].sum()\n",
    "P_X2_4_B = df.loc['B', 'X2=4'] / df.loc['B'].sum()"
   ]
  },
  {
   "cell_type": "code",
   "execution_count": 13,
   "id": "8e03d4dc-3266-476b-97f5-9f2fe8448d29",
   "metadata": {},
   "outputs": [],
   "source": [
    "P_A = P_X1_3_A * P_X2_4_A\n",
    "P_B = P_X1_3_B * P_X2_4_B"
   ]
  },
  {
   "cell_type": "code",
   "execution_count": 14,
   "id": "e188771b-879e-44d4-8441-3d2949f129c6",
   "metadata": {},
   "outputs": [
    {
     "name": "stdout",
     "output_type": "stream",
     "text": [
      "The predicted class for the new instance is A.\n"
     ]
    }
   ],
   "source": [
    "if P_A > P_B:\n",
    "    print(\"The predicted class for the new instance is A.\")\n",
    "else:\n",
    "    print(\"The predicted class for the new instance is B.\")"
   ]
  },
  {
   "cell_type": "code",
   "execution_count": null,
   "id": "95a5e61c-47f8-469b-9fdc-ab65c7db494c",
   "metadata": {},
   "outputs": [],
   "source": []
  }
 ],
 "metadata": {
  "kernelspec": {
   "display_name": "Python 3 (ipykernel)",
   "language": "python",
   "name": "python3"
  },
  "language_info": {
   "codemirror_mode": {
    "name": "ipython",
    "version": 3
   },
   "file_extension": ".py",
   "mimetype": "text/x-python",
   "name": "python",
   "nbconvert_exporter": "python",
   "pygments_lexer": "ipython3",
   "version": "3.10.8"
  }
 },
 "nbformat": 4,
 "nbformat_minor": 5
}
