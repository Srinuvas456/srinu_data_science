{
 "cells": [
  {
   "cell_type": "markdown",
   "id": "8956eaef-770e-4dd3-b22c-a31290f88a36",
   "metadata": {},
   "source": [
    "1)Who developed Python Programming Language?"
   ]
  },
  {
   "cell_type": "markdown",
   "id": "eff1ca28-ad19-40bf-aaae-4d938c37f707",
   "metadata": {},
   "source": [
    "A)Guido van Rossum"
   ]
  },
  {
   "cell_type": "markdown",
   "id": "c01ec5c3-537f-4385-a1bb-d590250896fe",
   "metadata": {},
   "source": [
    "2) Which type of Programming does Python support?"
   ]
  },
  {
   "cell_type": "markdown",
   "id": "a5d24f1d-e20c-4392-9a28-8aad4ed11149",
   "metadata": {},
   "source": [
    "A)it is a high language, interpreted programming language it supports several programming paradigms such as object-oriented language"
   ]
  },
  {
   "cell_type": "markdown",
   "id": "f1637236-fbdd-4cff-98a1-b125fae64923",
   "metadata": {},
   "source": [
    "3) Is python case sensitive when dealing with identifiers?"
   ]
  },
  {
   "cell_type": "markdown",
   "id": "953e9374-c426-43e1-9865-2c1aaf7a6b4d",
   "metadata": {},
   "source": [
    "A) yes, python is a case sensitive dealing with identifiers: it means lower case keyword lower case we written means it write run otherwise it will give error "
   ]
  },
  {
   "cell_type": "markdown",
   "id": "b95c7ade-8c67-48d6-90e9-20858b0e7164",
   "metadata": {},
   "source": [
    "4)What is the correct extension of the python file?"
   ]
  },
  {
   "cell_type": "markdown",
   "id": "ea017063-87e5-412b-b1d0-a8eacdd4bc51",
   "metadata": {},
   "source": [
    ".py is a most used for extension of python"
   ]
  },
  {
   "cell_type": "markdown",
   "id": "2a83198f-e3ab-4311-8a6a-eb15c1e6c49c",
   "metadata": {},
   "source": [
    "5)Is python code compiled or interpreted?"
   ]
  },
  {
   "cell_type": "markdown",
   "id": "219e4533-1fa3-4e08-b02b-c5d85298cbd1",
   "metadata": {},
   "source": [
    "A) it is ainterpreted : it means the source code of a programm converted into bytes and then executed"
   ]
  },
  {
   "cell_type": "markdown",
   "id": "e09b155a-f07f-4200-aaee-bbf886faa11d",
   "metadata": {},
   "source": [
    "6) Name a few blocks of code used to define in python language?"
   ]
  },
  {
   "cell_type": "markdown",
   "id": "58db6f18-f314-48d5-b32c-5e8931974832",
   "metadata": {},
   "source": [
    "A) if, for, while,def, class,try with"
   ]
  },
  {
   "cell_type": "markdown",
   "id": "6e3938ca-6560-469a-bfc5-f8f287a790c7",
   "metadata": {},
   "source": [
    "7) State a character used to give single-line comments in python?"
   ]
  },
  {
   "cell_type": "markdown",
   "id": "6b382ebc-ee50-47fb-814a-927f8c921f4b",
   "metadata": {},
   "source": [
    "# it is used for single -line comment"
   ]
  },
  {
   "cell_type": "markdown",
   "id": "973b6c1c-9b08-416f-837d-f47a6b7f0419",
   "metadata": {},
   "source": [
    "8) Mention functions which can help us to find the version of python that we are currently working on?"
   ]
  },
  {
   "cell_type": "markdown",
   "id": "a53b5a11-d9c8-4e20-a375-b6aa63da7706",
   "metadata": {},
   "source": [
    "A) sys.version"
   ]
  },
  {
   "cell_type": "markdown",
   "id": "98fdbf28-7e9f-4f71-9f7b-a7a0f782f1eb",
   "metadata": {},
   "source": [
    "9) python supports the creation of anonymous functions at runtime, usinga construct called"
   ]
  },
  {
   "cell_type": "markdown",
   "id": "f01fedfd-bbc9-40b1-8d0a-fb4b69ec0b6b",
   "metadata": {},
   "source": [
    "A) yes , ex:lambda"
   ]
  },
  {
   "cell_type": "markdown",
   "id": "9501bbde-26c4-42a3-ab12-0cfc7ee16527",
   "metadata": {},
   "source": [
    "10) what does pip stand for python?"
   ]
  },
  {
   "cell_type": "markdown",
   "id": "6a720596-93c0-4a43-9035-2ce35be76a62",
   "metadata": {},
   "source": [
    "it stands for Pip install Packages"
   ]
  },
  {
   "cell_type": "markdown",
   "id": "d30aa43d-ece4-40c2-a970-cd54bc7fd938",
   "metadata": {},
   "source": [
    "11) Mention a few built - in functions in python?"
   ]
  },
  {
   "cell_type": "markdown",
   "id": "5855c24f-7353-4a7e-9a53-f0e6133d8c73",
   "metadata": {},
   "source": [
    "A) print(),type(),len(),range(),int(),float(),str(),set()"
   ]
  },
  {
   "cell_type": "markdown",
   "id": "b336ea16-2b2a-46ae-a812-4bf9c845d57d",
   "metadata": {},
   "source": [
    "12) What is the maximum possible length of an identifier in python?"
   ]
  },
  {
   "cell_type": "markdown",
   "id": "da08bc5b-e933-42a0-ae35-6c262f8ca013",
   "metadata": {},
   "source": [
    "A)79 characters"
   ]
  },
  {
   "cell_type": "markdown",
   "id": "df965ea8-ef71-41d4-afc1-783cadec4f05",
   "metadata": {},
   "source": [
    "13) what are the benefits of using python?"
   ]
  },
  {
   "cell_type": "markdown",
   "id": "83941ae1-ba34-4970-9cae-da3b7bccedfe",
   "metadata": {},
   "source": [
    "A) Easy to learn, versatile, large community support, readble, jobs"
   ]
  },
  {
   "cell_type": "markdown",
   "id": "c072d84d-1bc2-41b9-805b-6df814f208da",
   "metadata": {},
   "source": [
    "14) How is memory managed in python?"
   ]
  },
  {
   "cell_type": "markdown",
   "id": "49475c98-5e23-4491-bb2f-87a170b2931f",
   "metadata": {},
   "source": [
    "A) memory managed by handaled automatically in object memory is allocated to heap"
   ]
  },
  {
   "cell_type": "markdown",
   "id": "d5ebdffa-10b4-457d-b117-9726fbc1aa6d",
   "metadata": {},
   "source": [
    "15) How to install python on windows and set path variables?"
   ]
  },
  {
   "cell_type": "markdown",
   "id": "88598627-621f-4aa5-aa02-d1193d888d8b",
   "metadata": {},
   "source": [
    "A) go to python installer and download"
   ]
  },
  {
   "cell_type": "markdown",
   "id": "d78ec9d7-dcba-4f73-8821-cf94ea77df1c",
   "metadata": {},
   "source": [
    "16) Is identation required inpython?"
   ]
  },
  {
   "cell_type": "markdown",
   "id": "bbf02709-9570-493e-a374-aa6daef2f9a3",
   "metadata": {},
   "source": [
    "A) "
   ]
  }
 ],
 "metadata": {
  "kernelspec": {
   "display_name": "Python 3 (ipykernel)",
   "language": "python",
   "name": "python3"
  },
  "language_info": {
   "codemirror_mode": {
    "name": "ipython",
    "version": 3
   },
   "file_extension": ".py",
   "mimetype": "text/x-python",
   "name": "python",
   "nbconvert_exporter": "python",
   "pygments_lexer": "ipython3",
   "version": "3.10.8"
  }
 },
 "nbformat": 4,
 "nbformat_minor": 5
}
