{
 "cells": [
  {
   "cell_type": "markdown",
   "id": "51935863-7787-46ee-9bfa-1e677634717d",
   "metadata": {},
   "source": [
    "1) Pearson correlation coefficient is a measure of the linear relationship between two variables. Suppose\n",
    "you have collected data on the amount of time students spend studying for an exam and their final exam\n",
    "scores. Calculate the Pearson correlation coefficient between these two variables and interpret the result."
   ]
  },
  {
   "cell_type": "markdown",
   "id": "26c0ff70-1937-465a-aa35-89476ddb8499",
   "metadata": {},
   "source": [
    "To calculate the Pearson correlation coefficient between the amount of time students spend studying for an exam and their final exam scores, you will need to first calculate the covariance and standard deviation of both variables.\n",
    "\n",
    "Let X be the variable representing the amount of time spent studying and Y be the variable representing the final exam scores. Let n be the sample size.\n",
    "\n",
    "1) Calculate the mean of X (x̄) and Y (ȳ):\n",
    "\n",
    "x̄ = (sum of all values of X) / n\n",
    "\n",
    "ȳ = (sum of all values of Y) / n\n",
    "\n",
    "2) Calculate the standard deviation of X (sx) and Y (sy):\n",
    "\n",
    "sx = sqrt((sum of (X - x̄)^2) / (n - 1))\n",
    "\n",
    "sy = sqrt((sum of (Y - ȳ)^2) / (n - 1))\n",
    "\n",
    "3) Calculate the covariance of X and Y (sxy):\n",
    "\n",
    "sxy = (sum of (X - x̄) * (Y - ȳ)) / (n - 1)\n",
    "\n",
    "4) Calculate the Pearson correlation coefficient (r):\n",
    "\n",
    "r = sxy / (sx * sy)\n",
    "\n",
    "Interpretation of the result\n",
    "\n",
    "The Pearson correlation coefficient (r) ranges from -1 to 1. A value of -1 indicates a perfect negative linear relationship between the two variables, while a value of 1 indicates a perfect positive linear relationship. A value of 0 indicates no linear relationship between the two variables.\n",
    "\n",
    "If the Pearson correlation coefficient (r) is positive and close to 1, it suggests that there is a strong positive linear relationship between the amount of time students spend studying and their final exam scores. This means that as the amount of time spent studying increases, the final exam scores tend to increase as well.\n",
    "\n",
    "If the Pearson correlation coefficient (r) is negative and close to -1, it suggests that there is a strong negative linear relationship between the amount of time students spend studying and their final exam scores. This means that as the amount of time spent studying increases, the final exam scores tend to decrease.\n",
    "\n",
    "If the Pearson correlation coefficient (r) is close to 0, it suggests that there is no linear relationship between the amount of time students spend studying and their final exam scores. In other words, the amount of time spent studying does not affect the final exam scores"
   ]
  },
  {
   "cell_type": "markdown",
   "id": "566df556-9989-40a2-a829-5cbdfdc2ddde",
   "metadata": {},
   "source": [
    "2) Spearman's rank correlation is a measure of the monotonic relationship between two variables.\n",
    "Suppose you have collected data on the amount of sleep individuals get each night and their overall job\n",
    "satisfaction level on a scale of 1 to 10. Calculate the Spearman's rank correlation between these two\n",
    "variables and interpret the result."
   ]
  },
  {
   "cell_type": "markdown",
   "id": "55550262-9021-4e3a-bc38-9c3df9e2d660",
   "metadata": {},
   "source": [
    "To calculate Spearman's rank correlation between the amount of sleep individuals get each night and their overall job satisfaction level, you will need to:\n",
    "\n",
    "1) Rank the data for each variable separately, from lowest to highest. For ties, assign the average rank.\n",
    "\n",
    "2) Calculate the difference in ranks for each individual between the two variables.\n",
    "\n",
    "3) Calculate the Spearman's rank correlation coefficient (ρ) using the formula:\n",
    "\n",
    "ρ = 1 - (6 * sum of squared differences in ranks) / (n * (n^2 - 1))\n",
    "\n",
    "where n is the sample size.\n",
    "\n",
    "Interpretation of the result:\n",
    "\n",
    "The Spearman's rank correlation coefficient (ρ) ranges from -1 to 1. A value of -1 indicates a perfect negative monotonic relationship between the two variables, while a value of 1 indicates a perfect positive monotonic relationship. A value of 0 indicates no monotonic relationship between the two variables.\n",
    "\n",
    "If the Spearman's rank correlation coefficient (ρ) is positive and close to 1, it suggests that there is a strong positive monotonic relationship between the amount of sleep individuals get each night and their overall job satisfaction level. This means that as the amount of sleep individuals get increases, their job satisfaction tends to increase as well.\n",
    "\n",
    "If the Spearman's rank correlation coefficient (ρ) is negative and close to -1, it suggests that there is a strong negative monotonic relationship between the amount of sleep individuals get each night and their overall job satisfaction level. This means that as the amount of sleep individuals get increases, their job satisfaction tends to decrease.\n",
    "\n",
    "If the Spearman's rank correlation coefficient (ρ) is close to 0, it suggests that there is no monotonic relationship between the amount of sleep individuals get each night and their overall job satisfaction level. In other words, the amount of sleep individuals get does not affect their job satisfaction in a consistent or predictable way"
   ]
  },
  {
   "cell_type": "markdown",
   "id": "4ca62c7f-f5b6-40db-8b9b-811b9a167e6e",
   "metadata": {},
   "source": [
    "3) Suppose you are conducting a study to examine the relationship between the number of hours of\n",
    "exercise per week and body mass index (BMI) in a sample of adults. You collected data on both variables\n",
    "for 50 participants. Calculate the Pearson correlation coefficient and the Spearman's rank correlation\n",
    "between these two variables and compare the results."
   ]
  },
  {
   "cell_type": "markdown",
   "id": "e025be06-3b54-4a4e-a516-da9a4b93cd52",
   "metadata": {},
   "source": [
    "To calculate the Pearson correlation coefficient and the Spearman's rank correlation between the number of hours of exercise per week and body mass index (BMI) in a sample of 50 adults, you can use the following steps:\n",
    "\n",
    "Calculate the Pearson correlation coefficient (r):\n",
    "\n",
    "a. Calculate the mean of the number of hours of exercise per week (x̄) and the mean of BMI (ȳ).\n",
    "\n",
    "b. Calculate the standard deviation of the number of hours of exercise per week (sx) and the standard deviation of BMI (sy).\n",
    "\n",
    "c. Calculate the covariance of the number of hours of exercise per week and BMI (sxy).\n",
    "\n",
    "d. Calculate the Pearson correlation coefficient (r) using the formula:\n",
    "\n",
    "r = sxy / (sx * sy)\n",
    "\n",
    "Calculate the Spearman's rank correlation coefficient (ρ):\n",
    "\n",
    "a. Rank the data for each variable separately, from lowest to highest.\n",
    "\n",
    "b. Calculate the difference in ranks for each individual between the two variables.\n",
    "\n",
    "c. Calculate the Spearman's rank correlation coefficient (ρ) using the formula:\n",
    "\n",
    "ρ = 1 - (6 * sum of squared differences in ranks) / (n * (n^2 - 1))\n",
    "\n",
    "where n is the sample size.\n",
    "\n",
    "To compare the results of the two correlations, you can consider the following:\n",
    "\n",
    "If the Pearson correlation coefficient (r) and the Spearman's rank correlation coefficient (ρ) have similar values, it suggests that there is a linear relationship between the two variables.\n",
    "\n",
    "If the Pearson correlation coefficient (r) is high and positive, while the Spearman's rank correlation coefficient (ρ) is low or negative, it suggests that there may be outliers or influential observations in the data that are affecting the Pearson correlation coefficient.\n",
    "\n",
    "If the Spearman's rank correlation coefficient (ρ) is high and positive, while the Pearson correlation coefficient (r) is low or negative, it suggests that the relationship between the two variables may be non-linear.\n",
    "\n",
    "If both correlation coefficients are close to zero, it suggests that there is no significant relationship between the two variables.\n",
    "\n",
    "It is important to note that correlation does not imply causation, and further analyses may be necessary to establish a causal relationship between the number of hours of exercise per week and BMI"
   ]
  },
  {
   "cell_type": "code",
   "execution_count": 3,
   "id": "12088d66-c6ea-42a5-8704-c01b89aeb95b",
   "metadata": {},
   "outputs": [
    {
     "data": {
      "text/plain": [
       "0.16223073800272603"
      ]
     },
     "execution_count": 3,
     "metadata": {},
     "output_type": "execute_result"
    }
   ],
   "source": [
    "import numpy as np\n",
    "import pandas as pd\n",
    "from scipy import stats\n",
    "hours_exercise = [2, 3, 5, 4, 6, 7, 5, 3, 2, 1, 2, 3, 4, 5, 6, 7, 8, 6, 5, 4, 3, 2, 1, 3, 4, 5, 6, 5, 4, 3, 2, 1, 2, 3, 4, 5, 6, 7, 8, 9, 10, 8, 7, 6, 5, 4, 3, 2, 1, 2]\n",
    "bmi = [ 22, 25, 26, 28, 29, 30, 32, 18, 19, 20, 22, 23, 25, 26, 28, 29, 31, 33, 18, 19, 20, 22, 23, 25, 26, 28, 30, 32, 18, 20, 22, 24, 26, 28, 30, 32, 34, 36, 38, 18, 20, 22, 24, 26, 28, 30, 32, 34, 36, 38]\n",
    "r, p_value = stats.pearsonr(hours_exercise, bmi)\n",
    "r"
   ]
  },
  {
   "cell_type": "code",
   "execution_count": 4,
   "id": "7d4ee000-d631-4f43-b0ca-ce10323b5bbc",
   "metadata": {},
   "outputs": [],
   "source": [
    "rho, p_value = stats.spearmanr(hours_exercise, bmi)"
   ]
  },
  {
   "cell_type": "code",
   "execution_count": 5,
   "id": "bbb2a759-25ba-428a-b186-312cbf8cb1ec",
   "metadata": {},
   "outputs": [
    {
     "data": {
      "text/plain": [
       "0.23475145331671546"
      ]
     },
     "execution_count": 5,
     "metadata": {},
     "output_type": "execute_result"
    }
   ],
   "source": [
    "rho"
   ]
  },
  {
   "cell_type": "markdown",
   "id": "7f002341-86fc-4d9c-a89c-6f11de9b605f",
   "metadata": {},
   "source": [
    "4) A researcher is interested in examining the relationship between the number of hours individuals\n",
    "spend watching television per day and their level of physical activity. The researcher collected data on\n",
    "both variables from a sample of 50 participants. Calculate the Pearson correlation coefficient between\n",
    "these two variables. "
   ]
  },
  {
   "cell_type": "code",
   "execution_count": 7,
   "id": "6c4c0dac-ab78-4b1e-93ae-e996584cab6b",
   "metadata": {},
   "outputs": [
    {
     "data": {
      "text/plain": [
       "0.015056296383123835"
      ]
     },
     "execution_count": 7,
     "metadata": {},
     "output_type": "execute_result"
    }
   ],
   "source": [
    "import numpy as np\n",
    "from scipy import stats\n",
    "hours_tv = [3, 4, 2, 5, 6, 7, 1, 2, 3, 4, 5, 6, 7, 8, 3, 2, 1, 4, 5, 6, 7, 8, 9, 1, 2, 3, 4, 5, 6, 7, 8, 9, 1, 2, 3, 4, 5, 6, 7, 8, 9, 2, 3, 4, 5, 6, 7, 8, 9, 10]\n",
    "physical_activity = [5, 4, 3, 2, 1, 2, 3, 4, 5, 6, 7, 8, 7, 6, 5, 4, 3, 2, 1, 2, 3, 4, 5, 6, 7, 6, 5, 4, 3, 2, 1, 2, 3, 4, 5, 6, 7, 8, 7, 6, 5, 4, 3, 2, 1, 2, 3, 4, 5, 6]\n",
    "r, p_value = stats.pearsonr(hours_tv, physical_activity)\n",
    "r"
   ]
  },
  {
   "cell_type": "markdown",
   "id": "f411a260-4832-4c87-ab1a-a340b58161b4",
   "metadata": {},
   "source": [
    "5) A survey was conducted to examine the relationship between age and preference for a particular\n",
    "brand of soft drink. The survey results are shown below:\n",
    "Age(Years)\n",
    "25 Coke\n",
    "42 Pepsi\n",
    "37\n",
    "19\n",
    "31\n",
    "28\n",
    "Soft drink Preference\n",
    "Mountain dew\n",
    "Coke\n",
    "Pepsi\n",
    "Coke"
   ]
  },
  {
   "cell_type": "code",
   "execution_count": 9,
   "id": "b9a145c0-45ed-4b88-b6d0-5eec5355942c",
   "metadata": {},
   "outputs": [],
   "source": [
    "import pandas as pd\n",
    "df = pd.DataFrame({\n",
    "    'Age': [25, 42, 37, 19, 31, 28],\n",
    "    \"Soft Drink Preference\": [\"Coke\", \"Pepsi\", \"Mountain Dew\", \"Coke\", \"Pepsi\", \"Coke\"]\n",
    "})\n"
   ]
  },
  {
   "cell_type": "code",
   "execution_count": 12,
   "id": "2291cfe9-2f10-497b-a5c7-3c83ab4c7364",
   "metadata": {},
   "outputs": [
    {
     "data": {
      "text/html": [
       "<div>\n",
       "<style scoped>\n",
       "    .dataframe tbody tr th:only-of-type {\n",
       "        vertical-align: middle;\n",
       "    }\n",
       "\n",
       "    .dataframe tbody tr th {\n",
       "        vertical-align: top;\n",
       "    }\n",
       "\n",
       "    .dataframe thead th {\n",
       "        text-align: right;\n",
       "    }\n",
       "</style>\n",
       "<table border=\"1\" class=\"dataframe\">\n",
       "  <thead>\n",
       "    <tr style=\"text-align: right;\">\n",
       "      <th>Soft Drink Preference</th>\n",
       "      <th>Coke</th>\n",
       "      <th>Mountain Dew</th>\n",
       "      <th>Pepsi</th>\n",
       "    </tr>\n",
       "    <tr>\n",
       "      <th>Age</th>\n",
       "      <th></th>\n",
       "      <th></th>\n",
       "      <th></th>\n",
       "    </tr>\n",
       "  </thead>\n",
       "  <tbody>\n",
       "    <tr>\n",
       "      <th>19</th>\n",
       "      <td>1</td>\n",
       "      <td>0</td>\n",
       "      <td>0</td>\n",
       "    </tr>\n",
       "    <tr>\n",
       "      <th>25</th>\n",
       "      <td>1</td>\n",
       "      <td>0</td>\n",
       "      <td>0</td>\n",
       "    </tr>\n",
       "    <tr>\n",
       "      <th>28</th>\n",
       "      <td>1</td>\n",
       "      <td>0</td>\n",
       "      <td>0</td>\n",
       "    </tr>\n",
       "    <tr>\n",
       "      <th>31</th>\n",
       "      <td>0</td>\n",
       "      <td>0</td>\n",
       "      <td>1</td>\n",
       "    </tr>\n",
       "    <tr>\n",
       "      <th>37</th>\n",
       "      <td>0</td>\n",
       "      <td>1</td>\n",
       "      <td>0</td>\n",
       "    </tr>\n",
       "    <tr>\n",
       "      <th>42</th>\n",
       "      <td>0</td>\n",
       "      <td>0</td>\n",
       "      <td>1</td>\n",
       "    </tr>\n",
       "  </tbody>\n",
       "</table>\n",
       "</div>"
      ],
      "text/plain": [
       "Soft Drink Preference  Coke  Mountain Dew  Pepsi\n",
       "Age                                             \n",
       "19                        1             0      0\n",
       "25                        1             0      0\n",
       "28                        1             0      0\n",
       "31                        0             0      1\n",
       "37                        0             1      0\n",
       "42                        0             0      1"
      ]
     },
     "execution_count": 12,
     "metadata": {},
     "output_type": "execute_result"
    }
   ],
   "source": [
    "cont_table = pd.crosstab(df[\"Age\"], df[\"Soft Drink Preference\"])\n",
    "cont_table"
   ]
  },
  {
   "cell_type": "code",
   "execution_count": 13,
   "id": "b2f7e411-311c-470d-ac15-c8e09c5e11ab",
   "metadata": {},
   "outputs": [
    {
     "data": {
      "text/plain": [
       "Age\n",
       "19    1.0\n",
       "25    1.0\n",
       "28    1.0\n",
       "31    0.0\n",
       "37    0.0\n",
       "42    0.0\n",
       "dtype: float64"
      ]
     },
     "execution_count": 13,
     "metadata": {},
     "output_type": "execute_result"
    }
   ],
   "source": [
    "coke_percentages = cont_table[\"Coke\"] / cont_table.sum(axis=1)\n",
    "coke_percentages"
   ]
  },
  {
   "cell_type": "code",
   "execution_count": 14,
   "id": "4cf35040-9c49-456c-aa8f-19256e17e98c",
   "metadata": {},
   "outputs": [
    {
     "data": {
      "text/plain": [
       "Age\n",
       "19    0.0\n",
       "25    0.0\n",
       "28    0.0\n",
       "31    0.0\n",
       "37    1.0\n",
       "42    0.0\n",
       "dtype: float64"
      ]
     },
     "execution_count": 14,
     "metadata": {},
     "output_type": "execute_result"
    }
   ],
   "source": [
    "mountain_dew_percentages = cont_table[\"Mountain Dew\"] / cont_table.sum(axis=1)\n",
    "mountain_dew_percentages"
   ]
  },
  {
   "cell_type": "code",
   "execution_count": 15,
   "id": "f64a90a5-c0cb-4d8b-8e06-5430347d317a",
   "metadata": {},
   "outputs": [
    {
     "data": {
      "text/plain": [
       "Age\n",
       "19    0.0\n",
       "25    0.0\n",
       "28    0.0\n",
       "31    1.0\n",
       "37    0.0\n",
       "42    1.0\n",
       "dtype: float64"
      ]
     },
     "execution_count": 15,
     "metadata": {},
     "output_type": "execute_result"
    }
   ],
   "source": [
    "pepsi_percentages = cont_table[\"Pepsi\"] / cont_table.sum(axis=1)\n",
    "pepsi_percentages"
   ]
  },
  {
   "cell_type": "markdown",
   "id": "cc94932d-f750-4355-ba14-8e1da2c6c126",
   "metadata": {},
   "source": [
    "6) A company is interested in examining the relationship between the number of sales calls made per day\n",
    "and the number of sales made per week. The company collected data on both variables from a sample of\n",
    "30 sales representatives. Calculate the Pearson correlation coefficient between these two variables. "
   ]
  },
  {
   "cell_type": "code",
   "execution_count": 16,
   "id": "409702ee-9344-4c59-8ae5-216322a2aa02",
   "metadata": {},
   "outputs": [
    {
     "data": {
      "text/plain": [
       "0.9859189296393163"
      ]
     },
     "execution_count": 16,
     "metadata": {},
     "output_type": "execute_result"
    }
   ],
   "source": [
    "import numpy as np\n",
    "sales_calls = np.array([12, 14, 18, 20, 22, 25, 26, 27, 29, 31, 33, 35, 37, 38, 40, 42, 43, 45, 46, 47, 48, 50, 52, 54, 55, 56, 57, 59, 60, 62])\n",
    "sales_made = np.array([3, 5, 2, 6, 7, 8, 7, 9, 10, 12, 13, 12, 14, 15, 16, 17, 18, 19, 20, 21, 22, 23, 25, 26, 27, 29, 30, 31, 32, 33])\n",
    "corr_coef = np.corrcoef(sales_calls, sales_made)[0, 1]\n",
    "corr_coef"
   ]
  },
  {
   "cell_type": "code",
   "execution_count": null,
   "id": "7e80dbb7-80d8-4b13-b2f1-06c541bba68e",
   "metadata": {},
   "outputs": [],
   "source": []
  }
 ],
 "metadata": {
  "kernelspec": {
   "display_name": "Python 3 (ipykernel)",
   "language": "python",
   "name": "python3"
  },
  "language_info": {
   "codemirror_mode": {
    "name": "ipython",
    "version": 3
   },
   "file_extension": ".py",
   "mimetype": "text/x-python",
   "name": "python",
   "nbconvert_exporter": "python",
   "pygments_lexer": "ipython3",
   "version": "3.10.8"
  }
 },
 "nbformat": 4,
 "nbformat_minor": 5
}
