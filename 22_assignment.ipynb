{
 "cells": [
  {
   "cell_type": "markdown",
   "id": "344a4ea3-7581-49b7-8cdb-2d30e2836af3",
   "metadata": {},
   "source": [
    "1) Create a Pandas Series that contains the following data: 4, 8, 15, 16, 23, and 42. Then, print the series."
   ]
  },
  {
   "cell_type": "code",
   "execution_count": 2,
   "id": "bbf0a3ad-7f0c-48be-9862-43e17ff67af2",
   "metadata": {},
   "outputs": [
    {
     "data": {
      "text/plain": [
       "0     4\n",
       "1     8\n",
       "2    15\n",
       "3    16\n",
       "4    23\n",
       "5    42\n",
       "dtype: int64"
      ]
     },
     "execution_count": 2,
     "metadata": {},
     "output_type": "execute_result"
    }
   ],
   "source": [
    "import pandas as pd\n",
    "data = [4,8,15,16,23,42]\n",
    "series = pd.Series(data)\n",
    "series"
   ]
  },
  {
   "cell_type": "markdown",
   "id": "add4e317-4eba-445e-aa71-f1af6c0e4631",
   "metadata": {},
   "source": [
    "2) Create a variable of list type containing 10 elements in it, and apply pandas.Series function on the\n",
    "variable print it."
   ]
  },
  {
   "cell_type": "code",
   "execution_count": 4,
   "id": "726bbbef-a95d-45c7-aefe-a20af199dc74",
   "metadata": {},
   "outputs": [
    {
     "data": {
      "text/plain": [
       "0     1\n",
       "1     2\n",
       "2     3\n",
       "3     4\n",
       "4     5\n",
       "5     6\n",
       "6     7\n",
       "7     8\n",
       "8     9\n",
       "9    10\n",
       "dtype: int64"
      ]
     },
     "execution_count": 4,
     "metadata": {},
     "output_type": "execute_result"
    }
   ],
   "source": [
    "import pandas as pd\n",
    "my_list = [1,2,3,4,5,6,7,8,9,10]\n",
    "my_series = pd.Series(my_list)\n",
    "my_series"
   ]
  },
  {
   "cell_type": "markdown",
   "id": "c451174d-05db-471f-a900-b67df65570c6",
   "metadata": {},
   "source": [
    "3) Create a Pandas DataFrame that contains the following data: "
   ]
  },
  {
   "cell_type": "code",
   "execution_count": 9,
   "id": "cede4649-2048-4bf1-9b47-2a6096399b4c",
   "metadata": {},
   "outputs": [
    {
     "data": {
      "text/html": [
       "<div>\n",
       "<style scoped>\n",
       "    .dataframe tbody tr th:only-of-type {\n",
       "        vertical-align: middle;\n",
       "    }\n",
       "\n",
       "    .dataframe tbody tr th {\n",
       "        vertical-align: top;\n",
       "    }\n",
       "\n",
       "    .dataframe thead th {\n",
       "        text-align: right;\n",
       "    }\n",
       "</style>\n",
       "<table border=\"1\" class=\"dataframe\">\n",
       "  <thead>\n",
       "    <tr style=\"text-align: right;\">\n",
       "      <th></th>\n",
       "      <th>Name</th>\n",
       "      <th>Age</th>\n",
       "      <th>Gender</th>\n",
       "    </tr>\n",
       "  </thead>\n",
       "  <tbody>\n",
       "    <tr>\n",
       "      <th>0</th>\n",
       "      <td>Alice</td>\n",
       "      <td>25</td>\n",
       "      <td>Female</td>\n",
       "    </tr>\n",
       "    <tr>\n",
       "      <th>1</th>\n",
       "      <td>Bob</td>\n",
       "      <td>30</td>\n",
       "      <td>Male</td>\n",
       "    </tr>\n",
       "    <tr>\n",
       "      <th>2</th>\n",
       "      <td>Claire</td>\n",
       "      <td>27</td>\n",
       "      <td>Female</td>\n",
       "    </tr>\n",
       "  </tbody>\n",
       "</table>\n",
       "</div>"
      ],
      "text/plain": [
       "     Name  Age  Gender\n",
       "0   Alice   25  Female\n",
       "1     Bob   30    Male\n",
       "2  Claire   27  Female"
      ]
     },
     "execution_count": 9,
     "metadata": {},
     "output_type": "execute_result"
    }
   ],
   "source": [
    "import pandas as pd\n",
    "data = {\"Name\":[\"Alice\",\"Bob\",\"Claire\"],\n",
    "        \"Age\":[25,30,27],\n",
    "        \"Gender\":[\"Female\",\"Male\",\"Female\"]}\n",
    "df = pd.DataFrame(data)\n",
    "df"
   ]
  },
  {
   "cell_type": "markdown",
   "id": "06658693-a032-4453-b3c0-daa4a75eb931",
   "metadata": {},
   "source": [
    "4) What is ‘DataFrame’ in pandas and how is it different from pandas.series? Explain with an example."
   ]
  },
  {
   "cell_type": "markdown",
   "id": "39a8fb0a-c076-40db-804c-11f021785aca",
   "metadata": {},
   "source": [
    "In pandas, a DataFrame is a 2-dimensional labeled data structure with columns of potentially different types. It is similar to a table in a relational database or a spreadsheet. Each column in a DataFrame is a Pandas Series object\n",
    "A Pandas Series is a one-dimensional labeled array capable of holding data of any type. It is similar to a column in a spreadsheet or a one-dimensional array\n",
    "The main difference between a DataFrame and a Series is that a DataFrame can store multiple columns of data of different types, while a Series can only store a single column of data. In other words, a DataFrame is a collection of Series objects"
   ]
  },
  {
   "cell_type": "code",
   "execution_count": 13,
   "id": "6180135a-cf98-4f56-9594-e57f76a03cf8",
   "metadata": {},
   "outputs": [
    {
     "name": "stdout",
     "output_type": "stream",
     "text": [
      "Series:\n",
      "0    1\n",
      "1    2\n",
      "2    3\n",
      "3    4\n",
      "4    5\n",
      "dtype: int64\n",
      "Dataframe:\n",
      "   A  B\n",
      "0  1  a\n",
      "1  2  b\n",
      "2  3  c\n"
     ]
    }
   ],
   "source": [
    "import pandas as pd\n",
    "s = pd.Series([1,2,3,4,5])\n",
    "df = pd.DataFrame({'A': [1,2,3], 'B':['a','b','c']})\n",
    "print(\"Series:\")\n",
    "print(s)\n",
    "print(\"Dataframe:\")\n",
    "print(df)"
   ]
  },
  {
   "cell_type": "markdown",
   "id": "8de36df3-d901-4289-85ba-8c9b0c89c2d4",
   "metadata": {},
   "source": [
    "5) What are some common functions you can use to manipulate data in a Pandas DataFrame? Can\n",
    "you give an example of when you might use one of these functions?"
   ]
  },
  {
   "cell_type": "markdown",
   "id": "4be7dd24-b94f-44c0-9297-4786c0ec3fac",
   "metadata": {},
   "source": [
    "1) df.head(n) : Returns the first n rows of the DataFrame. This can be useful for quickly checking the structure of the data and getting an idea of what it looks like\n",
    "2) df.tail(n) : Returns the last n rows of the DataFrame. This can be useful for quickly checking the end of the data and seeing if there are any trends or patterns\n",
    "3) df.info() : Displays information about the DataFrame, including the number of rows and columns, the data types of each column, and the number of non-null values\n",
    "4) df.describe() : Generates descriptive statistics for the DataFrame, including measures of central tendency and dispersion, as well as quartiles and other summary statistics\n",
    "5) df.groupby(column) : Groups the data by a specified column and allows for aggregation functions to be applied to the groups. This can be useful for exploring trends and patterns in the data\n",
    "6) df.dropna() : Removes any rows with missing data (i.e., NaN values) from the DataFrame. This can be useful for cleaning the data and preparing it for analysis"
   ]
  },
  {
   "cell_type": "markdown",
   "id": "2bb91422-1d04-4d00-8217-d7c482a446b3",
   "metadata": {},
   "source": [
    "df.groupby('customer_name')['price'].mean()"
   ]
  },
  {
   "cell_type": "markdown",
   "id": "25c6a437-4bcf-4bf2-bebb-4a147d89348b",
   "metadata": {},
   "source": [
    "6) Which of the following is mutable in nature Series, DataFrame, Panel?"
   ]
  },
  {
   "cell_type": "markdown",
   "id": "46645b12-f582-475d-8e9f-4f796ab224c3",
   "metadata": {},
   "source": [
    "Both Series and DataFrame are mutable in nature, whereas Panel is deprecated since pandas version 0.25.0 and has been replaced by the MultiIndex \n",
    "feature in DataFrame, which can represent higher-dimensional data in a more flexible way\n",
    "n pandas, mutable objects can be modified after they are created, allowing for data manipulation and analysis. For example, you can modify the \n",
    "values in a Series or DataFrame, add or remove columns, or change the index. However, it's important to note that some operations, such as adding \n",
    "or removing rows from a DataFrame, can create a new copy of the object rather than modifying the original in place"
   ]
  },
  {
   "cell_type": "markdown",
   "id": "45fd9f0d-558a-45ce-a66b-e0c69e2ef089",
   "metadata": {},
   "source": [
    "7) Create a DataFrame using multiple Series. Explain with an example."
   ]
  },
  {
   "cell_type": "markdown",
   "id": "fc9e0e0e-9410-4aa1-be1b-2f3e56813e24",
   "metadata": {},
   "source": [
    "To create a DataFrame using multiple Series, you can pass a dictionary of key-value pairs to the pd.DataFrame() constructor. The keys of the dictionary will be used as the column names of the DataFrame, and the values will be used as the data in each column"
   ]
  },
  {
   "cell_type": "code",
   "execution_count": 15,
   "id": "084331ff-8707-4a7c-b8bc-1b1694404249",
   "metadata": {},
   "outputs": [
    {
     "data": {
      "text/html": [
       "<div>\n",
       "<style scoped>\n",
       "    .dataframe tbody tr th:only-of-type {\n",
       "        vertical-align: middle;\n",
       "    }\n",
       "\n",
       "    .dataframe tbody tr th {\n",
       "        vertical-align: top;\n",
       "    }\n",
       "\n",
       "    .dataframe thead th {\n",
       "        text-align: right;\n",
       "    }\n",
       "</style>\n",
       "<table border=\"1\" class=\"dataframe\">\n",
       "  <thead>\n",
       "    <tr style=\"text-align: right;\">\n",
       "      <th></th>\n",
       "      <th>Name</th>\n",
       "      <th>Age</th>\n",
       "      <th>Gender</th>\n",
       "    </tr>\n",
       "  </thead>\n",
       "  <tbody>\n",
       "    <tr>\n",
       "      <th>0</th>\n",
       "      <td>Alice</td>\n",
       "      <td>25</td>\n",
       "      <td>F</td>\n",
       "    </tr>\n",
       "    <tr>\n",
       "      <th>1</th>\n",
       "      <td>Bob</td>\n",
       "      <td>30</td>\n",
       "      <td>M</td>\n",
       "    </tr>\n",
       "    <tr>\n",
       "      <th>2</th>\n",
       "      <td>Charlie</td>\n",
       "      <td>35</td>\n",
       "      <td>M</td>\n",
       "    </tr>\n",
       "    <tr>\n",
       "      <th>3</th>\n",
       "      <td>David</td>\n",
       "      <td>40</td>\n",
       "      <td>M</td>\n",
       "    </tr>\n",
       "  </tbody>\n",
       "</table>\n",
       "</div>"
      ],
      "text/plain": [
       "      Name  Age Gender\n",
       "0    Alice   25      F\n",
       "1      Bob   30      M\n",
       "2  Charlie   35      M\n",
       "3    David   40      M"
      ]
     },
     "execution_count": 15,
     "metadata": {},
     "output_type": "execute_result"
    }
   ],
   "source": [
    "import pandas as pd\n",
    "names = pd.Series(['Alice', 'Bob', 'Charlie', 'David'])\n",
    "ages = pd.Series([25, 30, 35, 40])\n",
    "genders = pd.Series(['F', 'M', 'M', 'M'])\n",
    "data = {\n",
    "    'Name': names,\n",
    "    'Age': ages,\n",
    "    'Gender': genders\n",
    "}\n",
    "df = pd.DataFrame(data)\n",
    "df"
   ]
  },
  {
   "cell_type": "code",
   "execution_count": null,
   "id": "756800e5-47f2-4510-80c2-84533977f52e",
   "metadata": {},
   "outputs": [],
   "source": []
  }
 ],
 "metadata": {
  "kernelspec": {
   "display_name": "Python 3 (ipykernel)",
   "language": "python",
   "name": "python3"
  },
  "language_info": {
   "codemirror_mode": {
    "name": "ipython",
    "version": 3
   },
   "file_extension": ".py",
   "mimetype": "text/x-python",
   "name": "python",
   "nbconvert_exporter": "python",
   "pygments_lexer": "ipython3",
   "version": "3.10.8"
  }
 },
 "nbformat": 4,
 "nbformat_minor": 5
}
