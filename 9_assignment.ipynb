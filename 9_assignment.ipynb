{
 "cells": [
  {
   "cell_type": "markdown",
   "id": "87c99381-f2b0-4b98-af95-557506614f51",
   "metadata": {},
   "source": [
    "1)Create a vehicle class with an init method having instance variables as name_of_vehicle, max_speed\n",
    "and average_of_vehicle."
   ]
  },
  {
   "cell_type": "code",
   "execution_count": 1,
   "id": "dfa63e08-6642-4b13-bcc5-d01538483dd6",
   "metadata": {},
   "outputs": [],
   "source": [
    "class vehicle:\n",
    "    def __init__(self, name_of_vehicle, max_speed, average_of_vehicle):\n",
    "        self.name_of_vehicle = name_of_vehicle\n",
    "        self.max_speed = max_speed\n",
    "        self.average_of_vehicle = average_of_vehicle"
   ]
  },
  {
   "cell_type": "code",
   "execution_count": 2,
   "id": "3e61a687-01b0-4534-8c78-c5c0a48e7924",
   "metadata": {},
   "outputs": [],
   "source": [
    "car = vehicle(\"Toyata\",360,120)"
   ]
  },
  {
   "cell_type": "code",
   "execution_count": 3,
   "id": "9de89ca3-6924-4034-91e6-9340ffaa10a0",
   "metadata": {},
   "outputs": [
    {
     "data": {
      "text/plain": [
       "'Toyata'"
      ]
     },
     "execution_count": 3,
     "metadata": {},
     "output_type": "execute_result"
    }
   ],
   "source": [
    "car.name_of_vehicle"
   ]
  },
  {
   "cell_type": "code",
   "execution_count": 4,
   "id": "400fa0b9-ce94-4632-80eb-7b5cecae6731",
   "metadata": {},
   "outputs": [
    {
     "data": {
      "text/plain": [
       "120"
      ]
     },
     "execution_count": 4,
     "metadata": {},
     "output_type": "execute_result"
    }
   ],
   "source": [
    "car.average_of_vehicle"
   ]
  },
  {
   "cell_type": "markdown",
   "id": "7cef36dc-8f88-4622-863c-f2ce7b803670",
   "metadata": {},
   "source": [
    "2) Create a child class car from the vehicle class created in Que 1, which will inherit the vehicle class.\n",
    "Create a method named seating_capacity which takes capacity as an argument and returns the name of\n",
    "the vehicle and its seating capacity."
   ]
  },
  {
   "cell_type": "code",
   "execution_count": 5,
   "id": "7a05efa9-b14f-43f9-9346-1b97964d8108",
   "metadata": {},
   "outputs": [],
   "source": [
    "class car(vehicle):\n",
    "    def __init__(self, name_of_vehicle,max_speed,average_of_vehicle):\n",
    "        super().__init__(name_of_vehicle, max_speed,average_of_vehicle)\n",
    "    def seating_capacity(self, capacity):\n",
    "        return f\"{self.name_of_vehicle} has a seating capacity of {capacity} persons.\"\n",
    "        \n",
    "        "
   ]
  },
  {
   "cell_type": "code",
   "execution_count": 7,
   "id": "aa2e610d-ef29-4c93-a9bb-f3e47fb11c9b",
   "metadata": {},
   "outputs": [],
   "source": [
    "car = car(\"Toyota\", 120, 30)"
   ]
  },
  {
   "cell_type": "code",
   "execution_count": 9,
   "id": "92c38f4d-0f65-453e-bbf2-92be1f2069a7",
   "metadata": {},
   "outputs": [
    {
     "data": {
      "text/plain": [
       "'Toyota has a seating capacity of 5 persons.'"
      ]
     },
     "execution_count": 9,
     "metadata": {},
     "output_type": "execute_result"
    }
   ],
   "source": [
    "car.seating_capacity(5)"
   ]
  },
  {
   "cell_type": "markdown",
   "id": "1689afce-ea4e-49ef-92c2-477c706f06fd",
   "metadata": {},
   "source": [
    "3) What is multiple inheritance? Write a python code to demonstrate multiple inheritance"
   ]
  },
  {
   "cell_type": "markdown",
   "id": "b0c79ebe-910a-49db-94a7-5ce9a8e6a8ae",
   "metadata": {},
   "source": [
    "multiple inheritancce: it is a feature object-oriented-programming a class can inherit from multiple parent class . this means that the child can access to all the attributes and methods from its parent class"
   ]
  },
  {
   "cell_type": "code",
   "execution_count": 10,
   "id": "f2d8f2d6-bd39-4332-8be8-bc05fc2fd92c",
   "metadata": {},
   "outputs": [],
   "source": [
    "class A:\n",
    "    def method_a(self):\n",
    "        print(\"this is method for a\")\n",
    "        "
   ]
  },
  {
   "cell_type": "code",
   "execution_count": 11,
   "id": "61d5e083-4a7a-46ba-8822-0a7328ebe73d",
   "metadata": {},
   "outputs": [],
   "source": [
    "class B:\n",
    "    def method_b(self):\n",
    "        print(\"this is method for b\")"
   ]
  },
  {
   "cell_type": "code",
   "execution_count": 12,
   "id": "ef2d3548-0f5e-461f-8a4c-751cf0c1354b",
   "metadata": {},
   "outputs": [],
   "source": [
    "class C(A,B):\n",
    "    def method_c(self):\n",
    "        print(\"this is method for c\")"
   ]
  },
  {
   "cell_type": "code",
   "execution_count": 13,
   "id": "f9e0bd7f-0f9a-445c-93bd-d76b749f6a55",
   "metadata": {},
   "outputs": [
    {
     "name": "stdout",
     "output_type": "stream",
     "text": [
      "this is method for a\n",
      "this is method for b\n",
      "this is method for c\n"
     ]
    }
   ],
   "source": [
    "c = C()\n",
    "c.method_a()\n",
    "c.method_b()\n",
    "c.method_c()"
   ]
  },
  {
   "cell_type": "markdown",
   "id": "28f5b7f7-4332-4c19-b167-b135b8e3d96f",
   "metadata": {},
   "source": [
    "4) What are getter and setter in python? Create a class and create a getter and a setter method in this\n",
    "class"
   ]
  },
  {
   "cell_type": "markdown",
   "id": "6536e367-ebec-4d8a-a259-52750cdd47af",
   "metadata": {},
   "source": [
    "getter and setter methods are way to control access to instance variables of a class in python and  a getter method also known as an accessor method is a method that returns the value of an instance variable a setter method also known as a mutator method is a method that sets the value of an instance variable"
   ]
  },
  {
   "cell_type": "code",
   "execution_count": 17,
   "id": "d881c147-682a-410b-9fd5-774b36482f7d",
   "metadata": {},
   "outputs": [],
   "source": [
    "class person:\n",
    "    def __init__(self,name):\n",
    "        self.__name = name\n",
    "    def get_name(self):\n",
    "        return self.__name\n",
    "    def set_name(self):\n",
    "        return self.__name"
   ]
  },
  {
   "cell_type": "code",
   "execution_count": null,
   "id": "ed78a1e1-e4d2-4441-bc8d-17c9f4a64944",
   "metadata": {},
   "outputs": [],
   "source": [
    "person = person(\"John\")\n",
    "person.get_name()\n",
    "\n",
    "person.set_name(\"Jane\")\n",
    "person.get_name()       "
   ]
  },
  {
   "cell_type": "markdown",
   "id": "7ec6d45d-42c7-42be-b547-db3cd16b9a9a",
   "metadata": {},
   "source": [
    "5)What is method overriding in python? Write a python code to demonstrate method overriding."
   ]
  },
  {
   "cell_type": "markdown",
   "id": "e5a748d8-16e9-4e5c-a2d1-b1e20ba422cb",
   "metadata": {},
   "source": [
    "Method overriding is a feature of object-oriented programming where a subclass provides its own implementation of a method that is already \n",
    "defined in its superclass in Python method overriding is achieved by defining a method with the same name and signature as that of the method \n",
    "in the superclass"
   ]
  },
  {
   "cell_type": "code",
   "execution_count": 21,
   "id": "c1c3904a-35b6-421c-bfd4-824b84a5f5a2",
   "metadata": {},
   "outputs": [
    {
     "name": "stdout",
     "output_type": "stream",
     "text": [
      "There is a Animal\n",
      "dog is barking\n",
      "There is a Animal\n"
     ]
    }
   ],
   "source": [
    "class animal:\n",
    "    def speak(self):\n",
    "        print(\"There is a Animal\")\n",
    "class dog(animal):\n",
    "    def speak(self):\n",
    "        print(\"dog is barking\")\n",
    "class cat(animal):\n",
    "    pass\n",
    "a = animal()\n",
    "d = dog()\n",
    "c = cat()\n",
    "a.speak()\n",
    "d.speak()\n",
    "c.speak()"
   ]
  },
  {
   "cell_type": "code",
   "execution_count": null,
   "id": "6e21467e-df32-4f4b-b59e-25f967e965bb",
   "metadata": {},
   "outputs": [],
   "source": []
  }
 ],
 "metadata": {
  "kernelspec": {
   "display_name": "Python 3 (ipykernel)",
   "language": "python",
   "name": "python3"
  },
  "language_info": {
   "codemirror_mode": {
    "name": "ipython",
    "version": 3
   },
   "file_extension": ".py",
   "mimetype": "text/x-python",
   "name": "python",
   "nbconvert_exporter": "python",
   "pygments_lexer": "ipython3",
   "version": "3.10.8"
  }
 },
 "nbformat": 4,
 "nbformat_minor": 5
}
