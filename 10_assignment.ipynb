{
 "cells": [
  {
   "cell_type": "markdown",
   "id": "d1cf4258-b27f-4649-95c8-f53bc64de9fb",
   "metadata": {},
   "source": [
    "1) Which function is used to open a file? What are the different modes of opening a file? Explain each mode\n",
    "of file opening."
   ]
  },
  {
   "cell_type": "markdown",
   "id": "9080476f-6a7d-428c-9e36-164d560c8cda",
   "metadata": {},
   "source": [
    "f = open(filename, \"w\")\n",
    "ex: test1.txt\n",
    "r: read mode\n",
    "a : append\n",
    "b : binary\n",
    "x : it is used to open for exclusive creation, if the file already exits it will raise a error\n",
    "t : it is used to open file in text mode"
   ]
  },
  {
   "cell_type": "markdown",
   "id": "8b3b0587-6a20-4ce8-b414-f9d42074afbf",
   "metadata": {},
   "source": [
    "2) Why close() function is used? Why is it important to close a file?"
   ]
  },
  {
   "cell_type": "markdown",
   "id": "8b2a29b7-6978-4e38-96de-7a4542829f3c",
   "metadata": {},
   "source": [
    "A) in close() function is used to close a file that has opened using the open() function, and also it is important to close\n",
    "a file after you are done working with it because it free up system.\n",
    "save changes : if you opened a file and writing a file if you did not type close it will not return"
   ]
  },
  {
   "cell_type": "markdown",
   "id": "b50cc63d-db27-49c6-a3cb-031a6e624ea8",
   "metadata": {},
   "source": [
    "3)Write a python program to create a text file. Write ‘I want to become a Data Scientist’ in that file. Then\n",
    "close the file. Open this file and read the content of the file."
   ]
  },
  {
   "cell_type": "code",
   "execution_count": 5,
   "id": "91730fa1-941c-4807-96f9-33414dcc8125",
   "metadata": {},
   "outputs": [],
   "source": [
    "f = open(\"test.txt\",\"w\")\n",
    "f.write(\"I want to become a Data Scientist\")\n",
    "f.close()"
   ]
  },
  {
   "cell_type": "code",
   "execution_count": 6,
   "id": "2490e6be-24fe-44da-88bc-b6450fe683eb",
   "metadata": {},
   "outputs": [
    {
     "data": {
      "text/plain": [
       "'I want to become a Data Scientist'"
      ]
     },
     "execution_count": 6,
     "metadata": {},
     "output_type": "execute_result"
    }
   ],
   "source": [
    "f = open(\"test.txt\",\"r\")\n",
    "f.read()"
   ]
  },
  {
   "cell_type": "markdown",
   "id": "009c5ac6-78c6-4cfd-ac13-56fbf30517e1",
   "metadata": {},
   "source": [
    "4) Explain the following with python code: read(), readline() and readlines()"
   ]
  },
  {
   "cell_type": "code",
   "execution_count": 7,
   "id": "c1262fcf-56e4-477e-8cac-0ffb3034ac25",
   "metadata": {},
   "outputs": [],
   "source": [
    "f = open(\"test1.txt\",\"w\")\n",
    "f.write(\"this is my first line\\n\")\n",
    "f.write(\"this is my second line\")\n",
    "f.close()"
   ]
  },
  {
   "cell_type": "markdown",
   "id": "4f3a92cd-fea6-4175-9412-178088f81648",
   "metadata": {},
   "source": [
    "readline: it will read one line \n",
    "readlines: it will read all lines"
   ]
  },
  {
   "cell_type": "code",
   "execution_count": 8,
   "id": "e542713f-7956-4c75-9461-246f119862e9",
   "metadata": {},
   "outputs": [
    {
     "data": {
      "text/plain": [
       "'this is my first line\\n'"
      ]
     },
     "execution_count": 8,
     "metadata": {},
     "output_type": "execute_result"
    }
   ],
   "source": [
    "f = open(\"test1.txt\",\"r\")\n",
    "f.readline()"
   ]
  },
  {
   "cell_type": "code",
   "execution_count": 9,
   "id": "6b08b739-da36-4c53-b552-5f1493f65f8e",
   "metadata": {},
   "outputs": [
    {
     "data": {
      "text/plain": [
       "['this is my first line\\n', 'this is my second line']"
      ]
     },
     "execution_count": 9,
     "metadata": {},
     "output_type": "execute_result"
    }
   ],
   "source": [
    "f = open(\"test1.txt\", \"r\")\n",
    "f.readlines()"
   ]
  },
  {
   "cell_type": "markdown",
   "id": "ae3581b5-fc1d-4f10-bd9a-06c4ee688a86",
   "metadata": {},
   "source": [
    "5) Explain why with statement is used with open(). What is the advantage of using with statement and\n",
    "open() together?"
   ]
  },
  {
   "cell_type": "markdown",
   "id": "e55342e5-0bc3-4092-9ef9-61b77bd31180",
   "metadata": {},
   "source": [
    "the with statement is used to create a context in which resources are managed automatically it is used open() function to read, write, append\n",
    "advantage: the file is properly closed after it has been used. This is especially important in cases where \n",
    "the program may encounter errors or exceptions "
   ]
  },
  {
   "cell_type": "markdown",
   "id": "496f58f0-ae99-4464-85eb-b9b7dbab98a9",
   "metadata": {},
   "source": [
    "6) Explain the write() and writelines() functions. Give a suitable example"
   ]
  },
  {
   "cell_type": "markdown",
   "id": "2e87f7ce-c665-4cd0-abf8-b3c483ffcde9",
   "metadata": {},
   "source": [
    "A) write(): it is used to write data to a file , it takes a single argument which is the string to be written to the file\n",
    "writelines(): it is used to write a list of strings to a file and also each string in the list corresponds to a single line of \n",
    "text in the file"
   ]
  },
  {
   "cell_type": "code",
   "execution_count": 10,
   "id": "ffcd1030-aeee-4239-aa5e-e3d310a8254a",
   "metadata": {},
   "outputs": [],
   "source": [
    "f = open(\"test.txt2\",\"w\")\n",
    "f.write(\"I want to become a Data Scientist\")\n",
    "f.close()"
   ]
  },
  {
   "cell_type": "code",
   "execution_count": 12,
   "id": "eb53a460-b06a-46f2-8b09-ed75f886fc6b",
   "metadata": {},
   "outputs": [],
   "source": [
    "f = open(\"test.txt\",\"w\")\n",
    "lines = ['Line 1\\n', 'Line 2\\n', 'Line 3\\n']\n",
    "f.writelines(lines)\n",
    "f.close()"
   ]
  },
  {
   "cell_type": "code",
   "execution_count": null,
   "id": "550b2518-43da-4b69-9bab-987661ced664",
   "metadata": {},
   "outputs": [],
   "source": []
  }
 ],
 "metadata": {
  "kernelspec": {
   "display_name": "Python 3 (ipykernel)",
   "language": "python",
   "name": "python3"
  },
  "language_info": {
   "codemirror_mode": {
    "name": "ipython",
    "version": 3
   },
   "file_extension": ".py",
   "mimetype": "text/x-python",
   "name": "python",
   "nbconvert_exporter": "python",
   "pygments_lexer": "ipython3",
   "version": "3.10.8"
  }
 },
 "nbformat": 4,
 "nbformat_minor": 5
}
