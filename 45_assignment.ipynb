{
 "cells": [
  {
   "cell_type": "markdown",
   "id": "d4d638d1-aa20-4398-95d3-3fbd38db6272",
   "metadata": {},
   "source": [
    "1) What is the difference between Ordinal Encoding and Label Encoding? Provide an example of when you\n",
    "might choose one over the other."
   ]
  },
  {
   "cell_type": "markdown",
   "id": "0116952c-1d36-433f-a512-d89a8ad1c31e",
   "metadata": {},
   "source": [
    "Ordinal Encoding and Label Encoding are two common techniques used to transform categorical data into numerical data in machine learning. Although they are similar, there are some key differences.\n",
    "\n",
    "Ordinal Encoding is a technique used when the categorical variable has an inherent order or hierarchy. For example, the education level can be ordered as \"high school diploma\" < \"bachelor's degree\" < \"master's degree\" < \"doctorate\". In this case, each category is assigned a numerical value based on its position in the ordered list. Therefore, \"high school diploma\" would be encoded as 1, \"bachelor's degree\" as 2, \"master's degree\" as 3, and \"doctorate\" as 4.\n",
    "\n",
    "On the other hand, Label Encoding is used when the categorical variable does not have any inherent order or hierarchy. For instance, if we have a categorical variable called \"color\" with categories \"red\", \"blue\", and \"green\", each category is assigned a numerical value arbitrarily. In this case, \"red\" could be encoded as 1, \"blue\" as 2, and \"green\" as 3\n",
    "\n",
    "example of when you might choose one over the other. Suppose you are working on a machine learning problem where you have to predict the income of a person based on various features, and one of the features is \"education level\". If you believe that education level has an inherent order, you might choose to use Ordinal Encoding. On the other hand, if you don't think education level has an inherent order, you might choose to use Label Encoding."
   ]
  },
  {
   "cell_type": "markdown",
   "id": "08a778fa-2a5a-4c6d-9e64-aee9ae44434b",
   "metadata": {},
   "source": [
    "2) Explain how Target Guided Ordinal Encoding works and provide an example of when you might use it in\n",
    "a machine learning project. "
   ]
  },
  {
   "cell_type": "markdown",
   "id": "6d892aef-1c53-400c-8eab-39ae9e44f368",
   "metadata": {},
   "source": [
    "Target Guided Ordinal Encoding is a technique used for ordinal encoding of categorical variables in which the categories are ordered based on the target variable. In other words, instead of assigning numerical values to categories based on their order in the list, we assign values based on their relationship with the target variable.\n",
    "\n",
    "Here's how it works:\n",
    "\n",
    "1) First, we calculate the mean of the target variable for each category of the categorical variable.\n",
    "2) Then, we order the categories based on their mean target value, so the category with the lowest mean target value gets the lowest rank and so on.\n",
    "3) Finally, we assign ordinal values to the categories based on their ranks.\n",
    "\n",
    "For example, suppose we have a categorical variable called \"city\" with categories \"New York\", \"San Francisco\", and \"Boston\", and we want to predict the income of individuals based on this variable. We can calculate the mean income of individuals for each city as follows\n",
    "\n",
    "Mean income of individuals in New York = 90,000\n",
    "Mean income of individuals in San Francisco = 110,000\n",
    "Mean income of individuals in Boston = 80,000\n",
    "We can order the categories based on their mean income values, so \"San Francisco\" would get the highest rank (1), \"New York\" the second rank (2), and \"Boston\" the lowest rank (3). We can then assign ordinal values to the categories based on their ranks.\n",
    "\n",
    "Target Guided Ordinal Encoding is useful when the categorical variable has a strong relationship with the target variable, meaning that the mean value of the target variable varies significantly across the categories. This technique can improve the predictive power of the model by capturing the ordinal relationship between the categories and the target variable.\n",
    "\n",
    "An example of when you might use Target Guided Ordinal Encoding in a machine learning project is when you have a categorical variable such as \"occupation\" that you believe has a strong relationship with the target variable (e.g., income). By encoding the categories based on their mean income values, you can capture the ordinal relationship between the occupations and income, which can improve the performance of the model. However, it's important to note that this technique should be used judiciously and only after thorough exploration of the data to ensure that the relationship between the categorical variable and the target variable is significant and meaningful"
   ]
  },
  {
   "cell_type": "markdown",
   "id": "b8d74b7f-41ca-4dbc-8a6d-1a7ff898fdd7",
   "metadata": {},
   "source": [
    "3) Define covariance and explain why it is important in statistical analysis. How is covariance calculated?"
   ]
  },
  {
   "cell_type": "markdown",
   "id": "ee0b96bc-d532-4589-bc53-37e9ff75d938",
   "metadata": {},
   "source": [
    "Covariance is a measure of the relationship between two random variables. Specifically, it measures how much two variables vary together from their expected values.\n",
    "\n",
    "In statistical analysis, covariance is important because it helps to identify the degree to which two variables are related. If two variables have a positive covariance, it means that they tend to increase or decrease together. On the other hand, if two variables have a negative covariance, it means that they tend to move in opposite directions. If the covariance between two variables is zero, it means that there is no linear relationship between them.\n",
    "\n",
    "Covariance is calculated by taking the product of the difference between each variable and its expected value, and then taking the average of these products. The formula for covariance is:\n",
    "\n",
    "cov(X,Y) = E[(X - E[X]) * (Y - E[Y])]\n",
    "\n",
    "Where X and Y are two random variables, E[X] and E[Y] are their expected values, and cov(X,Y) is the covariance between X and Y.\n",
    "\n",
    "To calculate the covariance between two sets of data, you can use the following steps\n",
    "\n",
    "1) Calculate the mean of each set of data.\n",
    "2) For each data point, subtract its mean from the corresponding data point in the other set.\n",
    "3) Multiply the differences obtained in step 2 for each pair of data points.\n",
    "4) Sum up the products obtained in step 3.\n",
    "5) Divide the sum obtained in step 4 by the total number of data points (minus 1).\n",
    "\n",
    "Covariance is an important statistical tool because it helps us understand how different variables are related to each other, which can be useful in a variety of applications such as finance, biology, and engineering. However, it is important to note that covariance only measures linear relationships between variables and does not capture other types of relationships such as nonlinear or causal relationships"
   ]
  },
  {
   "cell_type": "markdown",
   "id": "9ba87186-7543-45b3-8124-61342b2b4894",
   "metadata": {},
   "source": [
    "4) For a dataset with the following categorical variables: Color (red, green, blue), Size (small, medium,\n",
    "large), and Material (wood, metal, plastic), perform label encoding using Python's scikit-learn library.\n",
    "Show your code and explain the output."
   ]
  },
  {
   "cell_type": "code",
   "execution_count": 1,
   "id": "b672e42f-5b82-4e32-b53e-da5891204f68",
   "metadata": {},
   "outputs": [],
   "source": [
    "import pandas as pd\n",
    "from sklearn.preprocessing import LabelEncoder\n",
    "data = {'Color': ['red', 'green', 'blue', 'red', 'blue', 'green'],\n",
    "        'Size': ['small', 'medium', 'medium', 'large', 'medium', 'small'],\n",
    "        'Material': ['wood', 'metal', 'plastic', 'wood', 'metal', 'plastic']}\n",
    "df = pd.DataFrame(data)\n"
   ]
  },
  {
   "cell_type": "code",
   "execution_count": 2,
   "id": "0bf3ecaa-8c82-4924-9108-fc8c5f906bf1",
   "metadata": {},
   "outputs": [],
   "source": [
    "lbl_encoder=LabelEncoder()"
   ]
  },
  {
   "cell_type": "code",
   "execution_count": 3,
   "id": "a8c3fdec-bded-4504-80d9-b2df086eb89c",
   "metadata": {},
   "outputs": [],
   "source": [
    "df['Color'] = lbl_encoder.fit_transform(df['Color'])\n",
    "df['Size'] = lbl_encoder.fit_transform(df['Size'])\n",
    "df['Material'] = lbl_encoder.fit_transform(df['Material'])\n"
   ]
  },
  {
   "cell_type": "code",
   "execution_count": 4,
   "id": "0dcd84f9-290b-4335-906e-594163f866d3",
   "metadata": {},
   "outputs": [
    {
     "data": {
      "text/html": [
       "<div>\n",
       "<style scoped>\n",
       "    .dataframe tbody tr th:only-of-type {\n",
       "        vertical-align: middle;\n",
       "    }\n",
       "\n",
       "    .dataframe tbody tr th {\n",
       "        vertical-align: top;\n",
       "    }\n",
       "\n",
       "    .dataframe thead th {\n",
       "        text-align: right;\n",
       "    }\n",
       "</style>\n",
       "<table border=\"1\" class=\"dataframe\">\n",
       "  <thead>\n",
       "    <tr style=\"text-align: right;\">\n",
       "      <th></th>\n",
       "      <th>Color</th>\n",
       "      <th>Size</th>\n",
       "      <th>Material</th>\n",
       "    </tr>\n",
       "  </thead>\n",
       "  <tbody>\n",
       "    <tr>\n",
       "      <th>0</th>\n",
       "      <td>2</td>\n",
       "      <td>2</td>\n",
       "      <td>2</td>\n",
       "    </tr>\n",
       "    <tr>\n",
       "      <th>1</th>\n",
       "      <td>1</td>\n",
       "      <td>1</td>\n",
       "      <td>0</td>\n",
       "    </tr>\n",
       "    <tr>\n",
       "      <th>2</th>\n",
       "      <td>0</td>\n",
       "      <td>1</td>\n",
       "      <td>1</td>\n",
       "    </tr>\n",
       "    <tr>\n",
       "      <th>3</th>\n",
       "      <td>2</td>\n",
       "      <td>0</td>\n",
       "      <td>2</td>\n",
       "    </tr>\n",
       "    <tr>\n",
       "      <th>4</th>\n",
       "      <td>0</td>\n",
       "      <td>1</td>\n",
       "      <td>0</td>\n",
       "    </tr>\n",
       "    <tr>\n",
       "      <th>5</th>\n",
       "      <td>1</td>\n",
       "      <td>2</td>\n",
       "      <td>1</td>\n",
       "    </tr>\n",
       "  </tbody>\n",
       "</table>\n",
       "</div>"
      ],
      "text/plain": [
       "   Color  Size  Material\n",
       "0      2     2         2\n",
       "1      1     1         0\n",
       "2      0     1         1\n",
       "3      2     0         2\n",
       "4      0     1         0\n",
       "5      1     2         1"
      ]
     },
     "execution_count": 4,
     "metadata": {},
     "output_type": "execute_result"
    }
   ],
   "source": [
    "df"
   ]
  },
  {
   "cell_type": "markdown",
   "id": "3c19303a-c211-48e9-9c58-68dc944ba4ff",
   "metadata": {},
   "source": [
    "5) Calculate the covariance matrix for the following variables in a dataset: Age, Income, and Education\n",
    "level. Interpret the results."
   ]
  },
  {
   "cell_type": "code",
   "execution_count": 7,
   "id": "41a7a00f-bd23-421a-8b72-b0d0130164b7",
   "metadata": {},
   "outputs": [],
   "source": [
    "import pandas as pd\n",
    "df =pd.DataFrame({\n",
    "    'Age': [25, 30, 35, 40, 45],\n",
    "    'Income': [50000, 70000, 80000, 100000, 120000],\n",
    "    'Education': [12, 16, 18, 20, 22]})"
   ]
  },
  {
   "cell_type": "code",
   "execution_count": 8,
   "id": "a17a1970-42f6-4791-8b1f-85f370e3cf7d",
   "metadata": {},
   "outputs": [
    {
     "data": {
      "text/html": [
       "<div>\n",
       "<style scoped>\n",
       "    .dataframe tbody tr th:only-of-type {\n",
       "        vertical-align: middle;\n",
       "    }\n",
       "\n",
       "    .dataframe tbody tr th {\n",
       "        vertical-align: top;\n",
       "    }\n",
       "\n",
       "    .dataframe thead th {\n",
       "        text-align: right;\n",
       "    }\n",
       "</style>\n",
       "<table border=\"1\" class=\"dataframe\">\n",
       "  <thead>\n",
       "    <tr style=\"text-align: right;\">\n",
       "      <th></th>\n",
       "      <th>Age</th>\n",
       "      <th>Income</th>\n",
       "      <th>Education</th>\n",
       "    </tr>\n",
       "  </thead>\n",
       "  <tbody>\n",
       "    <tr>\n",
       "      <th>Age</th>\n",
       "      <td>62.5</td>\n",
       "      <td>212500.0</td>\n",
       "      <td>30.0</td>\n",
       "    </tr>\n",
       "    <tr>\n",
       "      <th>Income</th>\n",
       "      <td>212500.0</td>\n",
       "      <td>730000000.0</td>\n",
       "      <td>102000.0</td>\n",
       "    </tr>\n",
       "    <tr>\n",
       "      <th>Education</th>\n",
       "      <td>30.0</td>\n",
       "      <td>102000.0</td>\n",
       "      <td>14.8</td>\n",
       "    </tr>\n",
       "  </tbody>\n",
       "</table>\n",
       "</div>"
      ],
      "text/plain": [
       "                Age       Income  Education\n",
       "Age            62.5     212500.0       30.0\n",
       "Income     212500.0  730000000.0   102000.0\n",
       "Education      30.0     102000.0       14.8"
      ]
     },
     "execution_count": 8,
     "metadata": {},
     "output_type": "execute_result"
    }
   ],
   "source": [
    "cov_matrix=df.cov()\n",
    "cov_matrix"
   ]
  },
  {
   "cell_type": "markdown",
   "id": "619662d6-2d9d-4850-9ffb-b18c4e2395a0",
   "metadata": {},
   "source": [
    "6) You are working on a machine learning project with a dataset containing several categorical\n",
    "variables, including \"Gender\" (Male/Female), \"Education Level\" (High School/Bachelor's/Master's/PhD),\n",
    "and \"Employment Status\" (Unemployed/Part-Time/Full-Time). Which encoding method would you use for\n",
    "each variable, and why?"
   ]
  },
  {
   "cell_type": "markdown",
   "id": "b36403ec-b463-44da-afec-950885acdf3c",
   "metadata": {},
   "source": [
    "For the given categorical variables in the dataset, here are some encoding methods that can be used:\n",
    "\n",
    "\"Gender\" variable: Since there are only two categories, \"Male\" and \"Female\", we can use binary encoding or label encoding. Both methods would work well in this case, but binary encoding may be preferable since it would result in a smaller feature space.\n",
    "\n",
    "\"Education Level\" variable: We can use ordinal encoding for this variable since there is a clear order to the categories. High School can be assigned the value 0, Bachelor's can be assigned 1, Master's can be assigned 2, and PhD can be assigned 3. Alternatively, we can also use one-hot encoding, which would create four separate binary features for each category. However, one-hot encoding may result in a larger feature space.\n",
    "\n",
    "\"Employment Status\" variable: Since there is no clear order to the categories, one-hot encoding would be the preferred encoding method for this variable. This would create three separate binary features for each category, and the resulting feature space would be manageable since there are only three categories.\n",
    "\n",
    "It's important to note that the choice of encoding method may depend on the specific problem and the dataset at hand. For example, if there are many categories within a variable, one-hot encoding may result in a very large feature space, which can cause issues with computation time and model complexity. In such cases, other encoding methods such as frequency encoding or target encoding may be used"
   ]
  },
  {
   "cell_type": "markdown",
   "id": "3c0f55a3-bf60-44d0-9c0e-d6cef5d61681",
   "metadata": {},
   "source": [
    "7) You are analyzing a dataset with two continuous variables, \"Temperature\" and \"Humidity\", and two\n",
    "categorical variables, \"Weather Condition\" (Sunny/Cloudy/Rainy) and \"Wind Direction\" (North/South/\n",
    "East/West). Calculate the covariance between each pair of variables and interpret the results."
   ]
  },
  {
   "cell_type": "code",
   "execution_count": 9,
   "id": "9f5d4eec-e129-4a64-87dc-02a906f14012",
   "metadata": {},
   "outputs": [],
   "source": [
    "import numpy as np\n",
    "import pandas as pd\n",
    "df = pd.DataFrame({\n",
    "    'Temperature': [20, 22, 25, 18, 23],\n",
    "    'Humidity': [60, 65, 70, 55, 75],\n",
    "    'Weather Condition': ['Sunny', 'Cloudy', 'Rainy', 'Cloudy', 'Rainy'],\n",
    "    'Wind Direction': ['North', 'South', 'East', 'North', 'West']})"
   ]
  },
  {
   "cell_type": "code",
   "execution_count": 11,
   "id": "54b86b9a-e363-45fc-a6a6-d5f768ed4be6",
   "metadata": {},
   "outputs": [],
   "source": [
    "df_continous = df[['Temperature','Humidity']]"
   ]
  },
  {
   "cell_type": "code",
   "execution_count": 13,
   "id": "bd401878-a4a2-4f44-aa2b-26a7649f3648",
   "metadata": {},
   "outputs": [],
   "source": [
    "cov_matrix = np.cov(df_continous.values.T)"
   ]
  },
  {
   "cell_type": "code",
   "execution_count": 14,
   "id": "04713cd7-8263-47d7-8487-98dbebee18d8",
   "metadata": {},
   "outputs": [
    {
     "data": {
      "text/plain": [
       "array([[ 7.3 , 18.75],\n",
       "       [18.75, 62.5 ]])"
      ]
     },
     "execution_count": 14,
     "metadata": {},
     "output_type": "execute_result"
    }
   ],
   "source": [
    "cov_matrix"
   ]
  },
  {
   "cell_type": "code",
   "execution_count": 15,
   "id": "8fc81f3c-1bea-4a1d-b2ec-d885591cae90",
   "metadata": {},
   "outputs": [],
   "source": [
    "df_selected = df[['Temperature', 'Humidity', 'Weather Condition', 'Wind Direction']]\n"
   ]
  },
  {
   "cell_type": "code",
   "execution_count": 16,
   "id": "4e142552-bf96-44d6-a1df-3ba60f9bde82",
   "metadata": {},
   "outputs": [
    {
     "data": {
      "text/html": [
       "<div>\n",
       "<style scoped>\n",
       "    .dataframe tbody tr th:only-of-type {\n",
       "        vertical-align: middle;\n",
       "    }\n",
       "\n",
       "    .dataframe tbody tr th {\n",
       "        vertical-align: top;\n",
       "    }\n",
       "\n",
       "    .dataframe thead th {\n",
       "        text-align: right;\n",
       "    }\n",
       "</style>\n",
       "<table border=\"1\" class=\"dataframe\">\n",
       "  <thead>\n",
       "    <tr style=\"text-align: right;\">\n",
       "      <th></th>\n",
       "      <th>Temperature</th>\n",
       "      <th>Humidity</th>\n",
       "      <th>Weather Condition</th>\n",
       "      <th>Wind Direction</th>\n",
       "    </tr>\n",
       "  </thead>\n",
       "  <tbody>\n",
       "    <tr>\n",
       "      <th>0</th>\n",
       "      <td>20</td>\n",
       "      <td>60</td>\n",
       "      <td>Sunny</td>\n",
       "      <td>North</td>\n",
       "    </tr>\n",
       "    <tr>\n",
       "      <th>1</th>\n",
       "      <td>22</td>\n",
       "      <td>65</td>\n",
       "      <td>Cloudy</td>\n",
       "      <td>South</td>\n",
       "    </tr>\n",
       "    <tr>\n",
       "      <th>2</th>\n",
       "      <td>25</td>\n",
       "      <td>70</td>\n",
       "      <td>Rainy</td>\n",
       "      <td>East</td>\n",
       "    </tr>\n",
       "    <tr>\n",
       "      <th>3</th>\n",
       "      <td>18</td>\n",
       "      <td>55</td>\n",
       "      <td>Cloudy</td>\n",
       "      <td>North</td>\n",
       "    </tr>\n",
       "    <tr>\n",
       "      <th>4</th>\n",
       "      <td>23</td>\n",
       "      <td>75</td>\n",
       "      <td>Rainy</td>\n",
       "      <td>West</td>\n",
       "    </tr>\n",
       "  </tbody>\n",
       "</table>\n",
       "</div>"
      ],
      "text/plain": [
       "   Temperature  Humidity Weather Condition Wind Direction\n",
       "0           20        60             Sunny          North\n",
       "1           22        65            Cloudy          South\n",
       "2           25        70             Rainy           East\n",
       "3           18        55            Cloudy          North\n",
       "4           23        75             Rainy           West"
      ]
     },
     "execution_count": 16,
     "metadata": {},
     "output_type": "execute_result"
    }
   ],
   "source": [
    "df_selected"
   ]
  },
  {
   "cell_type": "code",
   "execution_count": 20,
   "id": "12665b2e-a000-4a9f-9bfb-a2ce493afd3e",
   "metadata": {},
   "outputs": [
    {
     "name": "stderr",
     "output_type": "stream",
     "text": [
      "/opt/conda/lib/python3.10/site-packages/pandas/core/frame.py:10471: RuntimeWarning: Degrees of freedom <= 0 for slice\n",
      "  base_cov = np.cov(mat.T, ddof=ddof)\n",
      "/opt/conda/lib/python3.10/site-packages/numpy/lib/function_base.py:2704: RuntimeWarning: divide by zero encountered in divide\n",
      "  c *= np.true_divide(1, fact)\n",
      "/opt/conda/lib/python3.10/site-packages/numpy/lib/function_base.py:2704: RuntimeWarning: invalid value encountered in multiply\n",
      "  c *= np.true_divide(1, fact)\n",
      "/opt/conda/lib/python3.10/site-packages/pandas/core/frame.py:10471: RuntimeWarning: Degrees of freedom <= 0 for slice\n",
      "  base_cov = np.cov(mat.T, ddof=ddof)\n",
      "/opt/conda/lib/python3.10/site-packages/numpy/lib/function_base.py:2704: RuntimeWarning: divide by zero encountered in divide\n",
      "  c *= np.true_divide(1, fact)\n",
      "/opt/conda/lib/python3.10/site-packages/numpy/lib/function_base.py:2704: RuntimeWarning: invalid value encountered in multiply\n",
      "  c *= np.true_divide(1, fact)\n",
      "/opt/conda/lib/python3.10/site-packages/pandas/core/frame.py:10471: RuntimeWarning: Degrees of freedom <= 0 for slice\n",
      "  base_cov = np.cov(mat.T, ddof=ddof)\n",
      "/opt/conda/lib/python3.10/site-packages/numpy/lib/function_base.py:2704: RuntimeWarning: divide by zero encountered in divide\n",
      "  c *= np.true_divide(1, fact)\n",
      "/opt/conda/lib/python3.10/site-packages/numpy/lib/function_base.py:2704: RuntimeWarning: invalid value encountered in multiply\n",
      "  c *= np.true_divide(1, fact)\n",
      "/opt/conda/lib/python3.10/site-packages/pandas/core/frame.py:10471: RuntimeWarning: Degrees of freedom <= 0 for slice\n",
      "  base_cov = np.cov(mat.T, ddof=ddof)\n",
      "/opt/conda/lib/python3.10/site-packages/numpy/lib/function_base.py:2704: RuntimeWarning: divide by zero encountered in divide\n",
      "  c *= np.true_divide(1, fact)\n",
      "/opt/conda/lib/python3.10/site-packages/numpy/lib/function_base.py:2704: RuntimeWarning: invalid value encountered in multiply\n",
      "  c *= np.true_divide(1, fact)\n",
      "/opt/conda/lib/python3.10/site-packages/pandas/core/frame.py:10471: RuntimeWarning: Degrees of freedom <= 0 for slice\n",
      "  base_cov = np.cov(mat.T, ddof=ddof)\n",
      "/opt/conda/lib/python3.10/site-packages/numpy/lib/function_base.py:2704: RuntimeWarning: divide by zero encountered in divide\n",
      "  c *= np.true_divide(1, fact)\n",
      "/opt/conda/lib/python3.10/site-packages/numpy/lib/function_base.py:2704: RuntimeWarning: invalid value encountered in multiply\n",
      "  c *= np.true_divide(1, fact)\n"
     ]
    }
   ],
   "source": [
    "cov_matrix_groups = df_selected.groupby(['Weather Condition', 'Wind Direction']).cov()\n"
   ]
  },
  {
   "cell_type": "code",
   "execution_count": 21,
   "id": "a3287e49-61ef-4069-bfc3-f2344f6d9035",
   "metadata": {},
   "outputs": [
    {
     "data": {
      "text/html": [
       "<div>\n",
       "<style scoped>\n",
       "    .dataframe tbody tr th:only-of-type {\n",
       "        vertical-align: middle;\n",
       "    }\n",
       "\n",
       "    .dataframe tbody tr th {\n",
       "        vertical-align: top;\n",
       "    }\n",
       "\n",
       "    .dataframe thead th {\n",
       "        text-align: right;\n",
       "    }\n",
       "</style>\n",
       "<table border=\"1\" class=\"dataframe\">\n",
       "  <thead>\n",
       "    <tr style=\"text-align: right;\">\n",
       "      <th></th>\n",
       "      <th></th>\n",
       "      <th></th>\n",
       "      <th>Temperature</th>\n",
       "      <th>Humidity</th>\n",
       "    </tr>\n",
       "    <tr>\n",
       "      <th>Weather Condition</th>\n",
       "      <th>Wind Direction</th>\n",
       "      <th></th>\n",
       "      <th></th>\n",
       "      <th></th>\n",
       "    </tr>\n",
       "  </thead>\n",
       "  <tbody>\n",
       "    <tr>\n",
       "      <th rowspan=\"4\" valign=\"top\">Cloudy</th>\n",
       "      <th rowspan=\"2\" valign=\"top\">North</th>\n",
       "      <th>Temperature</th>\n",
       "      <td>NaN</td>\n",
       "      <td>NaN</td>\n",
       "    </tr>\n",
       "    <tr>\n",
       "      <th>Humidity</th>\n",
       "      <td>NaN</td>\n",
       "      <td>NaN</td>\n",
       "    </tr>\n",
       "    <tr>\n",
       "      <th rowspan=\"2\" valign=\"top\">South</th>\n",
       "      <th>Temperature</th>\n",
       "      <td>NaN</td>\n",
       "      <td>NaN</td>\n",
       "    </tr>\n",
       "    <tr>\n",
       "      <th>Humidity</th>\n",
       "      <td>NaN</td>\n",
       "      <td>NaN</td>\n",
       "    </tr>\n",
       "    <tr>\n",
       "      <th rowspan=\"4\" valign=\"top\">Rainy</th>\n",
       "      <th rowspan=\"2\" valign=\"top\">East</th>\n",
       "      <th>Temperature</th>\n",
       "      <td>NaN</td>\n",
       "      <td>NaN</td>\n",
       "    </tr>\n",
       "    <tr>\n",
       "      <th>Humidity</th>\n",
       "      <td>NaN</td>\n",
       "      <td>NaN</td>\n",
       "    </tr>\n",
       "    <tr>\n",
       "      <th rowspan=\"2\" valign=\"top\">West</th>\n",
       "      <th>Temperature</th>\n",
       "      <td>NaN</td>\n",
       "      <td>NaN</td>\n",
       "    </tr>\n",
       "    <tr>\n",
       "      <th>Humidity</th>\n",
       "      <td>NaN</td>\n",
       "      <td>NaN</td>\n",
       "    </tr>\n",
       "    <tr>\n",
       "      <th rowspan=\"2\" valign=\"top\">Sunny</th>\n",
       "      <th rowspan=\"2\" valign=\"top\">North</th>\n",
       "      <th>Temperature</th>\n",
       "      <td>NaN</td>\n",
       "      <td>NaN</td>\n",
       "    </tr>\n",
       "    <tr>\n",
       "      <th>Humidity</th>\n",
       "      <td>NaN</td>\n",
       "      <td>NaN</td>\n",
       "    </tr>\n",
       "  </tbody>\n",
       "</table>\n",
       "</div>"
      ],
      "text/plain": [
       "                                              Temperature  Humidity\n",
       "Weather Condition Wind Direction                                   \n",
       "Cloudy            North          Temperature          NaN       NaN\n",
       "                                 Humidity             NaN       NaN\n",
       "                  South          Temperature          NaN       NaN\n",
       "                                 Humidity             NaN       NaN\n",
       "Rainy             East           Temperature          NaN       NaN\n",
       "                                 Humidity             NaN       NaN\n",
       "                  West           Temperature          NaN       NaN\n",
       "                                 Humidity             NaN       NaN\n",
       "Sunny             North          Temperature          NaN       NaN\n",
       "                                 Humidity             NaN       NaN"
      ]
     },
     "execution_count": 21,
     "metadata": {},
     "output_type": "execute_result"
    }
   ],
   "source": [
    "cov_matrix_groups"
   ]
  },
  {
   "cell_type": "code",
   "execution_count": null,
   "id": "9450dcc8-db21-4572-9430-22313ee1ce82",
   "metadata": {},
   "outputs": [],
   "source": []
  }
 ],
 "metadata": {
  "kernelspec": {
   "display_name": "Python 3 (ipykernel)",
   "language": "python",
   "name": "python3"
  },
  "language_info": {
   "codemirror_mode": {
    "name": "ipython",
    "version": 3
   },
   "file_extension": ".py",
   "mimetype": "text/x-python",
   "name": "python",
   "nbconvert_exporter": "python",
   "pygments_lexer": "ipython3",
   "version": "3.10.8"
  }
 },
 "nbformat": 4,
 "nbformat_minor": 5
}
