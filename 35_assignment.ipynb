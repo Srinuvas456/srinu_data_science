{
 "cells": [
  {
   "cell_type": "markdown",
   "id": "c6414aa3-dec1-4e14-b63a-d640b7f3619b",
   "metadata": {},
   "source": [
    "1) What is the difference between a t-test and a z-test? Provide an example scenario where you would\n",
    "use each type of test."
   ]
  },
  {
   "cell_type": "markdown",
   "id": "abc2b1dd-952e-4633-8996-92da17a39d5e",
   "metadata": {},
   "source": [
    "The main difference between the t-test and z-test is that the t-test is used when the population standard deviation is unknown or the sample size is small, while the z-test is used when the population standard deviation is known or the sample size is large.\n",
    "\n",
    "Example scenario for using a t-test:\n",
    "Suppose a researcher wants to determine whether there is a significant difference in the mean weight of two different groups of dogs. The researcher randomly selects 25 dogs from one group and 30 dogs from another group and measures their weight. The population standard deviation is unknown, and the sample size is less than 30. In this case, the researcher should use a t-test to compare the mean weight of the two groups.\n",
    "\n",
    "Example scenario for using a z-test:\n",
    "Suppose a researcher wants to determine whether there is a significant difference in the mean height of two different groups of trees. The researcher randomly selects 100 trees from one group and 150 trees from another group and measures their height. The population standard deviation is known to be 5 cm, and the sample size is greater than 30. In this case, the researcher should use a z-test to compare the mean height of the two groups"
   ]
  },
  {
   "cell_type": "markdown",
   "id": "755a34e5-5e81-4007-8287-f68c94a96ee4",
   "metadata": {},
   "source": [
    "2) Differentiate between one-tailed and two-tailed tests."
   ]
  },
  {
   "cell_type": "markdown",
   "id": "25c3c0fe-283e-40bb-930f-ba085d98f83c",
   "metadata": {},
   "source": [
    "In a one-tailed test, the alternative hypothesis is directional, meaning that it predicts that the population parameter will be greater than or less than a certain value. Therefore, the one-tailed test will have a critical region on only one side of the distribution, either the upper or the lower tail\n",
    "\n",
    "ex :  suppose a researcher wants to test whether a new fertilizer will increase the mean yield of a crop. The null hypothesis would be that the mean yield is the same with or without the new fertilizer, while the alternative hypothesis would be that the mean yield with the new fertilizer is greater than the mean yield without the new fertilizer. In this case, the one-tailed test would have a critical region in the upper tail of the distribution"
   ]
  },
  {
   "cell_type": "markdown",
   "id": "c9980d47-b26c-4df3-8171-ae99aecf8971",
   "metadata": {},
   "source": [
    "In a two-tailed test, the alternative hypothesis is non-directional, meaning that it predicts that the population parameter will be different from a certain value, either greater than or less than. Therefore, the two-tailed test will have a critical region on both sides of the distribution, the upper and the lower tail.\n",
    "\n",
    "ex: suppose a researcher wants to test whether there is a significant difference in the mean heights of two different groups of plants. The null hypothesis would be that the mean heights are the same for both groups, while the alternative hypothesis would be that the mean heights are different for the two groups. In this case, the two-tailed test would have a critical region on both sides of the distribution"
   ]
  },
  {
   "cell_type": "markdown",
   "id": "9997ec98-4c05-4ddf-bddd-0965ca8fc371",
   "metadata": {},
   "source": [
    "3) Explain the concept of Type 1 and Type 2 errors in hypothesis testing. Provide an example scenario for\n",
    "each type of error."
   ]
  },
  {
   "cell_type": "markdown",
   "id": "aaed6b5e-25ae-46bb-af29-aec815828394",
   "metadata": {},
   "source": [
    "A Type 1 error occurs when we reject the null hypothesis when it is actually true. This means that we have concluded that there is a significant effect or difference when there isn't one. The probability of making a Type 1 error is denoted by alpha (α), and it is usually set at 0.05 or 0.01, depending on the level of significance chosen for the test.\n",
    "\n",
    "ex: suppose a pharmaceutical company is testing a new drug and wants to determine if it is more effective than the current standard treatment. The null hypothesis would be that the new drug is no more effective than the standard treatment. A Type 1 error would occur if the company concludes that the new drug is more effective than the standard treatment when it is not. This could lead to the drug being approved for use when it is actually ineffective, potentially causing harm to patients"
   ]
  },
  {
   "cell_type": "markdown",
   "id": "1a76a8f5-d852-44a1-bef9-89bd0ba28fe4",
   "metadata": {},
   "source": [
    "A Type 2 error occurs when we fail to reject the null hypothesis when it is actually false. This means that we have concluded that there is no significant effect or difference when there actually is one. The probability of making a Type 2 error is denoted by beta (β). The probability of correctly rejecting a false null hypothesis is called power, and it is denoted by 1 - β.\n",
    "\n",
    "ex: suppose a manufacturer wants to test whether a new machine produces parts with a certain dimension. The null hypothesis would be that the machine produces parts with the required dimension, while the alternative hypothesis would be that it does not. A Type 2 error would occur if the manufacturer concludes that the machine produces parts with the required dimension when it actually does not. This could result in the manufacturer accepting and using parts that are not up to the required standards, causing problems down the line"
   ]
  },
  {
   "cell_type": "markdown",
   "id": "5019724a-6941-4212-ae4b-f89384352610",
   "metadata": {},
   "source": [
    "4) Explain Bayes's theorem with an example"
   ]
  },
  {
   "cell_type": "markdown",
   "id": "d3461a6c-510b-4ef1-bde6-64c382b4f257",
   "metadata": {},
   "source": [
    "Bayes's theorem is a statistical theorem that provides a way to update the probability of an event based on new evidence or information. It is a fundamental concept in Bayesian statistics and has wide applications in various fields, including medical diagnosis, fraud detection, and spam filtering.\n",
    "\n",
    "The theorem states that the probability of a hypothesis (H) given some observed evidence (E) is equal to the probability of the evidence given the hypothesis (P(E|H)), multiplied by the prior probability of the hypothesis (P(H)), divided by the probability of the evidence (P(E)).\n",
    "\n",
    "In mathematical notation, Bayes's theorem can be written as follows:\n",
    "\n",
    "P(H|E) = P(E|H) x P(H) / P(E)\n",
    "where:\n",
    "\n",
    "P(H|E) is the posterior probability of the hypothesis given the evidence\n",
    "P(E|H) is the likelihood of the evidence given the hypothesis\n",
    "P(H) is the prior probability of the hypothesis\n",
    "P(E) is the probability of the evidence\n",
    "\n",
    "\n",
    "\n",
    "ex:\n",
    "\n",
    "Suppose a company produces light bulbs, and the quality control manager is concerned about the percentage of defective bulbs produced by the company. The manager has historical data that suggests that 2% of the bulbs produced are defective.\n",
    "\n",
    "Now, the manager receives a complaint from a customer who purchased a pack of 10 bulbs and found that 3 of them were defective. The manager wants to update their estimate of the percentage of defective bulbs based on this new evidence.\n",
    "\n",
    "Using Bayes's theorem, the manager can calculate the posterior probability of the hypothesis that a bulb is defective (H) given the evidence (E), i.e., P(H|E). The prior probability of H is 2%, so P(H) = 0.02.\n",
    "\n",
    "\n",
    "The likelihood of the evidence given the hypothesis (P(E|H)) can be calculated using the binomial distribution, which gives the probability of getting 3 or more defective bulbs out of 10, given that the true proportion of defective bulbs is H.\n",
    "\n",
    "Assuming a 2% prior probability of a defective bulb (H), the likelihood of getting 3 or more defective bulbs out of 10 (E) is:\n",
    "\n",
    "P(E|H) = (10 choose 3) * H^3 * (1 - H)^7 + (10 choose 4) * H^4 * (1 - H)^6 + ... + (10 choose 10) * H^10 * (1 - H)^0\n",
    "\n",
    "This can be computed using software or statistical tables, or approximated using methods like the normal approximation or Markov Chain Monte Carlo.\n",
    "\n",
    "Assuming a uniform prior for simplicity, we can substitute P(H) = 0.02 and P(E|H) = 0.017 in Bayes's theorem to get:\n",
    "\n",
    "P(H|E) = P(E|H) * P(H) / P(E) = 0.017 * 0.02 / P(E)\n",
    "\n",
    "To compute P(E), we can use the law of total probability:\n",
    "\n",
    "P(E) = P(E|H) * P(H) + P(E|not H) * P(not H)\n",
    "Assuming a negligible probability of false positives (finding a defect when there is none), we can set P(E|not H) = 0 and simplify the equation to:\n",
    "\n",
    "P(E) = P(E|H) * P(H) = 0.017 * 0.02 = 0.00034\n",
    "\n",
    "Now we can substitute P(E) in Bayes's theorem to get the posterior probability of H given E:\n",
    "\n",
    "P(H|E) = 0.017 * 0.02 / 0.00034 = 1.00\n",
    "\n"
   ]
  },
  {
   "cell_type": "markdown",
   "id": "fac4b89b-43a8-4942-b61e-35cbbce11ebe",
   "metadata": {},
   "source": [
    "5) What is a confidence interval? How to calculate the confidence interval, explain with an example."
   ]
  },
  {
   "cell_type": "markdown",
   "id": "bdd02d21-256e-419c-9727-86d67d7412bf",
   "metadata": {},
   "source": [
    "A confidence interval is a range of values that is likely to contain the true value of a population parameter (such as a population mean or proportion) with a certain level of confidence. It is a way of expressing the uncertainty associated with a point estimate of a population parameter based on a sample.\n",
    "\n",
    "The formula for calculating a confidence interval for a population mean with a known population standard deviation is:\n",
    "\n",
    "Confidence Interval = Point Estimate ± (Z-score x Standard Error)\n",
    "\n",
    "where the point estimate is the sample mean, the Z-score is based on the desired level of confidence (e.g., 1.96 for 95% confidence), and the standard error is the standard deviation of the sampling distribution of the mean \n",
    "\n",
    "ex:\n",
    "\n",
    "suppose we want to estimate the average height of a certain population of people. We take a random sample of 100 people from this population and find that their average height is 68 inches, with a standard deviation of 3 inches. We want to calculate a 95% confidence interval for the true population mean height.\n",
    "\n",
    "First, we calculate the standard error:\n",
    "\n",
    "Standard Error = 3 / sqrt(100) = 0.3\n",
    "\n",
    "Next, we calculate the margin of error based on the Z-score for 95% confidence (1.96):\n",
    "\n",
    "Margin of Error = 1.96 x 0.3 = 0.588\n",
    "\n",
    "Finally, we construct the confidence interval:\n",
    "\n",
    "Confidence Interval = 68 ± 0.588\n",
    "Thus, the 95% confidence interval for the true population mean height is between 67.412 and 68.588 inches. We can interpret this to mean that if we were to take repeated random samples of 100 people from this population and calculate a 95% confidence interval based on each sample, we would expect about 95% of the intervals to contain the true population mean height."
   ]
  },
  {
   "cell_type": "markdown",
   "id": "b2586711-f40a-4538-8658-44a30b6b14e3",
   "metadata": {},
   "source": [
    "6) Use Bayes' Theorem to calculate the probability of an event occurring given prior knowledge of the\n",
    "event's probability and new evidence. Provide a sample problem and solution."
   ]
  },
  {
   "cell_type": "markdown",
   "id": "359be47d-f490-42f8-b978-3a744895a7f5",
   "metadata": {},
   "source": [
    "Suppose a doctor administers a mammogram to a patient and the mammogram comes back positive. The doctor knows that 1% of women over the age of 50 have breast cancer, and that the mammogram correctly identifies breast cancer 90% of the time and incorrectly identifies a healthy patient as having breast cancer 10% of the time. What is the probability that the patient actually has breast cancer given that the mammogram came back positive?\n",
    "\n",
    "Let's define some notation to make things easier:\n",
    "\n",
    "A = patient has breast cancer\n",
    "B = mammogram is positive\n",
    "\n",
    "We want to calculate P(A|B), the probability that the patient actually has breast cancer given that the mammogram is positive. We can use Bayes' Theorem to do this:\n",
    "\n",
    "P(A|B) = P(B|A) * P(A) / P(B)\n",
    "where P(B|A) is the probability of a positive mammogram given that the patient actually has breast cancer, P(A) is the prior probability of breast cancer, and P(B) is the overall probability of a positive mammogram.\n",
    "\n",
    "We know that P(B|A) = 0.9 (the mammogram correctly identifies breast cancer 90% of the time) and P(A) = 0.01 (1% of women over 50 have breast cancer). To calculate P(B), we need to use the law of total probability:\n",
    "\n",
    "P(B) = P(B|A) * P(A) + P(B|~A) * P(~A)\n",
    "\n",
    "where P(~A) is the probability of not having breast cancer, which is 1 - P(A) = 0.99. We also know that P(B|~A) = 0.1 (the mammogram incorrectly identifies a healthy patient as having breast cancer 10% of the time). Substituting these values, we get:\n",
    "\n",
    "P(B) = 0.9 * 0.01 + 0.1 * 0.99 = 0.108\n",
    "\n",
    "Finally, we can substitute all of these values into Bayes' Theorem to get:\n",
    "\n",
    "P(A|B) = 0.9 * 0.01 / 0.108 = 0.083\n",
    "\n",
    "\n",
    "So the probability that the patient actually has breast cancer given a positive mammogram is only 8.3%. Despite the positive test result, there is still a relatively low chance of actually having breast cancer due to the low prior probability of the disease and the relatively high rate of false positives with mammograms"
   ]
  },
  {
   "cell_type": "markdown",
   "id": "8d2988ba-6f72-4692-8721-f5d88e809e87",
   "metadata": {},
   "source": [
    "7) Calculate the 95% confidence interval for a sample of data with a mean of 50 and a standard deviation\n",
    "of 5. Interpret the results."
   ]
  },
  {
   "cell_type": "markdown",
   "id": "88385019-93da-4ba0-b90b-373f5f695c43",
   "metadata": {},
   "source": [
    "To calculate the 95% confidence interval, we need to use the following formula:\n",
    "\n",
    "Confidence interval = sample mean ± (critical value) x (standard error)\n",
    "\n",
    "where the standard error is calculated as the standard deviation divided by the square root of the sample size. The critical value is determined based on the level of confidence and the degrees of freedom, which is the sample size minus 1.\n",
    "\n",
    "For a 95% confidence level with a sample size of n = 1, the critical value is 1.96.\n",
    "\n",
    "Plugging in the values we have:\n",
    "\n",
    "Confidence interval = 50 ± (1.96) x (5/√n)\n",
    "\n",
    "Confidence interval = 50 ± (1.96) x (5/√100)\n",
    "\n",
    "Confidence interval = 50 ± 0.98\n",
    "\n",
    "The 95% confidence interval is therefore (49.02, 50.98).\n",
    "\n",
    "Interpretation: We can be 95% confident that the true population mean falls within the interval (49.02, 50.98) based on the sample data. This means that if we were to repeat the sampling process many times and calculate a confidence interval each time, 95% of the intervals would contain the true population mean"
   ]
  },
  {
   "cell_type": "markdown",
   "id": "f759fe6b-9b30-4b2f-92b4-50b7f20d1b6a",
   "metadata": {},
   "source": [
    "8) What is the margin of error in a confidence interval? How does sample size affect the margin of error?\n",
    "Provide an example of a scenario where a larger sample size would result in a smaller margin of error."
   ]
  },
  {
   "cell_type": "markdown",
   "id": "43e35630-325e-4b81-983e-e32668e531f1",
   "metadata": {},
   "source": [
    "The margin of error in a confidence interval is the amount by which the sample statistic (usually the sample mean) could differ from the true population parameter, based on the level of confidence and the sample size. It is calculated as the critical value multiplied by the standard error of the sample statistic.\n",
    "\n",
    "A larger sample size generally results in a smaller margin of error because as the sample size increases, the standard error of the sample statistic decreases, making the confidence interval narrower\n",
    "\n",
    "ex:\n",
    "\n",
    "let's say a researcher wants to estimate the mean height of a population of trees. They take a sample of 25 trees and calculate the mean height to be 20 feet with a standard deviation of 3 feet. They want to calculate a 95% confidence interval for the true population mean height.\n",
    "\n",
    "Using the formula for a confidence interval with a sample size of 25 and a 95% confidence level, the critical value is 2.064. The standard error is calculated as the standard deviation divided by the square root of the sample size:\n",
    "\n",
    "Standard error = 3 / sqrt(25) = 0.6\n",
    "\n",
    "The margin of error is therefore:\n",
    "\n",
    "Margin of error = 2.064 x 0.6 = 1.24\n",
    "\n",
    "So the 95% confidence interval is (18.76, 21.24).\n",
    "\n",
    "If the researcher were to take a larger sample size, say 100 trees, with the same standard deviation of 3 feet, the standard error would be:\n",
    "\n",
    "Standard error = 3 / sqrt(100) = 0.3\n",
    "\n",
    "The margin of error would be:\n",
    "\n",
    "Margin of error = 1.96 x 0.3 = 0.588\n",
    "\n",
    "So the 95% confidence interval would be (19.412, 20.588).\n",
    "\n",
    "As we can see, the larger sample size results in a smaller margin of error and a narrower confidence interval. This means that the researcher can be more confident that the true population mean height falls within this interval"
   ]
  },
  {
   "cell_type": "markdown",
   "id": "cea39d11-8203-4b11-8eaa-2742aa0c14f5",
   "metadata": {},
   "source": [
    "9) Calculate the z-score for a data point with a value of 75, a population mean of 70, and a population\n",
    "standard deviation of 5. Interpret the results."
   ]
  },
  {
   "cell_type": "markdown",
   "id": "990e3280-f32e-40f7-8565-4c72f1eb941f",
   "metadata": {},
   "source": [
    "To calculate the z-score:\n",
    "\n",
    "z = (x - μ) / σ\n",
    "\n",
    "where:\n",
    "\n",
    "x = the value of the data point\n",
    "μ = the population mean\n",
    "σ = the population standard deviation\n",
    "\n",
    "Substituting the given values:\n",
    "\n",
    "z = (75 - 70) / 5\n",
    "z = 1\n",
    "\n",
    "Interpretation: The z-score of 1 indicates that the data point of 75 is one standard deviation above the population mean of 70"
   ]
  },
  {
   "cell_type": "markdown",
   "id": "588fde8c-0397-42dc-a545-ed11c138d5c6",
   "metadata": {},
   "source": [
    "10) In a study of the effectiveness of a new weight loss drug, a sample of 50 participants lost an average\n",
    "of 6 pounds with a standard deviation of 2.5 pounds. Conduct a hypothesis test to determine if the drug is\n",
    "significantly effective at a 95% confidence level using a t-test."
   ]
  },
  {
   "cell_type": "markdown",
   "id": "e5596794-a984-4461-9da9-b4e98146c029",
   "metadata": {},
   "source": [
    "To conduct a hypothesis test for the effectiveness of the weight loss drug, we can use a t-test. The null hypothesis is that the mean weight loss is not significantly different from zero, while the alternative hypothesis is that the mean weight loss is significantly greater than zero.\n",
    "\n",
    "H0: μ = 0 (the drug is not effective)\n",
    "Ha: μ > 0 (the drug is effective)\n",
    "\n",
    "We can use a one-sample t-test, since we are comparing the sample mean to a known value (zero).\n",
    "\n",
    "The t-statistic is calculated as:\n",
    "\n",
    "t = (x̄ - μ) / (s / sqrt(n))\n",
    "\n",
    "where x̄ is the sample mean, μ is the hypothesized population mean (0), s is the sample standard deviation, and n is the sample size.\n",
    "\n",
    "Substituting the given values:\n",
    "\n",
    "t = (6 - 0) / (2.5 / sqrt(50))\n",
    "t = 13.42\n",
    "\n",
    "The degrees of freedom for a one-sample t-test with 50 observations is 49.\n",
    "\n",
    "Using a t-table or calculator, we can find the critical t-value at a 95% confidence level with 49 degrees of freedom. The critical t-value is 1.676.\n",
    "\n",
    "Since our calculated t-value (13.42) is greater than the critical t-value (1.676), we reject the null hypothesis and conclude that the drug is significantly effective at a 95% confidence level.\n",
    "\n",
    "Therefore, we have evidence to support the claim that the new weight loss drug is effective"
   ]
  },
  {
   "cell_type": "markdown",
   "id": "52c259df-4034-4679-a415-f2e32b34600f",
   "metadata": {},
   "source": [
    "11) In a survey of 500 people, 65% reported being satisfied with their current job. Calculate the 95%\n",
    "confidence interval for the true proportion of people who are satisfied with their job."
   ]
  },
  {
   "cell_type": "markdown",
   "id": "7447574f-e5f8-4139-acea-e09b46b2a22c",
   "metadata": {},
   "source": [
    "To calculate the 95% confidence interval for the proportion of people satisfied with their job, we can use the following formula:\n",
    "\n",
    "CI = p ± z*(sqrt(p*(1-p)/n))\n",
    "\n",
    "Where:\n",
    "\n",
    "p is the sample proportion (0.65)\n",
    "z is the critical value from the standard normal distribution for a 95% confidence level, which is 1.96\n",
    "n is the sample size (500)\n",
    "Plugging in the values, we get:\n",
    "\n",
    "CI = 0.65 ± 1.96*(sqrt(0.65*(1-0.65)/500))\n",
    "CI = 0.65 ± 0.041\n",
    "CI = [0.609, 0.691]\n",
    "\n",
    "Interpretation: We are 95% confident that the true proportion of people who are satisfied with their job is between 60.9% and 69.1%"
   ]
  },
  {
   "cell_type": "markdown",
   "id": "28d4b91e-0a0b-4ca2-b603-19c8a06a398d",
   "metadata": {},
   "source": [
    "12) A researcher is testing the effectiveness of two different teaching methods on student performance.\n",
    "Sample A has a mean score of 85 with a standard deviation of 6, while sample B has a mean score of 82\n",
    "with a standard deviation of 5. Conduct a hypothesis test to determine if the two teaching methods have a\n",
    "significant difference in student performance using a t-test with a significance level of 0.01."
   ]
  },
  {
   "cell_type": "markdown",
   "id": "9dd09cae-e283-4c79-974b-3cb071c068e1",
   "metadata": {},
   "source": [
    "To determine if the two teaching methods have a significant difference in student performance, we can use a two-sample t-test with unequal variances.\n",
    "\n",
    "The null hypothesis is that there is no significant difference in the mean scores of the two teaching methods:\n",
    "\n",
    "H0: μA = μB\n",
    "\n",
    "We will use a significance level of 0.01, which means we will reject the null hypothesis if the p-value is less than 0.01.\n",
    "\n",
    "First, we can calculate the pooled standard deviation:\n",
    "\n",
    "s_p = sqrt(((nA-1)sA^2 + (nB-1)sB^2) / (nA + nB - 2))\n",
    "s_p = sqrt(((24)(6^2) + (29)(5^2)) / (53))\n",
    "s_p = 5.522\n",
    "\n",
    "where nA and nB are the sample sizes, sA and sB are the sample standard deviations.\n",
    "\n",
    "Next, we calculate the t-statistic:\n",
    "\n",
    "t = (xA - xB) / (s_p * sqrt(1/nA + 1/nB))\n",
    "t = (85 - 82) / (5.522 * sqrt(1/25 + 1/34))\n",
    "t = 2.46\n",
    "\n",
    "where xA and xB are the sample means.\n",
    "\n",
    "Using a t-table or a calculator, we find the p-value associated with a t-statistic of 2.46 with 53 degrees of freedom to be approximately 0.017. Since this p-value is less than"
   ]
  },
  {
   "cell_type": "markdown",
   "id": "298e2759-2ec3-4e1d-bef4-e75b74a1fdc0",
   "metadata": {},
   "source": [
    "13) A population has a mean of 60 and a standard deviation of 8. A sample of 50 observations has a mean\n",
    "of 65. Calculate the 90% confidence interval for the true population mean."
   ]
  },
  {
   "cell_type": "markdown",
   "id": "6ff858a7-7abf-4309-9569-6ae7b9a780d7",
   "metadata": {},
   "source": [
    "To calculate the confidence interval, we can use the formula:\n",
    "\n",
    "CI = x̄ ± z* (σ/√n)\n",
    "\n",
    "where x̄ is the sample mean, σ is the population standard deviation, n is the sample size, and z* is the critical value for the desired confidence level.\n",
    "\n",
    "We are given x̄ = 65, σ = 8, and n = 50. The critical value for a 90% confidence level can be found using a standard normal distribution table or calculator, and it is approximately 1.645.\n",
    "\n",
    "Substituting these values into the formula, we get:\n",
    "\n",
    "CI = 65 ± 1.645 * (8/√50)\n",
    "= 65 ± 2.320\n",
    "= (62.68, 67.32)\n",
    "\n",
    "Therefore, we can say with 90% confidence that the true population mean is between 62.68 and 67.32."
   ]
  },
  {
   "cell_type": "markdown",
   "id": "7ec8e602-4d68-4f82-8131-9094e98c29b5",
   "metadata": {},
   "source": [
    "14) In a study of the effects of caffeine on reaction time, a sample of 30 participants had an average\n",
    "reaction time of 0.25 seconds with a standard deviation of 0.05 seconds. Conduct a hypothesis test to\n",
    "determine if the caffeine has a significant effect on reaction time at a 90% confidence level using a t-test.14) "
   ]
  },
  {
   "cell_type": "markdown",
   "id": "4c314325-251b-4f7f-8a18-e210edf5089b",
   "metadata": {},
   "source": [
    "To conduct a hypothesis test, we need to state the null and alternative hypotheses:\n",
    "\n",
    "Null Hypothesis: Caffeine has no significant effect on reaction time.\n",
    "Alternative Hypothesis: Caffeine has a significant effect on reaction time.\n",
    "\n",
    "We will use a t-test with a 90% confidence level. The t-test statistic is calculated using the formula:\n",
    "\n",
    "t = (x̄ - μ) / (s / √n)\n",
    "\n",
    "where x̄ is the sample mean, μ is the population mean under the null hypothesis (which is 0.25 seconds), s is the sample standard deviation, and n is the sample size.\n",
    "\n",
    "Substituting the given values, we get:\n",
    "\n",
    "t = (0.25 - 0) / (0.05 / √30)\n",
    "= 13.42\n",
    "\n",
    "The degrees of freedom for this test is 30 - 1 = 29, which we can find from a t-table or calculator. For a two-tailed test at a 90% confidence level with 29 degrees of freedom, the critical values are -1.699 and 1.699\n",
    "\n",
    "Since the calculated t-value of 13.42 is greater than the critical value of 1.699, we reject the null hypothesis and conclude that caffeine has a significant effect on reaction time at a 90% confidence level. In other words, the average reaction time of participants who consumed caffeine was significantly different from 0.25 seconds"
   ]
  },
  {
   "cell_type": "code",
   "execution_count": null,
   "id": "68e92f77-b370-4ad5-898c-5351740b4cba",
   "metadata": {},
   "outputs": [],
   "source": []
  }
 ],
 "metadata": {
  "kernelspec": {
   "display_name": "Python 3 (ipykernel)",
   "language": "python",
   "name": "python3"
  },
  "language_info": {
   "codemirror_mode": {
    "name": "ipython",
    "version": 3
   },
   "file_extension": ".py",
   "mimetype": "text/x-python",
   "name": "python",
   "nbconvert_exporter": "python",
   "pygments_lexer": "ipython3",
   "version": "3.10.8"
  }
 },
 "nbformat": 4,
 "nbformat_minor": 5
}
