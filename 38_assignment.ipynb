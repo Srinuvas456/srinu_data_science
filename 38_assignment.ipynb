{
 "cells": [
  {
   "cell_type": "markdown",
   "id": "52078ab4-5628-427b-b615-82985470204c",
   "metadata": {},
   "source": [
    "1) Write a Python function that takes in two arrays of data and calculates the F-value for a variance ratio\n",
    "test. The function should return the F-value and the corresponding p-value for the test."
   ]
  },
  {
   "cell_type": "code",
   "execution_count": 1,
   "id": "8f2ec53c-3c03-42e1-8c38-f963e399ba84",
   "metadata": {},
   "outputs": [],
   "source": [
    "import numpy as np\n",
    "from scipy.stats import f\n",
    "def variance_ratio_test(x,y):\n",
    "    var_x = np.var(x, ddof=1)\n",
    "    var_y = np.var(y, ddof=1)\n",
    "    F = var_x / var_y\n",
    "    df_x = len(x) - 1\n",
    "    df_y = len(y) - 1\n",
    "    p_value = f.sf(F, df_x, df_y)\n",
    "    \n",
    "    return F, p_value"
   ]
  },
  {
   "cell_type": "code",
   "execution_count": 2,
   "id": "bf1e53f4-ebff-48a5-ae31-7132ae1dbff5",
   "metadata": {},
   "outputs": [
    {
     "name": "stdout",
     "output_type": "stream",
     "text": [
      "F-value: 0.25\n",
      "p-value: 0.896\n"
     ]
    }
   ],
   "source": [
    "x = np.array([1, 2, 3, 4, 5])\n",
    "y = np.array([2, 4, 6, 8, 10])\n",
    "\n",
    "F, p_value = variance_ratio_test(x, y)\n",
    "\n",
    "print(\"F-value:\", F)\n",
    "print(\"p-value:\", p_value)"
   ]
  },
  {
   "cell_type": "markdown",
   "id": "665cc093-9957-415b-b4c7-f0e97d677276",
   "metadata": {},
   "source": [
    "2) Given a significance level of 0.05 and the degrees of freedom for the numerator and denominator of an\n",
    "F-distribution, write a Python function that returns the critical F-value for a two-tailed test."
   ]
  },
  {
   "cell_type": "code",
   "execution_count": 4,
   "id": "ff7006e8-47e5-4871-ae51-84009d8d6b97",
   "metadata": {},
   "outputs": [
    {
     "name": "stdout",
     "output_type": "stream",
     "text": [
      "Critical F-value: 4.07682306196248\n"
     ]
    }
   ],
   "source": [
    "from scipy.stats import f\n",
    "def critical_f_val(df_numerator, df_denominator):\n",
    "    alpha = 0.05\n",
    "    return f.ppf(1 - alpha / 2, df_numerator, df_denominator)\n",
    "df_numerator = 3\n",
    "df_denominator = 16\n",
    "\n",
    "critical_F = critical_f_val(df_numerator, df_denominator)\n",
    "\n",
    "print(\"Critical F-value:\", critical_F)"
   ]
  },
  {
   "cell_type": "markdown",
   "id": "cde5223c-6d5a-4e8e-a08b-56e499579f64",
   "metadata": {},
   "source": [
    "3) Write a Python program that generates random samples from two normal distributions with known\n",
    "variances and uses an F-test to determine if the variances are equal. The program should output the F-\n",
    "value, degrees of freedom, and p-value for the test."
   ]
  },
  {
   "cell_type": "code",
   "execution_count": 5,
   "id": "f3440852-8194-4aa7-b29c-cb87425d9785",
   "metadata": {},
   "outputs": [
    {
     "name": "stdout",
     "output_type": "stream",
     "text": [
      "Sample sizes: 30\n",
      "Variances: 1 2\n",
      "F-value: 0.4638066900263545\n",
      "Degrees of freedom: 29 29\n",
      "p-value: 1.9573090642875561\n"
     ]
    }
   ],
   "source": [
    "import numpy as np\n",
    "from scipy.stats import f\n",
    "np.random.seed(123)\n",
    "sample_size=30\n",
    "mean1,mean2=0,0\n",
    "var1,var2=1,2\n",
    "s1 = np.random.normal(mean1,np.sqrt(var1),sample_size)\n",
    "s2 = np.random.normal(mean2,np.sqrt(var2),sample_size)\n",
    "var1_hat = np.var(s1, ddof=1)\n",
    "var2_hat = np.var(s2, ddof=1)\n",
    "F = var1_hat / var2_hat\n",
    "df1 = sample_size-1\n",
    "df2 = sample_size-1\n",
    "p_value = f.sf(F, df1, df2) * 2\n",
    "print(\"Sample sizes:\", sample_size)\n",
    "print(\"Variances:\", var1, var2)\n",
    "print(\"F-value:\", F)\n",
    "print(\"Degrees of freedom:\", df1, df2)\n",
    "print(\"p-value:\", p_value)\n"
   ]
  },
  {
   "cell_type": "markdown",
   "id": "9a631928-e9dd-41be-bc8f-c432599e74a3",
   "metadata": {},
   "source": [
    "4) The variances of two populations are known to be 10 and 15. A sample of 12 observations is taken from\n",
    "each population. Conduct an F-test at the 5% significance level to determine if the variances are\n",
    "significantly different."
   ]
  },
  {
   "cell_type": "markdown",
   "id": "353fedc1-5775-4f4d-8a1e-084a737abdff",
   "metadata": {},
   "source": [
    "To conduct an F-test to compare the variances of two populations, we need to calculate the F-statistic and compare it with the critical value of the F-distribution at a given significance level. Here are the steps to perform the F-test:\n",
    "\n",
    "1) State the null and alternative hypotheses.\n",
    "\n",
    "Null hypothesis: The variances of the two populations are equal.\n",
    "Alternative hypothesis: The variances of the two populations are significantly different.\n",
    "2) Set the significance level and degrees of freedom.\n",
    "\n",
    "We are given a 5% significance level, which means that α = 0.05. Since we have two samples, we need to calculate the degrees of freedom for both the numerator and denominator of the F-statistic. The degrees of freedom for the numerator is n1-1 and for the denominator is n2-1, where n1 and n2 are the sample sizes.\n",
    "\n",
    "In this case, n1 = n2 = 12, so the degrees of freedom are:\n",
    "\n",
    "df1 = 12-1 = 11\n",
    "df2 = 12-1 = 11\n",
    "\n",
    "3) Calculate the F-statistic.\n",
    "\n",
    "The F-statistic is calculated by dividing the sample variances of the two populations. The sample variance for each population is the sum of squared deviations from the mean divided by the degrees of freedom.\n",
    "\n",
    "For the population with variance 10:\n",
    "s1^2 = (1/11) * Σ(xi - x̄)^2 = (1/11) * [(x1 - x̄)^2 + ... + (x12 - x̄)^2]\n",
    "\n",
    "where xi is the ith observation, x̄ is the sample mean, and Σ is the sum of all observations.\n",
    "\n",
    "For the population with variance 15:\n",
    "s2^2 = (1/11) * Σ(yi - ȳ)^2 = (1/11) * [(y1 - ȳ)^2 + ... + (y12 - ȳ)^2]\n",
    "\n",
    "where yi is the ith observation, ȳ is the sample mean, and Σ is the sum of all observations.\n",
    "\n",
    "Since we do not have the actual observations, we cannot calculate the sample variances. However, we can use the fact that the ratio of the sample variances follows an F-distribution.\n",
    "\n",
    "The F-statistic is calculated as:\n",
    "\n",
    "F = s1^2 / s2^2\n",
    "\n",
    "where s1^2 and s2^2 are the sample variances of the two populations.\n",
    "\n",
    "Using the variances given in the problem, we get:\n",
    "\n",
    "F = 10 / 15 = 0.67\n",
    "\n",
    "4) Find the critical value.\n",
    "\n",
    "The critical value of the F-distribution can be found using a table or a calculator. Since we are testing for a difference in variances, we use a two-tailed test. The critical values for a two-tailed F-test with df1 = 11 and df2 = 11 at a 5% significance level are:\n",
    "\n",
    "F-critical,lower = 1 / F-critical,upper = 1 / F(0.975, 11, 11) = 1 / 3.11 = 0.321\n",
    "\n",
    "5) Make a decision.\n",
    "\n",
    "We compare the calculated F-statistic with the critical value. If the calculated F-statistic is greater than the critical value, we reject the null hypothesis and conclude that the variances are significantly different. Otherwise, we fail to reject the null hypothesis.\n",
    "\n",
    "In this case, the calculated F-statistic is 0.67, which is less than the critical value of 0.321. Therefore, we fail to reject the null hypothesis and conclude that there is not\n",
    "\n",
    "\n",
    "\n",
    "\n",
    "\n"
   ]
  },
  {
   "cell_type": "markdown",
   "id": "4305edb4-e9cb-434b-b651-ae5e9219aa91",
   "metadata": {},
   "source": [
    "5) A manufacturer claims that the variance of the diameter of a certain product is 0.005. A sample of 25\n",
    "products is taken, and the sample variance is found to be 0.006. Conduct an F-test at the 1% significance\n",
    "level to determine if the claim is justified."
   ]
  },
  {
   "cell_type": "markdown",
   "id": "2eb7f1a6-15e4-4fe3-9bd5-bb6b09525537",
   "metadata": {},
   "source": [
    "To conduct an F-test, we need to set up the null and alternative hypotheses:\n",
    "\n",
    "Null hypothesis: The population variance of the diameter of the product is equal to 0.005.\n",
    "Alternative hypothesis: The population variance of the diameter of the product is greater than 0.005.\n",
    "\n",
    "We can use the F-statistic to test the null hypothesis:\n",
    "\n",
    "F = (sample variance / population variance) ~ F(n-1, m-1)\n",
    "\n",
    "where n is the sample size (25), m is the degrees of freedom for the population variance (m = n-1 = 24), and F(n-1, m-1) is the F-distribution with n-1 and m-1 degrees of freedom.\n",
    "\n",
    "Substituting the values given in the question, we get:\n",
    "\n",
    "F = (0.006 / 0.005) * (24/24) = 1.2\n",
    "\n",
    "Using an F-table or a calculator, we find that the critical value of F with 1% significance level and 24 degrees of freedom for the numerator and denominator is 2.87.\n",
    "\n",
    "Since the calculated F-value (1.2) is less than the critical F-value (2.87), we fail to reject the null hypothesis. We do not have enough evidence to conclude that the population variance of the diameter of the product is greater than 0.005 at the 1% significance level. Therefore, the manufacturer's claim is justified"
   ]
  },
  {
   "cell_type": "code",
   "execution_count": 3,
   "id": "f4c4feff-eab9-4000-bc50-0bda7f11b691",
   "metadata": {},
   "outputs": [
    {
     "name": "stdout",
     "output_type": "stream",
     "text": [
      "The p-value is 0.3294, which is greater than 0.01.\n",
      "Fail to reject the null hypothesis. Population variance <= 0.005.\n"
     ]
    }
   ],
   "source": [
    "import scipy.stats as stat\n",
    "alpha = 0.01\n",
    "n = 25\n",
    "var = 0.006\n",
    "var1= 0.005\n",
    "dfn = n - 1 \n",
    "dfd = dfn\n",
    "f_stat = var / var1\n",
    "p_val = 1 - stat.f.cdf(f_stat, dfn=dfn, dfd=dfd)\n",
    "if p_val < alpha:\n",
    "    print(f\"The p-value is {p_val:.4f}, which is less than {alpha:.2f}.\")\n",
    "    print(\"Reject the null hypothesis. Population variance > 0.005.\")\n",
    "else:\n",
    "    print(f\"The p-value is {p_val:.4f}, which is greater than {alpha:.2f}.\")\n",
    "    print(\"Fail to reject the null hypothesis. Population variance <= 0.005.\")\n"
   ]
  },
  {
   "cell_type": "markdown",
   "id": "2da73fe0-4ed4-4e52-89b1-ae13c2190e7d",
   "metadata": {},
   "source": [
    "6) Write a Python function that takes in the degrees of freedom for the numerator and denominator of an\n",
    "F-distribution and calculates the mean and variance of the distribution. The function should return the\n",
    "mean and variance as a tuple."
   ]
  },
  {
   "cell_type": "code",
   "execution_count": 10,
   "id": "b28b3cc3-8519-4c84-9c04-73a61bcca24a",
   "metadata": {},
   "outputs": [],
   "source": [
    "import numpy as np\n",
    "def f_dist_mean_var(numerator_df, denominator_df):\n",
    "    mean = denominator_df / (denominator_df - 2)\n",
    "    var = (2 * denominator_df ** 2 * (numerator_df + denominator_df - 2)) / (numerator_df * (denominator_df - 2) ** 2 * (denominator_df - 4))"
   ]
  },
  {
   "cell_type": "markdown",
   "id": "5afaccfe-cc13-4fc4-a85b-54bc97b53a3d",
   "metadata": {},
   "source": [
    "7) A random sample of 10 measurements is taken from a normal population with unknown variance. The\n",
    "sample variance is found to be 25. Another random sample of 15 measurements is taken from another\n",
    "normal population with unknown variance, and the sample variance is found to be 20. Conduct an F-test\n",
    "at the 10% significance level to determine if the variances are significantly different."
   ]
  },
  {
   "cell_type": "markdown",
   "id": "6ed45369-841a-45ca-a07e-02c78eb14d91",
   "metadata": {},
   "source": [
    "To conduct an F-test for comparing the variances of two normal populations, we can use the following hypothesis test:\n",
    "\n",
    "H0: σ1^2 = σ2^2 (the variances are equal)\n",
    "Ha: σ1^2 ≠ σ2^2 (the variances are significantly different)\n",
    "\n",
    "where σ1^2 and σ2^2 are the population variances of the first and second normal populations, respectively.\n",
    "\n",
    "The test statistic for the F-test is calculated as the ratio of the sample variances:\n",
    "\n",
    "F = s1^2 / s2^2\n",
    "\n",
    "where s1^2 and s2^2 are the sample variances of the first and second normal populations, respectively. The F-statistic follows an F-distribution with degrees of freedom (df1, df2) = (n1-1, n2-1), where n1 and n2 are the sample sizes of the first and second populations, respectively.\n",
    "\n",
    "At the 10% significance level, with a two-tailed test, the critical values for the F-distribution with (9, 14) degrees of freedom are Fα/2 = 2.59 and 1/Fα/2 = 0.386.\n",
    "\n",
    "Using the given data, we can calculate the F-statistic as:\n",
    "\n",
    "F = s1^2 / s2^2 = 25 / 20 = 1.25\n",
    "\n",
    "Since F = 1.25 < 2.59, we fail to reject the null hypothesis. Therefore, we do not have sufficient evidence to conclude that the variances of the two normal populations are significantly different at the 10% significance level."
   ]
  },
  {
   "cell_type": "markdown",
   "id": "906dcc76-066e-47bd-a349-d0a21386d7c2",
   "metadata": {},
   "source": [
    "8) The following data represent the waiting times in minutes at two different restaurants on a Saturday\n",
    "night: Restaurant A: 24, 25, 28, 23, 22, 20, 27; Restaurant B: 31, 33, 35, 30, 32, 36. Conduct an F-test at the 5%\n",
    "significance level to determine if the variances are significantly different."
   ]
  },
  {
   "cell_type": "markdown",
   "id": "2f3b6310-32d9-4231-9173-df0637e34ba4",
   "metadata": {},
   "source": [
    "To conduct an F-test for comparing the variances of two normal populations, we can use the following hypothesis test:\n",
    "\n",
    "H0: σ1^2 = σ2^2 (the variances are equal)\n",
    "Ha: σ1^2 ≠ σ2^2 (the variances are significantly different)\n",
    "\n",
    "where σ1^2 and σ2^2 are the population variances of the first and second normal populations, respectively.\n",
    "\n",
    "The test statistic for the F-test is calculated as the ratio of the sample variances:\n",
    "\n",
    "F = s1^2 / s2^2\n",
    "\n",
    "where s1^2 and s2^2 are the sample variances of the first and second normal populations, respectively. The F-statistic follows an F-distribution with degrees of freedom (df1, df2) = (n1-1, n2-1), where n1 and n2 are the sample sizes of the first and second populations, respectively.\n",
    "\n",
    "At the 5% significance level, with a two-tailed test, the critical values for the F-distribution with (6, 5) degrees of freedom are Fα/2 = 4.03 and 1/Fα/2 = 0.25.\n",
    "\n",
    "Using the given data, we can calculate the sample variances as:\n",
    "\n",
    "s1^2 = 10.67 and s2^2 = 6.67\n",
    "\n",
    "The F-statistic is calculated as:\n",
    "\n",
    "F = s1^2 / s2^2 = 10.67 / 6.67 = 1.6\n",
    "\n",
    "Since F = 1.6 < 4.03, we fail to reject the null hypothesis. Therefore, we do not have sufficient evidence to conclude that the variances of the waiting times at the two restaurants are significantly different at the 5% significance level"
   ]
  },
  {
   "cell_type": "markdown",
   "id": "b6f8c13d-10a4-4ee9-ae1e-2c2c2dd7a90b",
   "metadata": {},
   "source": [
    "9) The following data represent the test scores of two groups of students: Group A: 80, 85, 90, 92, 87, 83;\n",
    "Group B: 75, 78, 82, 79, 81, 84. Conduct an F-test at the 1% significance level to determine if the variances\n",
    "are significantly different."
   ]
  },
  {
   "cell_type": "markdown",
   "id": "7b064c3d-c417-4e2f-a874-a20886107a1d",
   "metadata": {},
   "source": [
    "To conduct an F-test for comparing the variances of two normal populations, we can use the following hypothesis test:\n",
    "\n",
    "H0: σ1^2 = σ2^2 (the variances are equal)\n",
    "Ha: σ1^2 ≠ σ2^2 (the variances are significantly different)\n",
    "\n",
    "where σ1^2 and σ2^2 are the population variances of the first and second normal populations, respectively.\n",
    "\n",
    "The test statistic for the F-test is calculated as the ratio of the sample variances:\n",
    "\n",
    "F = s1^2 / s2^2\n",
    "\n",
    "where s1^2 and s2^2 are the sample variances of the first and second normal populations, respectively. The F-statistic follows an F-distribution with degrees of freedom (df1, df2) = (n1-1, n2-1), where n1 and n2 are the sample sizes of the first and second populations, respectively.\n",
    "\n",
    "At the 1% significance level, with a two-tailed test, the critical values for the F-distribution with (5, 5) degrees of freedom are Fα/2 = 7.71 and 1/Fα/2 = 0.13.\n",
    "\n",
    "Using the given data, we can calculate the sample variances as:\n",
    "\n",
    "s1^2 = 24.2 and s2^2 = 5.2\n",
    "\n",
    "The F-statistic is calculated as:\n",
    "\n",
    "F = s1^2 / s2^2 = 24.2 / 5.2 = 4.65\n",
    "\n",
    "Since F = 4.65 > 7.71 or F < 0.13, we reject the null hypothesis. Therefore, we have sufficient evidence to conclude that the variances of the test scores of the two groups of students are significantly different at the 1% significance level\n",
    "\n",
    "\n"
   ]
  },
  {
   "cell_type": "code",
   "execution_count": null,
   "id": "27ec41aa-4485-46e7-bb21-33838106b740",
   "metadata": {},
   "outputs": [],
   "source": []
  }
 ],
 "metadata": {
  "kernelspec": {
   "display_name": "Python 3 (ipykernel)",
   "language": "python",
   "name": "python3"
  },
  "language_info": {
   "codemirror_mode": {
    "name": "ipython",
    "version": 3
   },
   "file_extension": ".py",
   "mimetype": "text/x-python",
   "name": "python",
   "nbconvert_exporter": "python",
   "pygments_lexer": "ipython3",
   "version": "3.10.8"
  }
 },
 "nbformat": 4,
 "nbformat_minor": 5
}
