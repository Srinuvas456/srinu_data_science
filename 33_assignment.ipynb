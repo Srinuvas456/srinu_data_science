{
 "cells": [
  {
   "cell_type": "markdown",
   "id": "21286538-ac44-4b4b-b63d-44de7ec78d39",
   "metadata": {},
   "source": [
    "1) What are the Probability Mass Function (PMF) and Probability Density Function (PDF)? Explain with\n",
    "an example."
   ]
  },
  {
   "cell_type": "markdown",
   "id": "2cb92663-2ae5-411d-b252-71c760cfc69c",
   "metadata": {},
   "source": [
    "1) Probability Mass Function (PMF) : It is used to describe the probability distribution of a discrete random variable, which takes on a finite or countably infinite number of possible values. The PMF assigns a probability to each possible value of the random variable\n",
    "P(X=x) = Pr(X=x)\n",
    "\n",
    "where X is the random variable, x is the value of the random variable, and Pr denotes probability\n",
    " ex : consider the roll of a fair six-sided die. The random variable X represents the outcome of the roll, which can take on the values {1, 2, 3, 4, 5, 6}. The PMF of X is:\n",
    "\n",
    "P(X=1) = 1/6\n",
    "P(X=2) = 1/6\n",
    "P(X=3) = 1/6\n",
    "P(X=4) = 1/6\n",
    "P(X=5) = 1/6\n",
    "P(X=6) = 1/6\n",
    "\n",
    "This PMF assigns an equal probability of 1/6 to each possible outcome of the roll of the die\n",
    " 2) Probability Density Function (PDF) : It is used to describe the probability distribution of a continuous random variable, which can take on any value within a certain range. The PDF assigns a probability density to each possible value of the random variable, such that the total area under the curve of the PDF is equal to 1\n",
    "f(x) = dF(x)/dx\n",
    " ex : consider the height of adult males in a certain population. The random variable X represents the height of a randomly selected adult male, which can take on any value within a certain range. The PDF of X might be a normal distribution with mean μ and standard deviation σ, given by:\n",
    "\n",
    "f(x) = (1/σ√(2π))exp(-((x-μ)^2)/(2σ^2)) "
   ]
  },
  {
   "cell_type": "markdown",
   "id": "a96af127-1997-4a89-891c-6f55057c7f51",
   "metadata": {},
   "source": [
    "2) What is Cumulative Density Function (CDF)? Explain with an example. Why CDF is used?"
   ]
  },
  {
   "cell_type": "markdown",
   "id": "d8f847bc-80c9-4960-b350-55519e120f24",
   "metadata": {},
   "source": [
    "The Cumulative Distribution Function (CDF) is a function that describes the probability distribution of a random variable. The CDF of a random variable X is defined as the probability that X takes on a value less than or equal to a given value x, i.e.,\n",
    "\n",
    "F(x) = Pr(X ≤ x)\n",
    "\n",
    "The CDF provides a complete description of the probability distribution of a random variable, and it can be used to compute probabilities for a wide range of events involving that variable"
   ]
  },
  {
   "cell_type": "markdown",
   "id": "72029dbf-8959-4b5f-8a78-409afc2bba17",
   "metadata": {},
   "source": [
    "consider the roll of a fair six-sided die. The random variable X represents the outcome of the roll, which can take on the values {1, 2, 3, 4, 5, 6}. The CDF of X is:\n",
    "\n",
    "F(x) = Pr(X ≤ x)"
   ]
  },
  {
   "cell_type": "markdown",
   "id": "4242922d-54d7-4373-93f1-5ec3c0291c8e",
   "metadata": {},
   "source": [
    "1) The CDF is useful because it can be used to compute a wide range of probabilities involving the random variable. For example, the probability of the outcome of the roll of the die being between 3 and 5 \n",
    "2) The CDF can also be used to compute percentiles, which are values of the random variable such that a certain percentage of observations are below that value. For example, the 75th percentile of the height of adult males in a certain population is the value x such that F(x) = 0.75."
   ]
  },
  {
   "cell_type": "markdown",
   "id": "6e414c7b-b8d1-468c-8386-d3d5aa70c540",
   "metadata": {},
   "source": [
    "3) What are some examples of situations where the normal distribution might be used as a model?\n",
    "Explain how the parameters of the normal distribution relate to the shape of the distribution."
   ]
  },
  {
   "cell_type": "markdown",
   "id": "1388218a-e79c-4464-beab-5008878354de",
   "metadata": {},
   "source": [
    "The normal distribution is a very important probability distribution that is often used as a model in many different areas of science, engineering, and business. It is particularly useful in situations where there are many different sources of random variation, and where the underlying probability distribution is not known in advance. Here are some examples of situations where the normal distribution might be used as a model"
   ]
  },
  {
   "cell_type": "markdown",
   "id": "3aa57fab-fc3b-44d3-bea2-1468235dcefe",
   "metadata": {},
   "source": [
    "3) What are some examples of situations where the normal distribution might be used as a model?\n",
    "Explain how the parameters of the normal distribution relate to the shape of the distribution."
   ]
  },
  {
   "cell_type": "markdown",
   "id": "e1678e45-a4ba-4afe-962e-f657a5aba4a2",
   "metadata": {},
   "source": [
    "1) Heights and weights of a large population : The normal distribution can be used to model the distribution of heights and weights of a large population, as these tend to follow a bell-shaped curve\n",
    "2) Test Scores : The normal distribution can be used to model the distribution of test scores, as many factors contribute to test performance, leading to a distribution that is often bell-shaped\n",
    "3) Errors in Measurements : The normal distribution can be used to model the distribution of errors in measurements, as random variations in the measuring process often lead to a distribution that is bell-shaped\n",
    "4) Financial Returns : The normal distribution can be used to model the distribution of financial returns, as many factors contribute to financial returns, leading to a distribution that is often bell-shaped"
   ]
  },
  {
   "cell_type": "markdown",
   "id": "f7a7431a-0177-4d12-b385-9bf42cc75c47",
   "metadata": {},
   "source": [
    "The normal distribution is characterized by two parameters: the mean, μ, and the standard deviation, σ. The mean μ specifies the center of the distribution, while the standard deviation σ specifies the spread of the distribution. Specifically, the shape of the normal distribution is determined by the mean and standard deviation as follows"
   ]
  },
  {
   "cell_type": "markdown",
   "id": "b959381f-755d-4886-84d6-eeeaebe03125",
   "metadata": {},
   "source": [
    "1) The mean μ determines the location of the peak of the distribution, and thus the center of the distribution. If μ is larger, the distribution will be shifted to the right, and if μ is smaller, the distribution will be shifted to the left\n",
    "2) The standard deviation σ determines the width of the distribution. If σ is larger, the distribution will be wider and flatter, and if σ is smaller, the distribution will be narrower and taller"
   ]
  },
  {
   "cell_type": "markdown",
   "id": "1f79c443-88ec-4615-bf78-bc70667934ca",
   "metadata": {},
   "source": [
    "4) Explain the importance of Normal Distribution. Give a few real-life examples of Normal\n",
    "Distribution."
   ]
  },
  {
   "cell_type": "markdown",
   "id": "d9d54a76-4a0e-4196-a63f-b970301f198f",
   "metadata": {},
   "source": [
    "The normal distribution is one of the most important and widely used probability distributions in statistics and data science. It is also known as the Gaussian distribution or bell curve. The importance of the normal distribution lies in its versatility, as it can be used to model a wide variety of real-world phenomena. Here are some reasons why the normal distribution is important"
   ]
  },
  {
   "cell_type": "markdown",
   "id": "d4b6de68-6cda-4869-95e8-f3c22c037b8f",
   "metadata": {},
   "source": [
    "1) Central Limit Theorem : The normal distribution plays a crucial role in the Central Limit Theorem, which states that the sum of a large number of independent and identically distributed random variables will be approximately normally distributed. This theorem is the foundation of many statistical inference methods\n",
    "2) Data Analysis : The normal distribution is often used in data analysis to model the distribution of data that are symmetric and bell-shaped. It provides a simple and useful way to describe the properties of data, such as the mean and standard deviation\n",
    "3) Statistical Inference : Many statistical inference methods, such as hypothesis testing and confidence intervals, are based on the assumption of normality. If the data are normally distributed, these methods can be applied to make inferences about the population parameters\n",
    "4) Simulation : The normal distribution is widely used in simulation studies, where it can be used to generate random numbers that are normally distributed"
   ]
  },
  {
   "cell_type": "markdown",
   "id": "201bf3db-e170-47d7-ab7b-77efc84e5411",
   "metadata": {},
   "source": [
    "Real-life examples of the normal distribution include :\n",
    "1) Heights of a large population : he height of a large population, such as all adult males in a country, tends to follow a normal distribution. This is why the average height of adult males is often used as a reference value in many fields\n",
    "2) IQ scores : IQ scores are often assumed to follow a normal distribution with a mean of 100 and a standard deviation of 15\n",
    "3) Financial returns : The returns on many financial assets, such as stocks and bonds, are assumed to be normally distributed. This is important for many financial models and risk management strategies\n",
    "4) Blood Pressure : The systolic blood pressure of a large population tends to follow a normal distribution, with a mean of around 120 and a standard deviation of around 10\n",
    "5) Error measurements : The errors in many measurements, such as the errors in weight measurements or temperature measurements, are assumed to be normally distributed. This assumption is important for quality control and process improvement in many industries"
   ]
  },
  {
   "cell_type": "markdown",
   "id": "90235ad1-7cba-442e-85d9-4b331e6c7dd6",
   "metadata": {},
   "source": [
    "5) What is Bernaulli Distribution? Give an Example. What is the difference between Bernoulli\n",
    "Distribution and Binomial Distribution?"
   ]
  },
  {
   "cell_type": "markdown",
   "id": "b606716e-97c9-4b8c-81fb-353898f8a653",
   "metadata": {},
   "source": [
    "The Bernoulli distribution is a probability distribution that models the outcome of a single binary trial, where the outcome can be either a success (with probability p) or a failure (with probability 1-p). The distribution is named after Swiss mathematician Jacob Bernoulli, who studied such trials in the 17th century. The Bernoulli distribution is a special case of the binomial distribution, which models the outcome of a series of independent and identically distributed binary trials"
   ]
  },
  {
   "cell_type": "markdown",
   "id": "34acbd10-2535-4ec3-9ed6-bf213d7c9bb0",
   "metadata": {},
   "source": [
    "ex : Bernoulli distribution is the outcome of a coin toss, where a \"head\" is a success and a \"tail\" is a failure. If the probability of getting a head is p, then the probability of getting a tail is 1-p, and the Bernoulli distribution for this coin toss can be written as:\n",
    "\n",
    "P(X=1) = p\n",
    "\n",
    "P(X=0) = 1-p\n",
    "\n",
    "where X is a random variable that takes the value 1 for a head and 0 for a tail"
   ]
  },
  {
   "cell_type": "markdown",
   "id": "f3aa9784-8a0b-43e7-b88e-0ec01f240031",
   "metadata": {},
   "source": [
    "The main difference between the Bernoulli distribution and the binomial distribution is that the Bernoulli distribution models the outcome of a single trial, while the binomial distribution models the outcome of a fixed number (n) of independent and identically distributed Bernoulli trials. The binomial distribution counts the number of successes in n trials, and has two parameters: the probability of success p, and the number of trials n.\n",
    "\n",
    "The probability mass function of the binomial distribution is given by:\n",
    "\n",
    "P(X=k) = (n choose k) * p^k * (1-p)^(n-k)\n",
    "\n",
    "where X is the number of successes in n trials, k is a non-negative integer less than or equal to n, and (n choose k) is the binomial coefficient, which counts the number of ways to choose k items from a set of n items"
   ]
  },
  {
   "cell_type": "markdown",
   "id": "6b202a76-30c5-41a9-a118-9e071b7219ca",
   "metadata": {},
   "source": [
    "6) Consider a dataset with a mean of 50 and a standard deviation of 10. If we assume that the dataset\n",
    "is normally distributed, what is the probability that a randomly selected observation will be greater\n",
    "than 60? Use the appropriate formula and show your calculations."
   ]
  },
  {
   "cell_type": "markdown",
   "id": "c3a8124e-abef-49bb-9f82-da44486de829",
   "metadata": {},
   "source": [
    "To calculate the probability that a randomly selected observation from a normally distributed dataset with a mean of 50 and a standard deviation of 10 will be greater than 60, we need to use the standard normal distribution and the z-score.\n",
    "\n",
    "The z-score is a measure of how many standard deviations an observation is from the mean. We can calculate the z-score for an observation of 60 as:\n",
    "\n",
    "z = (60 - 50) / 10 = 1\n",
    "\n",
    "We can then use a standard normal distribution table or a calculator to find the probability that a randomly selected observation from a standard normal distribution is greater than 1. The area to the right of z=1 in the standard normal distribution is approximately 0.1587.\n",
    "\n",
    "Therefore, the probability that a randomly selected observation from a normally distributed dataset with a mean of 50 and a standard deviation of 10 will be greater than 60 is approximately 0.1587 or 15.87%.\n",
    "\n",
    "\n",
    "\n",
    "\n"
   ]
  },
  {
   "cell_type": "markdown",
   "id": "767dbd2c-5918-4feb-a78b-1b83f9dc0587",
   "metadata": {},
   "source": [
    "7) Explain uniform Distribution with an example."
   ]
  },
  {
   "cell_type": "markdown",
   "id": "2dd31d3e-ab59-47ce-86a0-045642edfc03",
   "metadata": {},
   "source": [
    "Uniform distribution is a probability distribution in which every value in a given interval between a and b is equally likely to occur. This means that the probability density function (PDF) of a uniform distribution is constant over the interval and zero outside the interval. The uniform distribution is often used as a simple model for random variables that have no obvious distribution, or as a benchmark for comparing the performance of other statistical models"
   ]
  },
  {
   "cell_type": "markdown",
   "id": "ab9c5abf-bd9d-4096-b42b-88f61d8d4720",
   "metadata": {},
   "source": [
    "An example of the uniform distribution is rolling a fair six-sided die. Each outcome (1, 2, 3, 4, 5, or 6) is equally likely to occur, and the probability of rolling any particular number is 1/6. The interval in this case is [1,6], and the PDF of the uniform distribution is:\n",
    "\n",
    "f(x) = 1/6 for 1 ≤ x ≤ 6\n",
    "\n",
    "f(x) = 0 otherwise\n",
    "\n",
    "The cumulative distribution function (CDF) of the uniform distribution is a linear function that increases uniformly from 0 to 1 over the interval [a,b]. For the rolling dice example, the CDF is:\n",
    "\n",
    "F(x) = 0 for x < 1\n",
    "\n",
    "F(x) = (x-1)/6 for 1 ≤ x ≤ 6\n",
    "\n",
    "F(x) = 1 for x > 6\n",
    "\n",
    "The uniform distribution is also used in other applications, such as random number generation and simulations, where a set of values needs to be generated with equal probability over a given interval"
   ]
  },
  {
   "cell_type": "markdown",
   "id": "43e2be46-d44a-4076-8df6-e58770458888",
   "metadata": {},
   "source": [
    "8) What is the z score? State the importance of the z score."
   ]
  },
  {
   "cell_type": "markdown",
   "id": "ff32367d-790d-4f93-9f34-ac01e2e11b95",
   "metadata": {},
   "source": [
    "The z-score, also known as the standard score, is a statistical measurement that represents the number of standard deviations a data point is from the mean of a population or sample. It is calculated by subtracting the mean from the data point and then dividing the result by the standard deviation:\n",
    "\n",
    "z = (x - μ) / σ\n",
    "\n",
    "where z is the z-score, x is the data point, μ is the mean of the population or sample, and σ is the standard deviation of the population or sample.\n",
    "\n",
    "The importance of the z-score lies in its ability to standardize different sets of data into a common scale, allowing for easy comparison and analysis of different datasets. This is particularly useful in hypothesis testing, where we compare sample statistics to population parameters, or when comparing values from different distributions"
   ]
  },
  {
   "cell_type": "markdown",
   "id": "c2bbf8b4-9220-4edf-954f-5121333bc2bd",
   "metadata": {},
   "source": [
    "The z-score can be used to determine the probability of obtaining a certain value or range of values from a normal distribution, as well as to identify outliers in a dataset. A z-score of 0 indicates that the data point is equal to the mean, while positive and negative z-scores indicate that the data point is above or below the mean, respectively"
   ]
  },
  {
   "cell_type": "markdown",
   "id": "1195fc35-864d-4e02-b936-a8b8532a6e0f",
   "metadata": {},
   "source": [
    "9) What is Central Limit Theorem? State the significance of the Central Limit Theorem."
   ]
  },
  {
   "cell_type": "markdown",
   "id": "235e722e-6942-4fa8-80e1-9585988c7ad5",
   "metadata": {},
   "source": [
    "The Central Limit Theorem (CLT) is a fundamental concept in probability theory and statistics. It states that if we take a large enough sample size from any population with a finite mean and standard deviation, the distribution of sample means will approximate a normal distribution, regardless of the underlying distribution of the population.\n",
    "\n",
    "In other words, as the sample size increases, the distribution of the sample means will become more and more normal, with the mean of the sample means being equal to the population mean, and the standard deviation of the sample means being equal to the population standard deviation divided by the square root of the sample size.\n",
    "\n",
    "The significance of the Central Limit Theorem lies in its wide-ranging applications in statistics and its ability to allow us to make inferences about a population based on a sample. It is the basis for many statistical methods, including hypothesis testing, confidence intervals, and estimation of population parameters\n",
    "The CLT is also important in real-world applications, as it allows us to use the normal distribution to model the behavior of random variables, even when we do not know the underlying distribution of the population. It is used in fields such as finance, engineering, and the social sciences to analyze and model data, and is an essential tool for statistical inference and decision-making"
   ]
  },
  {
   "cell_type": "markdown",
   "id": "1d8cc578-23b9-4cdd-a575-68665de69e4f",
   "metadata": {},
   "source": [
    "10) State the assumptions of the Central Limit Theorem."
   ]
  },
  {
   "cell_type": "markdown",
   "id": "3a1888fc-0c24-4448-80a4-a9b9a156ddf6",
   "metadata": {},
   "source": [
    "The Central Limit Theorem (CLT) is a fundamental concept in probability theory and statistics that provides a theoretical foundation for the use of normal distribution in a variety of applications. The assumptions of the Central Limit Theorem include"
   ]
  },
  {
   "cell_type": "markdown",
   "id": "a60bcd32-ebb0-4580-a740-49220f13965b",
   "metadata": {},
   "source": [
    "1) Independent and Identically Distributed (IID) Samples : The samples must be independent and identically distributed, meaning that the samples are drawn randomly and each observation is equally likely to be selected.\n",
    "2) Sample Size: The sample size must be sufficiently large, typically with at least 30 observations. This ensures that the sample mean is normally distributed.\n",
    "\n",
    "3) Finite Population or Normal Population: The population must be finite, or if the population is infinite, then the population distribution must be normal or approximately normal. This means that the mean and standard deviation of the population must be finite.\n",
    "\n",
    "4) Random Sampling: The samples must be selected randomly from the population, without bias or preference for any particular group or characteristic"
   ]
  },
  {
   "cell_type": "code",
   "execution_count": null,
   "id": "0f7914f8-1303-4a44-9b46-0e09e0b246ba",
   "metadata": {},
   "outputs": [],
   "source": []
  }
 ],
 "metadata": {
  "kernelspec": {
   "display_name": "Python 3 (ipykernel)",
   "language": "python",
   "name": "python3"
  },
  "language_info": {
   "codemirror_mode": {
    "name": "ipython",
    "version": 3
   },
   "file_extension": ".py",
   "mimetype": "text/x-python",
   "name": "python",
   "nbconvert_exporter": "python",
   "pygments_lexer": "ipython3",
   "version": "3.10.8"
  }
 },
 "nbformat": 4,
 "nbformat_minor": 5
}
