{
 "cells": [
  {
   "cell_type": "markdown",
   "id": "01298b31-f833-44bc-80c0-9715c1361d26",
   "metadata": {},
   "source": [
    "1) What is Estimation Statistics? Explain point estimate and interval estimate."
   ]
  },
  {
   "cell_type": "markdown",
   "id": "de5512a9-4e68-4568-a8a8-8e113a8ed109",
   "metadata": {},
   "source": [
    "Estimation statistics is a branch of statistics that deals with making predictions or inferences about a population parameter based on a sample of data. The goal is to estimate a parameter, such as the population mean or proportion, based on the information available in the sample"
   ]
  },
  {
   "cell_type": "markdown",
   "id": "bc2ecf05-56c7-4b97-974f-8630bcab48e5",
   "metadata": {},
   "source": [
    "Point estimate is a single value that is used to estimate a population parameter. For example, if we want to estimate the population mean, we can use the sample mean as a point estimate. The sample mean is a point estimate because it provides a single value that represents our best guess of the population mean based on the sample data"
   ]
  },
  {
   "cell_type": "markdown",
   "id": "bd188b72-14b0-4d75-ae6a-e1b026d4745c",
   "metadata": {},
   "source": [
    "Interval estimate, on the other hand, is a range of values that is used to estimate a population parameter. An interval estimate includes a lower and an upper bound, and it provides a range of values within which we believe the population parameter is likely to fall. For example, a 95% confidence interval for the population mean would provide a range of values that we believe contains the true population mean with 95% probability based on the sample data"
   ]
  },
  {
   "cell_type": "markdown",
   "id": "cf6ab9a6-8952-48e3-9b62-9e3689cd2ae9",
   "metadata": {},
   "source": [
    "Interval estimates are generally preferred over point estimates because they provide more information about the uncertainty associated with the estimate. Point estimates can be very sensitive to the particular sample that was used to compute them, and they do not provide any information about the precision of the estimate. Interval estimates, on the other hand, provide a measure of the precision of the estimate and allow us to make statements about the probability of the population parameter being within a certain range of values"
   ]
  },
  {
   "cell_type": "markdown",
   "id": "ec94213e-919c-4b49-9527-65b2ab003561",
   "metadata": {},
   "source": [
    "2) Write a Python function to estimate the population mean using a sample mean and standard\n",
    "deviation."
   ]
  },
  {
   "cell_type": "code",
   "execution_count": 1,
   "id": "4e401938-d964-4547-9400-9d2fc82f6162",
   "metadata": {},
   "outputs": [],
   "source": [
    "import math\n",
    "def estimate_population_mean(sample_mean, sample_std_dev, sample_size):\n",
    "    std_error = sample_std_dev / math.sqrt(sample_size)\n",
    "    margin_error = 1.96 * std_error\n",
    "    lower_bound = sample_mean - margin_error\n",
    "    upper_bound = sample_mean + margin_error\n",
    "    return {'mean': sample_mean, 'confidence_interval': (lower_bound, upper_bound)}"
   ]
  },
  {
   "cell_type": "markdown",
   "id": "503e947d-fd5d-4083-8570-26abdd8db490",
   "metadata": {},
   "source": [
    "3) What is Hypothesis testing? Why is it used? State the importance of Hypothesis testing."
   ]
  },
  {
   "cell_type": "markdown",
   "id": "6481805c-71f5-4079-8946-ef7ac5f6d379",
   "metadata": {},
   "source": [
    "Hypothesis testing is a statistical method used to make inferences about a population based on a sample of data. The goal of hypothesis testing is to determine whether there is enough evidence to reject or fail to reject a null hypothesis about a population parameter, based on the observed sample data"
   ]
  },
  {
   "cell_type": "markdown",
   "id": "3cf5befa-c1f7-4752-bd75-6acc8e71c599",
   "metadata": {},
   "source": [
    "The null hypothesis is a statement about the population that we want to test, and the alternative hypothesis is the statement that we want to accept if the null hypothesis is rejected. The test involves calculating a test statistic based on the sample data, and then comparing the test statistic to a critical value or p-value to determine whether the observed sample data is likely to have occurred by chance or not"
   ]
  },
  {
   "cell_type": "markdown",
   "id": "adea7fa7-d0c4-4982-b8cc-be98c71aeab0",
   "metadata": {},
   "source": [
    "Hypothesis testing is used in many fields, including medicine, psychology, economics, and engineering, to test theories and make decisions based on data. It is used to make informed decisions about whether to accept or reject a hypothesis, and to provide evidence for or against a particular theory or claim"
   ]
  },
  {
   "cell_type": "markdown",
   "id": "9a5f3484-a4a3-497e-bc1c-d0fc1ff046dc",
   "metadata": {},
   "source": [
    "The importance of hypothesis testing lies in its ability to help us make decisions based on data, and to draw meaningful conclusions about the population based on a sample. By using hypothesis testing, we can determine whether a particular theory or claim is supported by the available data, or whether we need to revise or reject it. Hypothesis testing also allows us to quantify the level of uncertainty associated with our conclusions, and to make decisions based on the probability of different outcomes"
   ]
  },
  {
   "cell_type": "markdown",
   "id": "696b15cc-6ee7-412b-946f-0f826ec9cdf2",
   "metadata": {},
   "source": [
    "4) Create a hypothesis that states whether the average weight of male college students is greater than\n",
    "the average weight of female college students."
   ]
  },
  {
   "cell_type": "markdown",
   "id": "f12f658d-4de2-4ff6-9692-1df88880cc11",
   "metadata": {},
   "source": [
    "The null hypothesis for this hypothesis test could be:\n",
    "1) H0 : The average weight of male college students is equal to or less than the average weight of female college students\n",
    "The alternative hypothesis could be:\n",
    "2) Ha : The average weight of male college students is greater than the average weight of female college students\n"
   ]
  },
  {
   "cell_type": "markdown",
   "id": "33121b51-16d9-41ab-a288-ab680c32a44d",
   "metadata": {},
   "source": [
    "We can then collect a sample of male and female college students, calculate the sample means and standard deviations for each group, and perform a hypothesis test using a t-test or other appropriate statistical test to determine whether there is enough evidence to reject the null hypothesis in favor of the alternative hypothesis"
   ]
  },
  {
   "cell_type": "markdown",
   "id": "0c7a2a6b-6142-43e0-b138-bf7c1a70040e",
   "metadata": {},
   "source": [
    "5) Write a Python script to conduct a hypothesis test on the difference between two population means,\n",
    "given a sample from each population."
   ]
  },
  {
   "cell_type": "code",
   "execution_count": 2,
   "id": "39a55fe8-2ced-4e31-b809-9ccd9c04b503",
   "metadata": {},
   "outputs": [
    {
     "name": "stdout",
     "output_type": "stream",
     "text": [
      "Fail to reject the null hypothesis. There is not enough evidence to conclude that the population means are different.\n",
      "Test statistic: 1.0410336718226145\n",
      "Critical value: 2.10092204024096\n",
      "p-value: 0.31164176430629564\n"
     ]
    }
   ],
   "source": [
    "import numpy as np\n",
    "from scipy.stats import t\n",
    "alpha = 0.05\n",
    "x = np.array([83, 67, 91, 85, 72, 89, 78, 81, 76, 84])\n",
    "y = np.array([79, 63, 87, 81, 68, 86, 75, 78, 73, 81])\n",
    "x_mean = np.mean(x)\n",
    "y_mean = np.mean(y)\n",
    "x_std = np.std(x, ddof=1)\n",
    "y_std = np.std(y, ddof=1)\n",
    "s_pool = np.sqrt(((len(x)-1)*x_std**2 + (len(y)-1)*y_std**2) / (len(x) + len(y) - 2))\n",
    "\n",
    "t_stat = (x_mean - y_mean) / (s_pool * np.sqrt(1/len(x) + 1/len(y)))\n",
    "df = len(x) + len(y) - 2\n",
    "t_crit = t.ppf(1 - alpha/2, df)\n",
    "p_value = 2 * (1 - t.cdf(abs(t_stat), df))\n",
    "if abs(t_stat) > t_crit:\n",
    "    print(\"Reject the null hypothesis. There is evidence that the population means are different.\")\n",
    "else:\n",
    "    print(\"Fail to reject the null hypothesis. There is not enough evidence to conclude that the population means are different.\")\n",
    "print(\"Test statistic:\", t_stat)\n",
    "print(\"Critical value:\", t_crit)\n",
    "print(\"p-value:\", p_value)"
   ]
  },
  {
   "cell_type": "markdown",
   "id": "8088680e-951b-4644-b7df-4fb6588f9e96",
   "metadata": {},
   "source": [
    "6) What is a null and alternative hypothesis? Give some examples."
   ]
  },
  {
   "cell_type": "markdown",
   "id": "697dc34f-c4d3-4419-b487-3280ab2e5ed0",
   "metadata": {},
   "source": [
    "In statistical hypothesis testing, the null hypothesis and alternative hypothesis are two competing hypotheses that are used to make inferences about a population based on a sample of data. The null hypothesis is the hypothesis that we want to test, while the alternative hypothesis is the alternative to the null hypothesis that we will accept if we reject the null hypothesis"
   ]
  },
  {
   "cell_type": "markdown",
   "id": "cc043d36-8bb9-4edc-b1af-b6068948cd38",
   "metadata": {},
   "source": [
    "The null hypothesis often represents the status quo, or the default position that we assume to be true unless there is evidence to the contrary. The alternative hypothesis represents the position that we want to prove, and is often the opposite of the null hypothesis"
   ]
  },
  {
   "cell_type": "markdown",
   "id": "d289b302-88b8-4115-8677-906516735bc0",
   "metadata": {},
   "source": [
    "1) ex1: Null hypothesis: The average height of men and women is the same.\n",
    "Alternative hypothesis: The average height of men and women is different\n"
   ]
  },
  {
   "cell_type": "markdown",
   "id": "8a7d6257-b250-4d45-a020-03b60d90bf58",
   "metadata": {},
   "source": [
    "2) ex2 : Null hypothesis: The new drug has no effect on blood pressure.\n",
    "Alternative hypothesis: The new drug lowers blood pressure"
   ]
  },
  {
   "cell_type": "markdown",
   "id": "29f525db-b7b3-48b9-862e-028b514f88fb",
   "metadata": {},
   "source": [
    "7) Write down the steps involved in hypothesis testing."
   ]
  },
  {
   "cell_type": "markdown",
   "id": "3f159d9a-f3d3-44de-8bc1-65aedd556ec3",
   "metadata": {},
   "source": [
    "1) State the null hypothesis and alternative hypothesis: The null hypothesis (H0) is the hypothesis that we want to test, while the alternative hypothesis (Ha) is the alternative to the null hypothesis that we will accept if we reject the null hypothesis.\n",
    "\n",
    "2) Determine the level of significance: The level of significance (alpha) is the probability of rejecting the null hypothesis when it is actually true. It is typically set at 0.05 or 0.01.\n",
    "\n",
    "3) Choose the appropriate test statistic: The choice of test statistic depends on the type of data and the research question being investigated.\n",
    "\n",
    "4) Set up the decision rule: The decision rule is a set of criteria for rejecting the null hypothesis based on the test statistic and level of significance. It specifies the critical value or p-value that will be used to determine whether to reject or fail to reject the null hypothesis.\n",
    "\n",
    "5)Collect and analyze the data: Collect the data and calculate the appropriate test statistic.\n",
    "\n",
    "6) Calculate the p-value: The p-value is the probability of obtaining a test statistic as extreme or more extreme than the observed value, assuming the null hypothesis is true.\n",
    "7) Make a decision: Compare the p-value to the level of significance and the critical value from the decision rule. If the p-value is less than the level of significance or the test statistic falls outside the critical region, reject the null hypothesis. If the p-value is greater than the level of significance or the test statistic falls within the acceptance region, fail to reject the null hypothesis.\n",
    "\n",
    "8) Interpret the results: If the null hypothesis is rejected, interpret the results in the context of the research question and alternative hypothesis. If the null hypothesis is not rejected, interpret the results in the context of the limitations of the study and the possibility of a type II error"
   ]
  },
  {
   "cell_type": "markdown",
   "id": "2bdbfd1a-44fa-4c55-93a8-44e682fd2894",
   "metadata": {},
   "source": [
    "8) Define p-value and explain its significance in hypothesis testing."
   ]
  },
  {
   "cell_type": "markdown",
   "id": "8b4499de-ff16-4785-8cae-00a332cf2136",
   "metadata": {},
   "source": [
    "In statistical hypothesis testing, the p-value is the probability of obtaining a test statistic as extreme or more extreme than the observed value, assuming the null hypothesis is true. It measures the strength of the evidence against the null hypothesis"
   ]
  },
  {
   "cell_type": "markdown",
   "id": "fe13edc2-1a4b-4e90-9aba-fe0e310050f4",
   "metadata": {},
   "source": [
    "If the p-value is less than the level of significance (usually set at 0.05 or 0.01), then there is sufficient evidence to reject the null hypothesis in favor of the alternative hypothesis. This means that the observed data is unlikely to have occurred by chance if the null hypothesis is true, and that there is strong evidence in favor of the alternative hypothesis.\n",
    "\n",
    "Conversely, if the p-value is greater than the level of significance, then there is insufficient evidence to reject the null hypothesis. This means that the observed data could have occurred by chance if the null hypothesis is true, and that there is not enough evidence to support the alternative hypothesis"
   ]
  },
  {
   "cell_type": "markdown",
   "id": "17bd7404-c52f-441a-ad55-89f2ee4f6e95",
   "metadata": {},
   "source": [
    "The significance of the p-value in hypothesis testing lies in its ability to provide a quantitative measure of the strength of the evidence against the null hypothesis. A small p-value indicates strong evidence against the null hypothesis, while a large p-value indicates weak evidence against the null hypothesis.\n",
    "\n",
    "It is important to note that the p-value is not the probability that the alternative hypothesis is true, nor is it the probability that the null hypothesis is false. It is simply a measure of the strength of the evidence against the null hypothesis based on the observed data and the assumptions made about the population. The interpretation of the p-value should always be done in the context of the research question and the limitations of the study"
   ]
  },
  {
   "cell_type": "markdown",
   "id": "59f2fee1-934f-4bcc-a3eb-9f5269a3f587",
   "metadata": {},
   "source": [
    "9) Generate a Student's t-distribution plot using Python's matplotlib library, with the degrees of freedom\n",
    "parameter set to 10."
   ]
  },
  {
   "cell_type": "code",
   "execution_count": null,
   "id": "abfbaf46-c3b3-4dfb-bfa8-7530e2dbb3fb",
   "metadata": {},
   "outputs": [],
   "source": [
    "import numpy as np\n",
    "import matplotlib.pyplot as plt\n",
    "df = 10 \n",
    "x = np.linspace(-5, 5, 1000) \n",
    "y = stats.t.pdf(x, df) \n",
    "\n",
    "plt.plot(x, y, label='t-distribution')\n",
    "plt.legend()\n",
    "plt.title(f\"Student's t-distribution with {df} degrees of freedom\")\n",
    "plt.xlabel('x')\n",
    "plt.ylabel('PDF')\n",
    "plt.show()"
   ]
  },
  {
   "cell_type": "markdown",
   "id": "67bb6ea1-3fff-417a-92de-c8b28113295b",
   "metadata": {},
   "source": [
    "10) Write a Python program to calculate the two-sample t-test for independent samples, given two\n",
    "random samples of equal size and a null hypothesis that the population means are equal."
   ]
  },
  {
   "cell_type": "code",
   "execution_count": 4,
   "id": "b0285b28-4f7e-46a9-949e-46a96040a6cd",
   "metadata": {},
   "outputs": [
    {
     "name": "stdout",
     "output_type": "stream",
     "text": [
      "Fail to reject the null hypothesis, there is not enough evidence to support a difference between the population means.\n",
      "t-statistic: 1.5748180558950942\n",
      "p-value: 0.11852134941407882\n"
     ]
    }
   ],
   "source": [
    "import numpy as np\n",
    "from scipy.stats import ttest_ind\n",
    "sample1 = np.random.normal(5, 2, 50)\n",
    "sample2 = np.random.normal(4.5, 1.5, 50)\n",
    "t_stat, p_value = ttest_ind(sample1, sample2)\n",
    "alpha = 0.05\n",
    "if p_value < alpha:\n",
    "    print(\"Reject the null hypothesis, there is a significant difference between the population means.\")\n",
    "else:\n",
    "    print(\"Fail to reject the null hypothesis, there is not enough evidence to support a difference between the population means.\")\n",
    "    \n",
    "print(f\"t-statistic: {t_stat}\")\n",
    "print(f\"p-value: {p_value}\")"
   ]
  },
  {
   "cell_type": "markdown",
   "id": "997a4f70-e854-4247-89b8-ccfcc911e8a5",
   "metadata": {},
   "source": [
    "11) What is Student’s t distribution? When to use the t-Distribution."
   ]
  },
  {
   "cell_type": "markdown",
   "id": "6d0a2029-5960-41a5-9fca-d0c5c66a96b4",
   "metadata": {},
   "source": [
    "Student's t-distribution is a probability distribution that arises when the population standard deviation is unknown and the sample size is small (typically less than 30). It is a bell-shaped distribution that looks similar to a standard normal distribution, but with fatter tails. The t-distribution is named after William Gosset, who wrote under the pseudonym \"Student\".\n",
    "\n",
    "The t-distribution is used when we need to make inferences about a population mean based on a sample mean, but we don't know the population standard deviation. In this case, we can use the t-distribution to calculate the probability of observing a sample mean as extreme as the one we have, if the population mean is equal to a hypothesized value. This is the basis of hypothesis testing and confidence interval estimation for the population mean."
   ]
  },
  {
   "cell_type": "markdown",
   "id": "7b65485c-83c4-4f17-9a5f-27ee2d4f696c",
   "metadata": {},
   "source": [
    "The t-distribution has a parameter called degrees of freedom (df), which is related to the sample size. As the sample size increases, the t-distribution becomes more similar to a standard normal distribution, and the number of degrees of freedom increases. When the sample size is large (typically greater than 30), we can use the standard normal distribution instead of the t-distribution, because the population standard deviation can be estimated from the sample standard deviation with reasonable accuracy"
   ]
  },
  {
   "cell_type": "markdown",
   "id": "fa32bd5f-c6c6-4074-97d1-65f032a10cec",
   "metadata": {},
   "source": [
    "12) What is t-statistic? State the formula for t-statistic."
   ]
  },
  {
   "cell_type": "markdown",
   "id": "f9b24b4d-623d-4134-909d-1df641a9b707",
   "metadata": {},
   "source": [
    "The t-statistic is a measure of how far the sample mean is from the hypothesized population mean in units of the standard error. It is used in hypothesis testing and is the ratio of the difference between the sample mean and the hypothesized population mean to the standard error of the sample mean.\n",
    "\n",
    "The formula for t-statistic is:\n",
    "\n",
    "t = (x̄ - μ) / (s / √n)\n",
    "\n",
    "where:\n",
    "\n",
    "x̄ is the sample mean\n",
    "μ is the hypothesized population mean\n",
    "s is the sample standard deviation\n",
    "n is the sample size.\n",
    "The t-statistic measures the number of standard errors that the sample mean is away from the hypothesized population mean. If the t-statistic is large, it indicates that the sample mean is far away from the hypothesized population mean, and we may reject the null hypothesis. If the t-statistic is small, it indicates that the sample mean is close to the hypothesized population mean, and we may fail to reject the null hypothesis.\n",
    "\n",
    "The t-distribution is used to determine the probability of observing a t-statistic as extreme as the one we have, if the null hypothesis is true. If this probability is very small (typically less than 0.05), we reject the null hypothesis and conclude that the sample mean is significantly different from the hypothesized population mean.\n",
    "\n",
    "\n",
    "\n"
   ]
  },
  {
   "cell_type": "markdown",
   "id": "44cb9188-bcd9-4924-9994-0c9595c92a80",
   "metadata": {},
   "source": [
    "13) A coffee shop owner wants to estimate the average daily revenue for their shop. They take a random\n",
    "sample of 50 days and find the sample mean revenue to be $500 with a standard deviation of $50.\n",
    "Estimate the population mean revenue with a 95% confidence interval."
   ]
  },
  {
   "cell_type": "markdown",
   "id": "b2549e33-0db4-40d6-9632-f4428c5fa253",
   "metadata": {},
   "source": [
    "To estimate the population mean revenue with a 95% confidence interval, we can use the t-distribution because the population standard deviation is unknown and the sample size is less than 30. Here are the steps to calculate the confidence interval:\n",
    "\n",
    "Calculate the sample size: n = 50\n",
    "Calculate the sample mean revenue: x̄ = $500\n",
    "Calculate the standard error of the mean: s/√n = $50/√50 = $7.07\n",
    "Find the t-value with 49 degrees of freedom and a 95% confidence level: t = 2.009 (from t-table or calculator)\n",
    "Calculate the margin of error: t-value x standard error = 2.009 x $7.07 = $14.20\n",
    "Calculate the lower and upper bounds of the confidence interval: lower bound = x̄ - margin of error = $500 - $14.20 = $485.80; upper bound = x̄ + margin of error = $500 + $14.20 = $514.20\n",
    "Therefore, we can say with 95% confidence that the population mean revenue for the coffee shop is between $485.80 and $514.20 per day"
   ]
  },
  {
   "cell_type": "markdown",
   "id": "d9a5fdd2-19ab-40de-9180-69fbbabb0b0b",
   "metadata": {},
   "source": [
    "14) A researcher hypothesizes that a new drug will decrease blood pressure by 10 mmHg. They conduct a\n",
    "clinical trial with 100 patients and find that the sample mean decrease in blood pressure is 8 mmHg with a\n",
    "standard deviation of 3 mmHg. Test the hypothesis with a significance level of 0.05."
   ]
  },
  {
   "cell_type": "markdown",
   "id": "e9431893-3547-4e24-8614-28920010e11b",
   "metadata": {},
   "source": [
    "To test the hypothesis with a significance level of 0.05, we can use a one-sample t-test with the following null and alternative hypotheses:\n",
    "\n",
    "Null hypothesis: The true mean decrease in blood pressure is equal to 10 mmHg (µ = 10).\n",
    "Alternative hypothesis: The true mean decrease in blood pressure is less than 10 mmHg (µ < 10).\n",
    "Here are the steps to conduct the t-test:\n",
    "\n",
    "Calculate the t-statistic:\n",
    "t = (x̄ - µ) / (s / √n)\n",
    "t = (8 - 10) / (3 / √100)\n",
    "t = -2.82\n",
    "\n",
    "Find the critical t-value at a significance level of 0.05 with 99 degrees of freedom (n - 1): t_critical = -1.66 (from t-table or calculator)\n",
    "\n",
    "Compare the t-statistic with the critical t-value:\n",
    "Since the t-statistic (-2.82) is less than the critical t-value (-1.66), we reject the null hypothesis.\n",
    "\n",
    "Calculate the p-value:\n",
    "We can calculate the p-value using a t-distribution calculator or by looking up the area under the t-distribution curve with 99 degrees of freedom to the left of the t-statistic (-2.82). The p-value is approximately 0.003.\n",
    "\n",
    "Compare the p-value with the significance level:\n",
    "Since the p-value (0.003) is less than the significance level (0.05), we reject the null hypothesis.\n",
    "\n",
    "Therefore, we can conclude that the new drug significantly decreases blood pressure by more than 10 mmHg at a significance level of 0.05"
   ]
  },
  {
   "cell_type": "markdown",
   "id": "0fe68cdf-b87a-4520-902b-9a1fa6d285e4",
   "metadata": {},
   "source": [
    "15) An electronics company produces a certain type of product with a mean weight of 5 pounds and a\n",
    "standard deviation of 0.5 pounds. A random sample of 25 products is taken, and the sample mean weight\n",
    "is found to be 4.8 pounds. Test the hypothesis that the true mean weight of the products is less than 5\n",
    "pounds with a significance level of 0.01."
   ]
  },
  {
   "cell_type": "markdown",
   "id": "b5a3c8d4-c27b-4e02-9741-8ce70829e7a8",
   "metadata": {},
   "source": [
    "To test the hypothesis that the true mean weight of the products is less than 5 pounds with a significance level of 0.01, we can use a one-sample t-test with the following null and alternative hypotheses:\n",
    "\n",
    "Null hypothesis: The true mean weight of the products is equal to 5 pounds (µ = 5).\n",
    "Alternative hypothesis: The true mean weight of the products is less than 5 pounds (µ < 5).\n",
    "Here are the steps to conduct the t-test:\n",
    "\n",
    "Calculate the t-statistic:\n",
    "t = (x̄ - µ) / (s / √n)\n",
    "t = (4.8 - 5) / (0.5 / √25)\n",
    "t = -2\n",
    "Find the critical t-value at a significance level of 0.01 with 24 degrees of freedom (n - 1): t_critical = -2.492 (from t-table or calculator)\n",
    "\n",
    "Compare the t-statistic with the critical t-value:\n",
    "\n",
    "Since the t-statistic (-2) is greater than the critical t-value (-2.492), we fail to reject the null hypothesis.\n",
    "\n",
    "Calculate the p-value:\n",
    "We can calculate the p-value using a t-distribution calculator or by looking up the area under the t-distribution curve with 24 degrees of freedom to the left of the t-statistic (-2). The p-value is approximately 0.029.\n",
    "\n",
    "Compare the p-value with the significance level:\n",
    "Since the p-value (0.029) is greater than the significance level (0.01), we fail to reject the null hypothesis.\n",
    "\n",
    "Therefore, we cannot conclude that the true mean weight of the products is less than 5 pounds at a significance level of 0.01."
   ]
  },
  {
   "cell_type": "markdown",
   "id": "1630227e-0a51-4e9a-91f9-1c3d9509d8b5",
   "metadata": {},
   "source": [
    "16) Two groups of students are given different study materials to prepare for a test. The first group (n1 =30) has a mean score of 80 with a standard deviation of 10, and the second group (n2 = 40) has a mean\n",
    "score of 75 with a standard deviation of 8. Test the hypothesis that the population means for the two\n",
    "groups are equal with a significance level of 0.01."
   ]
  },
  {
   "cell_type": "markdown",
   "id": "d36aab48-f9f7-4536-8ac8-15843885affa",
   "metadata": {},
   "source": [
    "To test the hypothesis that the population means for the two groups are equal with a significance level of 0.01, we can use a two-sample t-test with the following null and alternative hypotheses:\n",
    "\n",
    "Null hypothesis: The population means for the two groups are equal (µ1 = µ2).\n",
    "Alternative hypothesis: The population means for the two groups are not equal (µ1 ≠ µ2).\n",
    "Here are the steps to conduct the t-test:\n",
    "\n",
    "Calculate the pooled standard deviation:\n",
    "s_p = sqrt(((n1-1)*s1^2 + (n2-1)*s2^2) / (n1 + n2 - 2))\n",
    "s_p = sqrt(((30-1)*10^2 + (40-1)*8^2) / (30 + 40 - 2))\n",
    "s_p = 9.14\n",
    "Calculate the t-statistic:\n",
    "t = (x̄1 - x̄2) / (s_p * sqrt(1/n1 + 1/n2))\n",
    "t = (80 - 75) / (9.14 * sqrt(1/30 + 1/40))\n",
    "t = 2.30\n",
    "\n",
    "Find the critical t-value at a significance level of 0.01 with 68 degrees of freedom (n1 + n2 - 2): t_critical = ±2.660 (from t-table or calculator)\n",
    "\n",
    "Compare the t-statistic with the critical t-value:\n",
    "\n",
    "Since the t-statistic (2.30) is less than the critical t-value (±2.660), we fail to reject the null hypothesis.\n",
    "\n",
    "Calculate the p-value:\n",
    "We can calculate the p-value using a t-distribution calculator or by looking up the area under the t-distribution curve with 68 degrees of freedom to the right of the absolute value of the t-statistic (2.30). The p-value is approximately 0.013.\n",
    "\n",
    "Compare the p-value with the significance level:\n",
    "Since the p-value (0.013) is less than the significance level (0.01), we reject the null hypothesis.\n",
    "\n",
    "Therefore, we conclude that there is significant evidence to suggest that the population means for the two groups are not equal at a significance level of 0.01"
   ]
  },
  {
   "cell_type": "markdown",
   "id": "bb9107f3-06eb-4ad3-980a-6e309b339d3c",
   "metadata": {},
   "source": [
    "17) A marketing company wants to estimate the average number of ads watched by viewers during a TV\n",
    "program. They take a random sample of 50 viewers and find that the sample mean is 4 with a standard\n",
    "deviation of 1.5. Estimate the population mean with a 99% confidence interval."
   ]
  },
  {
   "cell_type": "code",
   "execution_count": 8,
   "id": "451cd284-9979-4d84-9c35-aac3b37f41b5",
   "metadata": {},
   "outputs": [
    {
     "name": "stdout",
     "output_type": "stream",
     "text": [
      "Population mean estimate: 4.00\n",
      "99% Confidence Interval: (4.57, 3.43)\n"
     ]
    }
   ],
   "source": [
    "\n",
    "import scipy.stats as stats\n",
    "\n",
    "sample_size = 50\n",
    "sample_mean = 4\n",
    "sample_std_dev = 1.5\n",
    "confidence_level = 0.99\n",
    "degrees_of_freedom = sample_size - 1\n",
    "critical_value = stats.t.ppf(q=(1 - confidence_level)/2, df=degrees_of_freedom)\n",
    "margin_of_error = critical_value * (sample_std_dev / (sample_size ** 0.5))\n",
    "\n",
    "lower_bound = sample_mean - margin_of_error\n",
    "upper_bound = sample_mean + margin_of_error\n",
    "\n",
    "print(f\"Population mean estimate: {sample_mean:.2f}\")\n",
    "print(f\"99% Confidence Interval: ({lower_bound:.2f}, {upper_bound:.2f})\")"
   ]
  },
  {
   "cell_type": "code",
   "execution_count": null,
   "id": "995e30ad-7f23-4044-a44a-d9fa918dca70",
   "metadata": {},
   "outputs": [],
   "source": []
  }
 ],
 "metadata": {
  "kernelspec": {
   "display_name": "Python 3 (ipykernel)",
   "language": "python",
   "name": "python3"
  },
  "language_info": {
   "codemirror_mode": {
    "name": "ipython",
    "version": 3
   },
   "file_extension": ".py",
   "mimetype": "text/x-python",
   "name": "python",
   "nbconvert_exporter": "python",
   "pygments_lexer": "ipython3",
   "version": "3.10.8"
  }
 },
 "nbformat": 4,
 "nbformat_minor": 5
}
