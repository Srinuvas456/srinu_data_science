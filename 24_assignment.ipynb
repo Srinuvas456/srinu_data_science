{
 "cells": [
  {
   "cell_type": "markdown",
   "id": "021a6f09-7e2a-4720-9628-a7db315cbdf7",
   "metadata": {},
   "source": [
    "import pandas as pd\n",
    "course_name = [‘Data Science’, ‘Machine Learning’, ‘Big Data’, ‘Data Engineer’]\n",
    "duration = [2,3,6,4]\n",
    "df = pd.DataFrame(data = {‘course_name’ : course_name, ‘duration’ : duration})"
   ]
  },
  {
   "cell_type": "markdown",
   "id": "7bcff365-8c24-4f4d-b6ee-48a7b50c035b",
   "metadata": {},
   "source": [
    "1) Write a code to print the data present in the second row of the dataframe, df."
   ]
  },
  {
   "cell_type": "code",
   "execution_count": 5,
   "id": "fd5b92d8-568f-4132-828b-52e765ad176a",
   "metadata": {},
   "outputs": [
    {
     "data": {
      "text/plain": [
       "course_name    Machine Learning\n",
       "duration                      3\n",
       "Name: 1, dtype: object"
      ]
     },
     "execution_count": 5,
     "metadata": {},
     "output_type": "execute_result"
    }
   ],
   "source": [
    "import pandas as pd \n",
    "\n",
    "course_name = ['Data Science', 'Machine Learning', 'Big Data', 'Data Engineer'] \n",
    "duration = [2,3,6,4] \n",
    "\n",
    "df = pd.DataFrame(data = {'course_name': course_name, 'duration': duration})\n",
    "df.iloc[1]"
   ]
  },
  {
   "cell_type": "markdown",
   "id": "43a0bd41-6598-4e4b-ac39-004406f67382",
   "metadata": {},
   "source": [
    "2) What is the difference between the functions loc and iloc in pandas.DataFrame?\n"
   ]
  },
  {
   "cell_type": "markdown",
   "id": "70bc12dc-b997-4fae-b5db-8abbe58fbca8",
   "metadata": {},
   "source": [
    "loc : \n",
    "1) is used to access data by label or boolean array\n",
    "2) is used to select rows and columns based on the label of the rows and columns\n",
    "3) uses the square brackets [ ] and accepts a row label or boolean array for rows and a column label or boolean array for columns\n",
    "4) is inclusive of the endpoint of a range\n",
    "5) is slower than iloc\n",
    "iloc :\n",
    "1) is used to access data by integer location or boolean array\n",
    "2) is used to select rows and columns based on their integer index\n",
    "3) also uses square brackets [ ], but it accepts an integer location or boolean array for rows and columns\n",
    "4) s exclusive of the endpoint\n"
   ]
  },
  {
   "cell_type": "markdown",
   "id": "3087ff23-b28f-478b-8a50-a35a653cd57d",
   "metadata": {},
   "source": [
    "3) Reindex the given dataframe using a variable, reindex = [3,0,1,2] and store it in the variable, new_df\n",
    "then find the output for both new_df.loc[2] and new_df.iloc[2].\n",
    "Did you observe any difference in both the outputs? If so then explain it.\n",
    "Consider the below code to answer further questions:\n",
    "import pandas as pd\n",
    "import numpy as np\n",
    "columns = ['column_1', 'column_2', 'column_3', 'column_4', 'column_5', 'column_6']\n",
    "indices = [1,2,3,4,5,6]\n",
    "#Creating a dataframe:\n",
    "df1 = pd.DataFrame(np.random.rand(6,6), columns = columns, index = indices)"
   ]
  },
  {
   "cell_type": "code",
   "execution_count": 8,
   "id": "612803e3-a079-4ba8-80f7-2775446fff7b",
   "metadata": {},
   "outputs": [
    {
     "name": "stdout",
     "output_type": "stream",
     "text": [
      "   column_1  column_2  column_3  column_4  column_5  column_6\n",
      "3  0.433317  0.346323  0.878375  0.213322  0.244518  0.135296\n",
      "0       NaN       NaN       NaN       NaN       NaN       NaN\n",
      "1  0.722484  0.021841  0.682961  0.349985  0.131789  0.240830\n",
      "2  0.790288  0.383179  0.849450  0.291197  0.094663  0.686898\n",
      "column_1    0.790288\n",
      "column_2    0.383179\n",
      "column_3    0.849450\n",
      "column_4    0.291197\n",
      "column_5    0.094663\n",
      "column_6    0.686898\n",
      "Name: 2, dtype: float64\n",
      "column_1    0.722484\n",
      "column_2    0.021841\n",
      "column_3    0.682961\n",
      "column_4    0.349985\n",
      "column_5    0.131789\n",
      "column_6    0.240830\n",
      "Name: 1, dtype: float64\n"
     ]
    }
   ],
   "source": [
    "import pandas as pd\n",
    "import numpy as np\n",
    "columns = ['column_1', 'column_2', 'column_3', 'column_4', 'column_5', 'column_6']\n",
    "indices = [1,2,3,4,5,6]\n",
    "df1 = pd.DataFrame(np.random.rand(6,6), columns = columns, index = indices)\n",
    "new_df = df1.reindex([3, 0, 1, 2])\n",
    "print(new_df)\n",
    "print(new_df.loc[2])\n",
    "print(new_df.iloc[2])"
   ]
  },
  {
   "cell_type": "markdown",
   "id": "03f0580e-2f40-4ba8-af7c-ecf6de24b455",
   "metadata": {},
   "source": [
    "4) Write a code to find the following statistical measurements for the above dataframe df1:\n",
    "(i) mean of each and every column present in the dataframe.\n",
    "(ii) standard deviation of column, ‘column_2’"
   ]
  },
  {
   "cell_type": "code",
   "execution_count": 9,
   "id": "fa1262ca-752e-4848-bdca-e88c186d2053",
   "metadata": {},
   "outputs": [
    {
     "name": "stdout",
     "output_type": "stream",
     "text": [
      "Mean of each column:\n",
      "column_1    0.504463\n",
      "column_2    0.309363\n",
      "column_3    0.485289\n",
      "column_4    0.611017\n",
      "column_5    0.591709\n",
      "column_6    0.609179\n",
      "dtype: float64\n",
      "Standard deviation of column 'column_2': 0.18580824944184868\n"
     ]
    }
   ],
   "source": [
    "import pandas as pd\n",
    "import numpy as np\n",
    "columns = ['column_1', 'column_2', 'column_3', 'column_4', 'column_5', 'column_6']\n",
    "indices = [1,2,3,4,5,6]\n",
    "df1 = pd.DataFrame(np.random.rand(6,6), columns = columns, index = indices)\n",
    "means = df1.mean()\n",
    "print(\"Mean of each column:\")\n",
    "print(means)\n",
    "std_column_2 = df1['column_2'].std()\n",
    "print(\"Standard deviation of column 'column_2':\", std_column_2)"
   ]
  },
  {
   "cell_type": "markdown",
   "id": "3838e82a-da68-4f41-9c2a-175ba84efb2d",
   "metadata": {},
   "source": [
    "5) Replace the data present in the second row of column, ‘column_2’ by a string variable then find the\n",
    "mean of column, column_2.\n",
    "If you are getting errors in executing it then explain why.\n"
   ]
  },
  {
   "cell_type": "code",
   "execution_count": null,
   "id": "b01de1a7-5a2a-4ea6-96b1-8c54d63786d2",
   "metadata": {},
   "outputs": [],
   "source": [
    "import pandas as pd\n",
    "import numpy as np\n",
    "columns = ['column_1', 'column_2', 'column_3', 'column_4', 'column_5', 'column_6']\n",
    "indices = [1,2,3,4,5,6]\n",
    "df1 = pd.DataFrame(np.random.rand(6,6), columns = columns, index = indices)\n",
    "df1.loc[2, 'column_2'] = 'string data'\n",
    "df1['column_2'] = df1['column_2'].astype(object)\n",
    "mean_column_2 = df1['column_2'].mean()\n",
    "print(\"Mean of column 'column_2':\", mean_column_2)"
   ]
  },
  {
   "cell_type": "markdown",
   "id": "f704eb6d-0273-4193-9bc3-a16ba74cb93c",
   "metadata": {},
   "source": [
    "6) What do you understand about the windows function in pandas and list the types of windows\n",
    "functions"
   ]
  },
  {
   "cell_type": "markdown",
   "id": "2e149e79-945c-4579-9b8d-42ec91a82afc",
   "metadata": {},
   "source": [
    "In pandas a window function is a way to perform a calculation over a rolling window of data points in a DataFrame. Window functions operate on a \n",
    "sliding window of data and can be used to calculate rolling statistics such as moving averages, rolling standard deviations, or any other rolling \n",
    "aggregation of the data\n",
    "1) Rolling window functions : These functions operate over a rolling window of a fixed size and calculate an aggregation of the data within the window\n",
    "2) Expanding window functions : These functions calculate an aggregation of the data over all the previous rows, including the current row\n",
    "3) Exponentially weighted window functions : These functions calculate a rolling average using an exponentially decreasing weight for each data point in the window\n",
    "4) Rolling and expanding apply functions : These functions allow for custom functions to be applied to a rolling or expanding window\n",
    "5) Groupby window functions : These functions perform window operations within groups defined by a categorical variable "
   ]
  },
  {
   "cell_type": "markdown",
   "id": "64515399-8e2d-4936-bdfd-141befe6b1c9",
   "metadata": {},
   "source": [
    "7) Write a code to print only the current month and year at the time of answering this question."
   ]
  },
  {
   "cell_type": "code",
   "execution_count": 17,
   "id": "c529758f-9bf0-44c6-9cee-0d2c22f32c55",
   "metadata": {},
   "outputs": [
    {
     "name": "stdout",
     "output_type": "stream",
     "text": [
      "Current month and year: March 2023\n"
     ]
    }
   ],
   "source": [
    "import datetime\n",
    "now = datetime.datetime.now()\n",
    "current_month = now.strftime(\"%B\")\n",
    "current_year = now.year\n",
    "print(\"Current month and year:\", current_month, current_year)"
   ]
  },
  {
   "cell_type": "markdown",
   "id": "edf9bd6c-8ad2-4381-91e9-af55c10b4dd4",
   "metadata": {},
   "source": [
    "8) Write a Python program that takes in two dates as input (in the format YYYY-MM-DD) and\n",
    "calculates the difference between them in days, hours, and minutes using Pandas time delta. The\n",
    "program should prompt the user to enter the dates and display the result."
   ]
  },
  {
   "cell_type": "code",
   "execution_count": 20,
   "id": "2ec47770-fce9-42db-a741-54ae7ad1cece",
   "metadata": {},
   "outputs": [
    {
     "name": "stdin",
     "output_type": "stream",
     "text": [
      "enter start date(YYYY-MM-DD):  2023-01-09\n",
      "enter end date(YYYY-MM-DD):  2023-06-05\n"
     ]
    },
    {
     "name": "stdout",
     "output_type": "stream",
     "text": [
      "Time difference:\n",
      "147 days, 0 hours, 0 minutes\n"
     ]
    }
   ],
   "source": [
    "import pandas as pd\n",
    "start_date = input(\"enter start date(YYYY-MM-DD): \")\n",
    "end_date = input(\"enter end date(YYYY-MM-DD): \")\n",
    "start_date = pd.to_datetime(start_date)\n",
    "end_date = pd.to_datetime(end_date)\n",
    "time_diff = end_date - start_date\n",
    "diff_days = time_diff.days\n",
    "diff_hours = time_diff.seconds // 3600\n",
    "diff_minutes = (time_diff.seconds // 60)% 60\n",
    "print(\"Time difference:\")\n",
    "print(f\"{diff_days} days, {diff_hours} hours, {diff_minutes} minutes\")\n",
    "\n"
   ]
  },
  {
   "cell_type": "markdown",
   "id": "32ee2e1e-e032-4bea-83f8-9cff8d09beba",
   "metadata": {},
   "source": [
    "9) Write a Python program that reads a CSV file containing categorical data and converts a specified\n",
    "column to a categorical data type. The program should prompt the user to enter the file path, column\n",
    "name, and category order, and then display the sorted data."
   ]
  },
  {
   "cell_type": "code",
   "execution_count": null,
   "id": "67bebcf4-046b-495e-a3c3-d1e093b5a62e",
   "metadata": {},
   "outputs": [],
   "source": [
    "import pandas as pd\n",
    "file_path = input(\"enter csv file path: \")\n",
    "col_name = input(\"Enter column name to convert to category: \")\n",
    "category_order = input(\"Enter category order (comma-separated): \").split(\",\")\n",
    "df.pd.read_csv(file_path)\n",
    "df[col_name] = pd.Categorical(df[col_name], categories=category_order, ordered=True)\n",
    "df.sort_values(col_name)"
   ]
  },
  {
   "cell_type": "markdown",
   "id": "fcd7cc5f-22f7-409a-8cc5-9069519fbe98",
   "metadata": {},
   "source": [
    "10) Write a Python program that reads a CSV file containing sales data for different products and\n",
    "visualizes the data using a stacked bar chart to show the sales of each product category over time. The\n",
    "program should prompt the user to enter the file path and display the chart."
   ]
  },
  {
   "cell_type": "code",
   "execution_count": null,
   "id": "3ec59245-97d5-40ea-975d-31b2bec8b4bf",
   "metadata": {},
   "outputs": [],
   "source": [
    "import pandas as pd\n",
    "import matplotlib.pyplot as plt\n",
    "df = pd.read_csv(Details.csv)\n",
    "df_pivot = df.pivot(index='Date', columns='Product', values='Sales')\n",
    "df_pivot.plot(kind='bar', stacked=True)\n",
    "plt.title('Sales by Product Category over Time')\n",
    "plt.xlabel('Date')\n",
    "plt.ylabel('Sales')\n",
    "plt.show()"
   ]
  },
  {
   "cell_type": "markdown",
   "id": "e1d5b719-9abd-4a5e-acf1-728e6c0ea308",
   "metadata": {},
   "source": [
    "11) Q11. You are given a CSV file containing student data that includes the student ID and their test score. Write\n",
    "a Python program that reads the CSV file, calculates the mean, median, and mode of the test scores, and\n",
    "displays the results in a table.\n",
    "The program should do the followingM\n",
    "I Prompt the user to enter the file path of the CSV file containing the student dataR\n",
    "I Read the CSV file into a Pandas DataFrameR\n",
    "I Calculate the mean, median, and mode of the test scores using Pandas toolsR\n",
    "I Display the mean, median, and mode in a table.\n",
    "Assume the CSV file contains the following columnsM\n",
    "I Student ID: The ID of the studentR\n",
    "I Test Score: The score of the student's test.\n",
    "Example usage of the program:\n",
    "Enter the file path of the CSV file containing the student data: student_data.csv\n",
    "+-----------+--------+\n",
    "| Statistic | Value |\n",
    "+-----------+--------+\n",
    "| Mean | 79.6 |\n",
    "| Median | 82 |\n",
    "| Mode | 85, 90 |\n",
    "+-----------+--------+\n",
    "Assume that the CSV file student_data.csv contains the following data:\n",
    "Student ID,Test Score\n",
    "1,85\n",
    "2,90\n",
    "3,80\n",
    "4,75\n",
    "5,85\n",
    "6,82\n",
    "7,78\n",
    "8,85\n",
    "9,90\n",
    "10,85\n",
    "The program should calculate the mean, median, and mode of the test scores and display the results\n",
    "in a table."
   ]
  },
  {
   "cell_type": "code",
   "execution_count": null,
   "id": "39e1182e-f005-45e5-9729-b5c87b2bbf62",
   "metadata": {},
   "outputs": [],
   "source": [
    "import pandas as pd\n",
    "file_path = input(\"Enter the file path of the CSV file containing the student data: \")\n",
    "df = pd.read_csv(file_path)\n",
    "mean_score = df['Test Score'].mean()\n",
    "median_score = df['Test Score'].median()\n",
    "mode_score = df['Test Score'].mode().tolist()\n",
    "ata = {'Statistic': ['Mean', 'Median', 'Mode'], 'Value': [mean_score, median_score, mode_score]}\n",
    "df_stat = pd.DataFrame(data)\n",
    "\n",
    "print(df_stat.to_string(index=False))"
   ]
  }
 ],
 "metadata": {
  "kernelspec": {
   "display_name": "Python 3 (ipykernel)",
   "language": "python",
   "name": "python3"
  },
  "language_info": {
   "codemirror_mode": {
    "name": "ipython",
    "version": 3
   },
   "file_extension": ".py",
   "mimetype": "text/x-python",
   "name": "python",
   "nbconvert_exporter": "python",
   "pygments_lexer": "ipython3",
   "version": "3.10.8"
  }
 },
 "nbformat": 4,
 "nbformat_minor": 5
}
