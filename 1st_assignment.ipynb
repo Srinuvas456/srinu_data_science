{
 "cells": [
  {
   "cell_type": "markdown",
   "id": "413aa7d7-781c-4739-864c-a92fa3dbc90e",
   "metadata": {},
   "source": [
    "1) What are the characteristics of the tuples? Is tuple immutable?"
   ]
  },
  {
   "cell_type": "markdown",
   "id": "c43e3666-e61c-43f8-b448-32bdc10e09c5",
   "metadata": {},
   "source": [
    "A)1) Ordere: it means tuple in ordered\n",
    "2) immutable: it means we can not change\n",
    "\n",
    "3)Heterogeneous: it contain different type of elements like we can combine int, float, string\n",
    "\n",
    "4)Indexed: it is indexing\n",
    "\n",
    "5)Nestable: we can create n number of sets in one set\n",
    "yes , it is immutable"
   ]
  },
  {
   "cell_type": "code",
   "execution_count": null,
   "id": "ca877eee-12f8-44a2-8afa-31178eb95229",
   "metadata": {},
   "outputs": [],
   "source": [
    "2) What are the two tuple methods in python? Give an example of each method. Give a reason why \n",
    "tuples have only two in-built methods as compared to Lists."
   ]
  },
  {
   "cell_type": "markdown",
   "id": "17333f27-be01-4fe8-b91d-d1505e7d5406",
   "metadata": {},
   "source": [
    "A) 1)count : it will count the no of times element\n",
    "   2) index : it will show first come of the element"
   ]
  },
  {
   "cell_type": "code",
   "execution_count": 2,
   "id": "7e469695-eee6-4b7c-ad46-383701c89df0",
   "metadata": {},
   "outputs": [
    {
     "name": "stdout",
     "output_type": "stream",
     "text": [
      "2\n",
      "3\n"
     ]
    }
   ],
   "source": [
    "t = (1,1,2,3,4,5,6,7,3,4,5)\n",
    "print(t.count(3))\n",
    "print(t.index(3))"
   ]
  },
  {
   "cell_type": "markdown",
   "id": "a3a5b463-df3b-44aa-bdda-082796eb7ea2",
   "metadata": {},
   "source": [
    "3)Which collection datatypes in python do not allow duplicate items? Write a code using a set to remove \n",
    "duplicates from the given list.\n",
    "\n",
    "\n",
    "List = [1, 1, 1, 2, 1, 3, 1, 4, 2, 1, 2, 2, 2, 3, 2, 4, 3, 1, 3, 2, 3, 3, 3, 4, 4, 1, 4, 2, 4, 3, 4, 4]"
   ]
  },
  {
   "cell_type": "markdown",
   "id": "cf54ab09-4c60-4368-acb8-0f396a1bba63",
   "metadata": {},
   "source": [
    "A) yes in python set is not allow duplicate values"
   ]
  },
  {
   "cell_type": "code",
   "execution_count": 3,
   "id": "9976793c-8a75-4bdb-b308-86f0cdaaf994",
   "metadata": {},
   "outputs": [
    {
     "name": "stdout",
     "output_type": "stream",
     "text": [
      "[1, 2, 3, 4]\n"
     ]
    }
   ],
   "source": [
    "List = [1, 1, 1, 2, 1, 3, 1, 4, 2, 1, 2, 2, 2, 3, 2, 4, 3, 1, 3, 2, 3, 3, 3, 4, 4, 1, 4, 2, 4, 3, 4, 4]\n",
    "List = set(List)\n",
    "new_list = list(List)\n",
    "print(new_list)"
   ]
  },
  {
   "cell_type": "markdown",
   "id": "2912d336-237c-47ec-baae-27d5c765bd23",
   "metadata": {},
   "source": [
    "4)  Explain the difference between the union() and update() methods for a set. Give an example of \n",
    "each method."
   ]
  },
  {
   "cell_type": "markdown",
   "id": "f0f191af-6b8c-43da-847a-b2e52d4f94a0",
   "metadata": {},
   "source": [
    "A) union: it will create a new set combine all unique elements in the set\n",
    " update: it wil combine  unique elements in the same list"
   ]
  },
  {
   "cell_type": "code",
   "execution_count": 4,
   "id": "4080653e-d612-49d8-946f-2309b179bcb2",
   "metadata": {},
   "outputs": [
    {
     "name": "stdout",
     "output_type": "stream",
     "text": [
      "{1, 2, 3, 4, 6}\n",
      "{1, 2, 3}\n",
      "{2, 4, 6}\n",
      "{1, 2, 3, 4, 6}\n",
      "{2, 4, 6}\n"
     ]
    }
   ],
   "source": [
    "set1 = {1,2,3}\n",
    "set2 ={2,4,6}\n",
    "set3 = set1.union(set2)\n",
    "print(set3)\n",
    "print(set1)\n",
    "print(set2)\n",
    "set1.update(set2)\n",
    "print(set1)\n",
    "print(set2)"
   ]
  },
  {
   "cell_type": "markdown",
   "id": "fc989a81-c30f-4753-b7bc-9e194092d805",
   "metadata": {},
   "source": [
    "5) What is a dictionary? Give an example. Also, state whether a dictionary is ordered or unordered."
   ]
  },
  {
   "cell_type": "markdown",
   "id": "cc7dfafa-27eb-45a8-95c8-e73d9545d033",
   "metadata": {},
   "source": [
    "A) dictionary : it has  combining of keys and values and also it is unordered"
   ]
  },
  {
   "cell_type": "code",
   "execution_count": 5,
   "id": "e277b0df-9f2a-4aac-9f88-78ad09960c60",
   "metadata": {},
   "outputs": [
    {
     "data": {
      "text/plain": [
       "{'SRINU': 1, 'NAVEEN': 2}"
      ]
     },
     "execution_count": 5,
     "metadata": {},
     "output_type": "execute_result"
    }
   ],
   "source": [
    "d1 = {\"SRINU\": 1,\n",
    "      \"NAVEEN\": 2}\n",
    "d1\n"
   ]
  },
  {
   "cell_type": "markdown",
   "id": "11437793-69b8-4947-94b6-afe97c5366b9",
   "metadata": {},
   "source": [
    "6)Can we create a nested dictionary? If so, please give an example by creating a simple one-level \n",
    "nested dictionary"
   ]
  },
  {
   "cell_type": "markdown",
   "id": "272254e1-6831-4330-981a-627f94dfbf0e",
   "metadata": {},
   "source": [
    "A) yes, we can create nested dictionary"
   ]
  },
  {
   "cell_type": "code",
   "execution_count": 12,
   "id": "dd4d05f4-0884-4974-b1d6-a5aa69d7a934",
   "metadata": {},
   "outputs": [
    {
     "data": {
      "text/plain": [
       "{'SRINU': {'AGE': 22, 'SALARY': 35000}, 'NAVEEN': {'AGE': 24, 'SALARY': 33000}}"
      ]
     },
     "execution_count": 12,
     "metadata": {},
     "output_type": "execute_result"
    }
   ],
   "source": [
    "d2 = { \"SRINU\": {\"AGE\": 22, \"SALARY\": 35000},\n",
    "      \"NAVEEN\": {\"AGE\": 24, \"SALARY\": 33000}}\n",
    "d2     "
   ]
  },
  {
   "cell_type": "markdown",
   "id": "bbf06bfc-20ce-4702-aa96-00ef3685b946",
   "metadata": {},
   "source": [
    "7) Using setdefault() method, create key named topics in the given dictionary and also add the value of \n",
    "the key as this list ['Python', 'Machine Learning’, 'Deep Learning']\n",
    "\n",
    "\n",
    "dict1 = {'language' : 'Python', 'course': 'Data Science Masters'}"
   ]
  },
  {
   "cell_type": "code",
   "execution_count": 14,
   "id": "76cebe2c-9e7f-46ac-b106-e591a26f41f3",
   "metadata": {},
   "outputs": [
    {
     "data": {
      "text/plain": [
       "{'language': 'Python',\n",
       " 'course': 'Data Science Masters',\n",
       " 'topics': ['Python', 'Machine Learning', 'Deep Learning']}"
      ]
     },
     "execution_count": 14,
     "metadata": {},
     "output_type": "execute_result"
    }
   ],
   "source": [
    "dict1 = {\"language\": \"Python\", \"course\": \"Data Science Masters\"}\n",
    "dict1.setdefault(\"topics\", [\"Python\", \"Machine Learning\", \"Deep Learning\"])\n",
    "dict1"
   ]
  },
  {
   "cell_type": "markdown",
   "id": "c80be2fd-bd40-4ed8-99d5-45d0551406c6",
   "metadata": {},
   "source": [
    "8) What are the three view objects in dictionaries? Use the three in-built methods in python to display \n",
    "these three view objects for the given dictionary.\n",
    "\n",
    "\n",
    "dict1 = {'Sport': 'Cricket' , 'Teams': ['India', 'Australia', 'England', 'South Africa', 'Sri Lanka', 'New Zealand']}"
   ]
  },
  {
   "cell_type": "markdown",
   "id": "0441e6b4-d2c0-4d10-97c4-765b8835fa8c",
   "metadata": {},
   "source": [
    "A) dict1.keys: it will print the keys of the dictionary\n",
    "dict1.values: it will print the values of the dictionary\n",
    "dict1.items : it will print the both keys and values of the dictionary"
   ]
  },
  {
   "cell_type": "code",
   "execution_count": 16,
   "id": "13339e07-401c-4fe8-a7eb-cbb1d6b0d1f4",
   "metadata": {},
   "outputs": [
    {
     "name": "stdout",
     "output_type": "stream",
     "text": [
      "dict_keys(['Sport', 'Teams'])\n",
      "dict_values(['Cricket', ['India', 'Australia', 'England', 'South Africa', 'Sri Lanka', 'New Zealand']])\n",
      "dict_items([('Sport', 'Cricket'), ('Teams', ['India', 'Australia', 'England', 'South Africa', 'Sri Lanka', 'New Zealand'])])\n"
     ]
    }
   ],
   "source": [
    "dict1 = {'Sport': 'Cricket' , 'Teams': ['India', 'Australia', 'England', 'South Africa', 'Sri Lanka', 'New Zealand']}\n",
    "keys = dict1.keys()\n",
    "values = dict1.values()\n",
    "items = dict1.items()\n",
    "print(keys)\n",
    "print(values)\n",
    "print(items)"
   ]
  },
  {
   "cell_type": "code",
   "execution_count": null,
   "id": "1f40863e-9cb5-4198-aae2-2fbf6414af68",
   "metadata": {},
   "outputs": [],
   "source": []
  }
 ],
 "metadata": {
  "kernelspec": {
   "display_name": "Python 3 (ipykernel)",
   "language": "python",
   "name": "python3"
  },
  "language_info": {
   "codemirror_mode": {
    "name": "ipython",
    "version": 3
   },
   "file_extension": ".py",
   "mimetype": "text/x-python",
   "name": "python",
   "nbconvert_exporter": "python",
   "pygments_lexer": "ipython3",
   "version": "3.10.8"
  }
 },
 "nbformat": 4,
 "nbformat_minor": 5
}
