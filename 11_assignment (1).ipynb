{
 "cells": [
  {
   "cell_type": "markdown",
   "id": "6ef3c7b8-6dc5-4084-978f-fb70dd31fb10",
   "metadata": {},
   "source": [
    "1) What is an Exception in python? Write the difference between Exceptions and syntax errors"
   ]
  },
  {
   "cell_type": "markdown",
   "id": "76394550-7022-4ba8-b7f3-1792afaf0110",
   "metadata": {},
   "source": [
    "exception is a error that occurs during the execuation of a program the normal of the code, when an exception is raised , python will stop \n",
    "execuating the codeand look for an exception handler that can handle the exception , if no handler is found the program terminate with an error message\n",
    "the main difference between exception and syntax error is that exceptions occur during the execuation of a program, while syntax error occur\n",
    "before the program is execuated exception is usually caused by the factors outside of the programrs control while syntax errors are caused \n",
    "by mistakes in the code itself, additionally while syntax errors can be caught and fixed during development exceptions are often unexcepted and need to be handled in runtime"
   ]
  },
  {
   "cell_type": "markdown",
   "id": "e3a2b557-0534-4cbb-b4b3-5f8db34df621",
   "metadata": {},
   "source": [
    "2) What happens when an exception is not handled? Explain with an example"
   ]
  },
  {
   "cell_type": "markdown",
   "id": "0a044b91-a05d-4cb5-a4d0-ce8ae2713cb7",
   "metadata": {},
   "source": [
    "when an exception is not handled it will cause the program to terminate abruptly which can lead to unexcepted results to errors "
   ]
  },
  {
   "cell_type": "code",
   "execution_count": null,
   "id": "fd4d6d4a-6087-493e-bd93-37bdcb518a99",
   "metadata": {},
   "outputs": [],
   "source": [
    "def divide_by_Zero():\n",
    "    return 5/0\n",
    "try:\n",
    "    divide_by_Zero()\n",
    "except ValueError:\n",
    "    print(\"this will not be execuated\")"
   ]
  },
  {
   "cell_type": "markdown",
   "id": "97e32447-dba4-4be1-b942-e0e30292d5ff",
   "metadata": {},
   "source": [
    "3) Which Python statements are used to catch and handle exceptions? Explain with an example"
   ]
  },
  {
   "cell_type": "markdown",
   "id": "86b95bcb-9fc2-49be-a010-13b21d2d0358",
   "metadata": {},
   "source": [
    "in python the try and except statements are used to catch are handled exceptions\n",
    "the try block to be execuated and any exceptions that occur within that block caught by corresponding except statement\n",
    "if an exception is not caught it will propogate up the call stack until it is caught or program terminates"
   ]
  },
  {
   "cell_type": "code",
   "execution_count": 20,
   "id": "6208bdc7-6129-4d03-94d2-296bd259a928",
   "metadata": {},
   "outputs": [
    {
     "name": "stdout",
     "output_type": "stream",
     "text": [
      "zero division error\n",
      "the result is:5.0\n"
     ]
    }
   ],
   "source": [
    "def divide(a,b):\n",
    "    try:\n",
    "        result = a/b\n",
    "        print(f\"the result is:{result}\")\n",
    "    except ZeroDivisionError:\n",
    "        print(\"zero division error\")\n",
    "        \n",
    "divide(5,0)\n",
    "divide(10,2)"
   ]
  },
  {
   "cell_type": "markdown",
   "id": "5dc7127e-1c15-40c4-af55-71f995f9c710",
   "metadata": {},
   "source": [
    "4) Explain with an example:\n",
    "1)try and else\n",
    "2)finally\n",
    "3)raise "
   ]
  },
  {
   "cell_type": "code",
   "execution_count": 22,
   "id": "dafa6f75-2679-4601-a3c2-28fc292ea5b2",
   "metadata": {},
   "outputs": [
    {
     "name": "stdin",
     "output_type": "stream",
     "text": [
      "enter a number:  12\n",
      "enter a number:  2\n"
     ]
    },
    {
     "name": "stdout",
     "output_type": "stream",
     "text": [
      "the result is:  6.0\n"
     ]
    }
   ],
   "source": [
    "try:\n",
    "    a = int(input(\"enter a number: \"))\n",
    "    b = int(input(\"enter a number: \"))\n",
    "    c = a/b\n",
    "except ZeroDivisionError:\n",
    "    print(\"you can divide by zero\")\n",
    "else:\n",
    "    print(\"the result is: \" ,c)"
   ]
  },
  {
   "cell_type": "code",
   "execution_count": 25,
   "id": "540321bd-a839-4add-879e-e0a66f680c62",
   "metadata": {},
   "outputs": [],
   "source": [
    "try:\n",
    "    f = open(\"example.txt\",\"w\")\n",
    "    f.write(\"this is a first line\")\n",
    "finally:\n",
    "    f.close()"
   ]
  },
  {
   "cell_type": "code",
   "execution_count": 28,
   "id": "0621e22b-7505-4fe3-9658-a512f42fc241",
   "metadata": {},
   "outputs": [
    {
     "name": "stdin",
     "output_type": "stream",
     "text": [
      "Enter your age:  23\n"
     ]
    },
    {
     "name": "stdout",
     "output_type": "stream",
     "text": [
      "You are old enough to vote.\n"
     ]
    }
   ],
   "source": [
    "age = int(input(\"Enter your age: \"))\n",
    "if age < 18:\n",
    "    raise Exception(\"You must be at least 18 years old.\")\n",
    "else:\n",
    "    print(\"You are old enough to vote.\")"
   ]
  },
  {
   "cell_type": "markdown",
   "id": "e6a045d1-c9d6-483b-84bc-e094aa0a15cc",
   "metadata": {},
   "source": [
    "5)What are Custom Exceptions in python? Why do we need Custom Exceptions? Explain with an example"
   ]
  },
  {
   "cell_type": "markdown",
   "id": "546951a4-cfee-43f2-90a8-0c31d04f1b1c",
   "metadata": {},
   "source": [
    "in Python are user-defined exceptions that allow programmers to create their own exceptions based on their programs requirements These exceptions are defined using the class keyword and inherit from the built-in Exception class or any other existing exception class"
   ]
  },
  {
   "cell_type": "code",
   "execution_count": 31,
   "id": "1b1f3747-c106-4b4f-9b2d-c20d65ddd3f4",
   "metadata": {},
   "outputs": [],
   "source": [
    "class NegativeNumberError:\n",
    "    \"\"\"Raised when a negative number is passed\"\"\"\n",
    "    pass"
   ]
  },
  {
   "cell_type": "code",
   "execution_count": null,
   "id": "9d14dfb2-07b7-4328-aa80-865970fe4990",
   "metadata": {},
   "outputs": [],
   "source": [
    "def calculate_square_root(n):\n",
    "    if n<0:\n",
    "        raise NegativeNumberError(\"negative numbers are not allowed\")\n",
    "    else:\n",
    "        return n ** 0.5\n",
    "try:\n",
    "    result = calculate_square_root(-4)\n",
    "    print(result)\n",
    "except NegativeNumberError as e:\n",
    "    print(e)"
   ]
  },
  {
   "cell_type": "markdown",
   "id": "0e3e8212-b517-413c-8664-0f33123fa68e",
   "metadata": {},
   "source": [
    "6)  Create custom exception class. Use this class to handle an exception"
   ]
  },
  {
   "cell_type": "code",
   "execution_count": 33,
   "id": "2253dc66-6d97-4318-888d-d92e136d6cde",
   "metadata": {},
   "outputs": [
    {
     "ename": "CustomException",
     "evalue": "Cannot divide by zero!",
     "output_type": "error",
     "traceback": [
      "\u001b[0;31m---------------------------------------------------------------------------\u001b[0m",
      "\u001b[0;31mZeroDivisionError\u001b[0m                         Traceback (most recent call last)",
      "Cell \u001b[0;32mIn[33], line 5\u001b[0m\n\u001b[1;32m      4\u001b[0m \u001b[38;5;28;01mtry\u001b[39;00m:\n\u001b[0;32m----> 5\u001b[0m     x \u001b[38;5;241m=\u001b[39m \u001b[38;5;241;43m10\u001b[39;49m\u001b[43m \u001b[49m\u001b[38;5;241;43m/\u001b[39;49m\u001b[43m \u001b[49m\u001b[38;5;241;43m0\u001b[39;49m\n\u001b[1;32m      6\u001b[0m \u001b[38;5;28;01mexcept\u001b[39;00m \u001b[38;5;167;01mZeroDivisionError\u001b[39;00m:\n",
      "\u001b[0;31mZeroDivisionError\u001b[0m: division by zero",
      "\nDuring handling of the above exception, another exception occurred:\n",
      "\u001b[0;31mCustomException\u001b[0m                           Traceback (most recent call last)",
      "Cell \u001b[0;32mIn[33], line 7\u001b[0m\n\u001b[1;32m      5\u001b[0m     x \u001b[38;5;241m=\u001b[39m \u001b[38;5;241m10\u001b[39m \u001b[38;5;241m/\u001b[39m \u001b[38;5;241m0\u001b[39m\n\u001b[1;32m      6\u001b[0m \u001b[38;5;28;01mexcept\u001b[39;00m \u001b[38;5;167;01mZeroDivisionError\u001b[39;00m:\n\u001b[0;32m----> 7\u001b[0m     \u001b[38;5;28;01mraise\u001b[39;00m CustomException(\u001b[38;5;124m\"\u001b[39m\u001b[38;5;124mCannot divide by zero!\u001b[39m\u001b[38;5;124m\"\u001b[39m)\n",
      "\u001b[0;31mCustomException\u001b[0m: Cannot divide by zero!"
     ]
    }
   ],
   "source": [
    "class CustomException(Exception):\n",
    "    pass\n",
    "\n",
    "try:\n",
    "    x = 10 / 0\n",
    "except ZeroDivisionError:\n",
    "    raise CustomException(\"Cannot divide by zero!\")"
   ]
  },
  {
   "cell_type": "code",
   "execution_count": null,
   "id": "7fc4f3a7-9555-4ba0-862d-f80a35a0849c",
   "metadata": {},
   "outputs": [],
   "source": []
  }
 ],
 "metadata": {
  "kernelspec": {
   "display_name": "Python 3 (ipykernel)",
   "language": "python",
   "name": "python3"
  },
  "language_info": {
   "codemirror_mode": {
    "name": "ipython",
    "version": 3
   },
   "file_extension": ".py",
   "mimetype": "text/x-python",
   "name": "python",
   "nbconvert_exporter": "python",
   "pygments_lexer": "ipython3",
   "version": "3.10.8"
  }
 },
 "nbformat": 4,
 "nbformat_minor": 5
}
