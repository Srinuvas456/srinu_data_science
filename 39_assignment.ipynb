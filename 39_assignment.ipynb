{
 "cells": [
  {
   "cell_type": "markdown",
   "id": "cd67b04f-3667-445a-9b15-d58cadbabcf4",
   "metadata": {},
   "source": [
    "1) Explain the following with an example:\n",
    "a) Artificial Intelligence\n",
    "b) Machine Learning\n",
    "c) Deep Learning"
   ]
  },
  {
   "cell_type": "markdown",
   "id": "c4724901-4f2e-473b-b7d8-5aac08ec05f1",
   "metadata": {},
   "source": [
    "1) Artificial Intelligence : It refers to the ability of machines to perform tasks that typically require human intelligence, such as understanding natural language, recognizing objects, making decisions, and learning. AI systems use various techniques, including machine learning and deep learning, to perform these tasks\n",
    "\n",
    "ex: A virtual assistant like Siri or Alexa is an example of AI. These assistants use natural language processing (NLP) and machine learning algorithms to understand and respond to user queries and requests\n",
    "2) Machine Learning : It is a subset of AI that involves the use of statistical and mathematical algorithms to allow machines to learn from data, without being explicitly programmed. ML algorithms can identify patterns and make predictions based on the data they are trained on\n",
    "\n",
    "ex : A spam filter in an email system is an example of ML. The filter learns to distinguish between spam and legitimate emails by analyzing past examples of both\n",
    "3) Deep Learning : It  is a type of ML that involves the use of artificial neural networks with multiple layers to learn and make predictions from complex data sets. DL algorithms can be used for a variety of tasks, including image and speech recognition, natural language processing, and game playing\n",
    "\n",
    "ex : A self-driving car is an example of DL. The car's neural network learns to recognize objects and obstacles on the road, as well as to predict the movements of other cars and pedestrians. This allows the car to make decisions in real-time and safely navigate the road"
   ]
  },
  {
   "cell_type": "markdown",
   "id": "0335d4bd-94d0-4801-86e3-0cddaf08f692",
   "metadata": {},
   "source": [
    "2) What is supervised learning? List some examples of supervised learning. "
   ]
  },
  {
   "cell_type": "markdown",
   "id": "c037a220-abb1-4263-85db-6a0b66b9091e",
   "metadata": {},
   "source": [
    "Supervised learning is a type of machine learning where an algorithm learns from labeled training data to make predictions or classifications about new, unseen data. The labeled data consists of input features (also called independent variables or predictors) and corresponding output labels (also called dependent variables or targets) that the algorithm tries to predict or classify.\n",
    "\n",
    "During training, the algorithm learns to map the input features to the correct output labels based on a set of predefined rules or models. The algorithm can then use this learned mapping to make predictions on new, unseen data"
   ]
  },
  {
   "cell_type": "markdown",
   "id": "2e306be7-ad21-4ed9-aeb9-e81267fd414d",
   "metadata": {},
   "source": [
    "ex :\n",
    "\n",
    "1) Image Classification : An algorithm that learns to classify images of animals as dogs, cats, or birds based on labeled training data\n",
    "2) Spam Filtering : An algorithm that learns to classify emails as spam or not spam based on labeled training data\n",
    "3) Speech Recognition : An algorithm that learns to transcribe spoken words into text based on labeled training data\n",
    "4) Fraud Detection : An algorithm that learns to classify financial transactions as fraudulent or legitimate based on labeled training data\n",
    "5) Credit Scoring : An algorithm that learns to predict the likelihood of a borrower defaulting on a loan based on labeled training data\n",
    "    "
   ]
  },
  {
   "cell_type": "markdown",
   "id": "4c8335fa-6592-4c2a-94d0-9b9ac674067f",
   "metadata": {},
   "source": [
    "3) What is unsupervised learning? List some examples of unsupervised learning."
   ]
  },
  {
   "cell_type": "markdown",
   "id": "1ec3b470-001a-4efa-87d5-598fd106c199",
   "metadata": {},
   "source": [
    "Unsupervised learning is a type of machine learning algorithm in which the model is trained on a dataset without any explicit supervision or labeling of the input data. The goal is to identify patterns or structure in the data without being told what the correct output should be.\n",
    "\n",
    "ex:"
   ]
  },
  {
   "cell_type": "markdown",
   "id": "ad484639-c2e9-4d5c-b658-26b61c43db71",
   "metadata": {},
   "source": [
    "1) Clustering Algorithms : These algorithms group similar data points together based on their similarity metrics. Examples include k-means clustering and hierarchical clustering\n",
    "2) Anomaly Detection Algorithms : These algorithms identify outliers or anomalies in the data that do not fit the expected patterns. Examples include local outlier factor and isolation forest.\n",
    "3) Association Rule Learning Algorithms : These algorithms identify relationships or associations between variables in the data. Examples include Apriori algorithm and FP-Growth algorithm.\n",
    "4) Dimensionality Reduction Algorithms : These algorithms reduce the dimensionality of the data while retaining its important features. Examples include principal component analysis (PCA) and t-SNE.\n",
    "5) Generative Models : These algorithms generate new data points that are similar to the original dataset. Examples include autoencoders and variational autoencoders"
   ]
  },
  {
   "cell_type": "markdown",
   "id": "03899d72-a0a9-432a-ad8c-1a309ec9f5ce",
   "metadata": {},
   "source": [
    "4) What is the difference between AI, ML, DL, and DS?"
   ]
  },
  {
   "cell_type": "markdown",
   "id": "b666213d-b2f1-403f-ae4e-910ffad27706",
   "metadata": {},
   "source": [
    "1) AI : AI is a broad term that refers to the development of computer systems that can perform tasks that would normally require human intelligence, such as perception, reasoning, learning, and decision-making. AI can be achieved using various techniques, including machine learning, deep learning, natural language processing, and robotics\n",
    "2) ML : ML is a subset of AI that involves the development of algorithms that can automatically learn from data and improve their performance over time without being explicitly programmed. ML algorithms can be categorized into three types: supervised learning, unsupervised learning, and reinforcement learning\n",
    "3) DL : DL is a subset of ML that involves the development of deep neural networks that can learn from large amounts of data and solve complex problems such as image recognition, speech recognition, and natural language processing. DL algorithms use multiple layers of artificial neurons to perform feature extraction and classification\n",
    "4) DS : DS is an interdisciplinary field that involves the extraction, processing, analysis, visualization, and interpretation of data using various statistical and computational techniques. DS encompasses a wide range of skills, including data mining, data warehousing, data visualization, machine learning, and statistical analysis"
   ]
  },
  {
   "cell_type": "markdown",
   "id": "1957158f-d35b-4d71-8294-50893fbdb7ae",
   "metadata": {},
   "source": [
    "5) What are the main differences between supervised, unsupervised, and semi-supervised learning? "
   ]
  },
  {
   "cell_type": "markdown",
   "id": "50d6a984-63b0-4c51-843e-3e192c304725",
   "metadata": {},
   "source": [
    "1) Supervised Learning : It is a type of machine learning in which the algorithm is trained on a labeled dataset, i.e., a dataset in which the output variable is known. The goal of supervised learning is to learn a mapping function that can predict the output variable for new input data. Examples of supervised learning algorithms\n",
    "2) Unsupervised Learning : It is a type of machine learning in which the algorithm is trained on an unlabeled dataset, i.e., a dataset in which the output variable is not known. The goal of unsupervised learning is to identify patterns or structures in the data without being given any specific target variable. Examples of unsupervised learning algorithms include clustering, anomaly detection, and dimensionality reduction\n",
    "3) Semi-supervised Learning : It is a type of machine learning that lies somewhere between supervised and unsupervised learning. In semi-supervised learning, the algorithm is trained on a dataset that contains both labeled and unlabeled data. The goal of semi-supervised learning is to use the labeled data to learn a mapping function and then use the unlabeled data to improve the accuracy of the model. Examples of semi-supervised learning algorithms include self-training and co-training"
   ]
  },
  {
   "cell_type": "markdown",
   "id": "e8a1e42d-9ef9-4fde-aa3b-493add8ce00a",
   "metadata": {},
   "source": [
    "6) What is train, test and validation split? Explain the importance of each term."
   ]
  },
  {
   "cell_type": "markdown",
   "id": "9c43b890-c21f-49dc-87f8-afe188b92fef",
   "metadata": {},
   "source": [
    "1) Training Data Set : It is used to train the model. It is the largest of the three sets and typically accounts for 60-80% of the available data. The training set is used to optimize the model parameters so that it can make accurate predictions on unseen data\n",
    "2) Testing Data Set : It is used to evaluate the performance of the model on unseen data. It is used to measure the accuracy of the model and to determine whether it is overfitting or underfitting. The testing set is usually about 20-30% of the available data\n",
    "3) Validation Data Set : It is used to tune the hyperparameters of the model. Hyperparameters are model parameters that are not learned from the data but are set by the user. Examples include the learning rate, the number of hidden layers in a neural network, and the regularization parameter. The validation set is typically about 10-20% of the available data\n",
    "\n",
    "The importance of each term: "
   ]
  },
  {
   "cell_type": "markdown",
   "id": "fb837347-8ffc-4bc1-b1c3-041e1677e0c4",
   "metadata": {},
   "source": [
    "1) Training set is important because it is used to train the model and optimize its parameters. Without a training set, the model would not be able to learn from the data and make accurate predictions.\n",
    "\n",
    "2)Testing set is important because it is used to evaluate the performance of the model on unseen data. It helps to determine whether the model is overfitting or underfitting the training data.\n",
    "\n",
    "3) Validation set is important because it is used to tune the hyperparameters of the model. Hyperparameters have a significant impact on the performance of the model, and tuning them correctly can result in significant improvements in the accuracy of the model"
   ]
  },
  {
   "cell_type": "markdown",
   "id": "b7c059f1-7b12-4975-99af-487ca9f39245",
   "metadata": {},
   "source": [
    "7) How can unsupervised learning be used in anomaly detection?"
   ]
  },
  {
   "cell_type": "markdown",
   "id": "f523f796-430e-4016-9b06-df271c7af344",
   "metadata": {},
   "source": [
    "Unsupervised learning can be used in anomaly detection by training a model on a dataset containing only normal data, and then using the model to detect anomalies in new data.\n",
    "\n",
    "The basic idea is to train the model to learn the normal patterns or structures present in the data. Then, when new data is introduced, the model can detect any anomalies or patterns that do not match the learned normal patterns.\n",
    "\n",
    "One common approach to unsupervised anomaly detection is clustering. Clustering algorithms can group data points into clusters based on their similarity. In this approach, normal data points are expected to form clusters, and any data points that do not belong to a cluster can be considered as anomalies\n",
    "\n",
    "Another approach is to use autoencoders, which are neural networks that learn to reconstruct their input. In this approach, the model is trained to reconstruct normal data, and any data that the model is unable to reconstruct accurately can be considered as an anomaly"
   ]
  },
  {
   "cell_type": "markdown",
   "id": "2a0f3b6b-b46b-4051-b376-d3d4ff011e36",
   "metadata": {},
   "source": [
    "8) List down some commonly used supervised learning algorithms and unsupervised learning\n",
    "algorithms."
   ]
  },
  {
   "cell_type": "markdown",
   "id": "233fcc4c-06c5-48b2-ae28-5097cd3446c4",
   "metadata": {},
   "source": [
    "Supervised Learning:\n",
    "1) Linear Regression\n",
    "2) Logistic Regression\n",
    "3) Decision Trees\n",
    "4) Random Forests\n",
    "5) Support Vector Machines (SVMs)\n",
    "6) Naive Bayes\n",
    "7) K-Nearest Neighbors (KNN)\n",
    "8) Neural Networks \n",
    "    "
   ]
  },
  {
   "cell_type": "markdown",
   "id": "0e53c1a5-1d5d-453e-89e0-9b10eaa3c754",
   "metadata": {},
   "source": [
    "Unsupervised Learning :\n",
    "\n",
    "1) Clustering (K-Means, Hierarchical Clustering, DBSCAN)\n",
    "2) Principal Component Analysis (PCA)\n",
    "3) Independent Component Analysis (ICA)\n",
    "4) Autoencoders\n",
    "5) Generative Adversarial Networks (GANs)\n",
    "6) t-SNE (t-Distributed Stochastic Neighbor Embedding)\n",
    "7) Association Rule Learning(Apriori) \n",
    "    "
   ]
  },
  {
   "cell_type": "code",
   "execution_count": null,
   "id": "f6d73b89-160a-42ba-aa89-bc84dcdf58f8",
   "metadata": {},
   "outputs": [],
   "source": []
  }
 ],
 "metadata": {
  "kernelspec": {
   "display_name": "Python 3 (ipykernel)",
   "language": "python",
   "name": "python3"
  },
  "language_info": {
   "codemirror_mode": {
    "name": "ipython",
    "version": 3
   },
   "file_extension": ".py",
   "mimetype": "text/x-python",
   "name": "python",
   "nbconvert_exporter": "python",
   "pygments_lexer": "ipython3",
   "version": "3.10.8"
  }
 },
 "nbformat": 4,
 "nbformat_minor": 5
}
