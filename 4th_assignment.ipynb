{
 "cells": [
  {
   "cell_type": "markdown",
   "id": "853e86ed-dd64-47eb-8528-ccf2dbb51ab0",
   "metadata": {},
   "source": [
    "1)Explain Class and Object with respect to Object-Oriented Programming. Give a suitable example."
   ]
  },
  {
   "cell_type": "markdown",
   "id": "afe2f22c-7261-4eac-9986-bd5d07cf0862",
   "metadata": {},
   "source": [
    "1)class : it is we can create n number of varibles , we want to talk about a class car, it has model, price, colour, milleage.  an object has an instance of object."
   ]
  },
  {
   "cell_type": "code",
   "execution_count": 3,
   "id": "a1e54a0c-167d-432f-a770-761aafb3db00",
   "metadata": {},
   "outputs": [
    {
     "name": "stdout",
     "output_type": "stream",
     "text": [
      "The car has started.\n",
      "The car is accelerating.\n",
      "Toyota\n"
     ]
    }
   ],
   "source": [
    "class car:\n",
    "    def __init__(srinu, make,model,colour,milleage,year):\n",
    "        srinu.make = make\n",
    "        srinu.model = model\n",
    "        srinu.colour = colour\n",
    "        srinu.milleage = milleage\n",
    "        srinu.year = year\n",
    "    def start(srinu):\n",
    "        print(\"The car has started.\")\n",
    "\n",
    "    def stop(srinu):\n",
    "        print(\"The car has stopped.\")\n",
    "\n",
    "    def accelerate(srinu):\n",
    "        print(\"The car is accelerating.\")\n",
    "\n",
    "    def brake(srinu):\n",
    "        print(\"The car is braking.\")\n",
    "\n",
    "my_car = car(\"Toyota\", \"Camry\",\"red\",5000,2020)\n",
    "my_car.start()\n",
    "my_car.accelerate()\n",
    "print(my_car.make) \n",
    "        "
   ]
  },
  {
   "cell_type": "markdown",
   "id": "31ab1d45-d69c-4a5e-90e2-04b68816f6f1",
   "metadata": {},
   "source": [
    "2)Name the four pillars of OOPs."
   ]
  },
  {
   "cell_type": "markdown",
   "id": "14946a25-8d1d-440f-893c-65a3abb99536",
   "metadata": {},
   "source": [
    "1) Encapsulation\n",
    "2)Abstraction\n",
    "3)inheritance\n",
    "4)polymorphism"
   ]
  },
  {
   "cell_type": "markdown",
   "id": "a1b39e20-92f6-47c6-ac53-c823f2164e89",
   "metadata": {},
   "source": [
    "3)Explain why the __init__() function is used. Give a suitable example."
   ]
  },
  {
   "cell_type": "markdown",
   "id": "54ffc339-47b6-4f4a-8ee6-f4c789949d2d",
   "metadata": {},
   "source": [
    "A) it is a object-oriented-programm in this it is intalize the attribuites of the object with values provided by self"
   ]
  },
  {
   "cell_type": "code",
   "execution_count": 5,
   "id": "7a7f392c-b96d-49cd-8869-30be4224b0e3",
   "metadata": {},
   "outputs": [
    {
     "data": {
      "text/plain": [
       "'Srinu'"
      ]
     },
     "execution_count": 5,
     "metadata": {},
     "output_type": "execute_result"
    }
   ],
   "source": [
    "class person:\n",
    "    def __init__(srinu, name,age):\n",
    "        srinu.name = name\n",
    "        srinu.age = age\n",
    "person1 = person(\"Srinu\", 22,)     \n",
    "person1.name"
   ]
  },
  {
   "cell_type": "markdown",
   "id": "69a8ae52-e953-482b-be11-f707e4bc1bfd",
   "metadata": {},
   "source": [
    "4)Why self is used in OOPs?"
   ]
  },
  {
   "cell_type": "markdown",
   "id": "84d71ed6-e6a1-498f-8471-a801da2031c0",
   "metadata": {},
   "source": [
    "in object-oriented-program self it is a special keyword that refers to the instance of class being operated,self operator for access and modify"
   ]
  },
  {
   "cell_type": "markdown",
   "id": "70afa80d-b1b7-4933-825d-43368af85434",
   "metadata": {},
   "source": [
    "5)What is inheritance? Give an example for each type of inheritance."
   ]
  },
  {
   "cell_type": "markdown",
   "id": "f135c3cd-d0a3-4758-a429-e5ae0d9e34db",
   "metadata": {},
   "source": [
    "A)inheritance : it is one of the pillar of oops concept and it allows us create a new class from an existing class"
   ]
  }
 ],
 "metadata": {
  "kernelspec": {
   "display_name": "Python 3 (ipykernel)",
   "language": "python",
   "name": "python3"
  },
  "language_info": {
   "codemirror_mode": {
    "name": "ipython",
    "version": 3
   },
   "file_extension": ".py",
   "mimetype": "text/x-python",
   "name": "python",
   "nbconvert_exporter": "python",
   "pygments_lexer": "ipython3",
   "version": "3.10.8"
  }
 },
 "nbformat": 4,
 "nbformat_minor": 5
}
