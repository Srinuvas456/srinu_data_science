{
 "cells": [
  {
   "cell_type": "markdown",
   "id": "aacecefa-ce31-4700-8f9c-c2543ad17dd9",
   "metadata": {},
   "source": [
    "1) What is the relationship between polynomial functions and kernel functions in machine learning\n",
    "algorithms?"
   ]
  },
  {
   "cell_type": "markdown",
   "id": "322aab97-5ed8-4351-9864-cd72d98312cf",
   "metadata": {},
   "source": [
    "Polynomial functions and kernel functions are both commonly used in machine learning algorithms, particularly in support vector machines (SVMs). In SVMs, the choice of kernel function can have a significant impact on the performance of the algorithm.\n",
    "\n",
    "Polynomial functions can be used as kernel functions in SVMs. In this case, the kernel function takes two inputs, x and y, and returns the dot product of the polynomial features of these inputs. For example, a second-degree polynomial kernel would compute the dot product of the second-degree polynomial features of x and y.\n",
    "\n",
    "Kernel functions can be more flexible than polynomial functions because they can map the input data into a higher-dimensional feature space without actually computing the new feature space explicitly. This allows SVMs to efficiently handle high-dimensional and non-linear data. Some commonly used kernel functions in SVMs include radial basis function (RBF) kernels and sigmoid kernels"
   ]
  },
  {
   "cell_type": "markdown",
   "id": "8c3f9019-718f-4f9f-b460-40461f22f6e7",
   "metadata": {},
   "source": [
    "2) How can we implement an SVM with a polynomial kernel in Python using Scikit-learn?"
   ]
  },
  {
   "cell_type": "code",
   "execution_count": 2,
   "id": "8abfaf66-3e2d-45a2-bb61-e09a70be7b22",
   "metadata": {},
   "outputs": [],
   "source": [
    "from sklearn import datasets\n",
    "from sklearn.datasets import load_iris\n",
    "\n",
    "from sklearn.model_selection import train_test_split\n",
    "from sklearn.svm import SVC\n",
    "iris=datasets.load_iris()\n",
    "X=iris.data\n",
    "y=iris.target\n"
   ]
  },
  {
   "cell_type": "code",
   "execution_count": 3,
   "id": "8d60c4a8-19d6-47de-8df5-cfb4316bc5cb",
   "metadata": {},
   "outputs": [],
   "source": [
    "X_train,X_test,y_train,y_test=train_test_split(X,y,test_size=0.30,random_state=1)"
   ]
  },
  {
   "cell_type": "code",
   "execution_count": 5,
   "id": "4d4ec807-92ee-4048-8fe4-9175a919ce3f",
   "metadata": {},
   "outputs": [
    {
     "data": {
      "text/plain": [
       "array([[7.7, 2.6, 6.9, 2.3],\n",
       "       [5.7, 3.8, 1.7, 0.3],\n",
       "       [5. , 3.6, 1.4, 0.2],\n",
       "       [4.8, 3. , 1.4, 0.3],\n",
       "       [5.2, 2.7, 3.9, 1.4],\n",
       "       [5.1, 3.4, 1.5, 0.2],\n",
       "       [5.5, 3.5, 1.3, 0.2],\n",
       "       [7.7, 3.8, 6.7, 2.2],\n",
       "       [6.9, 3.1, 5.4, 2.1],\n",
       "       [7.3, 2.9, 6.3, 1.8],\n",
       "       [6.4, 2.8, 5.6, 2.2],\n",
       "       [6.2, 2.8, 4.8, 1.8],\n",
       "       [6. , 3.4, 4.5, 1.6],\n",
       "       [7.7, 2.8, 6.7, 2. ],\n",
       "       [5.7, 3. , 4.2, 1.2],\n",
       "       [4.8, 3.4, 1.6, 0.2],\n",
       "       [5.7, 2.5, 5. , 2. ],\n",
       "       [6.3, 2.7, 4.9, 1.8],\n",
       "       [4.8, 3. , 1.4, 0.1],\n",
       "       [4.7, 3.2, 1.3, 0.2],\n",
       "       [6.5, 3. , 5.8, 2.2],\n",
       "       [4.6, 3.4, 1.4, 0.3],\n",
       "       [6.1, 3. , 4.9, 1.8],\n",
       "       [6.5, 3.2, 5.1, 2. ],\n",
       "       [6.7, 3.1, 4.4, 1.4],\n",
       "       [5.7, 2.8, 4.5, 1.3],\n",
       "       [6.7, 3.3, 5.7, 2.5],\n",
       "       [6. , 3. , 4.8, 1.8],\n",
       "       [5.1, 3.8, 1.6, 0.2],\n",
       "       [6. , 2.2, 4. , 1. ],\n",
       "       [6.4, 2.9, 4.3, 1.3],\n",
       "       [6.5, 3. , 5.5, 1.8],\n",
       "       [5. , 2.3, 3.3, 1. ],\n",
       "       [6.3, 3.3, 6. , 2.5],\n",
       "       [5.5, 2.5, 4. , 1.3],\n",
       "       [5.4, 3.7, 1.5, 0.2],\n",
       "       [4.9, 3.1, 1.5, 0.2],\n",
       "       [5.2, 4.1, 1.5, 0.1],\n",
       "       [6.7, 3.3, 5.7, 2.1],\n",
       "       [4.4, 3. , 1.3, 0.2],\n",
       "       [6. , 2.7, 5.1, 1.6],\n",
       "       [6.4, 2.7, 5.3, 1.9],\n",
       "       [5.9, 3. , 5.1, 1.8],\n",
       "       [5.2, 3.5, 1.5, 0.2],\n",
       "       [5.1, 3.3, 1.7, 0.5],\n",
       "       [5.8, 2.7, 4.1, 1. ],\n",
       "       [4.9, 3.1, 1.5, 0.1],\n",
       "       [7.4, 2.8, 6.1, 1.9],\n",
       "       [6.2, 2.9, 4.3, 1.3],\n",
       "       [7.6, 3. , 6.6, 2.1],\n",
       "       [6.7, 3. , 5.2, 2.3],\n",
       "       [6.3, 2.3, 4.4, 1.3],\n",
       "       [6.2, 3.4, 5.4, 2.3],\n",
       "       [7.2, 3.6, 6.1, 2.5],\n",
       "       [5.6, 2.9, 3.6, 1.3],\n",
       "       [5.7, 4.4, 1.5, 0.4],\n",
       "       [5.8, 2.7, 3.9, 1.2],\n",
       "       [4.5, 2.3, 1.3, 0.3],\n",
       "       [5.5, 2.4, 3.8, 1.1],\n",
       "       [6.9, 3.1, 4.9, 1.5],\n",
       "       [5. , 3.4, 1.6, 0.4],\n",
       "       [6.8, 2.8, 4.8, 1.4],\n",
       "       [5. , 3.5, 1.6, 0.6],\n",
       "       [4.8, 3.4, 1.9, 0.2],\n",
       "       [6.3, 3.4, 5.6, 2.4],\n",
       "       [5.6, 2.8, 4.9, 2. ],\n",
       "       [6.8, 3.2, 5.9, 2.3],\n",
       "       [5. , 3.3, 1.4, 0.2],\n",
       "       [5.1, 3.7, 1.5, 0.4],\n",
       "       [5.9, 3.2, 4.8, 1.8],\n",
       "       [4.6, 3.1, 1.5, 0.2],\n",
       "       [5.8, 2.7, 5.1, 1.9],\n",
       "       [4.8, 3.1, 1.6, 0.2],\n",
       "       [6.5, 3. , 5.2, 2. ],\n",
       "       [4.9, 2.5, 4.5, 1.7],\n",
       "       [4.6, 3.2, 1.4, 0.2],\n",
       "       [6.4, 3.2, 5.3, 2.3],\n",
       "       [4.3, 3. , 1.1, 0.1],\n",
       "       [5.6, 3. , 4.1, 1.3],\n",
       "       [4.4, 2.9, 1.4, 0.2],\n",
       "       [5.5, 2.4, 3.7, 1. ],\n",
       "       [5. , 2. , 3.5, 1. ],\n",
       "       [5.1, 3.5, 1.4, 0.2],\n",
       "       [4.9, 3. , 1.4, 0.2],\n",
       "       [4.9, 2.4, 3.3, 1. ],\n",
       "       [4.6, 3.6, 1. , 0.2],\n",
       "       [5.9, 3. , 4.2, 1.5],\n",
       "       [6.1, 2.9, 4.7, 1.4],\n",
       "       [5. , 3.4, 1.5, 0.2],\n",
       "       [6.7, 3.1, 4.7, 1.5],\n",
       "       [5.7, 2.9, 4.2, 1.3],\n",
       "       [6.2, 2.2, 4.5, 1.5],\n",
       "       [7. , 3.2, 4.7, 1.4],\n",
       "       [5.8, 2.7, 5.1, 1.9],\n",
       "       [5.4, 3.4, 1.7, 0.2],\n",
       "       [5. , 3. , 1.6, 0.2],\n",
       "       [6.1, 2.6, 5.6, 1.4],\n",
       "       [6.1, 2.8, 4. , 1.3],\n",
       "       [7.2, 3. , 5.8, 1.6],\n",
       "       [5.7, 2.6, 3.5, 1. ],\n",
       "       [6.3, 2.8, 5.1, 1.5],\n",
       "       [6.4, 3.1, 5.5, 1.8],\n",
       "       [6.3, 2.5, 4.9, 1.5],\n",
       "       [6.7, 3.1, 5.6, 2.4],\n",
       "       [4.9, 3.6, 1.4, 0.1]])"
      ]
     },
     "execution_count": 5,
     "metadata": {},
     "output_type": "execute_result"
    }
   ],
   "source": [
    "X_train"
   ]
  },
  {
   "cell_type": "code",
   "execution_count": 6,
   "id": "cf6e12c3-b7c9-4617-8e1e-8c85b12fee49",
   "metadata": {},
   "outputs": [],
   "source": [
    "classifier=SVC(kernel='poly',degree=2)"
   ]
  },
  {
   "cell_type": "code",
   "execution_count": 7,
   "id": "c40f9b6f-45be-4f9c-aea5-a2487f8d45ec",
   "metadata": {},
   "outputs": [
    {
     "data": {
      "text/plain": [
       "array([0, 1, 1, 0, 2, 1, 2, 0, 0, 2, 1, 0, 2, 1, 1, 0, 1, 1, 0, 0, 1, 1,\n",
       "       1, 0, 2, 1, 0, 0, 1, 2, 1, 2, 1, 2, 2, 0, 1, 0, 1, 2, 2, 0, 2, 2,\n",
       "       1])"
      ]
     },
     "execution_count": 7,
     "metadata": {},
     "output_type": "execute_result"
    }
   ],
   "source": [
    "classifier.fit(X_train,y_train)\n",
    "y_pred=classifier.predict(X_test)\n",
    "y_pred"
   ]
  },
  {
   "cell_type": "code",
   "execution_count": 9,
   "id": "9e683bbb-311f-4777-bbf4-5194425b4ad8",
   "metadata": {},
   "outputs": [],
   "source": [
    "accuracy=classifier.score(X_test,y_test)\n"
   ]
  },
  {
   "cell_type": "code",
   "execution_count": 10,
   "id": "2ae0dd32-a5fc-4dc8-b722-d696612a613a",
   "metadata": {},
   "outputs": [
    {
     "data": {
      "text/plain": [
       "1.0"
      ]
     },
     "execution_count": 10,
     "metadata": {},
     "output_type": "execute_result"
    }
   ],
   "source": [
    "accuracy"
   ]
  },
  {
   "cell_type": "markdown",
   "id": "c9909a5d-ca08-4501-af88-1e126f18c80b",
   "metadata": {},
   "source": [
    "3) How does increasing the value of epsilon affect the number of support vectors in SVR?"
   ]
  },
  {
   "cell_type": "markdown",
   "id": "0638e3c7-4a93-4252-9043-e054b6e85067",
   "metadata": {},
   "source": [
    "In Support Vector Regression (SVR), epsilon is a hyperparameter that controls the width of the epsilon-insensitive tube around the predicted values. Increasing the value of epsilon increases the width of this tube and allows more points to be included within the margin of tolerance.\n",
    "\n",
    "In general, increasing the value of epsilon may lead to an increase in the number of support vectors in SVR. This is because when the epsilon value is larger, the margin of tolerance becomes wider and more data points may fall within this margin, which results in more support vectors needed to define the boundary.\n",
    "\n",
    "However, the actual effect of epsilon on the number of support vectors can depend on the specific dataset and other hyperparameters used in the SVR algorithm. For example, if the data is very noisy, increasing the value of epsilon may result in a decrease in the number of support vectors, as the wider margin may lead to more data points being classified as outliers and therefore ignored.\n",
    "\n",
    "Overall, it's important to consider the specific dataset and goals of the regression task when selecting the optimal value of epsilon in SVR, as it can have a significant impact on the performance of the algorithm"
   ]
  },
  {
   "cell_type": "markdown",
   "id": "45a4b7a7-7e23-44e4-ac18-e0e3724c9326",
   "metadata": {},
   "source": [
    "4) How does the choice of kernel function, C parameter, epsilon parameter, and gamma parameter\n",
    "affect the performance of Support Vector Regression (SVR)? Can you explain how each parameter works\n",
    "and provide examples of when you might want to increase or decrease its value?"
   ]
  },
  {
   "cell_type": "markdown",
   "id": "2e1bab04-370b-479e-a755-c05bb89ab79c",
   "metadata": {},
   "source": [
    "In Support Vector Regression (SVR), there are several hyperparameters that can significantly impact the performance of the model. Here's an overview of how the choice of kernel function, C parameter, epsilon parameter, and gamma parameter can affect SVR performance and when you might want to increase or decrease their values:\n",
    "\n",
    "1) Kernel function:\n",
    "\n",
    "The kernel function specifies how the input data is transformed into a higher-dimensional feature space, where the data is easier to separate. Common kernel functions used in SVR include the linear, polynomial, and radial basis function (RBF) kernels. The choice of kernel function depends on the specific characteristics of the data, and different kernel functions may perform better in different scenarios. For example, if the data is linearly separable, a linear kernel may perform well. If the data is nonlinear, a polynomial or RBF kernel may be more appropriate. In general, it's a good idea to try multiple kernel functions and compare their performance to choose the best one.\n",
    "\n",
    "2) C parameter:\n",
    "\n",
    "The C parameter controls the tradeoff between maximizing the margin and minimizing the training error. A smaller C value allows for more margin violations (i.e., data points within the margin or misclassified), while a larger C value forces the model to fit the data more closely and may lead to overfitting. If the model is underfitting, it may be helpful to increase the C value to allow for more margin violations. If the model is overfitting, it may be helpful to decrease the C value to encourage a wider margin.\n",
    "\n",
    "3) Epsilon parameter:\n",
    "\n",
    "The epsilon parameter determines the width of the epsilon-insensitive tube around the predicted values. A larger epsilon value allows for more tolerance around the predicted values and may result in more support vectors. If the model is underfitting, it may be helpful to increase the epsilon value to allow for more tolerance around the predicted values. If the model is overfitting, it may be helpful to decrease the epsilon value to make the model more sensitive to small changes in the data.\n",
    "\n",
    "4) Gamma parameter:\n",
    "\n",
    "The gamma parameter controls the shape of the decision boundary and the flexibility of the model. A smaller gamma value results in a smoother decision boundary and may prevent overfitting, while a larger gamma value results in a more complex decision boundary and may lead to overfitting. If the model is underfitting, it may be helpful to decrease the gamma value to allow for a smoother decision boundary. If the model is overfitting, it may be helpful to increase the gamma value to make the model more flexible"
   ]
  },
  {
   "cell_type": "markdown",
   "id": "ef6d67ab-768a-4644-b396-701478b53ac6",
   "metadata": {},
   "source": [
    "5) Import the necessary libraries and load the dataseg\n",
    "\n",
    " Split the dataset into training and testing set\n",
    "\n",
    " Preprocess the data using any technique of your choice (e.g. scaling, normalization)\n",
    " \n",
    " Create an instance of the SVC classifier and train it on the training data\n",
    " \n",
    " use the trained classifier to predict the labels of the testing data\n",
    " \n",
    " Evaluate the performance of the classifier using any metric of your choice (e.g. accuracy,precision, recall, F1-score)\n",
    " \n",
    " Tune the hyperparameters of the SVC classifier using GridSearchCV or RandomizedSearchCV to improve its performance\n",
    " \n",
    " Train the tuned classifier on the entire dataset\n",
    " \n",
    " Save the trained classifier to a file for future use."
   ]
  },
  {
   "cell_type": "code",
   "execution_count": 12,
   "id": "bc619c7b-1b30-4c3a-8e8f-52386e60152e",
   "metadata": {},
   "outputs": [],
   "source": [
    "from sklearn.datasets import load_iris\n",
    "from sklearn.model_selection import train_test_split,GridSearchCV\n",
    "from sklearn.metrics import accuracy_score,f1_score\n",
    "from sklearn.preprocessing import StandardScaler\n",
    "from sklearn.svm import SVC\n",
    "import joblib"
   ]
  },
  {
   "cell_type": "code",
   "execution_count": 13,
   "id": "99de5ead-a39b-46d9-8b47-158341aa7924",
   "metadata": {},
   "outputs": [],
   "source": [
    "iris=load_iris()\n",
    "X=iris.data\n",
    "y=iris.target"
   ]
  },
  {
   "cell_type": "code",
   "execution_count": 14,
   "id": "145927da-a1ff-4f58-9981-879a01eef2ca",
   "metadata": {},
   "outputs": [
    {
     "data": {
      "text/plain": [
       "array([[5.1, 3.5, 1.4, 0.2],\n",
       "       [4.9, 3. , 1.4, 0.2],\n",
       "       [4.7, 3.2, 1.3, 0.2],\n",
       "       [4.6, 3.1, 1.5, 0.2],\n",
       "       [5. , 3.6, 1.4, 0.2],\n",
       "       [5.4, 3.9, 1.7, 0.4],\n",
       "       [4.6, 3.4, 1.4, 0.3],\n",
       "       [5. , 3.4, 1.5, 0.2],\n",
       "       [4.4, 2.9, 1.4, 0.2],\n",
       "       [4.9, 3.1, 1.5, 0.1],\n",
       "       [5.4, 3.7, 1.5, 0.2],\n",
       "       [4.8, 3.4, 1.6, 0.2],\n",
       "       [4.8, 3. , 1.4, 0.1],\n",
       "       [4.3, 3. , 1.1, 0.1],\n",
       "       [5.8, 4. , 1.2, 0.2],\n",
       "       [5.7, 4.4, 1.5, 0.4],\n",
       "       [5.4, 3.9, 1.3, 0.4],\n",
       "       [5.1, 3.5, 1.4, 0.3],\n",
       "       [5.7, 3.8, 1.7, 0.3],\n",
       "       [5.1, 3.8, 1.5, 0.3],\n",
       "       [5.4, 3.4, 1.7, 0.2],\n",
       "       [5.1, 3.7, 1.5, 0.4],\n",
       "       [4.6, 3.6, 1. , 0.2],\n",
       "       [5.1, 3.3, 1.7, 0.5],\n",
       "       [4.8, 3.4, 1.9, 0.2],\n",
       "       [5. , 3. , 1.6, 0.2],\n",
       "       [5. , 3.4, 1.6, 0.4],\n",
       "       [5.2, 3.5, 1.5, 0.2],\n",
       "       [5.2, 3.4, 1.4, 0.2],\n",
       "       [4.7, 3.2, 1.6, 0.2],\n",
       "       [4.8, 3.1, 1.6, 0.2],\n",
       "       [5.4, 3.4, 1.5, 0.4],\n",
       "       [5.2, 4.1, 1.5, 0.1],\n",
       "       [5.5, 4.2, 1.4, 0.2],\n",
       "       [4.9, 3.1, 1.5, 0.2],\n",
       "       [5. , 3.2, 1.2, 0.2],\n",
       "       [5.5, 3.5, 1.3, 0.2],\n",
       "       [4.9, 3.6, 1.4, 0.1],\n",
       "       [4.4, 3. , 1.3, 0.2],\n",
       "       [5.1, 3.4, 1.5, 0.2],\n",
       "       [5. , 3.5, 1.3, 0.3],\n",
       "       [4.5, 2.3, 1.3, 0.3],\n",
       "       [4.4, 3.2, 1.3, 0.2],\n",
       "       [5. , 3.5, 1.6, 0.6],\n",
       "       [5.1, 3.8, 1.9, 0.4],\n",
       "       [4.8, 3. , 1.4, 0.3],\n",
       "       [5.1, 3.8, 1.6, 0.2],\n",
       "       [4.6, 3.2, 1.4, 0.2],\n",
       "       [5.3, 3.7, 1.5, 0.2],\n",
       "       [5. , 3.3, 1.4, 0.2],\n",
       "       [7. , 3.2, 4.7, 1.4],\n",
       "       [6.4, 3.2, 4.5, 1.5],\n",
       "       [6.9, 3.1, 4.9, 1.5],\n",
       "       [5.5, 2.3, 4. , 1.3],\n",
       "       [6.5, 2.8, 4.6, 1.5],\n",
       "       [5.7, 2.8, 4.5, 1.3],\n",
       "       [6.3, 3.3, 4.7, 1.6],\n",
       "       [4.9, 2.4, 3.3, 1. ],\n",
       "       [6.6, 2.9, 4.6, 1.3],\n",
       "       [5.2, 2.7, 3.9, 1.4],\n",
       "       [5. , 2. , 3.5, 1. ],\n",
       "       [5.9, 3. , 4.2, 1.5],\n",
       "       [6. , 2.2, 4. , 1. ],\n",
       "       [6.1, 2.9, 4.7, 1.4],\n",
       "       [5.6, 2.9, 3.6, 1.3],\n",
       "       [6.7, 3.1, 4.4, 1.4],\n",
       "       [5.6, 3. , 4.5, 1.5],\n",
       "       [5.8, 2.7, 4.1, 1. ],\n",
       "       [6.2, 2.2, 4.5, 1.5],\n",
       "       [5.6, 2.5, 3.9, 1.1],\n",
       "       [5.9, 3.2, 4.8, 1.8],\n",
       "       [6.1, 2.8, 4. , 1.3],\n",
       "       [6.3, 2.5, 4.9, 1.5],\n",
       "       [6.1, 2.8, 4.7, 1.2],\n",
       "       [6.4, 2.9, 4.3, 1.3],\n",
       "       [6.6, 3. , 4.4, 1.4],\n",
       "       [6.8, 2.8, 4.8, 1.4],\n",
       "       [6.7, 3. , 5. , 1.7],\n",
       "       [6. , 2.9, 4.5, 1.5],\n",
       "       [5.7, 2.6, 3.5, 1. ],\n",
       "       [5.5, 2.4, 3.8, 1.1],\n",
       "       [5.5, 2.4, 3.7, 1. ],\n",
       "       [5.8, 2.7, 3.9, 1.2],\n",
       "       [6. , 2.7, 5.1, 1.6],\n",
       "       [5.4, 3. , 4.5, 1.5],\n",
       "       [6. , 3.4, 4.5, 1.6],\n",
       "       [6.7, 3.1, 4.7, 1.5],\n",
       "       [6.3, 2.3, 4.4, 1.3],\n",
       "       [5.6, 3. , 4.1, 1.3],\n",
       "       [5.5, 2.5, 4. , 1.3],\n",
       "       [5.5, 2.6, 4.4, 1.2],\n",
       "       [6.1, 3. , 4.6, 1.4],\n",
       "       [5.8, 2.6, 4. , 1.2],\n",
       "       [5. , 2.3, 3.3, 1. ],\n",
       "       [5.6, 2.7, 4.2, 1.3],\n",
       "       [5.7, 3. , 4.2, 1.2],\n",
       "       [5.7, 2.9, 4.2, 1.3],\n",
       "       [6.2, 2.9, 4.3, 1.3],\n",
       "       [5.1, 2.5, 3. , 1.1],\n",
       "       [5.7, 2.8, 4.1, 1.3],\n",
       "       [6.3, 3.3, 6. , 2.5],\n",
       "       [5.8, 2.7, 5.1, 1.9],\n",
       "       [7.1, 3. , 5.9, 2.1],\n",
       "       [6.3, 2.9, 5.6, 1.8],\n",
       "       [6.5, 3. , 5.8, 2.2],\n",
       "       [7.6, 3. , 6.6, 2.1],\n",
       "       [4.9, 2.5, 4.5, 1.7],\n",
       "       [7.3, 2.9, 6.3, 1.8],\n",
       "       [6.7, 2.5, 5.8, 1.8],\n",
       "       [7.2, 3.6, 6.1, 2.5],\n",
       "       [6.5, 3.2, 5.1, 2. ],\n",
       "       [6.4, 2.7, 5.3, 1.9],\n",
       "       [6.8, 3. , 5.5, 2.1],\n",
       "       [5.7, 2.5, 5. , 2. ],\n",
       "       [5.8, 2.8, 5.1, 2.4],\n",
       "       [6.4, 3.2, 5.3, 2.3],\n",
       "       [6.5, 3. , 5.5, 1.8],\n",
       "       [7.7, 3.8, 6.7, 2.2],\n",
       "       [7.7, 2.6, 6.9, 2.3],\n",
       "       [6. , 2.2, 5. , 1.5],\n",
       "       [6.9, 3.2, 5.7, 2.3],\n",
       "       [5.6, 2.8, 4.9, 2. ],\n",
       "       [7.7, 2.8, 6.7, 2. ],\n",
       "       [6.3, 2.7, 4.9, 1.8],\n",
       "       [6.7, 3.3, 5.7, 2.1],\n",
       "       [7.2, 3.2, 6. , 1.8],\n",
       "       [6.2, 2.8, 4.8, 1.8],\n",
       "       [6.1, 3. , 4.9, 1.8],\n",
       "       [6.4, 2.8, 5.6, 2.1],\n",
       "       [7.2, 3. , 5.8, 1.6],\n",
       "       [7.4, 2.8, 6.1, 1.9],\n",
       "       [7.9, 3.8, 6.4, 2. ],\n",
       "       [6.4, 2.8, 5.6, 2.2],\n",
       "       [6.3, 2.8, 5.1, 1.5],\n",
       "       [6.1, 2.6, 5.6, 1.4],\n",
       "       [7.7, 3. , 6.1, 2.3],\n",
       "       [6.3, 3.4, 5.6, 2.4],\n",
       "       [6.4, 3.1, 5.5, 1.8],\n",
       "       [6. , 3. , 4.8, 1.8],\n",
       "       [6.9, 3.1, 5.4, 2.1],\n",
       "       [6.7, 3.1, 5.6, 2.4],\n",
       "       [6.9, 3.1, 5.1, 2.3],\n",
       "       [5.8, 2.7, 5.1, 1.9],\n",
       "       [6.8, 3.2, 5.9, 2.3],\n",
       "       [6.7, 3.3, 5.7, 2.5],\n",
       "       [6.7, 3. , 5.2, 2.3],\n",
       "       [6.3, 2.5, 5. , 1.9],\n",
       "       [6.5, 3. , 5.2, 2. ],\n",
       "       [6.2, 3.4, 5.4, 2.3],\n",
       "       [5.9, 3. , 5.1, 1.8]])"
      ]
     },
     "execution_count": 14,
     "metadata": {},
     "output_type": "execute_result"
    }
   ],
   "source": [
    "X"
   ]
  },
  {
   "cell_type": "code",
   "execution_count": 15,
   "id": "e730cba7-6a99-4902-9c89-07920553aa26",
   "metadata": {},
   "outputs": [],
   "source": [
    "X_train,X_test,y_train,y_test=train_test_split(X,y,train_size=0.20,random_state=42)"
   ]
  },
  {
   "cell_type": "code",
   "execution_count": 16,
   "id": "a4c8c717-9ae4-4593-9c67-417cd1095dbc",
   "metadata": {},
   "outputs": [],
   "source": [
    "scaler=StandardScaler()"
   ]
  },
  {
   "cell_type": "code",
   "execution_count": 17,
   "id": "6570ad6e-f59b-4efb-b26d-0c9998970587",
   "metadata": {},
   "outputs": [],
   "source": [
    "X_train_Scaled=scaler.fit_transform(X_train)\n",
    "X_test_Scaled=scaler.transform(X_test)"
   ]
  },
  {
   "cell_type": "code",
   "execution_count": 18,
   "id": "ebcfa7f7-79d3-4cf4-9287-3d193a709a37",
   "metadata": {},
   "outputs": [
    {
     "data": {
      "text/plain": [
       "array([[ 0.12130918,  0.02498179,  0.29714104,  0.13528622],\n",
       "       [-1.88656696, -1.72374356, -1.71771942, -1.45915856],\n",
       "       [ 0.74877048, -0.22483612,  0.29714104, -0.0096633 ],\n",
       "       [-0.63164437, -0.97428984,  0.17502828, -0.15461283],\n",
       "       [-0.88262889,  1.77370714, -1.59560667, -1.60410809],\n",
       "       [-0.50615211,  0.02498179, -0.00814085, -0.0096633 ],\n",
       "       [ 1.62721629, -0.22483612,  1.33509946,  0.71508433],\n",
       "       [ 0.87426274,  0.77443551,  0.96876119,  1.14993291],\n",
       "       [-1.13361341,  1.77370714, -1.59560667, -1.31420904],\n",
       "       [-1.38459792, -1.47392565, -0.49659187, -0.44451188],\n",
       "       [ 0.87426274,  0.77443551,  0.96876119,  1.72973101],\n",
       "       [ 1.50172403,  0.02498179,  1.02981757,  0.42518528],\n",
       "       [-1.38459792,  1.52388924, -1.65666304, -1.74905761],\n",
       "       [ 0.87426274,  0.2747997 ,  0.90770481,  1.58478149],\n",
       "       [-1.38459792,  0.02498179, -1.65666304, -1.60410809],\n",
       "       [ 1.12524726,  0.2747997 ,  0.48031017,  0.28023575],\n",
       "       [ 1.75270855, -0.47465402,  1.2129867 ,  0.86003385],\n",
       "       [ 0.3722937 , -0.22483612,  0.90770481,  0.71508433],\n",
       "       [-0.38065985, -0.47465402, -0.00814085, -0.0096633 ],\n",
       "       [ 0.62327822,  0.02498179,  0.84664844,  0.71508433],\n",
       "       [ 0.3722937 , -1.72374356,  0.17502828, -0.0096633 ],\n",
       "       [ 0.49778596, -0.22483612,  0.1139719 , -0.0096633 ],\n",
       "       [-0.50615211, -0.47465402,  0.48031017,  1.00498338],\n",
       "       [-0.12967533,  0.02498179,  0.60242293,  0.71508433],\n",
       "       [-0.75713663,  1.02425342, -1.47349391, -1.60410809],\n",
       "       [ 0.12130918, -0.47465402, -0.06919723, -0.0096633 ],\n",
       "       [-1.38459792, -1.22410775,  0.23608466,  0.5701348 ],\n",
       "       [-0.25516759,  2.52316087, -1.7787758 , -1.60410809],\n",
       "       [-0.25516759, -0.97428984, -0.06919723, -0.15461283],\n",
       "       [ 1.37623177,  0.02498179,  1.09087395,  1.14993291]])"
      ]
     },
     "execution_count": 18,
     "metadata": {},
     "output_type": "execute_result"
    }
   ],
   "source": [
    "X_train_Scaled"
   ]
  },
  {
   "cell_type": "code",
   "execution_count": 19,
   "id": "64adea89-863a-4b3d-91da-9b32a416e87b",
   "metadata": {},
   "outputs": [
    {
     "data": {
      "text/plain": [
       "array([[ 0.12130918, -0.47465402,  0.35819741, -0.15461283],\n",
       "       [-0.38065985,  2.02352505, -1.47349391, -1.45915856],\n",
       "       [ 2.12918533, -0.97428984,  1.70143772,  1.43983196],\n",
       "       [-0.00418308, -0.22483612,  0.23608466,  0.28023575],\n",
       "       [ 0.999755  , -0.47465402,  0.41925379,  0.13528622],\n",
       "       [-0.75713663,  1.02425342, -1.59560667, -1.31420904],\n",
       "       [-0.50615211, -0.22483612, -0.31342274, -0.0096633 ],\n",
       "       [ 1.12524726,  0.2747997 ,  0.60242293,  1.43983196],\n",
       "       [ 0.24680144, -1.97356147,  0.23608466,  0.28023575],\n",
       "       [-0.25516759, -0.72447193, -0.13025361, -0.15461283],\n",
       "       [ 0.62327822,  0.52461761,  0.60242293,  1.00498338],\n",
       "       [-1.51009018,  0.02498179, -1.65666304, -1.74905761],\n",
       "       [-0.63164437,  1.27407133, -1.71771942, -1.60410809],\n",
       "       [-1.38459792,  0.2747997 , -1.59560667, -1.74905761],\n",
       "       [-1.13361341,  2.02352505, -1.59560667, -1.45915856],\n",
       "       [ 0.3722937 ,  0.77443551,  0.35819741,  0.42518528],\n",
       "       [ 0.62327822,  0.02498179,  1.02981757,  1.29488243],\n",
       "       [-0.50615211, -1.22410775, -0.13025361, -0.29956235],\n",
       "       [-0.38065985, -0.47465402,  0.23608466, -0.0096633 ],\n",
       "       [ 0.49778596, -0.47465402,  0.90770481,  1.29488243],\n",
       "       [-1.63558244,  0.52461761, -1.53455029, -1.60410809],\n",
       "       [ 0.12130918,  0.02498179,  0.48031017,  0.71508433],\n",
       "       [-1.25910566,  1.02425342, -1.53455029, -1.31420904],\n",
       "       [ 0.49778596, -0.47465402,  0.90770481,  1.14993291],\n",
       "       [ 2.38016984,  2.02352505,  1.39615583,  1.00498338],\n",
       "       [ 0.87426274,  0.02498179,  0.6634793 ,  1.43983196],\n",
       "       [ 0.87426274, -1.22410775,  1.02981757,  0.71508433],\n",
       "       [ 0.999755  ,  0.52461761,  1.09087395,  1.43983196],\n",
       "       [-1.51009018,  0.02498179, -1.65666304, -1.45915856],\n",
       "       [-1.51009018,  0.2747997 , -1.53455029, -1.60410809],\n",
       "       [-1.7610747 ,  1.52388924, -1.90088855, -1.60410809],\n",
       "       [-0.38065985,  3.5224325 , -1.59560667, -1.31420904],\n",
       "       [ 0.87426274,  0.2747997 ,  0.17502828,  0.13528622],\n",
       "       [-1.51009018,  1.02425342, -1.53455029, -1.60410809],\n",
       "       [-2.01205922,  0.52461761, -1.71771942, -1.60410809],\n",
       "       [ 0.3722937 , -1.22410775,  0.54136655,  0.86003385],\n",
       "       [ 0.49778596,  0.52461761,  0.23608466,  0.28023575],\n",
       "       [-1.00812115,  1.27407133, -1.59560667, -1.60410809],\n",
       "       [-1.25910566,  1.52388924, -1.65666304, -1.60410809],\n",
       "       [-1.00812115,  2.77297877, -1.59560667, -1.74905761],\n",
       "       [-0.25516759, -0.72447193,  0.60242293,  0.86003385],\n",
       "       [-0.00418308,  1.02425342,  0.23608466,  0.42518528],\n",
       "       [ 0.87426274,  0.2747997 ,  0.35819741,  0.28023575],\n",
       "       [-0.75713663,  2.27334296, -1.71771942, -1.31420904],\n",
       "       [-0.75713663,  1.77370714, -1.59560667, -1.60410809],\n",
       "       [-0.63164437, -1.47392565, -0.25236636, -0.44451188],\n",
       "       [ 0.3722937 , -0.47465402,  0.60242293,  0.28023575],\n",
       "       [ 0.49778596,  0.2747997 ,  0.84664844,  0.71508433],\n",
       "       [ 0.74877048,  0.02498179,  0.17502828,  0.13528622],\n",
       "       [ 1.50172403,  1.52388924,  1.2129867 ,  1.72973101],\n",
       "       [-0.38065985, -0.22483612,  0.05291553, -0.0096633 ],\n",
       "       [ 2.00369307,  0.02498179,  1.51826859,  1.14993291],\n",
       "       [-0.50615211,  0.02498179,  0.23608466,  0.28023575],\n",
       "       [-1.13361341,  1.27407133, -1.65666304, -1.60410809],\n",
       "       [ 2.12918533, -0.47465402,  1.57932497,  1.00498338],\n",
       "       [-0.25516759, -0.72447193, -0.00814085, -0.44451188],\n",
       "       [-1.00812115,  1.02425342, -1.65666304, -1.60410809],\n",
       "       [-1.25910566,  1.27407133, -1.71771942, -1.45915856],\n",
       "       [-1.13361341,  2.02352505, -1.35138116, -1.31420904],\n",
       "       [-1.25910566, -2.47319728, -0.37447912, -0.44451188],\n",
       "       [ 0.3722937 , -0.72447193,  0.48031017,  0.71508433],\n",
       "       [-1.51009018,  1.02425342, -1.35138116, -1.60410809],\n",
       "       [-1.25910566,  0.02498179, -1.53455029, -1.60410809],\n",
       "       [-1.13361341,  0.77443551, -1.47349391, -1.16925951],\n",
       "       [-0.50615211, -0.72447193,  0.05291553, -0.0096633 ],\n",
       "       [-1.13361341,  1.02425342, -1.59560667, -1.60410809],\n",
       "       [-0.38065985,  0.02498179,  0.05291553, -0.15461283],\n",
       "       [ 2.12918533,  2.02352505,  1.57932497,  1.29488243],\n",
       "       [-1.7610747 ,  0.52461761, -1.65666304, -1.60410809],\n",
       "       [ 0.24680144, -0.22483612,  0.1139719 , -0.0096633 ],\n",
       "       [-0.38065985, -1.22410775,  0.54136655,  1.00498338],\n",
       "       [-0.63164437,  3.02279668, -1.65666304, -1.60410809],\n",
       "       [-0.00418308,  0.02498179,  0.41925379,  0.71508433],\n",
       "       [-0.25516759, -0.72447193,  0.60242293,  0.86003385],\n",
       "       [-0.00418308, -1.97356147, -0.06919723, -0.44451188],\n",
       "       [-0.75713663,  0.02498179,  0.23608466,  0.28023575],\n",
       "       [ 0.24680144,  1.02425342,  0.78559206,  1.43983196],\n",
       "       [-0.63164437, -1.72374356, -0.06919723, -0.0096633 ],\n",
       "       [-0.75713663,  2.27334296, -1.47349391, -1.31420904],\n",
       "       [-1.25910566, -1.72374356, -0.49659187, -0.44451188],\n",
       "       [ 0.49778596, -0.72447193,  0.72453568,  0.86003385],\n",
       "       [-1.25910566,  0.77443551, -1.65666304, -1.60410809],\n",
       "       [-1.25910566,  0.52461761, -1.7787758 , -1.60410809],\n",
       "       [-0.63164437, -1.47392565, -0.19130998, -0.29956235],\n",
       "       [ 0.87426274,  0.02498179,  0.54136655,  0.5701348 ],\n",
       "       [-1.38459792,  0.2747997 , -1.59560667, -1.60410809],\n",
       "       [-0.25516759, -0.47465402,  0.60242293,  1.58478149],\n",
       "       [-1.25910566,  1.02425342, -1.59560667, -1.60410809],\n",
       "       [-1.25910566,  1.27407133, -1.53455029, -1.02430998],\n",
       "       [-0.12967533,  0.52461761,  0.41925379,  0.71508433],\n",
       "       [-1.13361341, -1.22410775, -0.679761  , -0.29956235],\n",
       "       [ 1.12524726,  0.52461761,  0.96876119,  1.43983196],\n",
       "       [-0.00418308, -0.72447193,  0.60242293,  0.42518528],\n",
       "       [ 0.12130918, -0.97428984,  0.90770481,  0.13528622],\n",
       "       [ 2.12918533,  0.02498179,  1.2129867 ,  1.43983196],\n",
       "       [-0.63164437, -1.22410775, -0.06919723, -0.0096633 ],\n",
       "       [-2.01205922, -0.22483612, -1.65666304, -1.60410809],\n",
       "       [-2.13755148,  0.02498179, -1.83983218, -1.74905761],\n",
       "       [-0.00418308, -1.97356147,  0.54136655,  0.28023575],\n",
       "       [ 1.50172403,  0.52461761,  1.15193032,  0.71508433],\n",
       "       [-1.7610747 ,  0.2747997 , -1.59560667, -1.60410809],\n",
       "       [-1.13361341,  1.27407133, -1.65666304, -1.45915856],\n",
       "       [-2.01205922,  0.02498179, -1.71771942, -1.60410809],\n",
       "       [ 0.3722937 , -1.22410775,  0.48031017,  0.28023575],\n",
       "       [ 0.3722937 ,  1.02425342,  0.90770481,  1.58478149],\n",
       "       [-1.7610747 ,  1.02425342, -1.65666304, -1.45915856],\n",
       "       [ 0.999755  ,  0.02498179,  0.84664844,  1.14993291],\n",
       "       [ 0.3722937 ,  0.77443551,  1.15193032,  1.72973101],\n",
       "       [-1.63558244,  0.52461761, -1.71771942, -1.60410809],\n",
       "       [ 0.12130918, -0.22483612,  0.35819741,  0.13528622],\n",
       "       [ 0.62327822, -0.47465402,  0.29714104,  0.28023575],\n",
       "       [ 0.24680144, -0.47465402,  0.41925379,  0.71508433],\n",
       "       [ 1.25073951,  0.52461761,  0.35819741,  0.13528622],\n",
       "       [ 0.49778596,  0.52461761,  0.72453568,  1.43983196],\n",
       "       [-1.13361341,  2.02352505, -1.53455029, -1.60410809],\n",
       "       [ 1.12524726,  0.2747997 ,  0.78559206,  1.14993291],\n",
       "       [-0.12967533,  0.02498179,  0.05291553,  0.28023575],\n",
       "       [ 0.62327822,  0.02498179,  0.6634793 ,  1.00498338],\n",
       "       [-0.38065985, -0.97428984, -0.37447912, -0.44451188],\n",
       "       [-1.00812115, -0.72447193, -0.13025361,  0.13528622]])"
      ]
     },
     "execution_count": 19,
     "metadata": {},
     "output_type": "execute_result"
    }
   ],
   "source": [
    "X_test_Scaled"
   ]
  },
  {
   "cell_type": "code",
   "execution_count": 21,
   "id": "07648f41-9192-4327-94e6-851d1b509c8e",
   "metadata": {},
   "outputs": [
    {
     "data": {
      "text/html": [
       "<style>#sk-container-id-1 {color: black;background-color: white;}#sk-container-id-1 pre{padding: 0;}#sk-container-id-1 div.sk-toggleable {background-color: white;}#sk-container-id-1 label.sk-toggleable__label {cursor: pointer;display: block;width: 100%;margin-bottom: 0;padding: 0.3em;box-sizing: border-box;text-align: center;}#sk-container-id-1 label.sk-toggleable__label-arrow:before {content: \"▸\";float: left;margin-right: 0.25em;color: #696969;}#sk-container-id-1 label.sk-toggleable__label-arrow:hover:before {color: black;}#sk-container-id-1 div.sk-estimator:hover label.sk-toggleable__label-arrow:before {color: black;}#sk-container-id-1 div.sk-toggleable__content {max-height: 0;max-width: 0;overflow: hidden;text-align: left;background-color: #f0f8ff;}#sk-container-id-1 div.sk-toggleable__content pre {margin: 0.2em;color: black;border-radius: 0.25em;background-color: #f0f8ff;}#sk-container-id-1 input.sk-toggleable__control:checked~div.sk-toggleable__content {max-height: 200px;max-width: 100%;overflow: auto;}#sk-container-id-1 input.sk-toggleable__control:checked~label.sk-toggleable__label-arrow:before {content: \"▾\";}#sk-container-id-1 div.sk-estimator input.sk-toggleable__control:checked~label.sk-toggleable__label {background-color: #d4ebff;}#sk-container-id-1 div.sk-label input.sk-toggleable__control:checked~label.sk-toggleable__label {background-color: #d4ebff;}#sk-container-id-1 input.sk-hidden--visually {border: 0;clip: rect(1px 1px 1px 1px);clip: rect(1px, 1px, 1px, 1px);height: 1px;margin: -1px;overflow: hidden;padding: 0;position: absolute;width: 1px;}#sk-container-id-1 div.sk-estimator {font-family: monospace;background-color: #f0f8ff;border: 1px dotted black;border-radius: 0.25em;box-sizing: border-box;margin-bottom: 0.5em;}#sk-container-id-1 div.sk-estimator:hover {background-color: #d4ebff;}#sk-container-id-1 div.sk-parallel-item::after {content: \"\";width: 100%;border-bottom: 1px solid gray;flex-grow: 1;}#sk-container-id-1 div.sk-label:hover label.sk-toggleable__label {background-color: #d4ebff;}#sk-container-id-1 div.sk-serial::before {content: \"\";position: absolute;border-left: 1px solid gray;box-sizing: border-box;top: 0;bottom: 0;left: 50%;z-index: 0;}#sk-container-id-1 div.sk-serial {display: flex;flex-direction: column;align-items: center;background-color: white;padding-right: 0.2em;padding-left: 0.2em;position: relative;}#sk-container-id-1 div.sk-item {position: relative;z-index: 1;}#sk-container-id-1 div.sk-parallel {display: flex;align-items: stretch;justify-content: center;background-color: white;position: relative;}#sk-container-id-1 div.sk-item::before, #sk-container-id-1 div.sk-parallel-item::before {content: \"\";position: absolute;border-left: 1px solid gray;box-sizing: border-box;top: 0;bottom: 0;left: 50%;z-index: -1;}#sk-container-id-1 div.sk-parallel-item {display: flex;flex-direction: column;z-index: 1;position: relative;background-color: white;}#sk-container-id-1 div.sk-parallel-item:first-child::after {align-self: flex-end;width: 50%;}#sk-container-id-1 div.sk-parallel-item:last-child::after {align-self: flex-start;width: 50%;}#sk-container-id-1 div.sk-parallel-item:only-child::after {width: 0;}#sk-container-id-1 div.sk-dashed-wrapped {border: 1px dashed gray;margin: 0 0.4em 0.5em 0.4em;box-sizing: border-box;padding-bottom: 0.4em;background-color: white;}#sk-container-id-1 div.sk-label label {font-family: monospace;font-weight: bold;display: inline-block;line-height: 1.2em;}#sk-container-id-1 div.sk-label-container {text-align: center;}#sk-container-id-1 div.sk-container {/* jupyter's `normalize.less` sets `[hidden] { display: none; }` but bootstrap.min.css set `[hidden] { display: none !important; }` so we also need the `!important` here to be able to override the default hidden behavior on the sphinx rendered scikit-learn.org. See: https://github.com/scikit-learn/scikit-learn/issues/21755 */display: inline-block !important;position: relative;}#sk-container-id-1 div.sk-text-repr-fallback {display: none;}</style><div id=\"sk-container-id-1\" class=\"sk-top-container\"><div class=\"sk-text-repr-fallback\"><pre>SVC()</pre><b>In a Jupyter environment, please rerun this cell to show the HTML representation or trust the notebook. <br />On GitHub, the HTML representation is unable to render, please try loading this page with nbviewer.org.</b></div><div class=\"sk-container\" hidden><div class=\"sk-item\"><div class=\"sk-estimator sk-toggleable\"><input class=\"sk-toggleable__control sk-hidden--visually\" id=\"sk-estimator-id-1\" type=\"checkbox\" checked><label for=\"sk-estimator-id-1\" class=\"sk-toggleable__label sk-toggleable__label-arrow\">SVC</label><div class=\"sk-toggleable__content\"><pre>SVC()</pre></div></div></div></div></div>"
      ],
      "text/plain": [
       "SVC()"
      ]
     },
     "execution_count": 21,
     "metadata": {},
     "output_type": "execute_result"
    }
   ],
   "source": [
    "svc=SVC()\n",
    "svc.fit(X_train_Scaled,y_train)"
   ]
  },
  {
   "cell_type": "code",
   "execution_count": 22,
   "id": "022dac00-8662-4780-ac4e-012f7ac787f9",
   "metadata": {},
   "outputs": [],
   "source": [
    "y_pred=svc.predict(X_test_Scaled)"
   ]
  },
  {
   "cell_type": "code",
   "execution_count": 23,
   "id": "2e166735-968c-475a-a063-7ee505f7236e",
   "metadata": {},
   "outputs": [
    {
     "data": {
      "text/plain": [
       "array([1, 0, 2, 1, 1, 0, 1, 2, 1, 1, 2, 0, 0, 0, 0, 1, 2, 1, 1, 2, 0, 2,\n",
       "       0, 2, 2, 2, 2, 2, 0, 0, 0, 0, 1, 0, 0, 2, 1, 0, 0, 0, 2, 1, 1, 0,\n",
       "       0, 1, 1, 2, 1, 2, 1, 2, 1, 0, 2, 1, 0, 0, 0, 1, 2, 0, 0, 0, 1, 0,\n",
       "       1, 2, 0, 1, 2, 0, 2, 2, 1, 1, 2, 1, 0, 1, 2, 0, 0, 1, 2, 0, 2, 0,\n",
       "       0, 2, 1, 2, 2, 1, 2, 1, 0, 0, 1, 2, 0, 0, 0, 1, 2, 0, 2, 2, 0, 1,\n",
       "       1, 2, 1, 2, 0, 2, 1, 2, 1, 1])"
      ]
     },
     "execution_count": 23,
     "metadata": {},
     "output_type": "execute_result"
    }
   ],
   "source": [
    "y_pred"
   ]
  },
  {
   "cell_type": "code",
   "execution_count": 24,
   "id": "cd69dcee-5ff9-4c01-8dde-cd53d395ee6a",
   "metadata": {},
   "outputs": [
    {
     "data": {
      "text/plain": [
       "0.95"
      ]
     },
     "execution_count": 24,
     "metadata": {},
     "output_type": "execute_result"
    }
   ],
   "source": [
    "acc = accuracy_score(y_test,y_pred)\n",
    "acc"
   ]
  },
  {
   "cell_type": "code",
   "execution_count": 25,
   "id": "2a9adbbe-ff77-47e9-b0c0-46e3f7e1d359",
   "metadata": {},
   "outputs": [],
   "source": [
    "param_grid={\n",
    "    'C':[0.1,1,10],\n",
    "    'gamma':[0.1,1,10],\n",
    "    'kernel':['linear','rbf']}\n",
    "    "
   ]
  },
  {
   "cell_type": "code",
   "execution_count": 26,
   "id": "a80aef73-7df2-40b2-894f-91595c404f5d",
   "metadata": {},
   "outputs": [
    {
     "data": {
      "text/html": [
       "<style>#sk-container-id-2 {color: black;background-color: white;}#sk-container-id-2 pre{padding: 0;}#sk-container-id-2 div.sk-toggleable {background-color: white;}#sk-container-id-2 label.sk-toggleable__label {cursor: pointer;display: block;width: 100%;margin-bottom: 0;padding: 0.3em;box-sizing: border-box;text-align: center;}#sk-container-id-2 label.sk-toggleable__label-arrow:before {content: \"▸\";float: left;margin-right: 0.25em;color: #696969;}#sk-container-id-2 label.sk-toggleable__label-arrow:hover:before {color: black;}#sk-container-id-2 div.sk-estimator:hover label.sk-toggleable__label-arrow:before {color: black;}#sk-container-id-2 div.sk-toggleable__content {max-height: 0;max-width: 0;overflow: hidden;text-align: left;background-color: #f0f8ff;}#sk-container-id-2 div.sk-toggleable__content pre {margin: 0.2em;color: black;border-radius: 0.25em;background-color: #f0f8ff;}#sk-container-id-2 input.sk-toggleable__control:checked~div.sk-toggleable__content {max-height: 200px;max-width: 100%;overflow: auto;}#sk-container-id-2 input.sk-toggleable__control:checked~label.sk-toggleable__label-arrow:before {content: \"▾\";}#sk-container-id-2 div.sk-estimator input.sk-toggleable__control:checked~label.sk-toggleable__label {background-color: #d4ebff;}#sk-container-id-2 div.sk-label input.sk-toggleable__control:checked~label.sk-toggleable__label {background-color: #d4ebff;}#sk-container-id-2 input.sk-hidden--visually {border: 0;clip: rect(1px 1px 1px 1px);clip: rect(1px, 1px, 1px, 1px);height: 1px;margin: -1px;overflow: hidden;padding: 0;position: absolute;width: 1px;}#sk-container-id-2 div.sk-estimator {font-family: monospace;background-color: #f0f8ff;border: 1px dotted black;border-radius: 0.25em;box-sizing: border-box;margin-bottom: 0.5em;}#sk-container-id-2 div.sk-estimator:hover {background-color: #d4ebff;}#sk-container-id-2 div.sk-parallel-item::after {content: \"\";width: 100%;border-bottom: 1px solid gray;flex-grow: 1;}#sk-container-id-2 div.sk-label:hover label.sk-toggleable__label {background-color: #d4ebff;}#sk-container-id-2 div.sk-serial::before {content: \"\";position: absolute;border-left: 1px solid gray;box-sizing: border-box;top: 0;bottom: 0;left: 50%;z-index: 0;}#sk-container-id-2 div.sk-serial {display: flex;flex-direction: column;align-items: center;background-color: white;padding-right: 0.2em;padding-left: 0.2em;position: relative;}#sk-container-id-2 div.sk-item {position: relative;z-index: 1;}#sk-container-id-2 div.sk-parallel {display: flex;align-items: stretch;justify-content: center;background-color: white;position: relative;}#sk-container-id-2 div.sk-item::before, #sk-container-id-2 div.sk-parallel-item::before {content: \"\";position: absolute;border-left: 1px solid gray;box-sizing: border-box;top: 0;bottom: 0;left: 50%;z-index: -1;}#sk-container-id-2 div.sk-parallel-item {display: flex;flex-direction: column;z-index: 1;position: relative;background-color: white;}#sk-container-id-2 div.sk-parallel-item:first-child::after {align-self: flex-end;width: 50%;}#sk-container-id-2 div.sk-parallel-item:last-child::after {align-self: flex-start;width: 50%;}#sk-container-id-2 div.sk-parallel-item:only-child::after {width: 0;}#sk-container-id-2 div.sk-dashed-wrapped {border: 1px dashed gray;margin: 0 0.4em 0.5em 0.4em;box-sizing: border-box;padding-bottom: 0.4em;background-color: white;}#sk-container-id-2 div.sk-label label {font-family: monospace;font-weight: bold;display: inline-block;line-height: 1.2em;}#sk-container-id-2 div.sk-label-container {text-align: center;}#sk-container-id-2 div.sk-container {/* jupyter's `normalize.less` sets `[hidden] { display: none; }` but bootstrap.min.css set `[hidden] { display: none !important; }` so we also need the `!important` here to be able to override the default hidden behavior on the sphinx rendered scikit-learn.org. See: https://github.com/scikit-learn/scikit-learn/issues/21755 */display: inline-block !important;position: relative;}#sk-container-id-2 div.sk-text-repr-fallback {display: none;}</style><div id=\"sk-container-id-2\" class=\"sk-top-container\"><div class=\"sk-text-repr-fallback\"><pre>GridSearchCV(cv=5, estimator=SVC(),\n",
       "             param_grid={&#x27;C&#x27;: [0.1, 1, 10], &#x27;gamma&#x27;: [0.1, 1, 10],\n",
       "                         &#x27;kernel&#x27;: [&#x27;linear&#x27;, &#x27;rbf&#x27;]})</pre><b>In a Jupyter environment, please rerun this cell to show the HTML representation or trust the notebook. <br />On GitHub, the HTML representation is unable to render, please try loading this page with nbviewer.org.</b></div><div class=\"sk-container\" hidden><div class=\"sk-item sk-dashed-wrapped\"><div class=\"sk-label-container\"><div class=\"sk-label sk-toggleable\"><input class=\"sk-toggleable__control sk-hidden--visually\" id=\"sk-estimator-id-2\" type=\"checkbox\" ><label for=\"sk-estimator-id-2\" class=\"sk-toggleable__label sk-toggleable__label-arrow\">GridSearchCV</label><div class=\"sk-toggleable__content\"><pre>GridSearchCV(cv=5, estimator=SVC(),\n",
       "             param_grid={&#x27;C&#x27;: [0.1, 1, 10], &#x27;gamma&#x27;: [0.1, 1, 10],\n",
       "                         &#x27;kernel&#x27;: [&#x27;linear&#x27;, &#x27;rbf&#x27;]})</pre></div></div></div><div class=\"sk-parallel\"><div class=\"sk-parallel-item\"><div class=\"sk-item\"><div class=\"sk-label-container\"><div class=\"sk-label sk-toggleable\"><input class=\"sk-toggleable__control sk-hidden--visually\" id=\"sk-estimator-id-3\" type=\"checkbox\" ><label for=\"sk-estimator-id-3\" class=\"sk-toggleable__label sk-toggleable__label-arrow\">estimator: SVC</label><div class=\"sk-toggleable__content\"><pre>SVC()</pre></div></div></div><div class=\"sk-serial\"><div class=\"sk-item\"><div class=\"sk-estimator sk-toggleable\"><input class=\"sk-toggleable__control sk-hidden--visually\" id=\"sk-estimator-id-4\" type=\"checkbox\" ><label for=\"sk-estimator-id-4\" class=\"sk-toggleable__label sk-toggleable__label-arrow\">SVC</label><div class=\"sk-toggleable__content\"><pre>SVC()</pre></div></div></div></div></div></div></div></div></div></div>"
      ],
      "text/plain": [
       "GridSearchCV(cv=5, estimator=SVC(),\n",
       "             param_grid={'C': [0.1, 1, 10], 'gamma': [0.1, 1, 10],\n",
       "                         'kernel': ['linear', 'rbf']})"
      ]
     },
     "execution_count": 26,
     "metadata": {},
     "output_type": "execute_result"
    }
   ],
   "source": [
    "grid=GridSearchCV(SVC(),param_grid=param_grid,refit=True,cv=5)\n",
    "grid.fit(X_train_Scaled,y_train)"
   ]
  },
  {
   "cell_type": "code",
   "execution_count": 27,
   "id": "56eec180-1ad5-4086-8fc1-dcc254ef7e05",
   "metadata": {},
   "outputs": [
    {
     "data": {
      "text/html": [
       "<style>#sk-container-id-3 {color: black;background-color: white;}#sk-container-id-3 pre{padding: 0;}#sk-container-id-3 div.sk-toggleable {background-color: white;}#sk-container-id-3 label.sk-toggleable__label {cursor: pointer;display: block;width: 100%;margin-bottom: 0;padding: 0.3em;box-sizing: border-box;text-align: center;}#sk-container-id-3 label.sk-toggleable__label-arrow:before {content: \"▸\";float: left;margin-right: 0.25em;color: #696969;}#sk-container-id-3 label.sk-toggleable__label-arrow:hover:before {color: black;}#sk-container-id-3 div.sk-estimator:hover label.sk-toggleable__label-arrow:before {color: black;}#sk-container-id-3 div.sk-toggleable__content {max-height: 0;max-width: 0;overflow: hidden;text-align: left;background-color: #f0f8ff;}#sk-container-id-3 div.sk-toggleable__content pre {margin: 0.2em;color: black;border-radius: 0.25em;background-color: #f0f8ff;}#sk-container-id-3 input.sk-toggleable__control:checked~div.sk-toggleable__content {max-height: 200px;max-width: 100%;overflow: auto;}#sk-container-id-3 input.sk-toggleable__control:checked~label.sk-toggleable__label-arrow:before {content: \"▾\";}#sk-container-id-3 div.sk-estimator input.sk-toggleable__control:checked~label.sk-toggleable__label {background-color: #d4ebff;}#sk-container-id-3 div.sk-label input.sk-toggleable__control:checked~label.sk-toggleable__label {background-color: #d4ebff;}#sk-container-id-3 input.sk-hidden--visually {border: 0;clip: rect(1px 1px 1px 1px);clip: rect(1px, 1px, 1px, 1px);height: 1px;margin: -1px;overflow: hidden;padding: 0;position: absolute;width: 1px;}#sk-container-id-3 div.sk-estimator {font-family: monospace;background-color: #f0f8ff;border: 1px dotted black;border-radius: 0.25em;box-sizing: border-box;margin-bottom: 0.5em;}#sk-container-id-3 div.sk-estimator:hover {background-color: #d4ebff;}#sk-container-id-3 div.sk-parallel-item::after {content: \"\";width: 100%;border-bottom: 1px solid gray;flex-grow: 1;}#sk-container-id-3 div.sk-label:hover label.sk-toggleable__label {background-color: #d4ebff;}#sk-container-id-3 div.sk-serial::before {content: \"\";position: absolute;border-left: 1px solid gray;box-sizing: border-box;top: 0;bottom: 0;left: 50%;z-index: 0;}#sk-container-id-3 div.sk-serial {display: flex;flex-direction: column;align-items: center;background-color: white;padding-right: 0.2em;padding-left: 0.2em;position: relative;}#sk-container-id-3 div.sk-item {position: relative;z-index: 1;}#sk-container-id-3 div.sk-parallel {display: flex;align-items: stretch;justify-content: center;background-color: white;position: relative;}#sk-container-id-3 div.sk-item::before, #sk-container-id-3 div.sk-parallel-item::before {content: \"\";position: absolute;border-left: 1px solid gray;box-sizing: border-box;top: 0;bottom: 0;left: 50%;z-index: -1;}#sk-container-id-3 div.sk-parallel-item {display: flex;flex-direction: column;z-index: 1;position: relative;background-color: white;}#sk-container-id-3 div.sk-parallel-item:first-child::after {align-self: flex-end;width: 50%;}#sk-container-id-3 div.sk-parallel-item:last-child::after {align-self: flex-start;width: 50%;}#sk-container-id-3 div.sk-parallel-item:only-child::after {width: 0;}#sk-container-id-3 div.sk-dashed-wrapped {border: 1px dashed gray;margin: 0 0.4em 0.5em 0.4em;box-sizing: border-box;padding-bottom: 0.4em;background-color: white;}#sk-container-id-3 div.sk-label label {font-family: monospace;font-weight: bold;display: inline-block;line-height: 1.2em;}#sk-container-id-3 div.sk-label-container {text-align: center;}#sk-container-id-3 div.sk-container {/* jupyter's `normalize.less` sets `[hidden] { display: none; }` but bootstrap.min.css set `[hidden] { display: none !important; }` so we also need the `!important` here to be able to override the default hidden behavior on the sphinx rendered scikit-learn.org. See: https://github.com/scikit-learn/scikit-learn/issues/21755 */display: inline-block !important;position: relative;}#sk-container-id-3 div.sk-text-repr-fallback {display: none;}</style><div id=\"sk-container-id-3\" class=\"sk-top-container\"><div class=\"sk-text-repr-fallback\"><pre>SVC(C=1, gamma=0.1, kernel=&#x27;linear&#x27;)</pre><b>In a Jupyter environment, please rerun this cell to show the HTML representation or trust the notebook. <br />On GitHub, the HTML representation is unable to render, please try loading this page with nbviewer.org.</b></div><div class=\"sk-container\" hidden><div class=\"sk-item\"><div class=\"sk-estimator sk-toggleable\"><input class=\"sk-toggleable__control sk-hidden--visually\" id=\"sk-estimator-id-5\" type=\"checkbox\" checked><label for=\"sk-estimator-id-5\" class=\"sk-toggleable__label sk-toggleable__label-arrow\">SVC</label><div class=\"sk-toggleable__content\"><pre>SVC(C=1, gamma=0.1, kernel=&#x27;linear&#x27;)</pre></div></div></div></div></div>"
      ],
      "text/plain": [
       "SVC(C=1, gamma=0.1, kernel='linear')"
      ]
     },
     "execution_count": 27,
     "metadata": {},
     "output_type": "execute_result"
    }
   ],
   "source": [
    "tuned_svc=grid.best_estimator_\n",
    "tuned_svc.fit(X_train_Scaled,y_train)"
   ]
  },
  {
   "cell_type": "code",
   "execution_count": 28,
   "id": "4b67b003-df3c-4a79-8c62-bbe28c6f546b",
   "metadata": {},
   "outputs": [
    {
     "data": {
      "text/plain": [
       "['svm_classifier.joblib']"
      ]
     },
     "execution_count": 28,
     "metadata": {},
     "output_type": "execute_result"
    }
   ],
   "source": [
    "joblib.dump(tuned_svc, \"svm_classifier.joblib\")"
   ]
  },
  {
   "cell_type": "code",
   "execution_count": null,
   "id": "549f231d-ba08-452b-b7b4-ea68fc30a287",
   "metadata": {},
   "outputs": [],
   "source": []
  }
 ],
 "metadata": {
  "kernelspec": {
   "display_name": "Python 3 (ipykernel)",
   "language": "python",
   "name": "python3"
  },
  "language_info": {
   "codemirror_mode": {
    "name": "ipython",
    "version": 3
   },
   "file_extension": ".py",
   "mimetype": "text/x-python",
   "name": "python",
   "nbconvert_exporter": "python",
   "pygments_lexer": "ipython3",
   "version": "3.10.8"
  }
 },
 "nbformat": 4,
 "nbformat_minor": 5
}
