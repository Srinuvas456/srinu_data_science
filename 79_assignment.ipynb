{
 "cells": [
  {
   "cell_type": "code",
   "execution_count": 8,
   "id": "6854d82a-04d8-4658-8326-743207cdfaf2",
   "metadata": {},
   "outputs": [
    {
     "data": {
      "text/html": [
       "<div>\n",
       "<style scoped>\n",
       "    .dataframe tbody tr th:only-of-type {\n",
       "        vertical-align: middle;\n",
       "    }\n",
       "\n",
       "    .dataframe tbody tr th {\n",
       "        vertical-align: top;\n",
       "    }\n",
       "\n",
       "    .dataframe thead th {\n",
       "        text-align: right;\n",
       "    }\n",
       "</style>\n",
       "<table border=\"1\" class=\"dataframe\">\n",
       "  <thead>\n",
       "    <tr style=\"text-align: right;\">\n",
       "      <th></th>\n",
       "      <th>0</th>\n",
       "      <th>1</th>\n",
       "      <th>2</th>\n",
       "      <th>3</th>\n",
       "      <th>4</th>\n",
       "      <th>5</th>\n",
       "      <th>6</th>\n",
       "      <th>7</th>\n",
       "      <th>8</th>\n",
       "      <th>9</th>\n",
       "      <th>10</th>\n",
       "      <th>11</th>\n",
       "      <th>12</th>\n",
       "      <th>13</th>\n",
       "    </tr>\n",
       "  </thead>\n",
       "  <tbody>\n",
       "    <tr>\n",
       "      <th>0</th>\n",
       "      <td>1</td>\n",
       "      <td>14.23</td>\n",
       "      <td>1.71</td>\n",
       "      <td>2.43</td>\n",
       "      <td>15.6</td>\n",
       "      <td>127</td>\n",
       "      <td>2.80</td>\n",
       "      <td>3.06</td>\n",
       "      <td>0.28</td>\n",
       "      <td>2.29</td>\n",
       "      <td>5.64</td>\n",
       "      <td>1.04</td>\n",
       "      <td>3.92</td>\n",
       "      <td>1065</td>\n",
       "    </tr>\n",
       "    <tr>\n",
       "      <th>1</th>\n",
       "      <td>1</td>\n",
       "      <td>13.20</td>\n",
       "      <td>1.78</td>\n",
       "      <td>2.14</td>\n",
       "      <td>11.2</td>\n",
       "      <td>100</td>\n",
       "      <td>2.65</td>\n",
       "      <td>2.76</td>\n",
       "      <td>0.26</td>\n",
       "      <td>1.28</td>\n",
       "      <td>4.38</td>\n",
       "      <td>1.05</td>\n",
       "      <td>3.40</td>\n",
       "      <td>1050</td>\n",
       "    </tr>\n",
       "    <tr>\n",
       "      <th>2</th>\n",
       "      <td>1</td>\n",
       "      <td>13.16</td>\n",
       "      <td>2.36</td>\n",
       "      <td>2.67</td>\n",
       "      <td>18.6</td>\n",
       "      <td>101</td>\n",
       "      <td>2.80</td>\n",
       "      <td>3.24</td>\n",
       "      <td>0.30</td>\n",
       "      <td>2.81</td>\n",
       "      <td>5.68</td>\n",
       "      <td>1.03</td>\n",
       "      <td>3.17</td>\n",
       "      <td>1185</td>\n",
       "    </tr>\n",
       "    <tr>\n",
       "      <th>3</th>\n",
       "      <td>1</td>\n",
       "      <td>14.37</td>\n",
       "      <td>1.95</td>\n",
       "      <td>2.50</td>\n",
       "      <td>16.8</td>\n",
       "      <td>113</td>\n",
       "      <td>3.85</td>\n",
       "      <td>3.49</td>\n",
       "      <td>0.24</td>\n",
       "      <td>2.18</td>\n",
       "      <td>7.80</td>\n",
       "      <td>0.86</td>\n",
       "      <td>3.45</td>\n",
       "      <td>1480</td>\n",
       "    </tr>\n",
       "    <tr>\n",
       "      <th>4</th>\n",
       "      <td>1</td>\n",
       "      <td>13.24</td>\n",
       "      <td>2.59</td>\n",
       "      <td>2.87</td>\n",
       "      <td>21.0</td>\n",
       "      <td>118</td>\n",
       "      <td>2.80</td>\n",
       "      <td>2.69</td>\n",
       "      <td>0.39</td>\n",
       "      <td>1.82</td>\n",
       "      <td>4.32</td>\n",
       "      <td>1.04</td>\n",
       "      <td>2.93</td>\n",
       "      <td>735</td>\n",
       "    </tr>\n",
       "  </tbody>\n",
       "</table>\n",
       "</div>"
      ],
      "text/plain": [
       "   0      1     2     3     4    5     6     7     8     9     10    11    12  \\\n",
       "0   1  14.23  1.71  2.43  15.6  127  2.80  3.06  0.28  2.29  5.64  1.04  3.92   \n",
       "1   1  13.20  1.78  2.14  11.2  100  2.65  2.76  0.26  1.28  4.38  1.05  3.40   \n",
       "2   1  13.16  2.36  2.67  18.6  101  2.80  3.24  0.30  2.81  5.68  1.03  3.17   \n",
       "3   1  14.37  1.95  2.50  16.8  113  3.85  3.49  0.24  2.18  7.80  0.86  3.45   \n",
       "4   1  13.24  2.59  2.87  21.0  118  2.80  2.69  0.39  1.82  4.32  1.04  2.93   \n",
       "\n",
       "     13  \n",
       "0  1065  \n",
       "1  1050  \n",
       "2  1185  \n",
       "3  1480  \n",
       "4   735  "
      ]
     },
     "execution_count": 8,
     "metadata": {},
     "output_type": "execute_result"
    }
   ],
   "source": [
    "import numpy as np\n",
    "import matplotlib.pyplot as plt\n",
    "import pandas as pd\n",
    "df =pd.read_csv('wine.data',header=None)\n",
    "df.head()\n"
   ]
  },
  {
   "cell_type": "code",
   "execution_count": 9,
   "id": "9ae7ddcd-92a0-44dc-a2b7-29d7fc6dc36b",
   "metadata": {},
   "outputs": [],
   "source": [
    "X = df.iloc[:, 1:].values\n",
    "y = df.iloc[:, 0].values"
   ]
  },
  {
   "cell_type": "code",
   "execution_count": 11,
   "id": "bd53f671-b396-48cb-a398-3f58b03a26fc",
   "metadata": {},
   "outputs": [
    {
     "data": {
      "text/plain": [
       "((178, 13), (178,))"
      ]
     },
     "execution_count": 11,
     "metadata": {},
     "output_type": "execute_result"
    }
   ],
   "source": [
    "X.shape,y.shape"
   ]
  },
  {
   "cell_type": "code",
   "execution_count": 13,
   "id": "cbe3bd4e-3927-4155-9d42-419167cf5cf4",
   "metadata": {},
   "outputs": [
    {
     "data": {
      "text/plain": [
       "((142, 13), (36, 13))"
      ]
     },
     "execution_count": 13,
     "metadata": {},
     "output_type": "execute_result"
    }
   ],
   "source": [
    "from sklearn.model_selection import train_test_split\n",
    "X_train,X_test,y_train,y_test=train_test_split(X,y,train_size=0.80,random_state=42)\n",
    "X_train.shape,X_test.shape"
   ]
  },
  {
   "cell_type": "code",
   "execution_count": 16,
   "id": "822ec13b-de5f-430e-82f8-634ecc2b86cd",
   "metadata": {},
   "outputs": [],
   "source": [
    "from sklearn.preprocessing import StandardScaler\n",
    "scaler = StandardScaler()\n",
    "X_train = scaler.fit_transform(X_train)\n",
    "X_test=scaler.transform(X_test)"
   ]
  },
  {
   "cell_type": "code",
   "execution_count": 14,
   "id": "81f1aeff-d711-4595-a902-4fb47540244e",
   "metadata": {},
   "outputs": [],
   "source": [
    "from sklearn.decomposition import PCA\n",
    "pca = PCA()\n",
    "X_train=pca.fit_transform(X_train)\n",
    "X_test=pca.transform(X_test)"
   ]
  },
  {
   "cell_type": "code",
   "execution_count": 17,
   "id": "a56fd7be-cc88-47fa-93af-a1911f4e5a04",
   "metadata": {},
   "outputs": [
    {
     "data": {
      "text/plain": [
       "array([[-0.24869238, -0.06402752, -2.30913708, ...,  0.9499668 ,\n",
       "        -0.06060884,  0.12812374],\n",
       "       [-0.73003489, -0.01874357, -1.51876454, ...,  0.51286172,\n",
       "         1.07218194,  0.71956869],\n",
       "       [-0.24925307, -0.82080356,  0.50522886, ..., -1.31940093,\n",
       "        -0.31230353, -0.14988706],\n",
       "       ...,\n",
       "       [ 2.69494283, -1.01401428,  0.79902006, ...,  0.82706406,\n",
       "         0.85918758, -0.19926391],\n",
       "       [-0.79731064, -1.18464192,  0.06929709, ...,  0.49703787,\n",
       "        -0.59064777,  1.67153542],\n",
       "       [-0.98532979,  0.2291666 ,  0.23405328, ...,  0.41068206,\n",
       "        -1.63298678,  0.15189943]])"
      ]
     },
     "execution_count": 17,
     "metadata": {},
     "output_type": "execute_result"
    }
   ],
   "source": [
    "X_train"
   ]
  },
  {
   "cell_type": "code",
   "execution_count": 18,
   "id": "94ad9a1b-1a7d-4643-a581-d6ca83fea236",
   "metadata": {},
   "outputs": [
    {
     "data": {
      "image/png": "[encoded data removed]",
      "text/plain": [
       "<Figure size 640x480 with 1 Axes>"
      ]
     },
     "metadata": {},
     "output_type": "display_data"
    }
   ],
   "source": [
    "import matplotlib.pyplot as plt\n",
    "plt.plot(range(1, 14), pca.explained_variance_ratio_)\n",
    "plt.xlabel('Number of Components')\n",
    "plt.ylabel('Explained Variance Ratio')\n",
    "plt.show()"
   ]
  },
  {
   "cell_type": "code",
   "execution_count": 19,
   "id": "33265926-0064-42bd-912f-6c03f3c834d2",
   "metadata": {},
   "outputs": [],
   "source": [
    "X_train_pca = pca.transform(X_train)[:, :2]"
   ]
  },
  {
   "cell_type": "code",
   "execution_count": 20,
   "id": "fd7b868d-b30b-4e70-a85e-f12517b7c791",
   "metadata": {},
   "outputs": [
    {
     "data": {
      "text/plain": [
       "array([[-736.36215861,  -84.11520984],\n",
       "       [-735.87897185,  -89.20357227],\n",
       "       [-736.67352278,  -85.11698285],\n",
       "       [-736.65443732,  -84.79048656],\n",
       "       [-736.61469308,  -87.60147046],\n",
       "       [-735.3250436 ,  -86.15968145],\n",
       "       [-737.06291674,  -86.57571952],\n",
       "       [-734.7717403 ,  -87.95619656],\n",
       "       [-736.77863475,  -89.09738995],\n",
       "       [-737.11629782,  -86.77033691],\n",
       "       [-736.62572681,  -87.48708131],\n",
       "       [-736.40892101,  -87.73990676],\n",
       "       [-734.99168382,  -87.03177568],\n",
       "       [-738.10186233,  -86.8934762 ],\n",
       "       [-737.19159985,  -86.05763027],\n",
       "       [-736.26489428,  -86.14235557],\n",
       "       [-736.3926858 ,  -87.27956145],\n",
       "       [-735.02369888,  -86.96641548],\n",
       "       [-735.39518293,  -88.5216329 ],\n",
       "       [-736.26639668,  -87.04291407],\n",
       "       [-735.4288215 ,  -87.52344255],\n",
       "       [-737.07936275,  -87.072323  ],\n",
       "       [-737.81984679,  -86.81910844],\n",
       "       [-736.45603981,  -87.13747259],\n",
       "       [-737.40916315,  -89.43655673],\n",
       "       [-737.00660359,  -86.32727867],\n",
       "       [-737.27654095,  -87.84837572],\n",
       "       [-737.55245461,  -87.28617665],\n",
       "       [-737.32954583,  -87.71516112],\n",
       "       [-736.72232955,  -87.5553683 ],\n",
       "       [-736.83049481,  -88.29488483],\n",
       "       [-737.56021185,  -88.61073158],\n",
       "       [-736.52458099,  -86.88055623],\n",
       "       [-735.63800769,  -87.38333478],\n",
       "       [-735.49443941,  -87.75925967],\n",
       "       [-736.99306115,  -88.41006751],\n",
       "       [-736.87016015,  -87.49243062],\n",
       "       [-737.21429495,  -87.37877122],\n",
       "       [-736.86139542,  -88.34634663],\n",
       "       [-736.61270659,  -87.9766504 ],\n",
       "       [-735.89638622,  -86.5552413 ],\n",
       "       [-736.81460116,  -88.40732981],\n",
       "       [-735.24650315,  -85.29006375],\n",
       "       [-736.83927194,  -87.04593777],\n",
       "       [-735.78937103,  -86.38151064],\n",
       "       [-739.43910529,  -88.47267153],\n",
       "       [-736.68215131,  -86.55090108],\n",
       "       [-735.40671041,  -85.6701002 ],\n",
       "       [-735.22660286,  -86.54031362],\n",
       "       [-736.11641955,  -86.83795438],\n",
       "       [-737.44108355,  -87.2758513 ],\n",
       "       [-738.04210319,  -87.63570665],\n",
       "       [-737.36003048,  -86.69668813],\n",
       "       [-736.04933553,  -87.22072014],\n",
       "       [-737.98101467,  -86.21649877],\n",
       "       [-737.12404068,  -87.39950343],\n",
       "       [-736.84061797,  -87.61145974],\n",
       "       [-736.76696086,  -87.20400679],\n",
       "       [-736.31519568,  -86.64432587],\n",
       "       [-736.40670745,  -89.19356829],\n",
       "       [-735.43981213,  -88.23437385],\n",
       "       [-736.50014289,  -85.9613305 ],\n",
       "       [-738.65616763,  -86.33321646],\n",
       "       [-734.59707761,  -87.91486934],\n",
       "       [-737.54071118,  -87.02805101],\n",
       "       [-734.89075358,  -86.91779495],\n",
       "       [-737.28548177,  -86.46237338],\n",
       "       [-734.73165206,  -87.32897258],\n",
       "       [-735.62388228,  -86.30480333],\n",
       "       [-739.18604711,  -88.48479066],\n",
       "       [-736.33247022,  -87.95192042],\n",
       "       [-736.56852103,  -87.15596481],\n",
       "       [-735.29794953,  -87.58065175],\n",
       "       [-735.55105295,  -87.79020718],\n",
       "       [-736.09215474,  -86.48615268],\n",
       "       [-733.1462058 ,  -87.08050496],\n",
       "       [-736.1697081 ,  -87.43025371],\n",
       "       [-735.86313355,  -87.02979405],\n",
       "       [-736.37275472,  -87.49599498],\n",
       "       [-736.55823155,  -86.35729958],\n",
       "       [-736.28163143,  -88.4026335 ],\n",
       "       [-735.91744445,  -85.83599744],\n",
       "       [-736.86423273,  -86.29981662],\n",
       "       [-737.06443188,  -85.88204751],\n",
       "       [-735.73427134,  -88.54325024],\n",
       "       [-737.19192444,  -87.62310832],\n",
       "       [-736.63416171,  -87.42572724],\n",
       "       [-736.33264308,  -87.95846395],\n",
       "       [-737.82226779,  -86.57238165],\n",
       "       [-736.27837624,  -87.64722946],\n",
       "       [-736.59551341,  -88.75220001],\n",
       "       [-736.67287141,  -90.10574751],\n",
       "       [-736.55295834,  -87.10591605],\n",
       "       [-736.08570131,  -86.98404221],\n",
       "       [-734.76532671,  -87.84644258],\n",
       "       [-736.67781223,  -87.2522041 ],\n",
       "       [-736.60297183,  -88.497903  ],\n",
       "       [-736.48051057,  -87.09410059],\n",
       "       [-736.38831764,  -86.81231761],\n",
       "       [-735.57841815,  -86.5105604 ],\n",
       "       [-736.72535472,  -88.56163277],\n",
       "       [-738.57887418,  -86.15168242],\n",
       "       [-738.35770645,  -88.10939064],\n",
       "       [-735.6998478 ,  -86.31082226],\n",
       "       [-737.37527981,  -86.56784561],\n",
       "       [-735.38145092,  -88.74197512],\n",
       "       [-735.18716077,  -87.50245394],\n",
       "       [-736.71669119,  -87.35357178],\n",
       "       [-736.73646593,  -88.92443949],\n",
       "       [-738.10385551,  -84.89520604],\n",
       "       [-736.54568413,  -86.85889277],\n",
       "       [-735.44062936,  -87.05102772],\n",
       "       [-737.77734252,  -86.25484584],\n",
       "       [-736.37502583,  -88.19541855],\n",
       "       [-737.20005192,  -86.18481891],\n",
       "       [-736.66337173,  -86.54038822],\n",
       "       [-735.99205453,  -87.66849014],\n",
       "       [-738.03110963,  -87.58906537],\n",
       "       [-736.97845834,  -87.06681632],\n",
       "       [-737.06407765,  -86.76330085],\n",
       "       [-736.52274809,  -88.52846824],\n",
       "       [-737.53768531,  -87.66256233],\n",
       "       [-735.37021286,  -87.90815308],\n",
       "       [-737.68956676,  -87.03706627],\n",
       "       [-736.39662645,  -87.56114711],\n",
       "       [-735.79049397,  -86.00857564],\n",
       "       [-737.14243877,  -87.31242356],\n",
       "       [-737.87866693,  -88.03280815],\n",
       "       [-738.26326307,  -86.03317123],\n",
       "       [-736.09362473,  -87.16059696],\n",
       "       [-736.11091917,  -86.64372216],\n",
       "       [-736.59160764,  -87.10585009],\n",
       "       [-737.46751251,  -86.97095032],\n",
       "       [-738.55005867,  -86.73042999],\n",
       "       [-734.54385002,  -83.80180958],\n",
       "       [-736.45758492,  -87.1480448 ],\n",
       "       [-736.21942037,  -85.85297064],\n",
       "       [-738.93094623,  -85.18343962],\n",
       "       [-736.1934694 ,  -86.81194923],\n",
       "       [-736.7423807 ,  -86.73253892],\n",
       "       [-734.90359929,  -87.3381967 ],\n",
       "       [-736.41256182,  -86.89144622]])"
      ]
     },
     "execution_count": 20,
     "metadata": {},
     "output_type": "execute_result"
    }
   ],
   "source": [
    "X_train_pca"
   ]
  },
  {
   "cell_type": "code",
   "execution_count": 22,
   "id": "d0dd7a57-d45c-4c18-83e2-0f25256a6670",
   "metadata": {},
   "outputs": [
    {
     "data": {
      "image/png": "[encoded data removed]",
      "text/plain": [
       "<Figure size 640x480 with 1 Axes>"
      ]
     },
     "metadata": {},
     "output_type": "display_data"
    }
   ],
   "source": [
    "plt.scatter(X_train_pca[:, 0], X_train_pca[:, 1])\n",
    "plt.xlabel('PC1')\n",
    "plt.ylabel('PC2')\n",
    "plt.show()"
   ]
  },
  {
   "cell_type": "code",
   "execution_count": 23,
   "id": "cb9a2da3-d399-4a67-94a6-76d9e93ba6f3",
   "metadata": {},
   "outputs": [
    {
     "name": "stderr",
     "output_type": "stream",
     "text": [
      "/opt/conda/lib/python3.10/site-packages/sklearn/cluster/_kmeans.py:870: FutureWarning: The default value of `n_init` will change from 10 to 'auto' in 1.4. Set the value of `n_init` explicitly to suppress the warning\n",
      "  warnings.warn(\n"
     ]
    }
   ],
   "source": [
    "from sklearn.cluster import KMeans\n",
    "kmeans = KMeans(n_clusters=3, random_state=0)\n",
    "kmeans.fit(X_train_pca)\n",
    "labels = kmeans.labels_"
   ]
  },
  {
   "cell_type": "code",
   "execution_count": 24,
   "id": "78febe64-4e1a-41f6-95bf-2800572b4107",
   "metadata": {},
   "outputs": [
    {
     "name": "stdout",
     "output_type": "stream",
     "text": [
      "Silhouette score: 0.3061611448360381\n"
     ]
    }
   ],
   "source": [
    "from sklearn.metrics import silhouette_score\n",
    "score = silhouette_score(X_train_pca, labels)\n",
    "print('Silhouette score:', score)"
   ]
  },
  {
   "cell_type": "code",
   "execution_count": null,
   "id": "28b99fb1-6175-4896-aa88-88ca6966f3d4",
   "metadata": {},
   "outputs": [],
   "source": []
  }
 ],
 "metadata": {
  "kernelspec": {
   "display_name": "Python 3 (ipykernel)",
   "language": "python",
   "name": "python3"
  },
  "language_info": {
   "codemirror_mode": {
    "name": "ipython",
    "version": 3
   },
   "file_extension": ".py",
   "mimetype": "text/x-python",
   "name": "python",
   "nbconvert_exporter": "python",
   "pygments_lexer": "ipython3",
   "version": "3.10.8"
  }
 },
 "nbformat": 4,
 "nbformat_minor": 5
}
