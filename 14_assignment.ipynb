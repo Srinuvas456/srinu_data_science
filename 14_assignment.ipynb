{
 "cells": [
  {
   "cell_type": "markdown",
   "id": "bcc57278-3383-4995-995c-bf220e4f3bf3",
   "metadata": {},
   "source": [
    "1) What is multiprocessing in python? Why is it useful?"
   ]
  },
  {
   "cell_type": "markdown",
   "id": "57b0ec44-4c70-4ed7-8386-fe9953e299de",
   "metadata": {},
   "source": [
    "Multiprocessing in Python is a way of utilizing multiple CPUs or processor cores to perform parallel processing in a Python program. \n",
    "In other words it allows you to execute multiple tasks simultaneously, thus improving the performance and speed of your application\n",
    "Python's multiprocessing module provides a convenient way to create and manage multiple processes within a Python program. Each process has its own memory space and runs independently, allowing them to execute in parallel and avoid blocking each other. These processes can communicate with each other using various inter-process communication mechanisms, such as pipes, queues, and shared memory\n"
   ]
  },
  {
   "cell_type": "markdown",
   "id": "4e22d818-b5e5-4503-ab06-c289556105b6",
   "metadata": {},
   "source": [
    "2) What are the differences between multiprocessing and multithreading?"
   ]
  },
  {
   "cell_type": "markdown",
   "id": "724224d6-f1f5-4d4b-adf5-6656c5329dd0",
   "metadata": {},
   "source": [
    "1)execution model : The primary difference between multiprocessing and multithreading is their execution model. In multiprocessing multiple processes \n",
    "are created, each running independently and using their own memory space, while in multithreading, multiple threads are created within a single \n",
    "process, all sharing the same memory space\n",
    "2) memory management : multiprocessing uses separate memory spaces for each process, which means that data must be explicitly passed between \n",
    "processes using communication mechanisms like pipes, queues, and shared memory. In contrast, multithreading shares the same memory space so \n",
    "data can be accessed and modified by multiple threads within the same process\n",
    "3) CPU utilization : In multiprocessing, each process can run on a separate CPU core, which allows for greater utilization of available processing \n",
    "power. Multithreading, on the other hand, is limited by the number of available CPU cores, and multiple threads may end up competing for the same \n",
    "core which can result in decreased performance\n",
    "4)parallelism level : Multiprocessing provides true parallelism, as each process can run on a separate CPU core simultaneously. In contrast \n",
    "multithreading provides concurrent execution, where multiple threads appear to be executing simultaneously but are actually sharing a single \n",
    "CPU core through time-sharing"
   ]
  },
  {
   "cell_type": "markdown",
   "id": "ddd61b1e-e0f9-497d-bda8-2d6bfcf1119e",
   "metadata": {},
   "source": [
    "3) Write a python code to create a process using the multiprocessing module."
   ]
  },
  {
   "cell_type": "code",
   "execution_count": 2,
   "id": "fd013a0f-0f9f-4efb-bf6f-8a0ae7bccb3a",
   "metadata": {},
   "outputs": [
    {
     "name": "stdout",
     "output_type": "stream",
     "text": [
      "Child process executing\n",
      "parent process executing\n"
     ]
    }
   ],
   "source": [
    "import multiprocessing\n",
    "def worker():\n",
    "    \"\"\"Function to be excuted in the child process\"\"\"\n",
    "    print(\"Child process executing\")\n",
    "if __name__ == \"__main__\":\n",
    "    process = multiprocessing.Process(target = worker)\n",
    "    process.start()\n",
    "    process.join()\n",
    "    print(\"parent process executing\")"
   ]
  },
  {
   "cell_type": "markdown",
   "id": "7b6d3920-543a-47a9-8e7e-4402c7d7e7fa",
   "metadata": {},
   "source": [
    "4) What is a multiprocessing pool in python? Why is it used?"
   ]
  },
  {
   "cell_type": "markdown",
   "id": "cd91bae2-860a-457e-9cac-d6c72b77b0a2",
   "metadata": {},
   "source": [
    "A multiprocessing pool in Python is a way of creating a group of worker processes that can execute tasks in parallel. It provides a \n",
    "simple way to distribute work across multiple CPU cores and process multiple tasks concurrently\n",
    "a fixed number of worker processes are created, and tasks are assigned to these workers using a queue. Each worker executes tasks independently \n",
    "and the results are collected and returned to the main process when they are completed. The number of worker processes in the pool can be set by \n",
    "the user, based on the available CPU cores and the nature of the tasks to be executed\n"
   ]
  },
  {
   "cell_type": "markdown",
   "id": "9bc0be5d-45b3-4126-a476-d50d4638be89",
   "metadata": {},
   "source": [
    "5) How can we create a pool of worker processes in python using the multiprocessing module?"
   ]
  },
  {
   "cell_type": "code",
   "execution_count": 16,
   "id": "ff8fb3e3-8471-43ab-a3e5-5bb5e2eb286e",
   "metadata": {},
   "outputs": [
    {
     "name": "stdout",
     "output_type": "stream",
     "text": [
      "worker process 0 executingworker process 1 executingworker process 2 executingworker process 3 executing\n",
      "\n",
      "\n",
      "\n",
      "All worker processes have finished\n"
     ]
    }
   ],
   "source": [
    "import multiprocessing\n",
    "def worker(num):\n",
    "    \n",
    "    \"\"\"Function to be executed in the worker process\"\"\"\n",
    "    print(\"worker process %d executing\" % num)\n",
    "if __name__ == \"__main__\":\n",
    "    pool = multiprocessing.Pool(processes = 4)\n",
    "    for i in range(4):\n",
    "        pool.apply_async(worker, args=(i,))\n",
    "    pool.close()\n",
    "    pool.join()\n",
    "    print(\"All worker processes have finished\")"
   ]
  },
  {
   "cell_type": "markdown",
   "id": "4187b8f6-f826-426e-ad66-08db00318b3e",
   "metadata": {},
   "source": [
    "6)Write a python program to create 4 processes, each process should print a different number using the\n",
    "multiprocessing module in python."
   ]
  },
  {
   "cell_type": "code",
   "execution_count": null,
   "id": "61c3e262-aaa0-44b4-b7d7-afc98533d02f",
   "metadata": {},
   "outputs": [],
   "source": [
    "import multiprocessing\n",
    "def print_number(number):\n",
    "    print(number)\n",
    "if __name__ == \"__main__\":\n",
    "    process1 = multiprocessing.Process(target = print_number,args = (1,))\n",
    "    process2 = multiprocessing.Process(target = print_number,args =(2,))\n",
    "    process3 = multiprocessing.Process(target = print_number, args =(3,))\n",
    "    process4 = multiprocessing.Process(target = print_number,args = (4,))\n",
    "    process1.start()\n",
    "    process2.start()\n",
    "    process3.start()\n",
    "    process4.start()\n",
    "    "
   ]
  }
 ],
 "metadata": {
  "kernelspec": {
   "display_name": "Python 3 (ipykernel)",
   "language": "python",
   "name": "python3"
  },
  "language_info": {
   "codemirror_mode": {
    "name": "ipython",
    "version": 3
   },
   "file_extension": ".py",
   "mimetype": "text/x-python",
   "name": "python",
   "nbconvert_exporter": "python",
   "pygments_lexer": "ipython3",
   "version": "3.10.8"
  }
 },
 "nbformat": 4,
 "nbformat_minor": 5
}
