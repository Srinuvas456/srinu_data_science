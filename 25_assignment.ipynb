{
 "cells": [
  {
   "cell_type": "markdown",
   "id": "cb9e8cd8-97f1-4b7a-a948-257d5b08d9d7",
   "metadata": {},
   "source": [
    "import numpy as np\n",
    "list_ = [ ‘1’ , ’2’ , ‘3’ , ‘4’ , ‘5’ ]\n",
    "array_list = np.array(object = list_)"
   ]
  },
  {
   "cell_type": "markdown",
   "id": "fd85ea75-a1ad-4945-906f-24b1f9cfc114",
   "metadata": {},
   "source": [
    "1) Is there any difference in the data type of variables list_ and array_list? If there is then write a code\n",
    "to print the data types of both the variables."
   ]
  },
  {
   "cell_type": "markdown",
   "id": "e9633acc-b4ac-46ea-8ffc-6829c5ce8321",
   "metadata": {},
   "source": [
    " there is a difference in the data type of variables list_ and array_list\n",
    " The variable list_ is a Python list data type \n",
    " the variable array_list is a NumPy array data type\n",
    " "
   ]
  },
  {
   "cell_type": "code",
   "execution_count": 1,
   "id": "f2ae1bd1-0173-4a85-af3d-785d893fe966",
   "metadata": {},
   "outputs": [
    {
     "name": "stdout",
     "output_type": "stream",
     "text": [
      "Data type of list_: <class 'list'>\n",
      "Data type of array_list: <class 'numpy.ndarray'>\n"
     ]
    }
   ],
   "source": [
    "import numpy as np\n",
    "\n",
    "list_ = ['1', '2', '3', '4', '5']\n",
    "array_list = np.array(list_)\n",
    "\n",
    "print(\"Data type of list_:\", type(list_))\n",
    "print(\"Data type of array_list:\", type(array_list))"
   ]
  },
  {
   "cell_type": "markdown",
   "id": "17cfabed-9ced-4468-ae62-894efa0c929f",
   "metadata": {},
   "source": [
    "2) Write a code to print the data type of each and every element of both the variables list_ and\n",
    "arra_list. "
   ]
  },
  {
   "cell_type": "code",
   "execution_count": 2,
   "id": "af36a31b-745a-4c39-95ec-233ab8bfbf27",
   "metadata": {},
   "outputs": [
    {
     "name": "stdout",
     "output_type": "stream",
     "text": [
      "Data type of each element in list_:\n",
      "<class 'str'>\n",
      "<class 'str'>\n",
      "<class 'str'>\n",
      "<class 'str'>\n",
      "<class 'str'>\n",
      "\n",
      "Data type of each element in array_list:\n",
      "<class 'numpy.str_'>\n",
      "<class 'numpy.str_'>\n",
      "<class 'numpy.str_'>\n",
      "<class 'numpy.str_'>\n",
      "<class 'numpy.str_'>\n"
     ]
    }
   ],
   "source": [
    "import numpy as np\n",
    "list_ = ['1', '2', '3', '4', '5']\n",
    "array_list = np.array(list_)\n",
    "\n",
    "print(\"Data type of each element in list_:\")\n",
    "for element in list_:\n",
    "    print(type(element))\n",
    "\n",
    "print(\"\\nData type of each element in array_list:\")\n",
    "for element in array_list:\n",
    "    print(type(element))"
   ]
  },
  {
   "cell_type": "markdown",
   "id": "0806d6ac-53c9-48d0-818f-0c48dd01d760",
   "metadata": {},
   "source": [
    "3) Considering the following changes in the variable, array_list:\n",
    "array_list = np.array(object = list_, dtype = int)\n",
    "Will there be any difference in the data type of the elements present in both the variables, list_ and\n",
    "arra_list? If so then print the data types of each and every element present in both the variables, list_\n",
    "and arra_list.\n",
    "Consider the below code to answer further questions:\n",
    "import numpy as np\n",
    "num_list = [ [ 1 , 2 , 3 ] , [ 4 , 5 , 6 ] ]\n",
    "num_array = np.array(object = num_list)"
   ]
  },
  {
   "cell_type": "code",
   "execution_count": 3,
   "id": "8220fd29-92c7-4b71-a906-f4e9fba08108",
   "metadata": {},
   "outputs": [
    {
     "name": "stdout",
     "output_type": "stream",
     "text": [
      "Data type of each element in list:\n",
      "<class 'str'>\n",
      "<class 'str'>\n",
      "<class 'str'>\n",
      "<class 'str'>\n",
      "<class 'str'>\n",
      "\n",
      "Data type of each element in array_list:\n",
      "<class 'numpy.int64'>\n",
      "<class 'numpy.int64'>\n",
      "<class 'numpy.int64'>\n",
      "<class 'numpy.int64'>\n",
      "<class 'numpy.int64'>\n"
     ]
    }
   ],
   "source": [
    "import numpy as np\n",
    "list = ['1','2','3','4','5']\n",
    "array_list = np.array(list, dtype = int)\n",
    "print(\"Data type of each element in list:\")\n",
    "for element in list:\n",
    "    print(type(element))\n",
    "print(\"\\nData type of each element in array_list:\")\n",
    "for element in array_list:\n",
    "    print(type(element))\n"
   ]
  },
  {
   "cell_type": "markdown",
   "id": "887d426f-7837-4b73-aff8-884e9c7076cd",
   "metadata": {},
   "source": [
    "4) Write a code to find the following characteristics of variable, num_array:\n",
    "(i) shape\n",
    "(ii) size"
   ]
  },
  {
   "cell_type": "code",
   "execution_count": 7,
   "id": "393a22e9-cc10-46cc-82a8-2b2f24725eb3",
   "metadata": {},
   "outputs": [],
   "source": [
    "import numpy as np\n",
    "arr = np.random.randint(1,10,[3,4])"
   ]
  },
  {
   "cell_type": "code",
   "execution_count": 8,
   "id": "076cd2bd-c85e-487c-97d0-47badb0c7418",
   "metadata": {},
   "outputs": [
    {
     "name": "stdout",
     "output_type": "stream",
     "text": [
      "(3, 4)\n",
      "12\n"
     ]
    }
   ],
   "source": [
    "print(arr.shape)\n",
    "print(arr.size)\n"
   ]
  },
  {
   "cell_type": "markdown",
   "id": "3d6baa4d-97b5-4944-9331-574571ff7817",
   "metadata": {},
   "source": [
    "5) Write a code to create numpy array of 3*3 matrix containing zeros only, using a numpy array\n",
    "creation function.\n"
   ]
  },
  {
   "cell_type": "code",
   "execution_count": 10,
   "id": "f0606da5-5c7b-478f-bd9c-360d5cec3d5a",
   "metadata": {},
   "outputs": [
    {
     "name": "stdout",
     "output_type": "stream",
     "text": [
      "[[0. 0. 0.]\n",
      " [0. 0. 0.]\n",
      " [0. 0. 0.]]\n",
      "(3, 3)\n",
      "9\n"
     ]
    }
   ],
   "source": [
    "import numpy as np\n",
    "\n",
    "arr1 = np.zeros((3, 3))\n",
    "print(arr1)\n",
    "print(arr1.shape)\n",
    "print(arr1.size)"
   ]
  },
  {
   "cell_type": "markdown",
   "id": "32bfa895-8ebf-4830-a6d8-76da5003db01",
   "metadata": {},
   "source": [
    "6) Create an identity matrix of shape (5,5) using numpy functions?"
   ]
  },
  {
   "cell_type": "code",
   "execution_count": 11,
   "id": "4f4bca26-7983-43b2-a531-c567d894abf6",
   "metadata": {},
   "outputs": [
    {
     "data": {
      "text/plain": [
       "array([[1., 0., 0., 0., 0.],\n",
       "       [0., 1., 0., 0., 0.],\n",
       "       [0., 0., 1., 0., 0.],\n",
       "       [0., 0., 0., 1., 0.],\n",
       "       [0., 0., 0., 0., 1.]])"
      ]
     },
     "execution_count": 11,
     "metadata": {},
     "output_type": "execute_result"
    }
   ],
   "source": [
    "import numpy as np\n",
    "arr2 =np.eye(5)\n",
    "arr2"
   ]
  },
  {
   "cell_type": "code",
   "execution_count": null,
   "id": "b30954dd-da17-4cf0-bac3-0363b0d060bc",
   "metadata": {},
   "outputs": [],
   "source": []
  }
 ],
 "metadata": {
  "kernelspec": {
   "display_name": "Python 3 (ipykernel)",
   "language": "python",
   "name": "python3"
  },
  "language_info": {
   "codemirror_mode": {
    "name": "ipython",
    "version": 3
   },
   "file_extension": ".py",
   "mimetype": "text/x-python",
   "name": "python",
   "nbconvert_exporter": "python",
   "pygments_lexer": "ipython3",
   "version": "3.10.8"
  }
 },
 "nbformat": 4,
 "nbformat_minor": 5
}
