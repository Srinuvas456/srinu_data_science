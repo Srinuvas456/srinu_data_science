{
 "cells": [
  {
   "cell_type": "markdown",
   "id": "44cfab8d-e382-449d-b4c0-a3b374f91146",
   "metadata": {},
   "source": [
    "1) what is statistics"
   ]
  },
  {
   "cell_type": "markdown",
   "id": "24809a1e-4477-4de9-a0ef-26a025e1d559",
   "metadata": {},
   "source": [
    "Statistics is a branch of mathematics that deals with the collection, analysis, interpretation, presentation, and organization of data. It \n",
    "involves the use of mathematical techniques to summarize and make inferences from data, and to measure the reliability and uncertainty of these \n",
    "inferences. Statistics is widely used in many fields, including science, medicine, engineering, social sciences, and business, to study and analyze \n",
    "data, make decisions, and draw conclusions. Some of the key concepts in statistics include probability theory, hypothesis testing, regression analysis, and sampling techniques"
   ]
  },
  {
   "cell_type": "markdown",
   "id": "8a82fa5b-a5c5-4006-b3cd-b1c81f757311",
   "metadata": {},
   "source": [
    "2) Define the different types of statistics and give an example of when each type might be used."
   ]
  },
  {
   "cell_type": "markdown",
   "id": "2928bd81-c4ba-4e7a-b142-586f5168549c",
   "metadata": {},
   "source": [
    "1) Descriptive : it is used to summarize and describe the basic features of a dataset. They include measures of central tendency (such as mean, median, and mode) and measures of variability (such as range, variance, and standard deviation). Descriptive statistics are useful when you want to understand the characteristics of a dataset and communicate them to others\n",
    " ex: Suppose you have a dataset containing the heights of 1000 people. You might use descriptive statistics to calculate the average height (mean), the most common height (mode), and the spread of heights (standard deviation) to get a better understanding of the dataset\n",
    "2) Inferential statistics : it is used to make inferences and draw conclusions about a larger population based on a sample of data. They involve hypothesis testing, confidence intervals, and regression analysis. Inferential statistics are useful when you want to make predictions or generalizations about a population based on limited data\n",
    "ex: Suppose you want to know whether a new drug is effective in reducing cholesterol levels in a population. You might conduct a study with a sample of people and use inferential statistics to test whether the results can be generalized to the larger population. You might use a hypothesis test to determine whether the difference in cholesterol levels between the treatment group and the control group is statistically significant, or use regression analysis to examine the relationship between the dosage of the drug and the reduction in cholesterol levels"
   ]
  },
  {
   "cell_type": "markdown",
   "id": "68ed36f7-c364-46f0-958d-fadea4cfc087",
   "metadata": {},
   "source": [
    "3) What are the different types of data and how do they differ from each other? Provide an example of\n",
    "each type of data."
   ]
  },
  {
   "cell_type": "markdown",
   "id": "db17a179-d8a6-416d-a091-723edc5a2e6e",
   "metadata": {},
   "source": [
    "1) Nominal data : This categorical data that can be counted and categorized, but not ordered. These data do not have any inherent order or numerical value. Examples include gender, race, and occupation\n",
    " ex : Suppose you are conducting a survey to determine the favorite color of a group of people. The colors people choose are nominal data since there is no inherent order to the colors\n",
    "2) Ordinal data : This data are categorical data that can be ordered, but not measured. The categories are assigned a rank or order based on their relative value. Examples include educational level, income brackets, and ratings on a scale of 1-10\n",
    " ex : Suppose you are conducting a survey to determine how satisfied customers are with a product. You might ask them to rate their satisfaction on a scale of 1-5, where 1 represents \"not at all satisfied\" and 5 represents \"completely satisfied.\" These ratings are ordinal data because they can be ranked in order, but the distance between each rating is not necessarily equal\n",
    "3) Interval data : This is numerical data that have a fixed measurement scale and equal distance between each point. These data do not have a true zero point, and ratios cannot be calculated. Examples include temperature, dates, and time\n",
    " ex : Suppose you are measuring the temperature of a room. The temperature is an interval variable because it has a fixed scale (degrees Fahrenheit or Celsius) and the distance between each point is equal. However, there is no true zero point since the temperature can be negative\n",
    "4) Ratio data : This data are numerical data that have a fixed measurement scale, equal distance between each point, and a true zero point. Ratios can be calculated with these data. Examples include height, weight, and income\n",
    " ex : Suppose you are measuring the weight of a group of people. The weight is a ratio variable because it has a fixed scale (pounds or kilograms), the distance between each point is equal, and there is a true zero point (0 pounds or 0 kilograms). Ratios can be calculated with these data, such as comparing the weight of one person to another"
   ]
  },
  {
   "cell_type": "markdown",
   "id": "b725b2ea-bc68-44bc-bd55-14e43d291460",
   "metadata": {},
   "source": [
    "4) Categorise the following datasets with respect to quantitative and qualitative data types:\n",
    "(i) Grading in exam: A+, A, B+, B, C+, C, D, E\n",
    "(ii) Colour of mangoes: yellow, green, orange, red\n",
    "(iii) Height data of a class: [178.9, 179, 179.5, 176, 177.2, 178.3, 175.8,...]\n",
    "(iv) Number of mangoes exported by a farm: [500, 600, 478, 672, ...]"
   ]
  },
  {
   "cell_type": "markdown",
   "id": "5a6f677c-ebef-4c80-9ca1-4ca3128b4796",
   "metadata": {},
   "source": [
    "\n",
    "1) Grading in exam: A+, A, B+, B, C+, C, D, E : Qualitative data\n",
    "2) Colour of mangoes: yellow, green, orange, red : Qualitative data\n",
    "3) Height data of a class: [178.9, 179, 179.5, 176, 177.2, 178.3, 175.8,...] : Quantitative data(continuous)\n",
    "4) Number of mangoes exported by a farm: [500, 600, 478, 672, ...] : Quantitative data(Discrete)"
   ]
  },
  {
   "cell_type": "markdown",
   "id": "a70c74d6-a975-40e8-ac9a-f78592ec7646",
   "metadata": {},
   "source": [
    "5) Explain the concept of levels of measurement and give an example of a variable for each level."
   ]
  },
  {
   "cell_type": "markdown",
   "id": "4d7c6875-2aa7-4fa4-a772-ad63500aaccf",
   "metadata": {},
   "source": [
    "1) Nominal level of measurement : This data are categorical data that can be counted and categorized, but not ordered. Nominal data have no inherent order or numerical value. Examples include gender, race, and occupation\n",
    " ex : An example of a variable measured at the nominal level is \"marital status\" with categories of \"married\", \"single\", \"divorced\", and \"widowed\"\n",
    "2) Ordinal level of measurement : This data are categorical data that can be ordered, but not measured. The categories are assigned a rank or order based on their relative value. Examples include educational level, income brackets, and ratings on a scale of 1-10\n",
    " ex : An example of a variable measured at the ordinal level is \"education level\" with categories of \"high school\", \"college\", \"bachelor's degree\", \"master's degree\", and \"Ph.D\"\n",
    "3) Interval level of measurement : This data are numerical data that have a fixed measurement scale and equal distance between each point. These data do not have a true zero point, and ratios cannot be calculated. Examples include temperature, dates, and time \n",
    " ex : An example of a variable measured at the interval level is \"temperature\" measured in degrees Celsius or Fahrenheit. For example, a temperature of 20 degrees Celsius is not twice as hot as a temperature of 10 degrees Celsius\n",
    "4) Ratio level of measurement : This data are numerical data that have a fixed measurement scale, equal distance between each point, and a true zero point. Ratios can be calculated with these data. Examples include height, weight, and income\n",
    " ex : An example of a variable measured at the ratio level is \"weight\" measured in kilograms or pounds. For example, a person who weighs 60 kilograms is twice as heavy as a person who weighs 30 kilograms"
   ]
  },
  {
   "cell_type": "markdown",
   "id": "4f2d99ec-9ed9-46df-932f-64e7ee38b4fa",
   "metadata": {},
   "source": [
    "6) Why is it important to understand the level of measurement when analyzing data? Provide an\n",
    "example to illustrate your answer."
   ]
  },
  {
   "cell_type": "markdown",
   "id": "6b48886d-5910-4ba7-bb05-a20b08a0dfc1",
   "metadata": {},
   "source": [
    "Understanding the level of measurement is important when analyzing data because it helps to determine the appropriate statistical techniques that can be used for analyzing the data. Different levels of measurement require different types of statistical analysis, and using inappropriate statistical methods can lead to incorrect conclusions\n",
    "1) ex: if we have data on income levels of employees in a company, we need to understand the level of measurement of the variable \"income\". If income is measured at the nominal level, we can only use frequency tables and percentages to analyze the data. We cannot calculate the mean, median or standard deviation of income. On the other hand, if income is measured at the ratio level, we can use various statistical techniques such as mean, median, standard deviation, correlation, regression "
   ]
  },
  {
   "cell_type": "markdown",
   "id": "26085c8f-893e-4257-8e84-db1985f73234",
   "metadata": {},
   "source": [
    "7) How nominal data type is different from ordinal data type."
   ]
  },
  {
   "cell_type": "markdown",
   "id": "83cd1c88-bfaa-4187-8c41-f3d3d6dac35d",
   "metadata": {},
   "source": [
    "1) Nominal data : This data are categorical data that can be counted and categorized, but not ordered. Nominal data have no inherent order or numerical value. Examples include gender, race, and occupation. In nominal data, the categories are named, but there is no inherent order to the categories\n",
    "2) Ordinal data : This are categorical data that can be ordered, but not measured. The categories are assigned a rank or order based on their relative value. Examples include educational level, income brackets, and ratings on a scale of 1-10. In ordinal data, the categories have a clear order, but the distance between categories is not known or meaningful"
   ]
  },
  {
   "cell_type": "markdown",
   "id": "ba884f32-0bbe-4f3f-a8d5-9838b002f686",
   "metadata": {},
   "source": [
    "8) Which type of plot can be used to display data in terms of range?"
   ]
  },
  {
   "cell_type": "markdown",
   "id": "a6fb2884-e0d9-4436-a522-74c7858dbaea",
   "metadata": {},
   "source": [
    "A box plot, also known as a box and whisker plot, can be used to display data in terms of range. A box plot summarizes the distribution of a set of continuous data by displaying the median, quartiles, and extremes of the data. The box in the plot represents the interquartile range (IQR), which contains the middle 50% of the data, while the whiskers extend to the minimum and maximum values in the data set. Outliers may also be shown as individual points or asterisks outside the whiskers"
   ]
  },
  {
   "cell_type": "markdown",
   "id": "0aa609cf-6368-44a4-b5f7-fce6f6dd3545",
   "metadata": {},
   "source": [
    "By displaying the range of the data in a compact and visual way, box plots are particularly useful for comparing the distribution of data between different groups or datasets. They are commonly used in exploratory data analysis and statistical inference, as they provide a quick and informative summary of the central tendency, dispersion, and skewness of the data"
   ]
  },
  {
   "cell_type": "markdown",
   "id": "3c6c4acd-598a-4917-aaea-3857066b8166",
   "metadata": {},
   "source": [
    "Box plots can be created using various software tools, such as Excel, R, Python, and MATLAB. The choice of box plot may depend on the specific application, as different versions of the plot may emphasize different aspects of the data, such as the spread, skewness, outliers, or symmetry"
   ]
  },
  {
   "cell_type": "markdown",
   "id": "c9733b66-b1ce-44bb-9a70-928a8c7cfda1",
   "metadata": {},
   "source": [
    "9) Describe the difference between descriptive and inferential statistics. Give an example of each\n",
    "type of statistics and explain how they are used."
   ]
  },
  {
   "cell_type": "markdown",
   "id": "370e6d66-e22e-43cd-b75c-029939b74d23",
   "metadata": {},
   "source": [
    "1) Descriptive : It involves the use of numerical and graphical methods to summarize and describe the main features of a dataset. It provides a summary of the data that allows us to gain insights into the characteristics of the data, such as the central tendency, variability, shape, and distribution. Descriptive statistics does not involve any form of hypothesis testing or making generalizations beyond the data at hand\n",
    " ex : An example of descriptive statistics is calculating the mean, median, and standard deviation of a dataset of exam scores to understand the performance of the students. Another example is creating a histogram or box plot to visualize the distribution of the dataset\n",
    "2) Inferential statistics : on the other hand, involves the use of probability theory and hypothesis testing to draw conclusions or make predictions about a larger population based on a sample of data. Inferential statistics is used to make inferences about a population based on a sample, and to test hypotheses or make predictions about future observations\n",
    " ex : An example of inferential statistics is conducting a t-test to determine whether there is a significant difference in the mean exam scores between two groups of students. Another example is conducting a regression analysis to predict the sales of a product based on the price, advertising, and other factors"
   ]
  },
  {
   "cell_type": "markdown",
   "id": "827c31e5-3102-48fc-9888-ca3f3831db48",
   "metadata": {},
   "source": [
    "10) What are some common measures of central tendency and variability used in statistics? Explain\n",
    "how each measure can be used to describe a dataset."
   ]
  },
  {
   "cell_type": "markdown",
   "id": "acbeab67-d6b6-4964-984c-56119f661e9a",
   "metadata": {},
   "source": [
    "1) Mean : The mean is the arithmetic average of a dataset and is calculated by summing up all the values in the dataset and dividing by the number of values. The mean is a useful measure of central tendency because it takes into account all the values in the dataset. However, the mean is sensitive to outliers, which can skew the results\n",
    "2) Median : The median is the middle value in a dataset when the values are arranged in order. The median is a useful measure of central tendency because it is less sensitive to outliers than the mean. The median can also be used to describe the skewness of a dataset\n",
    "3) Mode : The mode is the value that occurs most frequently in a dataset. The mode is a useful measure of central tendency for categorical or discrete data. In some cases, a dataset may have multiple modes\n",
    "4) Range : The range is the difference between the largest and smallest values in a dataset. The range provides a measure of variability by indicating the spread of the data. However, the range is sensitive to outliers and may not be a robust measure of variability\n",
    "5) Standard deviation : The standard deviation is a measure of variability that indicates how much the values in a dataset deviate from the mean. The standard deviation is calculated by taking the square root of the variance, which is the average of the squared differences between each value and the mean. The standard deviation is a useful measure of variability because it is sensitive to outliers and provides a measure of how tightly the data is clustered around the mean\n"
   ]
  },
  {
   "cell_type": "code",
   "execution_count": null,
   "id": "26278fad-fa01-4d80-9f70-3e9263ca1d59",
   "metadata": {},
   "outputs": [],
   "source": []
  }
 ],
 "metadata": {
  "kernelspec": {
   "display_name": "Python 3 (ipykernel)",
   "language": "python",
   "name": "python3"
  },
  "language_info": {
   "codemirror_mode": {
    "name": "ipython",
    "version": 3
   },
   "file_extension": ".py",
   "mimetype": "text/x-python",
   "name": "python",
   "nbconvert_exporter": "python",
   "pygments_lexer": "ipython3",
   "version": "3.10.8"
  }
 },
 "nbformat": 4,
 "nbformat_minor": 5
}
