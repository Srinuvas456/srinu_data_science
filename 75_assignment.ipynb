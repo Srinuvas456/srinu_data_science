{
 "cells": [
  {
   "cell_type": "markdown",
   "id": "bf449b66-67d3-4622-95bb-90f9b71afbc5",
   "metadata": {},
   "source": [
    "1) Write a Python code to implement the KNN classifier algorithm on load_iris dataset in\n",
    "sklearn.datasets."
   ]
  },
  {
   "cell_type": "code",
   "execution_count": 11,
   "id": "fcb06b2e-4442-4e3a-af29-aaf55f24b039",
   "metadata": {},
   "outputs": [
    {
     "name": "stdout",
     "output_type": "stream",
     "text": [
      "              precision    recall  f1-score   support\n",
      "\n",
      "           0       1.00      1.00      1.00        10\n",
      "           1       1.00      1.00      1.00         9\n",
      "           2       1.00      1.00      1.00        11\n",
      "\n",
      "    accuracy                           1.00        30\n",
      "   macro avg       1.00      1.00      1.00        30\n",
      "weighted avg       1.00      1.00      1.00        30\n",
      "\n",
      "1.0\n"
     ]
    }
   ],
   "source": [
    "import numpy as np\n",
    "import matplotlib.pyplot as plt\n",
    "import seaborn as sns\n",
    "import pandas as pd\n",
    "from sklearn.datasets import load_iris\n",
    "from sklearn.neighbors import KNeighborsClassifier\n",
    "from sklearn.metrics import accuracy_score,classification_report\n",
    "from sklearn.model_selection import train_test_split\n",
    "data=load_iris()\n",
    "\n",
    "data\n",
    "X_train, X_test, y_train, y_test = train_test_split(data.data, data.target, test_size=0.2, random_state=42)\n",
    "knn = KNeighborsClassifier(n_neighbors=3)\n",
    "knn.fit(X_train, y_train)\n",
    "y_pred = knn.predict(X_test)\n",
    "accuracy = accuracy_score(y_test, y_pred)\n",
    "print(classification_report(y_test,y_pred))\n",
    "print(accuracy)\n"
   ]
  },
  {
   "cell_type": "markdown",
   "id": "d718244e-28b8-4d1f-97af-1395d24dc79b",
   "metadata": {},
   "source": [
    "2) Write a Python code to implement the KNN regressor algorithm on load_boston dataset in\n",
    "sklearn.datasets."
   ]
  },
  {
   "cell_type": "code",
   "execution_count": null,
   "id": "52df42f3-5b17-4267-9d55-6acc22e7e2dc",
   "metadata": {},
   "outputs": [],
   "source": [
    "from sklearn.datasets import load_boston\n",
    "from sklearn.neighbors import KNeighborsRegressor\n",
    "from sklearn.metrics import mean_squared_error\n",
    "boston = load_boston()\n",
    "X_train, X_test, y_train, y_test = train_test_split(boston.data, boston.target, test_size=0.2, random_state=42)\n",
    "k = 5\n",
    "knn_reg = KNeighborsRegressor(n_neighbors=k)\n",
    "knn_reg.fit(X_train, y_train)\n",
    "y_pred = knn_reg.predict(X_test)\n",
    "mse = mean_squared_error(y_test, y_pred)\n",
    "print(f\"KNN Regression with k={k} | Mean Squared Error: {mse:.2f}\")\n"
   ]
  },
  {
   "cell_type": "markdown",
   "id": "b0b0f5bf-06f4-4c83-8333-d6eea0f1e85a",
   "metadata": {},
   "source": [
    "3) Write a Python code snippet to find the optimal value of K for the KNN classifier algorithm using\n",
    "cross-validation on load_iris dataset in sklearn.datasets."
   ]
  },
  {
   "cell_type": "code",
   "execution_count": 15,
   "id": "be2c46c0-6739-4f48-9a56-00a6258b2943",
   "metadata": {},
   "outputs": [
    {
     "name": "stdout",
     "output_type": "stream",
     "text": [
      "Optimal value of K for KNN Classifier: 6\n"
     ]
    }
   ],
   "source": [
    "from sklearn.model_selection import cross_val_score\n",
    "iris = load_iris()\n",
    "k_values = list(range(1, 31))\n",
    "cv_scores = []\n",
    "for k in k_values:\n",
    "    knn_clf = KNeighborsClassifier(n_neighbors=k)\n",
    "    scores = cross_val_score(knn_clf, iris.data, iris.target, cv=5, scoring='accuracy')\n",
    "    cv_scores.append(scores.mean())\n",
    "best_k = k_values[cv_scores.index(max(cv_scores))]\n",
    "print(f\"Optimal value of K for KNN Classifier: {best_k}\")"
   ]
  },
  {
   "cell_type": "markdown",
   "id": "10fb7a27-47db-4626-8075-419b928c9a55",
   "metadata": {},
   "source": [
    "4) Implement the KNN regressor algorithm with feature scaling on load_boston dataset in\n",
    "sklearn.datasets."
   ]
  },
  {
   "cell_type": "code",
   "execution_count": null,
   "id": "4b3e01c5-253c-4329-b9ac-f8e775c3b348",
   "metadata": {},
   "outputs": [],
   "source": [
    "from sklearn.preprocessing import StandardScaler\n",
    "boston = load_boston()\n",
    "X_train, X_test, y_train, y_test = train_test_split(boston.data, boston.target, test_size=0.2, random_state=42)\n",
    "scaler = StandardScaler()\n",
    "X_train_scaled = scaler.fit_transform(X_train)\n",
    "X_test_scaled = scaler.transform(X_test)\n",
    "k = 5\n",
    "knn_reg = KNeighborsRegressor(n_neighbors=k)\n",
    "knn_reg.fit(X_train_scaled, y_train)\n",
    "y_pred = knn_reg.predict(X_test_scaled)\n",
    "mse = mean_squared_error(y_test, y_pred)\n",
    "print(f\"KNN Regression with feature scaling and k={k} | Mean Squared Error: {mse:.2f}\")"
   ]
  },
  {
   "cell_type": "markdown",
   "id": "8b093713-1da2-4a94-bcea-2b90f13ce999",
   "metadata": {},
   "source": [
    "5) Write a Python code snippet to implement the KNN classifier algorithm with weighted voting on\n",
    "load_iris dataset in sklearn.datasets."
   ]
  },
  {
   "cell_type": "code",
   "execution_count": 16,
   "id": "f52608cc-b0f1-4216-b5a2-4031e23382d9",
   "metadata": {},
   "outputs": [
    {
     "name": "stdout",
     "output_type": "stream",
     "text": [
      "KNN Classifier with weighted voting and k=5 | Accuracy: 1.00\n"
     ]
    }
   ],
   "source": [
    "iris = load_iris()\n",
    "X_train, X_test, y_train, y_test = train_test_split(iris.data, iris.target, test_size=0.2, random_state=42)\n",
    "k = 5\n",
    "knn_clf = KNeighborsClassifier(n_neighbors=k, weights='distance')\n",
    "knn_clf.fit(X_train, y_train)\n",
    "y_pred = knn_clf.predict(X_test)\n",
    "accuracy = knn_clf.score(X_test, y_test)\n",
    "print(f\"KNN Classifier with weighted voting and k={k} | Accuracy: {accuracy:.2f}\")"
   ]
  },
  {
   "cell_type": "markdown",
   "id": "b97c7334-0572-4cbf-93b2-ad29ac893eda",
   "metadata": {},
   "source": [
    "6) Implement a function to standardise the features before applying KNN classifier."
   ]
  },
  {
   "cell_type": "code",
   "execution_count": 21,
   "id": "541ab4f5-38f6-40da-a56f-b56db312934b",
   "metadata": {},
   "outputs": [],
   "source": [
    "from sklearn.preprocessing import StandardScaler\n",
    "def knn_classifier_with_standardization(X_train, X_test, y_train, y_test, k=5):\n",
    "    scaler = StandardScaler()\n",
    "    X_train_std = scaler.fit_transform(X_train)\n",
    "    X_test_std = scaler.transform(X_test)\n",
    "    knn_clf = KNeighborsClassifier(n_neighbors=k)\n",
    "    knn_clf.fit(X_train_std, y_train)\n",
    "    y_pred = knn_clf.predict(X_test_std)\n",
    "    accuracy = knn_clf.score(X_test_std, y_test)\n",
    "    return y_pred, accuracy"
   ]
  },
  {
   "cell_type": "code",
   "execution_count": 22,
   "id": "ddaeee4e-08b7-44ba-b9e9-d76f0d8593dd",
   "metadata": {},
   "outputs": [
    {
     "data": {
      "text/plain": [
       "(array([1, 0, 2, 1, 1, 0, 1, 2, 1, 1, 2, 0, 0, 0, 0, 1, 2, 1, 1, 2, 0, 2,\n",
       "        0, 2, 2, 2, 2, 2, 0, 0]),\n",
       " 1.0)"
      ]
     },
     "execution_count": 22,
     "metadata": {},
     "output_type": "execute_result"
    }
   ],
   "source": [
    "knn_classifier_with_standardization(X_train, X_test, y_train, y_test, k=5)"
   ]
  },
  {
   "cell_type": "markdown",
   "id": "28b7ede1-162d-45eb-aea6-3503bcfb8a9f",
   "metadata": {},
   "source": [
    "7) Write a Python function to calculate the euclidean distance between two points."
   ]
  },
  {
   "cell_type": "code",
   "execution_count": 25,
   "id": "f07465ca-bd62-481f-8714-f4dfd99d020e",
   "metadata": {},
   "outputs": [
    {
     "name": "stdout",
     "output_type": "stream",
     "text": [
      "The Euclidean distance between [5.1 3.5 1.4 0.2] and [7.  3.2 4.7 1.4] is 4.00\n"
     ]
    }
   ],
   "source": [
    "from sklearn.datasets import load_iris\n",
    "from sklearn.metrics.pairwise import euclidean_distances\n",
    "def euclidean_distance(point1, point2):\n",
    "    squared_diffs = np.square(point1 - point2)\n",
    "    distance = np.sqrt(np.sum(squared_diffs))\n",
    "    return distance\n",
    "\n",
    "iris = load_iris()\n",
    "X = iris.data\n",
    "y = iris.target\n",
    "point1 = X[0]\n",
    "point2 = X[50]\n",
    "distance = euclidean_distance(point1, point2)\n",
    "\n",
    "print(f\"The Euclidean distance between {point1} and {point2} is {distance:.2f}\")"
   ]
  },
  {
   "cell_type": "markdown",
   "id": "4c8b20a9-166d-4f92-80e1-fc4587ecae60",
   "metadata": {},
   "source": [
    "8) Write a Python function to calculate the manhattan distance between two points."
   ]
  },
  {
   "cell_type": "code",
   "execution_count": 26,
   "id": "681af53a-d13a-4522-8bbb-3a4d886c0386",
   "metadata": {},
   "outputs": [],
   "source": [
    "def manhattan_distance(point1, point2):\n",
    "    absolute_diffs = np.abs(point1 - point2)\n",
    "    distance = np.sum(absolute_diffs)\n",
    "    return distance"
   ]
  },
  {
   "cell_type": "code",
   "execution_count": 27,
   "id": "2373a391-da3c-4350-896b-f35ef182e781",
   "metadata": {},
   "outputs": [
    {
     "name": "stdout",
     "output_type": "stream",
     "text": [
      "The Manhattan distance between [5.1 3.5 1.4 0.2] and [7.  3.2 4.7 1.4] is 6.70\n"
     ]
    }
   ],
   "source": [
    "iris = load_iris()\n",
    "X = iris.data\n",
    "y = iris.target\n",
    "point1 = X[0]\n",
    "point2 = X[50]\n",
    "distance = manhattan_distance(point1, point2)\n",
    "\n",
    "print(f\"The Manhattan distance between {point1} and {point2} is {distance:.2f}\")"
   ]
  },
  {
   "cell_type": "code",
   "execution_count": null,
   "id": "00fd0a49-0bb9-4e21-8e1a-d6e7e9911f7c",
   "metadata": {},
   "outputs": [],
   "source": []
  }
 ],
 "metadata": {
  "kernelspec": {
   "display_name": "Python 3 (ipykernel)",
   "language": "python",
   "name": "python3"
  },
  "language_info": {
   "codemirror_mode": {
    "name": "ipython",
    "version": 3
   },
   "file_extension": ".py",
   "mimetype": "text/x-python",
   "name": "python",
   "nbconvert_exporter": "python",
   "pygments_lexer": "ipython3",
   "version": "3.10.8"
  }
 },
 "nbformat": 4,
 "nbformat_minor": 5
}
