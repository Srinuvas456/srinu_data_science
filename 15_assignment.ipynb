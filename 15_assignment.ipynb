{
 "cells": [
  {
   "cell_type": "markdown",
   "id": "afa316ef-4386-481d-9443-b5440f3c7f42",
   "metadata": {},
   "source": [
    "1) What is a database? Differentiate between SQL and NoSQL databases."
   ]
  },
  {
   "cell_type": "markdown",
   "id": "cc1e1e6c-42f3-4a1e-9966-ccce390b1544",
   "metadata": {},
   "source": [
    "A database is a structured collection of data that is organized in a way that allows for easy storage, retrieval, and management of information. Databases are commonly used in many industries to store and manage large amounts of data\n",
    "SQL databases are relational and use structured query language, while NoSQL databases are non-relational and do not rely on a structured language.\n",
    "SQL databases are best suited for structured data with clearly defined relationships, while NoSQL databases are ideal for handling large amounts of unstructured and semi-structured data.\n",
    "SQL databases are typically used for traditional business applications, while NoSQL databases are commonly used in big data and real-time web applications"
   ]
  },
  {
   "cell_type": "markdown",
   "id": "d25d406d-68a5-4a04-904b-618f8df9c1b3",
   "metadata": {},
   "source": [
    "2) What is DDL? Explain why CREATE, DROP, ALTER, and TRUNCATE are used with an example."
   ]
  },
  {
   "cell_type": "markdown",
   "id": "644aeb09-1828-4ac7-b7c1-0591e767222c",
   "metadata": {},
   "source": [
    "DDL is a data defination language is a set of sql commands used to define the database structure and schema \n",
    "DDL statements are used to create, modify, and delete database objects such as tables, views, indexes, and constraints\n",
    "CREATE: used to create new database objects such as tables, views, indexes, and constraints\n",
    "DROP: used to delete an existing database object such as a table or a view\n",
    "ALTER: used to modify the structure of an existing database object such as a table or a view.\n",
    "TRUNCATE : used to remove all data from a table, but not the table structure itself"
   ]
  },
  {
   "cell_type": "code",
   "execution_count": null,
   "id": "766f867f-cceb-474b-a1ea-488b23fcba00",
   "metadata": {},
   "outputs": [],
   "source": [
    "CREATE TABLE customers (\n",
    "  customer_id INT PRIMARY KEY,\n",
    "  name VARCHAR(50) NOT NULL,\n",
    "  email VARCHAR(100) UNIQUE,\n",
    "  phone VARCHAR(20)\n",
    ");"
   ]
  },
  {
   "cell_type": "code",
   "execution_count": null,
   "id": "fb3cf949-b451-480f-be52-3f3e70a8b1e5",
   "metadata": {},
   "outputs": [],
   "source": [
    "DROP TABLE customers;"
   ]
  },
  {
   "cell_type": "code",
   "execution_count": null,
   "id": "defdfcdf-3eda-449f-a14a-981240352cf3",
   "metadata": {},
   "outputs": [],
   "source": [
    "ALTER TABLE customers ADD COLUMN address VARCHAR(100);"
   ]
  },
  {
   "cell_type": "code",
   "execution_count": null,
   "id": "5e367882-90b0-481b-9489-36d03367acb0",
   "metadata": {},
   "outputs": [],
   "source": [
    "TRUNCATE TABLE customers;"
   ]
  },
  {
   "cell_type": "markdown",
   "id": "5cf78648-fd94-452b-9130-ec4f7f3f6f2b",
   "metadata": {},
   "source": [
    "3) What is DML? Explain INSERT, UPDATE, and DELETE with an example."
   ]
  },
  {
   "cell_type": "markdown",
   "id": "018eb790-70d4-4818-95be-5af3f617c1f8",
   "metadata": {},
   "source": [
    "DML (Data Manipulation Language) is a set of SQL commands used to modify and manipulate the data stored in a database. DML statements are used to insert, update, and delete data from tables\n",
    "INSERT : used to insert new data into a table\n",
    "UPDATE : used to modify existing data in a table\n",
    "DELETE : used to delete data from a table"
   ]
  },
  {
   "cell_type": "markdown",
   "id": "26017b96-9fea-4c3c-864f-a7e6a94e2b07",
   "metadata": {},
   "source": [
    "INSERT INTO customers (customer_id, name, email, phone) \n",
    "VALUES (1, 'SRINU', 'srinu@gmail.com', '45465465');"
   ]
  },
  {
   "cell_type": "markdown",
   "id": "0a82ead4-0e3d-4d44-bc9c-58165bc68cc0",
   "metadata": {},
   "source": [
    "UPDATE customers SET phone = '5555678' WHERE customer_id = 1;"
   ]
  },
  {
   "cell_type": "markdown",
   "id": "7e7b043b-f734-4c14-af34-af3c41c33ace",
   "metadata": {},
   "source": [
    "DELETE FROM customers WHERE customer_id = 1;"
   ]
  },
  {
   "cell_type": "markdown",
   "id": "bfdf6e51-4315-4498-ae52-1bb4d00cf10b",
   "metadata": {},
   "source": [
    "4) What is DQL? Explain SELECT with an example."
   ]
  },
  {
   "cell_type": "markdown",
   "id": "52a94104-ced3-4a2e-83e4-a5af23927258",
   "metadata": {},
   "source": [
    "DQL stands for Data Query Language, which is a subset of SQL that is used to retrieve and manipulate data from a relational database management system\n",
    "SELECT : is a DQL command used to retrieve data from one or more tables in a database\n"
   ]
  },
  {
   "cell_type": "markdown",
   "id": "46664015-a436-4595-a079-d60b9122814b",
   "metadata": {},
   "source": [
    "SELECT column1, column2\n",
    "FROM table_name;"
   ]
  },
  {
   "cell_type": "markdown",
   "id": "290f3433-f4be-4618-9b99-efb474ad8275",
   "metadata": {},
   "source": [
    "5) Explain Primary Key and Foreign Key."
   ]
  },
  {
   "cell_type": "markdown",
   "id": "9c780120-5b53-4da6-ad17-97d2637dfc1b",
   "metadata": {},
   "source": [
    "Primary key : It is a column or a group of columns in a table that uniquely identifies each row in that table. It cannot contain NULL values, and its values must be unique across all rows in the table. A primary key is used to enforce entity integrity, which means that each row in a table must be uniquely identifiable\n",
    "Foreign key : on the other hand, is a column or a group of columns in one table that refers to the primary key of another table. It establishes a relationship between two tables based on the values of the columns. A foreign key is used to enforce referential integrity, which means that the values in the foreign key column must match the values in the primary key column of the referenced table, or be NULL"
   ]
  },
  {
   "cell_type": "markdown",
   "id": "4bb36fa6-f410-40aa-aed0-5c45110d3f65",
   "metadata": {},
   "source": [
    "6) Write a python code to connect MySQL to python. Explain the cursor() and execute() method."
   ]
  },
  {
   "cell_type": "markdown",
   "id": "da516d0c-9ae4-4f98-a815-ba2ef3316135",
   "metadata": {},
   "source": [
    "cursor :  method of the connection object. A cursor is an object that allows us to execute SQL queries and fetch the results\n",
    "execute : method of the cursor object, passing in the query as a string argument. In this example, we execute a simple SELECT statement to retrieve all the rows from the \"customers\" table"
   ]
  },
  {
   "cell_type": "code",
   "execution_count": null,
   "id": "88b3d756-e5c3-4cba-9c75-1a6d145607aa",
   "metadata": {},
   "outputs": [],
   "source": [
    "import mysql.connector\n",
    "mydb = mysql.connector.connect(\n",
    "  host=\"localhost\",\n",
    "  user=\"abc\",\n",
    "  password=\"password\"\n",
    ")\n",
    "mycursor = mydb.cursor()\n",
    "mycursor.execute(\"insert into test1.test_table values(78787,'srinu' ,234,34.5,'kumar')\")\n",
    "mycursor.execute(\"insert into test1.test_table values(78787,'srinu' ,234,34.5,'kumar')\")\n",
    "mycursor.execute(\"insert into test1.test_table values(78787,'srinu' ,234,34.5,'kumar')\")\n",
    "mycursor.execute(\"insert into test1.test_table values(78787,'srinu' ,234,34.5,'kumar')\")\n",
    "mycursor.execute(\"insert into test1.test_table values(78787,'srinu' ,234,34.5,'kumar')\")\n",
    "mycursor.execute(\"insert into test1.test_table values(78787,'srinu' ,234,34.5,'kumar')\")\n",
    "mycursor.execute(\"insert into test1.test_table values(78787,'srinu' ,234,34.5,'kumar')\")\n",
    "mydb.commit()\n",
    "mydb.close()"
   ]
  },
  {
   "cell_type": "markdown",
   "id": "f57a1d2b-7aeb-4bfb-9b49-2f41af08764b",
   "metadata": {},
   "source": [
    "7) Give the order of execution of SQL clauses in an SQL query."
   ]
  },
  {
   "cell_type": "code",
   "execution_count": null,
   "id": "6aafa05f-a047-448f-b2f8-335bc1dda4ac",
   "metadata": {},
   "outputs": [],
   "source": [
    "1)FORM : This clause specifies the table(s) from which data is to be retrieved\n",
    "2)JOIN : This clause is used to combine data from multiple tables based on a related column between them\n",
    "3)WHERE : This clause is used to filter the rows returned by the query based on a specific condition\n",
    "4)GROUP BY : "
   ]
  }
 ],
 "metadata": {
  "kernelspec": {
   "display_name": "Python 3 (ipykernel)",
   "language": "python",
   "name": "python3"
  },
  "language_info": {
   "codemirror_mode": {
    "name": "ipython",
    "version": 3
   },
   "file_extension": ".py",
   "mimetype": "text/x-python",
   "name": "python",
   "nbconvert_exporter": "python",
   "pygments_lexer": "ipython3",
   "version": "3.10.8"
  }
 },
 "nbformat": 4,
 "nbformat_minor": 5
}
