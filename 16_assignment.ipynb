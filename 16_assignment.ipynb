{
 "cells": [
  {
   "cell_type": "markdown",
   "id": "e7e0b517-f217-42d1-acfb-22af3de9e2ed",
   "metadata": {},
   "source": [
    "1) What is MongoDB? Explain non-relational databases in short. In which scenarios it is preferred to use\n",
    "MongoDB over SQL databases?"
   ]
  },
  {
   "cell_type": "markdown",
   "id": "c6cdf137-dff8-4df7-8a84-f3e69fad75a7",
   "metadata": {},
   "source": [
    "MongoDB is a popular document-oriented NoSQL database that stores data in flexible JSON-like documents. It is designed to be scalable and performant, \n",
    "making it suitable for handling large volumes of data and high-traffic applications\n",
    "Non-relational databases, also known as NoSQL databases, store data in a non-tabular format and do not use a fixed schema, allowing for more \n",
    "flexibility in data modeling. They are often used in scenarios where data structures are complex or dynamic, and the data needs to be easily scalable\n",
    "MongoDB is often preferred over SQL databases in scenarios where the data is unstructured or semi-structured, such as with social media data, web \n",
    "analytics, or real-time data processing. It is also popular for use in modern web applications that require high scalability, such as e-commerce \n",
    "platforms, content management systems, and online gaming"
   ]
  },
  {
   "cell_type": "markdown",
   "id": "ef8858c2-e7da-419e-8049-abe0715a9d58",
   "metadata": {},
   "source": [
    "2) State and Explain the features of MongoDB."
   ]
  },
  {
   "cell_type": "markdown",
   "id": "896b3e58-abb7-4a85-8b5e-0b5d3e54294d",
   "metadata": {},
   "source": [
    "1) Document-Oriented Storage : It tores data in flexible JSON-like documents that allow for easy and dynamic data modeling. This provides a more natural way to represent data than traditional relational databases\n",
    "2) High Performance : It is designed to be fast and scalable, providing high performance for both read and write operations. It supports indexing and querying, allowing for efficient access to data\n",
    "\n",
    "3) Scalability : It is horizontally scalable, meaning that it can handle large amounts of data and traffic by distributing data across multiple servers\n",
    "4) Rich Query Language : It supports a rich query language that allows for complex queries to be executed against the database. It supports aggregation and pipeline operations, making it easy to perform data analysis\n",
    "5) Flexibility : It is flexible data model allows for easy modification of data models without the need to update the entire database schema. This makes it easy to add or remove fields or change the data structure as needed\n"
   ]
  },
  {
   "cell_type": "markdown",
   "id": "13274262-1bcd-4f5a-a08c-86e30815732b",
   "metadata": {},
   "source": [
    "3) Write a code to connect MongoDB to Python. Also, create a database and a collection in MongoDB."
   ]
  },
  {
   "cell_type": "code",
   "execution_count": null,
   "id": "b4fa533f-4052-4393-a405-420b85db9dd2",
   "metadata": {},
   "outputs": [],
   "source": [
    "import pymongo\n",
    "client = pymongo.MongoClient(\"mongodb://locolhost: 23456/\")\n",
    "mydb = client[\"mydatabase\"]\n",
    "mycol = mydb[\"customers\"]\n",
    "mydict = {\"name\":\"Srinu\",\n",
    "          \"course\":\"data_science\"}\n",
    "x = mycol.insert_one(mydict)\n",
    "print(x.insert_id)"
   ]
  },
  {
   "cell_type": "markdown",
   "id": "f0fd5005-aa26-4748-b6ba-7a5d3f581f20",
   "metadata": {},
   "source": [
    "4) Using the database and the collection created in question number 3, write a code to insert one record,\n",
    "and insert many records. Use the find() and find_one() methods to print the inserted record."
   ]
  },
  {
   "cell_type": "code",
   "execution_count": null,
   "id": "1813b3fd-79a8-4120-afdf-bfcf5bca1559",
   "metadata": {},
   "outputs": [],
   "source": [
    "import pymongo\n",
    "client = pymongo.MongoClient(\"mongodb://locolhost: 23456/\")\n",
    "mydb = client[\"mydatabase\"]\n",
    "mycol = mydb[\"customers\"]\n",
    "mydict = {\"name\":\"Srinu\",\n",
    "          \"course\":\"data_science\"}\n",
    "x = mycol.insert_one(mydict)\n",
    "print(\"Inserted_Id:\",x.insert_id)\n",
    "mylist =[\n",
    "    {\"name\":\"Srinu\",\"email\":\"srinu@gmail.com\"},\n",
    "    {\"name\":\"naveen\",\"email\":\"naveen@gmail.com\"}\n",
    "]\n",
    "x.mycol.insert_many(my_list)\n",
    "print(\"Inserted_Ids:\",x.insert_ids)\n",
    "record = mycol.find_one()\n",
    "print(\"First Record:\", record)\n",
    "records = mycol.find()\n",
    "print(\"All Records:\")\n",
    "for record in records:\n",
    "    print(record)"
   ]
  },
  {
   "cell_type": "markdown",
   "id": "824d7d7b-eaef-4cde-8240-fafb29ae189e",
   "metadata": {},
   "source": [
    "5) Explain how you can use the find() method to query the MongoDB database. Write a simple code to\n",
    "demonstrate this."
   ]
  },
  {
   "cell_type": "markdown",
   "id": "2b64ec50-ed6a-467d-80c4-377af7853f1e",
   "metadata": {},
   "source": [
    "find: It is used to retrieve data from a collection. It takes an optional query parameter that can be used to specify a filter for the data \n",
    "to be retrieved"
   ]
  },
  {
   "cell_type": "code",
   "execution_count": null,
   "id": "03ea82a6-d7bf-4004-b8db-b258d8ad03b5",
   "metadata": {},
   "outputs": [],
   "source": [
    "import pymongo\n",
    "client = pymongo.MongoClient(\"mongodb://locolhost: 23456/\")\n",
    "db = client[\"mydatabase\"]\n",
    "collection = db[\"customers\"]\n",
    "query = {\"name\":\"Srinu\"}\n",
    "results = collection.find(query)\n",
    "for result in results:\n",
    "    print(result)"
   ]
  },
  {
   "cell_type": "markdown",
   "id": "1d34a3fb-ef02-4f06-863f-2baaa802d296",
   "metadata": {},
   "source": [
    "6) Explain the sort() method. Give an example to demonstrate sorting in MongoDB."
   ]
  },
  {
   "cell_type": "markdown",
   "id": "41996431-aa61-4325-8579-2a9f7274d3d5",
   "metadata": {},
   "source": [
    "sort : It is method is used to sort the results of a query. It takes an optional parameter that specifies the field to sort on and \n",
    "the direction of the sort"
   ]
  },
  {
   "cell_type": "code",
   "execution_count": null,
   "id": "0be49596-f596-46c4-afe5-ae63b341a345",
   "metadata": {},
   "outputs": [],
   "source": [
    "import pymongo\n",
    "client = pymongo.MongoClient(\"mongodb://locolhost: 23456/\")\n",
    "db = client[\"mydatabase\"]\n",
    "collection = db[\"customers\"]\n",
    "query = {}\n",
    "sort_order = [(\"name\", pymongo.DESCENDING)]\n",
    "results = collection.find(query).sort(sort_order)\n",
    "for resuit in results:\n",
    "    print(result)"
   ]
  },
  {
   "cell_type": "markdown",
   "id": "4b0e55d1-f232-4e23-b07f-c321fc2ac41f",
   "metadata": {},
   "source": [
    "7)Explain why delete_one(), delete_many(), and drop() is used."
   ]
  },
  {
   "cell_type": "markdown",
   "id": "8b90165d-7432-4eeb-a5b0-2a15f941c7ca",
   "metadata": {},
   "source": [
    "1)delete_one: It is used to delete a single document that matches a specified filter. If multiple documents match the filter, only the \n",
    "first one found will be deleted\n",
    "2)delete_many: It is used to delete all documents that match a specified filter\n",
    "3)drop: It is used to delete an entire collection from a database"
   ]
  },
  {
   "cell_type": "code",
   "execution_count": null,
   "id": "568bb829-322c-4341-ade4-316e893ed789",
   "metadata": {},
   "outputs": [],
   "source": [
    "result = collection.delete_one({ \"name\": \"Srinu\" })\n",
    "print(result.deleted_count)"
   ]
  },
  {
   "cell_type": "code",
   "execution_count": null,
   "id": "5b8c47a4-c039-4e8f-aeb3-93038d0ffc37",
   "metadata": {},
   "outputs": [],
   "source": [
    "result = collection.delete_many({ \"name\": \"Srinu\" })\n",
    "print(result.deleted_count)"
   ]
  },
  {
   "cell_type": "code",
   "execution_count": null,
   "id": "615ba025-0404-4986-aee0-424cb1715829",
   "metadata": {},
   "outputs": [],
   "source": [
    "collection.drop()"
   ]
  }
 ],
 "metadata": {
  "kernelspec": {
   "display_name": "Python 3 (ipykernel)",
   "language": "python",
   "name": "python3"
  },
  "language_info": {
   "codemirror_mode": {
    "name": "ipython",
    "version": 3
   },
   "file_extension": ".py",
   "mimetype": "text/x-python",
   "name": "python",
   "nbconvert_exporter": "python",
   "pygments_lexer": "ipython3",
   "version": "3.10.8"
  }
 },
 "nbformat": 4,
 "nbformat_minor": 5
}
